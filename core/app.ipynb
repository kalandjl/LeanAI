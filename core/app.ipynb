{
 "cells": [
  {
   "cell_type": "code",
   "execution_count": 1,
   "id": "37232027-ec6d-42b4-9527-9cdc35d80d9b",
   "metadata": {},
   "outputs": [],
   "source": [
    "import os\n",
    "from pathlib import Path\n",
    "\n",
    "path = Path('model.pkl')\n",
    "\n",
    "!pip install -Uqq fastai"
   ]
  },
  {
   "cell_type": "code",
   "execution_count": 2,
   "id": "27959308-0205-47f7-b0f3-d9efef7ea418",
   "metadata": {},
   "outputs": [
    {
     "name": "stdout",
     "output_type": "stream",
     "text": [
      "File exists: True\n",
      "File size: 102992994 bytes\n",
      "Full path: /Users/kalanjarvis-loewen/Desktop/Coding/learning/ml/LeanAI/core/model.pkl\n",
      "File is a valid ZIP archive\n"
     ]
    }
   ],
   "source": [
    "print(f\"File exists: {path.exists()}\")\n",
    "print(f\"File size: {path.stat().st_size if path.exists() else 'N/A'} bytes\")\n",
    "print(f\"Full path: {path.absolute()}\")\n",
    "import zipfile\n",
    "\n",
    "try:\n",
    "    with zipfile.ZipFile(path, 'r') as zip_file:\n",
    "        print(\"File is a valid ZIP archive\")\n",
    "except zipfile.BadZipFile:\n",
    "    print(\"File is corrupted or not a valid ZIP archive\")\n",
    "except FileNotFoundError:\n",
    "    print(\"File not found\")\n"
   ]
  },
  {
   "cell_type": "code",
   "execution_count": 4,
   "id": "538cf9a8-f75a-43cc-9eb1-41641a2cdefe",
   "metadata": {},
   "outputs": [
    {
     "name": "stdout",
     "output_type": "stream",
     "text": [
      "Bodyfat prediction: 8.1319\n"
     ]
    },
    {
     "name": "stderr",
     "output_type": "stream",
     "text": [
      "/Library/Frameworks/Python.framework/Versions/3.13/lib/python3.13/site-packages/fastai/learner.py:455: UserWarning: load_learner` uses Python's insecure pickle module, which can execute malicious arbitrary code when loading. Only load files you trust.\n",
      "If you only need to load model weights and optimizer state, use the safe `Learner.load` instead.\n",
      "  warn(\"load_learner` uses Python's insecure pickle module, which can execute malicious arbitrary code when loading. Only load files you trust.\\nIf you only need to load model weights and optimizer state, use the safe `Learner.load` instead.\")\n"
     ]
    }
   ],
   "source": [
    "import torch\n",
    "from PIL import Image\n",
    "import torchvision.transforms as transforms\n",
    "from fastai.vision.all import *\n",
    "\n",
    "# Load model and extract the PyTorch part\n",
    "model = load_learner('model.pkl')\n",
    "pytorch_model = model.model\n",
    "pytorch_model.eval()\n",
    "\n",
    "# Manual preprocessing for 192x192 images\n",
    "transform = transforms.Compose([\n",
    "    transforms.Resize((192, 192)),\n",
    "    transforms.ToTensor(),\n",
    "    transforms.Normalize(mean=[0.485, 0.456, 0.406], std=[0.229, 0.224, 0.225])\n",
    "])\n",
    "\n",
    "# Process image and predict\n",
    "img = Image.open('images/0_image_1.jpg').convert('RGB')\n",
    "img_tensor = transform(img).unsqueeze(0)\n",
    "\n",
    "with torch.no_grad():\n",
    "    output = pytorch_model(img_tensor)\n",
    "    prediction = output[0][0].item()\n",
    "    print(f\"Bodyfat prediction: {prediction:.4f}\")"
   ]
  },
  {
   "cell_type": "code",
   "execution_count": 11,
   "id": "b0418039-8c31-4e06-a530-d97cea014351",
   "metadata": {},
   "outputs": [],
   "source": [
    "def preprocess_img(pre_img):\n",
    "    img = Image.open('images/0_image_1.jpg').convert('RGB')\n",
    "    return transform(img).unsqueeze(0)"
   ]
  },
  {
   "cell_type": "code",
   "execution_count": 12,
   "id": "85c54614-0c29-43ed-b871-d27ccc49a649",
   "metadata": {},
   "outputs": [],
   "source": [
    "def predict_image(img):\n",
    "\n",
    "    if img is None:\n",
    "        return \"Please upload an image first\"\n",
    "    \n",
    "    try:\n",
    "        print(f\"Input type: {type(img)}\")\n",
    "\n",
    "        prediction = None\n",
    "        \n",
    "        with torch.no_grad():\n",
    "            output = pytorch_model(preprocess_img(img))\n",
    "            prediction = output[0][0].item()\n",
    "            print(f\"Bodyfat prediction: {prediction:.4f}\")\n",
    "        \n",
    "        \n",
    "        return float(prediction)\n",
    "        \n",
    "    except Exception as e:\n",
    "        return print(f\"error: {e}\")"
   ]
  },
  {
   "cell_type": "code",
   "execution_count": 13,
   "id": "205660ab-df47-450f-b64b-1b051b86796f",
   "metadata": {},
   "outputs": [
    {
     "name": "stdout",
     "output_type": "stream",
     "text": [
      "* Running on local URL:  http://127.0.0.1:7862\n",
      "* Running on public URL: https://3056108411420f1034.gradio.live\n",
      "\n",
      "This share link expires in 1 week. For free permanent hosting and GPU upgrades, run `gradio deploy` from the terminal in the working directory to deploy to Hugging Face Spaces (https://huggingface.co/spaces)\n"
     ]
    },
    {
     "data": {
      "text/html": [
       "<div><iframe src=\"https://3056108411420f1034.gradio.live\" width=\"100%\" height=\"500\" allow=\"autoplay; camera; microphone; clipboard-read; clipboard-write;\" frameborder=\"0\" allowfullscreen></iframe></div>"
      ],
      "text/plain": [
       "<IPython.core.display.HTML object>"
      ]
     },
     "metadata": {},
     "output_type": "display_data"
    },
    {
     "data": {
      "text/plain": []
     },
     "execution_count": 13,
     "metadata": {},
     "output_type": "execute_result"
    },
    {
     "name": "stdout",
     "output_type": "stream",
     "text": [
      "Input type: <class 'numpy.ndarray'>\n",
      "Bodyfat prediction: 8.1319\n",
      "Input type: <class 'numpy.ndarray'>\n",
      "Bodyfat prediction: 8.1319\n",
      "Input type: <class 'numpy.ndarray'>\n",
      "Bodyfat prediction: 8.1319\n",
      "Input type: <class 'numpy.ndarray'>\n",
      "Bodyfat prediction: 8.1319\n",
      "Input type: <class 'numpy.ndarray'>\n",
      "Bodyfat prediction: 8.1319\n",
      "Input type: <class 'numpy.ndarray'>\n",
      "Bodyfat prediction: 8.1319\n",
      "Input type: <class 'numpy.ndarray'>\n",
      "Bodyfat prediction: 8.1319\n"
     ]
    }
   ],
   "source": [
    "import gradio as gr\n",
    "\n",
    "with gr.Blocks() as demo:\n",
    "    gr.Markdown(\"# Body Fat Prediction\")\n",
    "    \n",
    "    with gr.Row():\n",
    "        image_input = gr.Image(label=\"Upload Image\")\n",
    "        output = gr.Number(label=\"Predicted Value\")\n",
    "    \n",
    "    predict_btn = gr.Button(\"Predict\")\n",
    "    predict_btn.click(predict_image, inputs=image_input, outputs=output)\n",
    "\n",
    "demo.launch(share=True)"
   ]
  },
  {
   "cell_type": "code",
   "execution_count": null,
   "id": "91085d66-78fe-442d-8ef5-0c2149933528",
   "metadata": {},
   "outputs": [],
   "source": []
  }
 ],
 "metadata": {
  "kernelspec": {
   "display_name": "IPython",
   "language": "python",
   "name": "ipython_env"
  },
  "language_info": {
   "codemirror_mode": {
    "name": "ipython",
    "version": 3
   },
   "file_extension": ".py",
   "mimetype": "text/x-python",
   "name": "python",
   "nbconvert_exporter": "python",
   "pygments_lexer": "ipython3",
   "version": "3.13.3"
  }
 },
 "nbformat": 4,
 "nbformat_minor": 5
}
