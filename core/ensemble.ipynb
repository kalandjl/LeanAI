{
 "cells": [
  {
   "cell_type": "code",
   "execution_count": 55,
   "id": "1afc1020-6f6f-4797-b93a-8b7d8e6f45db",
   "metadata": {},
   "outputs": [],
   "source": [
    "from fastai.vision.all import *\n",
    "\n",
    "model_paths = [\n",
    "    \"efficientnet_b3\", \n",
    "]\n",
    "\n",
    "learners = []"
   ]
  },
  {
   "cell_type": "code",
   "execution_count": 56,
   "id": "2bcd6b28-499c-44f5-873e-f32386ee30ff",
   "metadata": {},
   "outputs": [
    {
     "name": "stderr",
     "output_type": "stream",
     "text": [
      "/opt/anaconda3/lib/python3.10/site-packages/fastai/learner.py:455: UserWarning: load_learner` uses Python's insecure pickle module, which can execute malicious arbitrary code when loading. Only load files you trust.\n",
      "If you only need to load model weights and optimizer state, use the safe `Learner.load` instead.\n",
      "  warn(\"load_learner` uses Python's insecure pickle module, which can execute malicious arbitrary code when loading. Only load files you trust.\\nIf you only need to load model weights and optimizer state, use the safe `Learner.load` instead.\")\n"
     ]
    }
   ],
   "source": [
    "for model_path in model_paths:\n",
    "    learn = load_learner(\"model/\" + model_path + \"/model.pkl\")\n",
    "    learners.append(learn)\n",
    "\n",
    "def ensemble_predict(items):\n",
    "    preds_all = []\n",
    "    for learn in learners:\n",
    "        preds = learn.get_preds(dl=learn.dls.test_dl(items))[0]  # get_preds returns tuple, first is preds\n",
    "        preds_all.append(preds)\n",
    "    \n",
    "    # Stack predictions: shape = (num_models, num_items)\n",
    "    preds_stack = torch.stack(preds_all)\n",
    "    \n",
    "    # Average across models (dim=0)\n",
    "    preds_mean = preds_stack.mean(dim=0)\n",
    "    return preds_mean\n",
    "\n"
   ]
  },
  {
   "cell_type": "code",
   "execution_count": 58,
   "id": "7d4041b1-9250-489d-b634-0e01e120080c",
   "metadata": {},
   "outputs": [
    {
     "data": {
      "text/html": [
       "\n",
       "<style>\n",
       "    /* Turns off some styling */\n",
       "    progress {\n",
       "        /* gets rid of default border in Firefox and Opera. */\n",
       "        border: none;\n",
       "        /* Needs to be in here for Safari polyfill so background images work as expected. */\n",
       "        background-size: auto;\n",
       "    }\n",
       "    progress:not([value]), progress:not([value])::-webkit-progress-bar {\n",
       "        background: repeating-linear-gradient(45deg, #7e7e7e, #7e7e7e 10px, #5c5c5c 10px, #5c5c5c 20px);\n",
       "    }\n",
       "    .progress-bar-interrupted, .progress-bar-interrupted::-webkit-progress-bar {\n",
       "        background: #F44336;\n",
       "    }\n",
       "</style>\n"
      ],
      "text/plain": [
       "<IPython.core.display.HTML object>"
      ]
     },
     "metadata": {},
     "output_type": "display_data"
    },
    {
     "data": {
      "text/html": [],
      "text/plain": [
       "<IPython.core.display.HTML object>"
      ]
     },
     "metadata": {},
     "output_type": "display_data"
    },
    {
     "data": {
      "text/plain": [
       "tensor([[13.2078]])"
      ]
     },
     "execution_count": 58,
     "metadata": {},
     "output_type": "execute_result"
    }
   ],
   "source": [
    "pred = ensemble_predict('images/0_image_1.jpg')\n",
    "pred"
   ]
  },
  {
   "cell_type": "code",
   "execution_count": null,
   "id": "c1c21975-d5e6-4a9d-a3cf-9d2b63012295",
   "metadata": {},
   "outputs": [],
   "source": []
  },
  {
   "cell_type": "code",
   "execution_count": null,
   "id": "5f6fb00a-7fae-4f58-bdd2-f778fa9443ed",
   "metadata": {},
   "outputs": [],
   "source": []
  }
 ],
 "metadata": {
  "kernelspec": {
   "display_name": "Python 3.10",
   "language": "python",
   "name": "python310"
  },
  "language_info": {
   "codemirror_mode": {
    "name": "ipython",
    "version": 3
   },
   "file_extension": ".py",
   "mimetype": "text/x-python",
   "name": "python",
   "nbconvert_exporter": "python",
   "pygments_lexer": "ipython3",
   "version": "3.10.0"
  }
 },
 "nbformat": 4,
 "nbformat_minor": 5
}
