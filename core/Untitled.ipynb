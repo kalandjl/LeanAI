{
 "cells": [
  {
   "cell_type": "code",
   "execution_count": 2,
   "id": "4a623eb1-f123-452e-a6fb-9810160402c2",
   "metadata": {},
   "outputs": [
    {
     "name": "stdout",
     "output_type": "stream",
     "text": [
      "File exists: True\n",
      "File size: 102992994 bytes\n",
      "Full path: /Users/kalanjarvis-loewen/Desktop/Coding/learning/ml/LeanAI/core/model.pkl\n",
      "File is a valid ZIP archive\n",
      "Bodyfat prediction: 8.1319\n"
     ]
    },
    {
     "name": "stderr",
     "output_type": "stream",
     "text": [
      "/Library/Frameworks/Python.framework/Versions/3.13/lib/python3.13/site-packages/fastai/learner.py:455: UserWarning: load_learner` uses Python's insecure pickle module, which can execute malicious arbitrary code when loading. Only load files you trust.\n",
      "If you only need to load model weights and optimizer state, use the safe `Learner.load` instead.\n",
      "  warn(\"load_learner` uses Python's insecure pickle module, which can execute malicious arbitrary code when loading. Only load files you trust.\\nIf you only need to load model weights and optimizer state, use the safe `Learner.load` instead.\")\n"
     ]
    }
   ],
   "source": [
    "import os\n",
    "from pathlib import Path\n",
    "\n",
    "path = Path('model.pkl')\n",
    "\n",
    "!pip install -Uqq fastai\n",
    "\n",
    "\n",
    "print(f\"File exists: {path.exists()}\")\n",
    "print(f\"File size: {path.stat().st_size if path.exists() else 'N/A'} bytes\")\n",
    "print(f\"Full path: {path.absolute()}\")\n",
    "import zipfile\n",
    "\n",
    "try:\n",
    "    with zipfile.ZipFile(path, 'r') as zip_file:\n",
    "        print(\"File is a valid ZIP archive\")\n",
    "except zipfile.BadZipFile:\n",
    "    print(\"File is corrupted or not a valid ZIP archive\")\n",
    "except FileNotFoundError:\n",
    "    print(\"File not found\")\n",
    "\n",
    "import torch\n",
    "from PIL import Image\n",
    "import torchvision.transforms as transforms\n",
    "from fastai.vision.all import *\n",
    "\n",
    "# Load model and extract the PyTorch part\n",
    "model = load_learner('model.pkl')\n",
    "pytorch_model = model.model\n",
    "pytorch_model.eval()\n",
    "\n",
    "# Manual preprocessing (192x192 as your model expects)\n",
    "transform = transforms.Compose([\n",
    "    transforms.Resize((192, 192)),\n",
    "    transforms.ToTensor(),\n",
    "    transforms.Normalize(mean=[0.485, 0.456, 0.406], std=[0.229, 0.224, 0.225])\n",
    "])\n",
    "\n",
    "# Process image and predict\n",
    "img = Image.open('images/0_image_1.jpg').convert('RGB')\n",
    "img_tensor = transform(img).unsqueeze(0)\n",
    "\n",
    "with torch.no_grad():\n",
    "    output = pytorch_model(img_tensor)\n",
    "    prediction = output[0][0].item()\n",
    "    print(f\"Bodyfat prediction: {prediction:.4f}\")"
   ]
  },
  {
   "cell_type": "code",
   "execution_count": null,
   "id": "3fa33c88-c25b-4cad-a65b-10f3c19a18ae",
   "metadata": {},
   "outputs": [],
   "source": []
  }
 ],
 "metadata": {
  "kernelspec": {
   "display_name": "Python 3 (ipykernel)",
   "language": "python",
   "name": "python3"
  },
  "language_info": {
   "codemirror_mode": {
    "name": "ipython",
    "version": 3
   },
   "file_extension": ".py",
   "mimetype": "text/x-python",
   "name": "python",
   "nbconvert_exporter": "python",
   "pygments_lexer": "ipython3",
   "version": "3.13.3"
  }
 },
 "nbformat": 4,
 "nbformat_minor": 5
}
