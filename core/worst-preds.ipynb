{
 "cells": [
  {
   "cell_type": "code",
   "execution_count": 15,
   "id": "de34874a-c237-4497-9d9d-67ff75b51f61",
   "metadata": {},
   "outputs": [
    {
     "name": "stderr",
     "output_type": "stream",
     "text": [
      "/opt/anaconda3/lib/python3.10/site-packages/fastai/learner.py:455: UserWarning: load_learner` uses Python's insecure pickle module, which can execute malicious arbitrary code when loading. Only load files you trust.\n",
      "If you only need to load model weights and optimizer state, use the safe `Learner.load` instead.\n",
      "  warn(\"load_learner` uses Python's insecure pickle module, which can execute malicious arbitrary code when loading. Only load files you trust.\\nIf you only need to load model weights and optimizer state, use the safe `Learner.load` instead.\")\n"
     ]
    },
    {
     "ename": "UnboundLocalError",
     "evalue": "local variable 'res' referenced before assignment",
     "output_type": "error",
     "traceback": [
      "\u001b[0;31m---------------------------------------------------------------------------\u001b[0m",
      "\u001b[0;31mUnboundLocalError\u001b[0m                         Traceback (most recent call last)",
      "Cell \u001b[0;32mIn[15], line 4\u001b[0m\n\u001b[1;32m      1\u001b[0m \u001b[38;5;28;01mimport\u001b[39;00m\u001b[38;5;250m \u001b[39m\u001b[38;5;21;01mpandas\u001b[39;00m\u001b[38;5;250m \u001b[39m\u001b[38;5;28;01mas\u001b[39;00m\u001b[38;5;250m \u001b[39m\u001b[38;5;21;01mpd\u001b[39;00m\n\u001b[1;32m      2\u001b[0m \u001b[38;5;28;01mfrom\u001b[39;00m\u001b[38;5;250m \u001b[39m\u001b[38;5;21;01mfastai\u001b[39;00m\u001b[38;5;21;01m.\u001b[39;00m\u001b[38;5;21;01mvision\u001b[39;00m\u001b[38;5;21;01m.\u001b[39;00m\u001b[38;5;21;01mall\u001b[39;00m\u001b[38;5;250m \u001b[39m\u001b[38;5;28;01mimport\u001b[39;00m \u001b[38;5;241m*\u001b[39m\n\u001b[0;32m----> 4\u001b[0m learn \u001b[38;5;241m=\u001b[39m \u001b[43mload_learner\u001b[49m\u001b[43m(\u001b[49m\u001b[38;5;124;43m\"\u001b[39;49m\u001b[38;5;124;43mmodel/resnet50/model.pkl\u001b[39;49m\u001b[38;5;124;43m\"\u001b[39;49m\u001b[43m)\u001b[49m\n",
      "File \u001b[0;32m/opt/anaconda3/lib/python3.10/site-packages/fastai/learner.py:465\u001b[0m, in \u001b[0;36mload_learner\u001b[0;34m(fname, cpu, pickle_module)\u001b[0m\n\u001b[1;32m    463\u001b[0m     \u001b[38;5;28;01mraise\u001b[39;00m\n\u001b[1;32m    464\u001b[0m \u001b[38;5;28;01mif\u001b[39;00m cpu:\n\u001b[0;32m--> 465\u001b[0m     \u001b[43mres\u001b[49m\u001b[38;5;241m.\u001b[39mdls\u001b[38;5;241m.\u001b[39mcpu()\n\u001b[1;32m    466\u001b[0m     \u001b[38;5;28;01mif\u001b[39;00m \u001b[38;5;28mhasattr\u001b[39m(res, \u001b[38;5;124m'\u001b[39m\u001b[38;5;124mchannels_last\u001b[39m\u001b[38;5;124m'\u001b[39m): res \u001b[38;5;241m=\u001b[39m res\u001b[38;5;241m.\u001b[39mto_contiguous(to_fp32\u001b[38;5;241m=\u001b[39m\u001b[38;5;28;01mTrue\u001b[39;00m)\n\u001b[1;32m    467\u001b[0m     \u001b[38;5;28;01melif\u001b[39;00m \u001b[38;5;28mhasattr\u001b[39m(res, \u001b[38;5;124m'\u001b[39m\u001b[38;5;124mmixed_precision\u001b[39m\u001b[38;5;124m'\u001b[39m): res \u001b[38;5;241m=\u001b[39m res\u001b[38;5;241m.\u001b[39mto_fp32()\n",
      "\u001b[0;31mUnboundLocalError\u001b[0m: local variable 'res' referenced before assignment"
     ]
    }
   ],
   "source": [
    "import pandas as pd\n",
    "from fastai.vision.all import *\n",
    "\n",
    "learn = load_learner(\"model/resnet50/model.pkl\")"
   ]
  },
  {
   "cell_type": "code",
   "execution_count": null,
   "id": "30f24b64-6e38-4dde-a91e-f10042aac6f9",
   "metadata": {},
   "outputs": [],
   "source": [
    "df = pd.read_csv(\"data/bodyfat_dataset.csv\")"
   ]
  },
  {
   "cell_type": "code",
   "execution_count": null,
   "id": "31d9a1a0-5fa9-4033-8609-195a78f17254",
   "metadata": {},
   "outputs": [],
   "source": [
    "df = df.drop(index=176)\n",
    "\n",
    "df.to_csv(\"data/bodyfat_dataset.csv\", index=False)"
   ]
  },
  {
   "cell_type": "code",
   "execution_count": null,
   "id": "547fae20-6b91-47f7-9087-24ec044f742e",
   "metadata": {},
   "outputs": [],
   "source": [
    "def create_regression_csv(df, output_csv=\"data/image_labels.csv\", label_col=\"meanPrediction\", image_prefix=\"image_\", output_dir=\"images\"):\n",
    "    # Ensure column names are stripped of whitespace\n",
    "    df.columns = df.columns.str.strip()\n",
    "    \n",
    "    image_cols = [col for col in df.columns if col.startswith(image_prefix)]\n",
    "    records = []\n",
    "\n",
    "    for idx, row in df.iterrows():\n",
    "        label = row[label_col]\n",
    "        for col in image_cols:\n",
    "            url = row.get(col)\n",
    "            if isinstance(url, str) and url.startswith(\"http\"):\n",
    "                ext = url.split('.')[-1].split('?')[0].lower()\n",
    "                ext = ext if ext in ['jpg', 'jpeg', 'png', 'webp'] else 'jpg'\n",
    "                filename = f\"{idx}_{col}.{ext}\"\n",
    "                records.append({\"filename\": filename, \"target\": label})\n",
    "    \n",
    "    df_out = pd.DataFrame(records)\n",
    "    df_out.to_csv(output_csv, index=False)\n",
    "    print(f\"Created {output_csv} with {len(df_out)} labeled images\")\n",
    "    return df_out"
   ]
  },
  {
   "cell_type": "code",
   "execution_count": null,
   "id": "01b87e6b-1d5f-4532-a510-c4e78ea57a1f",
   "metadata": {},
   "outputs": [],
   "source": [
    "create_regression_csv(df)"
   ]
  },
  {
   "cell_type": "code",
   "execution_count": null,
   "id": "4eb3016f-07c2-4d04-beb0-31c6dfefcf96",
   "metadata": {},
   "outputs": [],
   "source": [
    "from fastai.vision.all import PILImage, show_image\n",
    "from tqdm import tqdm\n",
    "import pandas as pd\n",
    "import matplotlib.pyplot as plt\n"
   ]
  },
  {
   "cell_type": "code",
   "execution_count": null,
   "id": "6f19ef77-4f3d-4ffc-b9de-2bce4df5df23",
   "metadata": {},
   "outputs": [],
   "source": [
    "df = pd.read_csv('data/image_labels.csv')\n",
    "df"
   ]
  },
  {
   "cell_type": "code",
   "execution_count": null,
   "id": "fdefa8f4-d152-4b95-adc1-d1fca0aea92c",
   "metadata": {},
   "outputs": [],
   "source": [
    "errors = []\n",
    "\n",
    "pbar = tqdm(df.iterrows(), total=len(df), desc=\"Processing images\", leave=True)\n",
    "\n",
    "for i, row in pbar:\n",
    "    try:\n",
    "        img_path = f\"{row['filename']}\"  # change if your image path differs\n",
    "        img = PILImage.create('images/' + img_path)\n",
    "        bf, _, probs = learn.predict(img)\n",
    "        pred = float(probs[0])\n",
    "        actual = float(row['target'])\n",
    "        error = abs(pred - actual)\n",
    "\n",
    "        errors.append({\n",
    "            \"img_path\": img_path,\n",
    "            \"img\": img,\n",
    "            \"actual\": actual,\n",
    "            \"pred\": pred,\n",
    "            \"error\": error\n",
    "        })\n",
    "\n",
    "        # Optionally update progress bar postfix\n",
    "        pbar.set_postfix({\"last_error\": f\"{error:.2f}\"})\n",
    "\n",
    "    except Exception as e:\n",
    "        pbar.write(f\"Skipping {row['filename']} due to error: {e}\")\n",
    "        \n",
    "# Sort and show top 10 worst predictions\n",
    "top_errors = sorted(errors, key=lambda x: x['error'], reverse=True)[:10]\n",
    "\n",
    "for idx, item in enumerate(top_errors):\n",
    "    print(f\"\\n#{idx+1}\")\n",
    "    print(f\"File: {item['img_path']}\")\n",
    "    print(f\"Predicted: {item['pred']:.2f}\")\n",
    "    print(f\"Actual: {item['actual']:.2f}\")\n",
    "    print(f\"Error: {item['error']:.2f}\")\n",
    "    show_image(item['img'], title=f\"#{idx+1}: Error {item['error']:.2f}\")\n"
   ]
  },
  {
   "cell_type": "code",
   "execution_count": null,
   "id": "0adfdca3-522d-4919-9583-65653837e05a",
   "metadata": {},
   "outputs": [],
   "source": [
    "df_errors = pd.DataFrame(data, columns=headers)\n",
    "\n",
    "errors.hist(bins=20)"
   ]
  },
  {
   "cell_type": "code",
   "execution_count": null,
   "id": "948a383e-01d9-423d-896c-13cbaab32b5a",
   "metadata": {},
   "outputs": [],
   "source": [
    "df['target'].hist(bins=20)"
   ]
  },
  {
   "cell_type": "code",
   "execution_count": null,
   "id": "a28de153-0d98-47f7-869f-8d00d90b0b1e",
   "metadata": {},
   "outputs": [],
   "source": []
  },
  {
   "cell_type": "code",
   "execution_count": null,
   "id": "1b2fa429-4520-416a-aa66-5eedd383a170",
   "metadata": {},
   "outputs": [],
   "source": []
  }
 ],
 "metadata": {
  "kernelspec": {
   "display_name": "Python 3.10",
   "language": "python",
   "name": "python310"
  },
  "language_info": {
   "codemirror_mode": {
    "name": "ipython",
    "version": 3
   },
   "file_extension": ".py",
   "mimetype": "text/x-python",
   "name": "python",
   "nbconvert_exporter": "python",
   "pygments_lexer": "ipython3",
   "version": "3.10.0"
  }
 },
 "nbformat": 4,
 "nbformat_minor": 5
}
