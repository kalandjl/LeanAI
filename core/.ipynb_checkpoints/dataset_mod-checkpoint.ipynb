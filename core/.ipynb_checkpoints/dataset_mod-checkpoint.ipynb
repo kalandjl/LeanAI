{
 "cells": [
  {
   "cell_type": "code",
   "execution_count": 2,
   "id": "1bed9d4f-e49a-406b-ac85-e42e8f150fb2",
   "metadata": {},
   "outputs": [],
   "source": [
    "# This allows for changing bf predictions if deemed too far from accurate"
   ]
  },
  {
   "cell_type": "code",
   "execution_count": 3,
   "id": "e4438d05-bbb1-41ab-a208-bebef48e8122",
   "metadata": {},
   "outputs": [],
   "source": [
    "def update_mean_prediction(df, n, new_value):\n",
    "    if n in df.index:\n",
    "        df.at[n, 'meanPrediction'] = new_value\n",
    "    else:\n",
    "        raise IndexError(f\"Row index {n} not found in DataFrame.\")\n",
    "    return df"
   ]
  },
  {
   "cell_type": "code",
   "execution_count": null,
   "id": "49a3ba37-99f1-4fc0-a4aa-7a2962d4bafa",
   "metadata": {},
   "outputs": [],
   "source": []
  }
 ],
 "metadata": {
  "kernelspec": {
   "display_name": "Python 3.10",
   "language": "python",
   "name": "python310"
  },
  "language_info": {
   "codemirror_mode": {
    "name": "ipython",
    "version": 3
   },
   "file_extension": ".py",
   "mimetype": "text/x-python",
   "name": "python",
   "nbconvert_exporter": "python",
   "pygments_lexer": "ipython3",
   "version": "3.10.0"
  }
 },
 "nbformat": 4,
 "nbformat_minor": 5
}
