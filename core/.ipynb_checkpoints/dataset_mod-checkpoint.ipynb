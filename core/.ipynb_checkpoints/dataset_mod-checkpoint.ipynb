{
 "cells": [
  {
   "cell_type": "code",
   "execution_count": 2,
   "id": "0e083738-72f8-40ad-b735-e73eb044c17c",
   "metadata": {},
   "outputs": [],
   "source": [
    "import pandas as pd\n",
    "\n",
    "df = pd.read_csv(\"data/bodyfat_dataset.csv\")"
   ]
  },
  {
   "cell_type": "code",
   "execution_count": 3,
   "id": "1bed9d4f-e49a-406b-ac85-e42e8f150fb2",
   "metadata": {},
   "outputs": [],
   "source": [
    "# This allows for changing bf predictions if deemed too far from accurate"
   ]
  },
  {
   "cell_type": "code",
   "execution_count": 4,
   "id": "e4438d05-bbb1-41ab-a208-bebef48e8122",
   "metadata": {},
   "outputs": [],
   "source": [
    "def update_mean_prediction(df, n, new_value):\n",
    "    if n in df.index:\n",
    "        df.at[n, 'meanPrediction'] = new_value\n",
    "    else:\n",
    "        raise IndexError(f\"Row index {n} not found in DataFrame.\")\n",
    "    return df"
   ]
  },
  {
   "cell_type": "code",
   "execution_count": 20,
   "id": "49a3ba37-99f1-4fc0-a4aa-7a2962d4bafa",
   "metadata": {},
   "outputs": [
    {
     "data": {
      "text/html": [
       "<div>\n",
       "<style scoped>\n",
       "    .dataframe tbody tr th:only-of-type {\n",
       "        vertical-align: middle;\n",
       "    }\n",
       "\n",
       "    .dataframe tbody tr th {\n",
       "        vertical-align: top;\n",
       "    }\n",
       "\n",
       "    .dataframe thead th {\n",
       "        text-align: right;\n",
       "    }\n",
       "</style>\n",
       "<table border=\"1\" class=\"dataframe\">\n",
       "  <thead>\n",
       "    <tr style=\"text-align: right;\">\n",
       "      <th></th>\n",
       "      <th>title</th>\n",
       "      <th>url</th>\n",
       "      <th>meanPrediction</th>\n",
       "      <th>medianPrediction</th>\n",
       "      <th>bfPredictions</th>\n",
       "      <th>image_1</th>\n",
       "      <th>image_2</th>\n",
       "      <th>image_3</th>\n",
       "      <th>image_4</th>\n",
       "      <th>image_5</th>\n",
       "    </tr>\n",
       "  </thead>\n",
       "  <tbody>\n",
       "    <tr>\n",
       "      <th>56</th>\n",
       "      <td>5’8, 197 pounds, 22 years old, been on a cut f...</td>\n",
       "      <td>https://www.reddit.com/gallery/y4ohuu</td>\n",
       "      <td>19.0</td>\n",
       "      <td>28.5</td>\n",
       "      <td>[15, 17, 40, 45]</td>\n",
       "      <td>https://preview.redd.it/ntrs2yok5zt91.jpg?widt...</td>\n",
       "      <td>https://preview.redd.it/rnl9zxok5zt91.jpg?widt...</td>\n",
       "      <td>https://preview.redd.it/cg7v3tok5zt91.jpg?widt...</td>\n",
       "      <td>NaN</td>\n",
       "      <td>NaN</td>\n",
       "    </tr>\n",
       "  </tbody>\n",
       "</table>\n",
       "</div>"
      ],
      "text/plain": [
       "                                                title  \\\n",
       "56  5’8, 197 pounds, 22 years old, been on a cut f...   \n",
       "\n",
       "                                      url  meanPrediction  medianPrediction  \\\n",
       "56  https://www.reddit.com/gallery/y4ohuu            19.0              28.5   \n",
       "\n",
       "       bfPredictions                                            image_1  \\\n",
       "56  [15, 17, 40, 45]  https://preview.redd.it/ntrs2yok5zt91.jpg?widt...   \n",
       "\n",
       "                                              image_2  \\\n",
       "56  https://preview.redd.it/rnl9zxok5zt91.jpg?widt...   \n",
       "\n",
       "                                              image_3 image_4  image_5  \n",
       "56  https://preview.redd.it/cg7v3tok5zt91.jpg?widt...     NaN      NaN  "
      ]
     },
     "execution_count": 20,
     "metadata": {},
     "output_type": "execute_result"
    }
   ],
   "source": [
    "row = 56\n",
    "pred = 19\n",
    "update_mean_prediction(df, row, pred)\n",
    "\n",
    "df.iloc[row:row+1]"
   ]
  },
  {
   "cell_type": "code",
   "execution_count": null,
   "id": "c84442be-c8f7-4de7-a27f-e53cd1c49a09",
   "metadata": {},
   "outputs": [],
   "source": []
  }
 ],
 "metadata": {
  "kernelspec": {
   "display_name": "Python 3.10",
   "language": "python",
   "name": "python310"
  },
  "language_info": {
   "codemirror_mode": {
    "name": "ipython",
    "version": 3
   },
   "file_extension": ".py",
   "mimetype": "text/x-python",
   "name": "python",
   "nbconvert_exporter": "python",
   "pygments_lexer": "ipython3",
   "version": "3.10.0"
  }
 },
 "nbformat": 4,
 "nbformat_minor": 5
}
