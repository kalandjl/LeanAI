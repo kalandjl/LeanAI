{
 "cells": [
  {
   "cell_type": "code",
   "execution_count": null,
   "id": "73e9c142-d2ba-4dd2-b697-49fbc596f33a",
   "metadata": {},
   "outputs": [],
   "source": [
    "import pandas as pd\n",
    "df_labels = pd.read_csv(\"data/image_labels.csv\")\n",
    "df = pd.read_csv(\"data/bodyfat_dataset.csv\")\n"
   ]
  },
  {
   "cell_type": "code",
   "execution_count": null,
   "id": "bcee78b3-3b02-463b-9ed8-2451011de15d",
   "metadata": {},
   "outputs": [],
   "source": [
    "import re\n",
    "\n",
    "def check_label_mismatches(bodyfat_df, labels_df, label_col='meanPrediction'):\n",
    "    pattern = re.compile(r'^(\\d+)_image_\\d+\\.\\w+$')\n",
    "    mismatches = []\n",
    "\n",
    "    for i, row in labels_df.iterrows():\n",
    "        try: \n",
    "            filename = row['filename']\n",
    "            label_target = row['target']\n",
    "            match = pattern.match(filename)\n",
    "            if not match:\n",
    "                print(f\"Skipping invalid filename: {filename}\")\n",
    "                continue\n",
    "    \n",
    "            idx = int(match.group(1))\n",
    "            expected_target = bodyfat_df.at[idx, label_col]  # direct lookup by row index\n",
    "    \n",
    "            if abs(label_target - expected_target) > 1e-3:\n",
    "                mismatches.append((filename, label_target, expected_target))\n",
    "        except Exception as e:\n",
    "            print('')\n",
    "\n",
    "    print(f\"Found {len(mismatches)} mismatches\")\n",
    "    for m in mismatches[:10]:\n",
    "        print(f\"{m[0]}: label={m[1]} != expected={m[2]}\")\n",
    "\n",
    "    return mismatches\n",
    "\n",
    "check_label_mismatches(df, df_labels)"
   ]
  },
  {
   "cell_type": "code",
   "execution_count": null,
   "id": "78f0397a-6dc4-48d8-891f-fd61918c16bc",
   "metadata": {},
   "outputs": [],
   "source": [
    "print(f\"Total rows: {len(df)}\")\n",
    "print(f\"Row 176 exists? {177 in df.index}\")\n",
    "\n",
    "# Check the actual indices of df:\n",
    "print(f\"Min index: {df.index.min()}, Max index: {df.index.max()}\")\n",
    "print(df.index[:20])  # first 20 indices to see if they are continuous\n",
    "\n",
    "# Check what meanPrediction is at index 176\n",
    "print(df.loc[177, 'meanPrediction'])"
   ]
  },
  {
   "cell_type": "code",
   "execution_count": null,
   "id": "1afc1020-6f6f-4797-b93a-8b7d8e6f45db",
   "metadata": {},
   "outputs": [],
   "source": [
    "from fastai.vision.all import *\n",
    "\n",
    "model_paths = [\n",
    "    'resnet50',\n",
    "    'efficientnet_b3',\n",
    "    'densenet121',\n",
    "    'resnet34',\n",
    "    'mobilenetv3_large_100',\n",
    "    'efficientnet_b0',\n",
    "]\n",
    "\n",
    "learners = []"
   ]
  },
  {
   "cell_type": "code",
   "execution_count": null,
   "id": "2bcd6b28-499c-44f5-873e-f32386ee30ff",
   "metadata": {},
   "outputs": [],
   "source": [
    "for model_path in model_paths:\n",
    "    learn = load_learner(\"model/\" + model_path + \"/model.pkl\")\n",
    "    learners.append(learn)\n",
    "\n",
    "def ensemble_predict(items):\n",
    "    preds_all = []\n",
    "    for learn in learners:\n",
    "        preds = learn.get_preds(dl=learn.dls.test_dl(items))[0]  # get_preds returns tuple, first is preds\n",
    "        preds_all.append(preds)\n",
    "    \n",
    "    # Stack predictions: shape = (num_models, num_items)\n",
    "    preds_stack = torch.stack(preds_all)\n",
    "    \n",
    "    # Average across models (dim=0)\n",
    "    preds_mean = preds_stack.mean(dim=0)\n",
    "    return preds_mean\n",
    "\n"
   ]
  },
  {
   "cell_type": "code",
   "execution_count": null,
   "id": "7d4041b1-9250-489d-b634-0e01e120080c",
   "metadata": {},
   "outputs": [],
   "source": [
    "pred = ensemble_predict('images/1_image_1.jpg')\n",
    "pred"
   ]
  },
  {
   "cell_type": "code",
   "execution_count": null,
   "id": "c1c21975-d5e6-4a9d-a3cf-9d2b63012295",
   "metadata": {},
   "outputs": [],
   "source": [
    "from fastai.vision.all import PILImage, show_image\n",
    "from tqdm import tqdm\n",
    "import pandas as pd\n",
    "import matplotlib.pyplot as plt\n",
    "\n",
    "df = pd.read_csv(\"data/image_labels.csv\")\n",
    "\n",
    "errors = []\n",
    "\n",
    "pbar = tqdm(df.iterrows(), total=len(df), desc=\"Processing images\", leave=True)\n",
    "\n",
    "for i, row in pbar:\n",
    "    try:\n",
    "        img_path = f\"images/{row['filename']}\"  # change if your image path differs\n",
    "        img = PILImage.create(img)\n",
    "        probs = ensemble_predict(img_path)\n",
    "        pred = float(probs[0])\n",
    "        actual = float(row['target'])\n",
    "        error = abs(pred - actual)\n",
    "\n",
    "        errors.append({\n",
    "            \"img_path\": img_path,\n",
    "            \"img\": img,\n",
    "            \"actual\": actual,\n",
    "            \"pred\": pred,\n",
    "            \"error\": error\n",
    "        })\n",
    "\n",
    "        # Optionally update progress bar postfix\n",
    "        pbar.set_postfix({\"last_error\": f\"{error:.2f}\"})\n",
    "\n",
    "    except Exception as e:\n",
    "        pbar.write(f\"Skipping {row['filename']} due to error: {e}\")\n",
    "        \n",
    "# Sort and show top 10 worst predictions\n",
    "top_errors = sorted(errors, key=lambda x: x['error'], reverse=True)[:10]\n",
    "\n",
    "for idx, item in enumerate(top_errors):\n",
    "    print(f\"\\n#{idx+1}\")\n",
    "    print(f\"File: {item['img_path']}\")\n",
    "    print(f\"Predicted: {item['pred']:.2f}\")\n",
    "    print(f\"Actual: {item['actual']:.2f}\")\n",
    "    print(f\"Error: {item['error']:.2f}\")\n",
    "    show_image(item['img'], title=f\"#{idx+1}: Error {item['error']:.2f}\")\n"
   ]
  },
  {
   "cell_type": "raw",
   "id": "de722736-b5e5-42f4-8e2e-adaacf48ba58",
   "metadata": {},
   "source": [
    "print('f')"
   ]
  },
  {
   "cell_type": "code",
   "execution_count": null,
   "id": "5f6fb00a-7fae-4f58-bdd2-f778fa9443ed",
   "metadata": {},
   "outputs": [],
   "source": [
    "import io\n",
    "from ipywidgets import widgets, VBox, HBox\n",
    "from IPython.display import display\n",
    "\n",
    "def pil_to_bytes(img):\n",
    "    buf = io.BytesIO()\n",
    "    img.save(buf, format='PNG')\n",
    "    return buf.getvalue()\n",
    "\n",
    "rows = []\n",
    "for idx, item in enumerate(top_errors):\n",
    "    img_bytes = pil_to_bytes(item['img'])\n",
    "    img_widget = widgets.Image(value=img_bytes, format='png', width=200, height=200)\n",
    "    \n",
    "    text_html = f\"\"\"\n",
    "    <b>#{idx+1}</b><br>\n",
    "    File: {item['img_path']}<br>\n",
    "    Predicted: {item['pred']:.2f}<br>\n",
    "    Actual: {item['actual']:.2f}<br>\n",
    "    Error: {item['error']:.2f}\n",
    "    \"\"\"\n",
    "    text_widget = widgets.HTML(value=text_html)\n",
    "    \n",
    "    row = HBox([img_widget, text_widget])\n",
    "    rows.append(row)\n",
    "\n",
    "display(VBox(rows))\n"
   ]
  },
  {
   "cell_type": "code",
   "execution_count": null,
   "id": "b9498a5d-329e-4b24-9d79-999af54139dd",
   "metadata": {},
   "outputs": [],
   "source": []
  },
  {
   "cell_type": "code",
   "execution_count": null,
   "id": "1025cbba-6b82-4da5-825a-456bbce69a1c",
   "metadata": {},
   "outputs": [],
   "source": []
  }
 ],
 "metadata": {
  "kernelspec": {
   "display_name": "Python 3.10",
   "language": "python",
   "name": "python310"
  },
  "language_info": {
   "codemirror_mode": {
    "name": "ipython",
    "version": 3
   },
   "file_extension": ".py",
   "mimetype": "text/x-python",
   "name": "python",
   "nbconvert_exporter": "python",
   "pygments_lexer": "ipython3",
   "version": "3.10.0"
  }
 },
 "nbformat": 4,
 "nbformat_minor": 5
}
