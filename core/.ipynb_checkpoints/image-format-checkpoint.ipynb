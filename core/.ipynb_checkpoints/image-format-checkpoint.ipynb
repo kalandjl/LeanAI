{
 "cells": [
  {
   "cell_type": "code",
   "execution_count": 1,
   "id": "08c0b377-1fce-4b19-9e77-0cf81adaf0b2",
   "metadata": {},
   "outputs": [],
   "source": [
    "import os\n",
    "from pathlib import Path\n",
    "\n",
    "path = Path('data/bodyfat_dataset.csv')\n"
   ]
  },
  {
   "cell_type": "code",
   "execution_count": 2,
   "id": "ee4549e8-2b72-4df0-9ec5-5b0f668680bb",
   "metadata": {},
   "outputs": [
    {
     "data": {
      "text/html": [
       "<div>\n",
       "<style scoped>\n",
       "    .dataframe tbody tr th:only-of-type {\n",
       "        vertical-align: middle;\n",
       "    }\n",
       "\n",
       "    .dataframe tbody tr th {\n",
       "        vertical-align: top;\n",
       "    }\n",
       "\n",
       "    .dataframe thead th {\n",
       "        text-align: right;\n",
       "    }\n",
       "</style>\n",
       "<table border=\"1\" class=\"dataframe\">\n",
       "  <thead>\n",
       "    <tr style=\"text-align: right;\">\n",
       "      <th></th>\n",
       "      <th>title</th>\n",
       "      <th>url</th>\n",
       "      <th>meanPrediction</th>\n",
       "      <th>medianPrediction</th>\n",
       "      <th>bfPredictions</th>\n",
       "      <th>image_1</th>\n",
       "      <th>image_2</th>\n",
       "      <th>image_3</th>\n",
       "      <th>image_4</th>\n",
       "      <th>image_5</th>\n",
       "    </tr>\n",
       "  </thead>\n",
       "  <tbody>\n",
       "    <tr>\n",
       "      <th>0</th>\n",
       "      <td>Leanest ive ever been. Never seen veins like t...</td>\n",
       "      <td>https://www.reddit.com/gallery/1b6k5jh</td>\n",
       "      <td>8.00</td>\n",
       "      <td>8.0</td>\n",
       "      <td>[8]</td>\n",
       "      <td>https://preview.redd.it/leanest-ive-ever-been-...</td>\n",
       "      <td>https://preview.redd.it/leanest-ive-ever-been-...</td>\n",
       "      <td>https://preview.redd.it/leanest-ive-ever-been-...</td>\n",
       "      <td>https://preview.redd.it/leanest-ive-ever-been-...</td>\n",
       "      <td>NaN</td>\n",
       "    </tr>\n",
       "    <tr>\n",
       "      <th>1</th>\n",
       "      <td>Let me know. 78kg :)</td>\n",
       "      <td>https://i.redd.it/4occeq9wdd2c1.jpg</td>\n",
       "      <td>9.80</td>\n",
       "      <td>10.0</td>\n",
       "      <td>[9, 10, 10, 9, 11]</td>\n",
       "      <td>https://i.redd.it/4occeq9wdd2c1.jpg</td>\n",
       "      <td>NaN</td>\n",
       "      <td>NaN</td>\n",
       "      <td>NaN</td>\n",
       "      <td>NaN</td>\n",
       "    </tr>\n",
       "    <tr>\n",
       "      <th>2</th>\n",
       "      <td>What is my bf% I believe it’s around 13-14%</td>\n",
       "      <td>https://i.redd.it/lvfmowq0zhh91.jpg</td>\n",
       "      <td>14.33</td>\n",
       "      <td>13.5</td>\n",
       "      <td>[13, 19, 14, 14, 13, 13]</td>\n",
       "      <td>https://i.redd.it/lvfmowq0zhh91.jpg</td>\n",
       "      <td>NaN</td>\n",
       "      <td>NaN</td>\n",
       "      <td>NaN</td>\n",
       "      <td>NaN</td>\n",
       "    </tr>\n",
       "    <tr>\n",
       "      <th>3</th>\n",
       "      <td>25F | 4'11\" | 107 lbs</td>\n",
       "      <td>https://www.reddit.com/gallery/1e30z2f</td>\n",
       "      <td>23.33</td>\n",
       "      <td>24.0</td>\n",
       "      <td>[20, 26, 24]</td>\n",
       "      <td>https://preview.redd.it/25f-411-107-lbs-v0-4lm...</td>\n",
       "      <td>https://preview.redd.it/25f-411-107-lbs-v0-huc...</td>\n",
       "      <td>NaN</td>\n",
       "      <td>NaN</td>\n",
       "      <td>NaN</td>\n",
       "    </tr>\n",
       "    <tr>\n",
       "      <th>4</th>\n",
       "      <td>Bodyfat?</td>\n",
       "      <td>https://www.reddit.com/gallery/1ktwao9</td>\n",
       "      <td>17.80</td>\n",
       "      <td>18.0</td>\n",
       "      <td>[18, 16, 18, 15, 22]</td>\n",
       "      <td>https://preview.redd.it/8ekhv0d4xl2f1.jpg?widt...</td>\n",
       "      <td>https://preview.redd.it/rwkt50d4xl2f1.jpg?widt...</td>\n",
       "      <td>https://preview.redd.it/vau412d4xl2f1.jpg?widt...</td>\n",
       "      <td>NaN</td>\n",
       "      <td>NaN</td>\n",
       "    </tr>\n",
       "    <tr>\n",
       "      <th>...</th>\n",
       "      <td>...</td>\n",
       "      <td>...</td>\n",
       "      <td>...</td>\n",
       "      <td>...</td>\n",
       "      <td>...</td>\n",
       "      <td>...</td>\n",
       "      <td>...</td>\n",
       "      <td>...</td>\n",
       "      <td>...</td>\n",
       "      <td>...</td>\n",
       "    </tr>\n",
       "    <tr>\n",
       "      <th>793</th>\n",
       "      <td>[GMBF] 6'1 220LBS Any estimates appreciated!</td>\n",
       "      <td>https://i.redd.it/z543jfquva731.jpg</td>\n",
       "      <td>12.00</td>\n",
       "      <td>12.0</td>\n",
       "      <td>[12]</td>\n",
       "      <td>https://i.redd.it/z543jfquva731.jpg</td>\n",
       "      <td>NaN</td>\n",
       "      <td>NaN</td>\n",
       "      <td>NaN</td>\n",
       "      <td>NaN</td>\n",
       "    </tr>\n",
       "    <tr>\n",
       "      <th>794</th>\n",
       "      <td>[GMBF] (M/22/6'2\"/195lbs)</td>\n",
       "      <td>https://i.imgur.com/PY44dK5.jpg</td>\n",
       "      <td>10.50</td>\n",
       "      <td>10.5</td>\n",
       "      <td>[11, 9, 10, 12]</td>\n",
       "      <td>https://i.imgur.com/PY44dK5.jpg</td>\n",
       "      <td>NaN</td>\n",
       "      <td>NaN</td>\n",
       "      <td>NaN</td>\n",
       "      <td>NaN</td>\n",
       "    </tr>\n",
       "    <tr>\n",
       "      <th>795</th>\n",
       "      <td>[GMBF] M/26/6'1/191lbs - down from 245lbs</td>\n",
       "      <td>https://i.imgur.com/pWGT7nV.jpg</td>\n",
       "      <td>15.00</td>\n",
       "      <td>15.0</td>\n",
       "      <td>[15]</td>\n",
       "      <td>https://i.imgur.com/pWGT7nV.jpg</td>\n",
       "      <td>NaN</td>\n",
       "      <td>NaN</td>\n",
       "      <td>NaN</td>\n",
       "      <td>NaN</td>\n",
       "    </tr>\n",
       "    <tr>\n",
       "      <th>796</th>\n",
       "      <td>[GMBF] (M/26/5’10”/153lbs to 168lbs) What woul...</td>\n",
       "      <td>https://i.redd.it/lc2q2svumrt11.jpg</td>\n",
       "      <td>12.00</td>\n",
       "      <td>12.0</td>\n",
       "      <td>[10, 14]</td>\n",
       "      <td>https://i.redd.it/lc2q2svumrt11.jpg</td>\n",
       "      <td>NaN</td>\n",
       "      <td>NaN</td>\n",
       "      <td>NaN</td>\n",
       "      <td>NaN</td>\n",
       "    </tr>\n",
       "    <tr>\n",
       "      <th>797</th>\n",
       "      <td>Thoughts?</td>\n",
       "      <td>https://i.redd.it/3yube1tanu1f1.jpeg</td>\n",
       "      <td>13.50</td>\n",
       "      <td>13.5</td>\n",
       "      <td>[14, 13]</td>\n",
       "      <td>https://i.redd.it/3yube1tanu1f1.jpeg</td>\n",
       "      <td>NaN</td>\n",
       "      <td>NaN</td>\n",
       "      <td>NaN</td>\n",
       "      <td>NaN</td>\n",
       "    </tr>\n",
       "  </tbody>\n",
       "</table>\n",
       "<p>798 rows × 10 columns</p>\n",
       "</div>"
      ],
      "text/plain": [
       "                                                 title  \\\n",
       "0    Leanest ive ever been. Never seen veins like t...   \n",
       "1                                 Let me know. 78kg :)   \n",
       "2          What is my bf% I believe it’s around 13-14%   \n",
       "3                               25F | 4'11\" | 107 lbs    \n",
       "4                                             Bodyfat?   \n",
       "..                                                 ...   \n",
       "793       [GMBF] 6'1 220LBS Any estimates appreciated!   \n",
       "794                          [GMBF] (M/22/6'2\"/195lbs)   \n",
       "795          [GMBF] M/26/6'1/191lbs - down from 245lbs   \n",
       "796  [GMBF] (M/26/5’10”/153lbs to 168lbs) What woul...   \n",
       "797                                          Thoughts?   \n",
       "\n",
       "                                        url  meanPrediction  medianPrediction  \\\n",
       "0    https://www.reddit.com/gallery/1b6k5jh            8.00               8.0   \n",
       "1       https://i.redd.it/4occeq9wdd2c1.jpg            9.80              10.0   \n",
       "2       https://i.redd.it/lvfmowq0zhh91.jpg           14.33              13.5   \n",
       "3    https://www.reddit.com/gallery/1e30z2f           23.33              24.0   \n",
       "4    https://www.reddit.com/gallery/1ktwao9           17.80              18.0   \n",
       "..                                      ...             ...               ...   \n",
       "793     https://i.redd.it/z543jfquva731.jpg           12.00              12.0   \n",
       "794         https://i.imgur.com/PY44dK5.jpg           10.50              10.5   \n",
       "795         https://i.imgur.com/pWGT7nV.jpg           15.00              15.0   \n",
       "796     https://i.redd.it/lc2q2svumrt11.jpg           12.00              12.0   \n",
       "797    https://i.redd.it/3yube1tanu1f1.jpeg           13.50              13.5   \n",
       "\n",
       "                bfPredictions  \\\n",
       "0                         [8]   \n",
       "1          [9, 10, 10, 9, 11]   \n",
       "2    [13, 19, 14, 14, 13, 13]   \n",
       "3                [20, 26, 24]   \n",
       "4        [18, 16, 18, 15, 22]   \n",
       "..                        ...   \n",
       "793                      [12]   \n",
       "794           [11, 9, 10, 12]   \n",
       "795                      [15]   \n",
       "796                  [10, 14]   \n",
       "797                  [14, 13]   \n",
       "\n",
       "                                               image_1  \\\n",
       "0    https://preview.redd.it/leanest-ive-ever-been-...   \n",
       "1                  https://i.redd.it/4occeq9wdd2c1.jpg   \n",
       "2                  https://i.redd.it/lvfmowq0zhh91.jpg   \n",
       "3    https://preview.redd.it/25f-411-107-lbs-v0-4lm...   \n",
       "4    https://preview.redd.it/8ekhv0d4xl2f1.jpg?widt...   \n",
       "..                                                 ...   \n",
       "793                https://i.redd.it/z543jfquva731.jpg   \n",
       "794                    https://i.imgur.com/PY44dK5.jpg   \n",
       "795                    https://i.imgur.com/pWGT7nV.jpg   \n",
       "796                https://i.redd.it/lc2q2svumrt11.jpg   \n",
       "797               https://i.redd.it/3yube1tanu1f1.jpeg   \n",
       "\n",
       "                                               image_2  \\\n",
       "0    https://preview.redd.it/leanest-ive-ever-been-...   \n",
       "1                                                  NaN   \n",
       "2                                                  NaN   \n",
       "3    https://preview.redd.it/25f-411-107-lbs-v0-huc...   \n",
       "4    https://preview.redd.it/rwkt50d4xl2f1.jpg?widt...   \n",
       "..                                                 ...   \n",
       "793                                                NaN   \n",
       "794                                                NaN   \n",
       "795                                                NaN   \n",
       "796                                                NaN   \n",
       "797                                                NaN   \n",
       "\n",
       "                                               image_3  \\\n",
       "0    https://preview.redd.it/leanest-ive-ever-been-...   \n",
       "1                                                  NaN   \n",
       "2                                                  NaN   \n",
       "3                                                  NaN   \n",
       "4    https://preview.redd.it/vau412d4xl2f1.jpg?widt...   \n",
       "..                                                 ...   \n",
       "793                                                NaN   \n",
       "794                                                NaN   \n",
       "795                                                NaN   \n",
       "796                                                NaN   \n",
       "797                                                NaN   \n",
       "\n",
       "                                               image_4  image_5  \n",
       "0    https://preview.redd.it/leanest-ive-ever-been-...      NaN  \n",
       "1                                                  NaN      NaN  \n",
       "2                                                  NaN      NaN  \n",
       "3                                                  NaN      NaN  \n",
       "4                                                  NaN      NaN  \n",
       "..                                                 ...      ...  \n",
       "793                                                NaN      NaN  \n",
       "794                                                NaN      NaN  \n",
       "795                                                NaN      NaN  \n",
       "796                                                NaN      NaN  \n",
       "797                                                NaN      NaN  \n",
       "\n",
       "[798 rows x 10 columns]"
      ]
     },
     "execution_count": 2,
     "metadata": {},
     "output_type": "execute_result"
    }
   ],
   "source": [
    "import torch, numpy as np, pandas as pd\n",
    "\n",
    "df = pd.read_csv(path)\n",
    "\n",
    "df"
   ]
  },
  {
   "cell_type": "code",
   "execution_count": 3,
   "id": "865e79e0-2e1c-4672-8a10-969a55f38752",
   "metadata": {},
   "outputs": [],
   "source": [
    "import requests\n",
    "from tqdm import tqdm\n",
    "\n",
    "def download_all_images(df, output_dir=\"raw_images\"):\n",
    "    os.makedirs(output_dir, exist_ok=True)\n",
    "    image_cols = [f\"image_{i}\" for i in range(1, 6)]\n",
    "    \n",
    "    seen_urls = set()\n",
    "    image_count = 0\n",
    "\n",
    "    for idx, row in tqdm(df.iterrows(), total=len(df)):\n",
    "        for col in image_cols:\n",
    "            url = row.get(col)\n",
    "            if isinstance(url, str) and url.startswith(\"http\") and url not in seen_urls:\n",
    "                try:\n",
    "                    response = requests.get(url, timeout=10)\n",
    "                    if response.status_code == 200:\n",
    "                        file_ext = url.split('.')[-1].split('?')[0]\n",
    "                        file_name = f\"{idx}_{col}.{file_ext}\"\n",
    "                        file_path = os.path.join(output_dir, file_name)\n",
    "                        with open(file_path, \"wb\") as f:\n",
    "                            f.write(response.content)\n",
    "                        seen_urls.add(url)\n",
    "                        image_count += 1\n",
    "                except Exception as e:\n",
    "                    print(f\"Error downloading {url}: {e}\")\n",
    "\n",
    "    print(f\"\\nDownloaded {image_count} unique images to '{output_dir}/'\")"
   ]
  },
  {
   "cell_type": "code",
   "execution_count": 4,
   "id": "60091d0a-65b6-4192-94ac-cbb7faff2007",
   "metadata": {},
   "outputs": [],
   "source": [
    "def update_mean_prediction(df, n, new_value):\n",
    "    \"\"\"\n",
    "    Update the 'meanPrediction' value for row index n in DataFrame df.\n",
    "    \n",
    "    Args:\n",
    "        df (pd.DataFrame): The dataframe to update.\n",
    "        n (int): The row index to update.\n",
    "        new_value (float): The new value to set.\n",
    "        \n",
    "    Returns:\n",
    "        pd.DataFrame: The dataframe with the updated value.\n",
    "    \"\"\"\n",
    "    if n in df.index:\n",
    "        df.at[n, 'meanPrediction'] = new_value\n",
    "    else:\n",
    "        raise IndexError(f\"Row index {n} not found in DataFrame.\")\n",
    "    return df"
   ]
  },
  {
   "cell_type": "code",
   "execution_count": 5,
   "id": "4be8c739-e591-412c-a47e-c6256ffaeb1c",
   "metadata": {},
   "outputs": [
    {
     "data": {
      "text/plain": [
       "13.6"
      ]
     },
     "execution_count": 5,
     "metadata": {},
     "output_type": "execute_result"
    }
   ],
   "source": [
    "row, pred = 652, 16\n",
    "\n",
    "df.at[row, 'meanPrediction']\n"
   ]
  },
  {
   "cell_type": "code",
   "execution_count": 6,
   "id": "bc643679-92eb-4c22-8ab0-4e5c3461b311",
   "metadata": {},
   "outputs": [
    {
     "data": {
      "text/html": [
       "<div>\n",
       "<style scoped>\n",
       "    .dataframe tbody tr th:only-of-type {\n",
       "        vertical-align: middle;\n",
       "    }\n",
       "\n",
       "    .dataframe tbody tr th {\n",
       "        vertical-align: top;\n",
       "    }\n",
       "\n",
       "    .dataframe thead th {\n",
       "        text-align: right;\n",
       "    }\n",
       "</style>\n",
       "<table border=\"1\" class=\"dataframe\">\n",
       "  <thead>\n",
       "    <tr style=\"text-align: right;\">\n",
       "      <th></th>\n",
       "      <th>title</th>\n",
       "      <th>url</th>\n",
       "      <th>meanPrediction</th>\n",
       "      <th>medianPrediction</th>\n",
       "      <th>bfPredictions</th>\n",
       "      <th>image_1</th>\n",
       "      <th>image_2</th>\n",
       "      <th>image_3</th>\n",
       "      <th>image_4</th>\n",
       "      <th>image_5</th>\n",
       "    </tr>\n",
       "  </thead>\n",
       "  <tbody>\n",
       "    <tr>\n",
       "      <th>642</th>\n",
       "      <td>5'8\" 160lbs - 20%?</td>\n",
       "      <td>https://i.redd.it/e5bzlqckpoed1.png</td>\n",
       "      <td>14.50</td>\n",
       "      <td>15.0</td>\n",
       "      <td>[13, 15, 15, 14, 15, 13, 16, 15]</td>\n",
       "      <td>https://i.redd.it/e5bzlqckpoed1.png</td>\n",
       "      <td>NaN</td>\n",
       "      <td>NaN</td>\n",
       "      <td>NaN</td>\n",
       "      <td>NaN</td>\n",
       "    </tr>\n",
       "    <tr>\n",
       "      <th>643</th>\n",
       "      <td>5'11\", 174lbs</td>\n",
       "      <td>https://www.reddit.com/gallery/1e8q5pg</td>\n",
       "      <td>14.00</td>\n",
       "      <td>14.0</td>\n",
       "      <td>[14]</td>\n",
       "      <td>https://preview.redd.it/511-174lbs-v0-t14711hm...</td>\n",
       "      <td>https://preview.redd.it/511-174lbs-v0-5g9feqlm...</td>\n",
       "      <td>https://preview.redd.it/511-174lbs-v0-xl841mrm...</td>\n",
       "      <td>NaN</td>\n",
       "      <td>NaN</td>\n",
       "    </tr>\n",
       "    <tr>\n",
       "      <th>644</th>\n",
       "      <td>Finally cutting, BF? (5 10” 230 lbs)</td>\n",
       "      <td>https://www.reddit.com/gallery/1dnvyhc</td>\n",
       "      <td>28.00</td>\n",
       "      <td>28.0</td>\n",
       "      <td>[28]</td>\n",
       "      <td>https://preview.redd.it/finally-cutting-bf-5-1...</td>\n",
       "      <td>https://preview.redd.it/finally-cutting-bf-5-1...</td>\n",
       "      <td>https://preview.redd.it/finally-cutting-bf-5-1...</td>\n",
       "      <td>https://preview.redd.it/finally-cutting-bf-5-1...</td>\n",
       "      <td>NaN</td>\n",
       "    </tr>\n",
       "    <tr>\n",
       "      <th>645</th>\n",
       "      <td>M23 Bulk on first slide vs cut on 2nd slide. W...</td>\n",
       "      <td>https://www.reddit.com/gallery/1diti8g</td>\n",
       "      <td>11.17</td>\n",
       "      <td>11.0</td>\n",
       "      <td>[12, 13, 10, 9, 10, 13]</td>\n",
       "      <td>https://preview.redd.it/m23-bulk-on-first-slid...</td>\n",
       "      <td>https://preview.redd.it/m23-bulk-on-first-slid...</td>\n",
       "      <td>NaN</td>\n",
       "      <td>NaN</td>\n",
       "      <td>NaN</td>\n",
       "    </tr>\n",
       "    <tr>\n",
       "      <th>646</th>\n",
       "      <td>22.2% body fat according to my samsung watch. ...</td>\n",
       "      <td>https://www.reddit.com/gallery/1dgj90c</td>\n",
       "      <td>12.23</td>\n",
       "      <td>12.0</td>\n",
       "      <td>[12, 12, 12, 10, 10, 14, 12, 15, 15, 13, 13, 1...</td>\n",
       "      <td>https://preview.redd.it/22-2-body-fat-accordin...</td>\n",
       "      <td>https://preview.redd.it/22-2-body-fat-accordin...</td>\n",
       "      <td>https://preview.redd.it/22-2-body-fat-accordin...</td>\n",
       "      <td>NaN</td>\n",
       "      <td>NaN</td>\n",
       "    </tr>\n",
       "    <tr>\n",
       "      <th>647</th>\n",
       "      <td>Guess my BF</td>\n",
       "      <td>https://www.reddit.com/gallery/1d72fea</td>\n",
       "      <td>28.33</td>\n",
       "      <td>30.0</td>\n",
       "      <td>[30, 20, 35]</td>\n",
       "      <td>https://preview.redd.it/guess-my-bf-v0-xu31ptm...</td>\n",
       "      <td>https://preview.redd.it/guess-my-bf-v0-sqan6um...</td>\n",
       "      <td>NaN</td>\n",
       "      <td>NaN</td>\n",
       "      <td>NaN</td>\n",
       "    </tr>\n",
       "    <tr>\n",
       "      <th>648</th>\n",
       "      <td>30M, 90KG, 183 cm</td>\n",
       "      <td>https://www.reddit.com/gallery/1d4rrtl</td>\n",
       "      <td>11.50</td>\n",
       "      <td>12.0</td>\n",
       "      <td>[8, 10, 13, 13, 11, 14]</td>\n",
       "      <td>https://preview.redd.it/30m-90kg-183-cm-v0-xfu...</td>\n",
       "      <td>https://preview.redd.it/30m-90kg-183-cm-v0-tw3...</td>\n",
       "      <td>NaN</td>\n",
       "      <td>NaN</td>\n",
       "      <td>NaN</td>\n",
       "    </tr>\n",
       "    <tr>\n",
       "      <th>649</th>\n",
       "      <td>Is around 19% right? 5 11, 88kg.</td>\n",
       "      <td>https://www.reddit.com/gallery/1corl7c</td>\n",
       "      <td>18.80</td>\n",
       "      <td>19.0</td>\n",
       "      <td>[20, 19, 18, 20, 17]</td>\n",
       "      <td>https://preview.redd.it/is-around-19-right-5-1...</td>\n",
       "      <td>https://preview.redd.it/is-around-19-right-5-1...</td>\n",
       "      <td>NaN</td>\n",
       "      <td>NaN</td>\n",
       "      <td>NaN</td>\n",
       "    </tr>\n",
       "    <tr>\n",
       "      <th>650</th>\n",
       "      <td>Cutting from 18% to 10%. What percent would yo...</td>\n",
       "      <td>https://www.reddit.com/gallery/1cdna0o</td>\n",
       "      <td>14.75</td>\n",
       "      <td>15.0</td>\n",
       "      <td>[13, 16, 15, 15]</td>\n",
       "      <td>https://preview.redd.it/cutting-from-18-to-10-...</td>\n",
       "      <td>https://preview.redd.it/cutting-from-18-to-10-...</td>\n",
       "      <td>https://preview.redd.it/cutting-from-18-to-10-...</td>\n",
       "      <td>https://preview.redd.it/cutting-from-18-to-10-...</td>\n",
       "      <td>NaN</td>\n",
       "    </tr>\n",
       "    <tr>\n",
       "      <th>651</th>\n",
       "      <td>1/3 through cut, aiming for 10%. Currently at ...</td>\n",
       "      <td>https://i.redd.it/ju7ttnjj8bwc1.jpeg</td>\n",
       "      <td>15.00</td>\n",
       "      <td>15.0</td>\n",
       "      <td>[15]</td>\n",
       "      <td>https://i.redd.it/ju7ttnjj8bwc1.jpeg</td>\n",
       "      <td>NaN</td>\n",
       "      <td>NaN</td>\n",
       "      <td>NaN</td>\n",
       "      <td>NaN</td>\n",
       "    </tr>\n",
       "    <tr>\n",
       "      <th>652</th>\n",
       "      <td>I’m curious what % you guys think?</td>\n",
       "      <td>https://i.redd.it/ifbpxrrxbbvc1.jpeg</td>\n",
       "      <td>13.60</td>\n",
       "      <td>14.0</td>\n",
       "      <td>[12, 14, 15, 14, 10, 16, 17, 10, 13, 15]</td>\n",
       "      <td>https://i.redd.it/ifbpxrrxbbvc1.jpeg</td>\n",
       "      <td>NaN</td>\n",
       "      <td>NaN</td>\n",
       "      <td>NaN</td>\n",
       "      <td>NaN</td>\n",
       "    </tr>\n",
       "    <tr>\n",
       "      <th>653</th>\n",
       "      <td>BF?</td>\n",
       "      <td>https://www.reddit.com/gallery/1bx1emg</td>\n",
       "      <td>12.86</td>\n",
       "      <td>14.0</td>\n",
       "      <td>[10, 10, 14, 14, 14, 14, 14]</td>\n",
       "      <td>https://preview.redd.it/l8y21c7q1ssc1.jpg?widt...</td>\n",
       "      <td>https://preview.redd.it/8amhjb7q1ssc1.jpg?widt...</td>\n",
       "      <td>https://preview.redd.it/n5n66c7q1ssc1.jpg?widt...</td>\n",
       "      <td>https://preview.redd.it/ovf41c7q1ssc1.jpg?widt...</td>\n",
       "      <td>NaN</td>\n",
       "    </tr>\n",
       "    <tr>\n",
       "      <th>654</th>\n",
       "      <td>Body fat?</td>\n",
       "      <td>https://www.reddit.com/gallery/1b5taa7</td>\n",
       "      <td>35.86</td>\n",
       "      <td>35.0</td>\n",
       "      <td>[33, 35, 35, 40, 41, 35, 32]</td>\n",
       "      <td>https://preview.redd.it/sr7aqrbzx6mc1.jpg?widt...</td>\n",
       "      <td>https://preview.redd.it/76m81vbzx6mc1.jpg?widt...</td>\n",
       "      <td>https://preview.redd.it/ugr1gubzx6mc1.jpg?widt...</td>\n",
       "      <td>NaN</td>\n",
       "      <td>NaN</td>\n",
       "    </tr>\n",
       "    <tr>\n",
       "      <th>655</th>\n",
       "      <td>Current BF est. and advice 5'11\" 182lbs</td>\n",
       "      <td>https://www.reddit.com/gallery/1b3xbb7</td>\n",
       "      <td>17.00</td>\n",
       "      <td>18.0</td>\n",
       "      <td>[18, 14, 18, 18]</td>\n",
       "      <td>https://preview.redd.it/current-bf-est-and-adv...</td>\n",
       "      <td>https://preview.redd.it/current-bf-est-and-adv...</td>\n",
       "      <td>https://preview.redd.it/current-bf-est-and-adv...</td>\n",
       "      <td>NaN</td>\n",
       "      <td>NaN</td>\n",
       "    </tr>\n",
       "    <tr>\n",
       "      <th>656</th>\n",
       "      <td>5'6 17 (post workout) also what BF do i need t...</td>\n",
       "      <td>https://www.reddit.com/gallery/1b2ruth</td>\n",
       "      <td>13.67</td>\n",
       "      <td>14.0</td>\n",
       "      <td>[13, 14, 14]</td>\n",
       "      <td>https://preview.redd.it/56-17-post-workout-als...</td>\n",
       "      <td>https://preview.redd.it/56-17-post-workout-als...</td>\n",
       "      <td>https://preview.redd.it/56-17-post-workout-als...</td>\n",
       "      <td>NaN</td>\n",
       "      <td>NaN</td>\n",
       "    </tr>\n",
       "    <tr>\n",
       "      <th>657</th>\n",
       "      <td>5'10\" and 155lbs</td>\n",
       "      <td>https://i.redd.it/clhma4y8z7kc1.png</td>\n",
       "      <td>14.73</td>\n",
       "      <td>14.0</td>\n",
       "      <td>[13, 14, 15, 13, 14, 15, 10, 11, 12, 22, 23]</td>\n",
       "      <td>https://i.redd.it/clhma4y8z7kc1.png</td>\n",
       "      <td>NaN</td>\n",
       "      <td>NaN</td>\n",
       "      <td>NaN</td>\n",
       "      <td>NaN</td>\n",
       "    </tr>\n",
       "    <tr>\n",
       "      <th>658</th>\n",
       "      <td>M23 Would appreciate an estimate</td>\n",
       "      <td>https://www.reddit.com/gallery/1agdxjy</td>\n",
       "      <td>12.40</td>\n",
       "      <td>12.0</td>\n",
       "      <td>[13, 12, 12, 13, 12]</td>\n",
       "      <td>https://preview.redd.it/m23-would-appreciate-a...</td>\n",
       "      <td>https://preview.redd.it/m23-would-appreciate-a...</td>\n",
       "      <td>https://preview.redd.it/m23-would-appreciate-a...</td>\n",
       "      <td>NaN</td>\n",
       "      <td>NaN</td>\n",
       "    </tr>\n",
       "    <tr>\n",
       "      <th>659</th>\n",
       "      <td>Would like 10-12%. How far off am I? 28M, 5’8(...</td>\n",
       "      <td>https://www.reddit.com/gallery/1990tc0</td>\n",
       "      <td>14.50</td>\n",
       "      <td>14.5</td>\n",
       "      <td>[18, 11]</td>\n",
       "      <td>https://preview.redd.it/would-like-10-12-how-f...</td>\n",
       "      <td>https://preview.redd.it/would-like-10-12-how-f...</td>\n",
       "      <td>NaN</td>\n",
       "      <td>NaN</td>\n",
       "      <td>NaN</td>\n",
       "    </tr>\n",
       "    <tr>\n",
       "      <th>660</th>\n",
       "      <td>6ft4, 85-86kish</td>\n",
       "      <td>https://www.reddit.com/gallery/18yj2cy</td>\n",
       "      <td>22.00</td>\n",
       "      <td>22.0</td>\n",
       "      <td>[22]</td>\n",
       "      <td>https://preview.redd.it/6ft4-85-86kish-v0-hx8b...</td>\n",
       "      <td>https://preview.redd.it/6ft4-85-86kish-v0-h0ed...</td>\n",
       "      <td>NaN</td>\n",
       "      <td>NaN</td>\n",
       "      <td>NaN</td>\n",
       "    </tr>\n",
       "    <tr>\n",
       "      <th>661</th>\n",
       "      <td>32 and 5’11”</td>\n",
       "      <td>https://www.reddit.com/gallery/18x6ehr</td>\n",
       "      <td>19.00</td>\n",
       "      <td>19.0</td>\n",
       "      <td>[20, 18]</td>\n",
       "      <td>https://preview.redd.it/32-and-511-v0-5greavgb...</td>\n",
       "      <td>https://preview.redd.it/32-and-511-v0-vvb1cvgb...</td>\n",
       "      <td>https://preview.redd.it/32-and-511-v0-znj4evgb...</td>\n",
       "      <td>https://preview.redd.it/32-and-511-v0-ek5o2vgb...</td>\n",
       "      <td>NaN</td>\n",
       "    </tr>\n",
       "    <tr>\n",
       "      <th>662</th>\n",
       "      <td>Body fat guess</td>\n",
       "      <td>https://www.reddit.com/gallery/18u2qs3</td>\n",
       "      <td>11.00</td>\n",
       "      <td>11.0</td>\n",
       "      <td>[13, 11, 12, 10, 9]</td>\n",
       "      <td>https://preview.redd.it/body-fat-guess-v0-borh...</td>\n",
       "      <td>https://preview.redd.it/body-fat-guess-v0-lnvi...</td>\n",
       "      <td>https://preview.redd.it/body-fat-guess-v0-oa5m...</td>\n",
       "      <td>NaN</td>\n",
       "      <td>NaN</td>\n",
       "    </tr>\n",
       "  </tbody>\n",
       "</table>\n",
       "</div>"
      ],
      "text/plain": [
       "                                                 title  \\\n",
       "642                                 5'8\" 160lbs - 20%?   \n",
       "643                                      5'11\", 174lbs   \n",
       "644               Finally cutting, BF? (5 10” 230 lbs)   \n",
       "645  M23 Bulk on first slide vs cut on 2nd slide. W...   \n",
       "646  22.2% body fat according to my samsung watch. ...   \n",
       "647                                        Guess my BF   \n",
       "648                                  30M, 90KG, 183 cm   \n",
       "649                   Is around 19% right? 5 11, 88kg.   \n",
       "650  Cutting from 18% to 10%. What percent would yo...   \n",
       "651  1/3 through cut, aiming for 10%. Currently at ...   \n",
       "652                 I’m curious what % you guys think?   \n",
       "653                                                BF?   \n",
       "654                                          Body fat?   \n",
       "655            Current BF est. and advice 5'11\" 182lbs   \n",
       "656  5'6 17 (post workout) also what BF do i need t...   \n",
       "657                                   5'10\" and 155lbs   \n",
       "658                   M23 Would appreciate an estimate   \n",
       "659  Would like 10-12%. How far off am I? 28M, 5’8(...   \n",
       "660                                    6ft4, 85-86kish   \n",
       "661                                       32 and 5’11”   \n",
       "662                                     Body fat guess   \n",
       "\n",
       "                                        url  meanPrediction  medianPrediction  \\\n",
       "642     https://i.redd.it/e5bzlqckpoed1.png           14.50              15.0   \n",
       "643  https://www.reddit.com/gallery/1e8q5pg           14.00              14.0   \n",
       "644  https://www.reddit.com/gallery/1dnvyhc           28.00              28.0   \n",
       "645  https://www.reddit.com/gallery/1diti8g           11.17              11.0   \n",
       "646  https://www.reddit.com/gallery/1dgj90c           12.23              12.0   \n",
       "647  https://www.reddit.com/gallery/1d72fea           28.33              30.0   \n",
       "648  https://www.reddit.com/gallery/1d4rrtl           11.50              12.0   \n",
       "649  https://www.reddit.com/gallery/1corl7c           18.80              19.0   \n",
       "650  https://www.reddit.com/gallery/1cdna0o           14.75              15.0   \n",
       "651    https://i.redd.it/ju7ttnjj8bwc1.jpeg           15.00              15.0   \n",
       "652    https://i.redd.it/ifbpxrrxbbvc1.jpeg           13.60              14.0   \n",
       "653  https://www.reddit.com/gallery/1bx1emg           12.86              14.0   \n",
       "654  https://www.reddit.com/gallery/1b5taa7           35.86              35.0   \n",
       "655  https://www.reddit.com/gallery/1b3xbb7           17.00              18.0   \n",
       "656  https://www.reddit.com/gallery/1b2ruth           13.67              14.0   \n",
       "657     https://i.redd.it/clhma4y8z7kc1.png           14.73              14.0   \n",
       "658  https://www.reddit.com/gallery/1agdxjy           12.40              12.0   \n",
       "659  https://www.reddit.com/gallery/1990tc0           14.50              14.5   \n",
       "660  https://www.reddit.com/gallery/18yj2cy           22.00              22.0   \n",
       "661  https://www.reddit.com/gallery/18x6ehr           19.00              19.0   \n",
       "662  https://www.reddit.com/gallery/18u2qs3           11.00              11.0   \n",
       "\n",
       "                                         bfPredictions  \\\n",
       "642                   [13, 15, 15, 14, 15, 13, 16, 15]   \n",
       "643                                               [14]   \n",
       "644                                               [28]   \n",
       "645                            [12, 13, 10, 9, 10, 13]   \n",
       "646  [12, 12, 12, 10, 10, 14, 12, 15, 15, 13, 13, 1...   \n",
       "647                                       [30, 20, 35]   \n",
       "648                            [8, 10, 13, 13, 11, 14]   \n",
       "649                               [20, 19, 18, 20, 17]   \n",
       "650                                   [13, 16, 15, 15]   \n",
       "651                                               [15]   \n",
       "652           [12, 14, 15, 14, 10, 16, 17, 10, 13, 15]   \n",
       "653                       [10, 10, 14, 14, 14, 14, 14]   \n",
       "654                       [33, 35, 35, 40, 41, 35, 32]   \n",
       "655                                   [18, 14, 18, 18]   \n",
       "656                                       [13, 14, 14]   \n",
       "657       [13, 14, 15, 13, 14, 15, 10, 11, 12, 22, 23]   \n",
       "658                               [13, 12, 12, 13, 12]   \n",
       "659                                           [18, 11]   \n",
       "660                                               [22]   \n",
       "661                                           [20, 18]   \n",
       "662                                [13, 11, 12, 10, 9]   \n",
       "\n",
       "                                               image_1  \\\n",
       "642                https://i.redd.it/e5bzlqckpoed1.png   \n",
       "643  https://preview.redd.it/511-174lbs-v0-t14711hm...   \n",
       "644  https://preview.redd.it/finally-cutting-bf-5-1...   \n",
       "645  https://preview.redd.it/m23-bulk-on-first-slid...   \n",
       "646  https://preview.redd.it/22-2-body-fat-accordin...   \n",
       "647  https://preview.redd.it/guess-my-bf-v0-xu31ptm...   \n",
       "648  https://preview.redd.it/30m-90kg-183-cm-v0-xfu...   \n",
       "649  https://preview.redd.it/is-around-19-right-5-1...   \n",
       "650  https://preview.redd.it/cutting-from-18-to-10-...   \n",
       "651               https://i.redd.it/ju7ttnjj8bwc1.jpeg   \n",
       "652               https://i.redd.it/ifbpxrrxbbvc1.jpeg   \n",
       "653  https://preview.redd.it/l8y21c7q1ssc1.jpg?widt...   \n",
       "654  https://preview.redd.it/sr7aqrbzx6mc1.jpg?widt...   \n",
       "655  https://preview.redd.it/current-bf-est-and-adv...   \n",
       "656  https://preview.redd.it/56-17-post-workout-als...   \n",
       "657                https://i.redd.it/clhma4y8z7kc1.png   \n",
       "658  https://preview.redd.it/m23-would-appreciate-a...   \n",
       "659  https://preview.redd.it/would-like-10-12-how-f...   \n",
       "660  https://preview.redd.it/6ft4-85-86kish-v0-hx8b...   \n",
       "661  https://preview.redd.it/32-and-511-v0-5greavgb...   \n",
       "662  https://preview.redd.it/body-fat-guess-v0-borh...   \n",
       "\n",
       "                                               image_2  \\\n",
       "642                                                NaN   \n",
       "643  https://preview.redd.it/511-174lbs-v0-5g9feqlm...   \n",
       "644  https://preview.redd.it/finally-cutting-bf-5-1...   \n",
       "645  https://preview.redd.it/m23-bulk-on-first-slid...   \n",
       "646  https://preview.redd.it/22-2-body-fat-accordin...   \n",
       "647  https://preview.redd.it/guess-my-bf-v0-sqan6um...   \n",
       "648  https://preview.redd.it/30m-90kg-183-cm-v0-tw3...   \n",
       "649  https://preview.redd.it/is-around-19-right-5-1...   \n",
       "650  https://preview.redd.it/cutting-from-18-to-10-...   \n",
       "651                                                NaN   \n",
       "652                                                NaN   \n",
       "653  https://preview.redd.it/8amhjb7q1ssc1.jpg?widt...   \n",
       "654  https://preview.redd.it/76m81vbzx6mc1.jpg?widt...   \n",
       "655  https://preview.redd.it/current-bf-est-and-adv...   \n",
       "656  https://preview.redd.it/56-17-post-workout-als...   \n",
       "657                                                NaN   \n",
       "658  https://preview.redd.it/m23-would-appreciate-a...   \n",
       "659  https://preview.redd.it/would-like-10-12-how-f...   \n",
       "660  https://preview.redd.it/6ft4-85-86kish-v0-h0ed...   \n",
       "661  https://preview.redd.it/32-and-511-v0-vvb1cvgb...   \n",
       "662  https://preview.redd.it/body-fat-guess-v0-lnvi...   \n",
       "\n",
       "                                               image_3  \\\n",
       "642                                                NaN   \n",
       "643  https://preview.redd.it/511-174lbs-v0-xl841mrm...   \n",
       "644  https://preview.redd.it/finally-cutting-bf-5-1...   \n",
       "645                                                NaN   \n",
       "646  https://preview.redd.it/22-2-body-fat-accordin...   \n",
       "647                                                NaN   \n",
       "648                                                NaN   \n",
       "649                                                NaN   \n",
       "650  https://preview.redd.it/cutting-from-18-to-10-...   \n",
       "651                                                NaN   \n",
       "652                                                NaN   \n",
       "653  https://preview.redd.it/n5n66c7q1ssc1.jpg?widt...   \n",
       "654  https://preview.redd.it/ugr1gubzx6mc1.jpg?widt...   \n",
       "655  https://preview.redd.it/current-bf-est-and-adv...   \n",
       "656  https://preview.redd.it/56-17-post-workout-als...   \n",
       "657                                                NaN   \n",
       "658  https://preview.redd.it/m23-would-appreciate-a...   \n",
       "659                                                NaN   \n",
       "660                                                NaN   \n",
       "661  https://preview.redd.it/32-and-511-v0-znj4evgb...   \n",
       "662  https://preview.redd.it/body-fat-guess-v0-oa5m...   \n",
       "\n",
       "                                               image_4  image_5  \n",
       "642                                                NaN      NaN  \n",
       "643                                                NaN      NaN  \n",
       "644  https://preview.redd.it/finally-cutting-bf-5-1...      NaN  \n",
       "645                                                NaN      NaN  \n",
       "646                                                NaN      NaN  \n",
       "647                                                NaN      NaN  \n",
       "648                                                NaN      NaN  \n",
       "649                                                NaN      NaN  \n",
       "650  https://preview.redd.it/cutting-from-18-to-10-...      NaN  \n",
       "651                                                NaN      NaN  \n",
       "652                                                NaN      NaN  \n",
       "653  https://preview.redd.it/ovf41c7q1ssc1.jpg?widt...      NaN  \n",
       "654                                                NaN      NaN  \n",
       "655                                                NaN      NaN  \n",
       "656                                                NaN      NaN  \n",
       "657                                                NaN      NaN  \n",
       "658                                                NaN      NaN  \n",
       "659                                                NaN      NaN  \n",
       "660                                                NaN      NaN  \n",
       "661  https://preview.redd.it/32-and-511-v0-ek5o2vgb...      NaN  \n",
       "662                                                NaN      NaN  "
      ]
     },
     "execution_count": 6,
     "metadata": {},
     "output_type": "execute_result"
    }
   ],
   "source": [
    "df.loc[row-10:row+10]\n"
   ]
  },
  {
   "cell_type": "code",
   "execution_count": 7,
   "id": "9876b101-99d9-44d3-9edd-4db973cafa89",
   "metadata": {},
   "outputs": [],
   "source": [
    "def create_regression_csv(df, output_csv=\"image_labels.csv\", label_col=\"meanPrediction\", image_prefix=\"image_\", output_dir=\"images\"):\n",
    "    # Ensure column names are stripped of whitespace\n",
    "    df.columns = df.columns.str.strip()\n",
    "    \n",
    "    image_cols = [col for col in df.columns if col.startswith(image_prefix)]\n",
    "    records = []\n",
    "\n",
    "    for idx, row in df.iterrows():\n",
    "        label = row[label_col]\n",
    "        for col in image_cols:\n",
    "            url = row.get(col)\n",
    "            if isinstance(url, str) and url.startswith(\"http\"):\n",
    "                ext = url.split('.')[-1].split('?')[0].lower()\n",
    "                ext = ext if ext in ['jpg', 'jpeg', 'png', 'webp'] else 'jpg'\n",
    "                filename = f\"{idx}_{col}.{ext}\"\n",
    "                records.append({\"filename\": filename, \"target\": label})\n",
    "    \n",
    "    df_out = pd.DataFrame(records)\n",
    "    df_out.to_csv(output_csv, index=False)\n",
    "    print(f\"Created {output_csv} with {len(df_out)} labeled images\")\n",
    "    return df_out"
   ]
  },
  {
   "cell_type": "code",
   "execution_count": 8,
   "id": "940a2b9a-56aa-4b9b-a965-c82eab37222b",
   "metadata": {},
   "outputs": [
    {
     "name": "stderr",
     "output_type": "stream",
     "text": [
      "100%|█████████████████████████████████████████████████████████████████████████████████████████████████| 798/798 [02:38<00:00,  5.04it/s]"
     ]
    },
    {
     "name": "stdout",
     "output_type": "stream",
     "text": [
      "\n",
      "Downloaded 1566 unique images to 'raw_images/'\n"
     ]
    },
    {
     "name": "stderr",
     "output_type": "stream",
     "text": [
      "\n"
     ]
    }
   ],
   "source": [
    "download_all_images(df)  \n",
    "\n"
   ]
  },
  {
   "cell_type": "code",
   "execution_count": 9,
   "id": "d8966a08-ea3d-4287-8194-cc288e8a09c4",
   "metadata": {},
   "outputs": [
    {
     "name": "stdout",
     "output_type": "stream",
     "text": [
      "Created image_labels.csv with 1584 labeled images\n"
     ]
    },
    {
     "data": {
      "text/html": [
       "<div>\n",
       "<style scoped>\n",
       "    .dataframe tbody tr th:only-of-type {\n",
       "        vertical-align: middle;\n",
       "    }\n",
       "\n",
       "    .dataframe tbody tr th {\n",
       "        vertical-align: top;\n",
       "    }\n",
       "\n",
       "    .dataframe thead th {\n",
       "        text-align: right;\n",
       "    }\n",
       "</style>\n",
       "<table border=\"1\" class=\"dataframe\">\n",
       "  <thead>\n",
       "    <tr style=\"text-align: right;\">\n",
       "      <th></th>\n",
       "      <th>filename</th>\n",
       "      <th>target</th>\n",
       "    </tr>\n",
       "  </thead>\n",
       "  <tbody>\n",
       "    <tr>\n",
       "      <th>0</th>\n",
       "      <td>0_image_1.jpg</td>\n",
       "      <td>8.0</td>\n",
       "    </tr>\n",
       "    <tr>\n",
       "      <th>1</th>\n",
       "      <td>0_image_2.jpg</td>\n",
       "      <td>8.0</td>\n",
       "    </tr>\n",
       "    <tr>\n",
       "      <th>2</th>\n",
       "      <td>0_image_3.jpg</td>\n",
       "      <td>8.0</td>\n",
       "    </tr>\n",
       "    <tr>\n",
       "      <th>3</th>\n",
       "      <td>0_image_4.jpg</td>\n",
       "      <td>8.0</td>\n",
       "    </tr>\n",
       "    <tr>\n",
       "      <th>4</th>\n",
       "      <td>1_image_1.jpg</td>\n",
       "      <td>9.8</td>\n",
       "    </tr>\n",
       "  </tbody>\n",
       "</table>\n",
       "</div>"
      ],
      "text/plain": [
       "        filename  target\n",
       "0  0_image_1.jpg     8.0\n",
       "1  0_image_2.jpg     8.0\n",
       "2  0_image_3.jpg     8.0\n",
       "3  0_image_4.jpg     8.0\n",
       "4  1_image_1.jpg     9.8"
      ]
     },
     "execution_count": 9,
     "metadata": {},
     "output_type": "execute_result"
    }
   ],
   "source": [
    "df_labels = create_regression_csv(df) \n",
    "df_labels.head()"
   ]
  },
  {
   "cell_type": "code",
   "execution_count": 10,
   "id": "d789d3b8-864d-49d5-9ca8-7414a9a22838",
   "metadata": {},
   "outputs": [
    {
     "name": "stdout",
     "output_type": "stream",
     "text": [
      "                                                 title  \\\n",
      "652                 I’m curious what % you guys think?   \n",
      "653                                                BF?   \n",
      "654                                          Body fat?   \n",
      "655            Current BF est. and advice 5'11\" 182lbs   \n",
      "656  5'6 17 (post workout) also what BF do i need t...   \n",
      "657                                   5'10\" and 155lbs   \n",
      "658                   M23 Would appreciate an estimate   \n",
      "659  Would like 10-12%. How far off am I? 28M, 5’8(...   \n",
      "\n",
      "                                        url  meanPrediction  medianPrediction  \\\n",
      "652    https://i.redd.it/ifbpxrrxbbvc1.jpeg           13.60              14.0   \n",
      "653  https://www.reddit.com/gallery/1bx1emg           12.86              14.0   \n",
      "654  https://www.reddit.com/gallery/1b5taa7           35.86              35.0   \n",
      "655  https://www.reddit.com/gallery/1b3xbb7           17.00              18.0   \n",
      "656  https://www.reddit.com/gallery/1b2ruth           13.67              14.0   \n",
      "657     https://i.redd.it/clhma4y8z7kc1.png           14.73              14.0   \n",
      "658  https://www.reddit.com/gallery/1agdxjy           12.40              12.0   \n",
      "659  https://www.reddit.com/gallery/1990tc0           14.50              14.5   \n",
      "\n",
      "                                    bfPredictions  \\\n",
      "652      [12, 14, 15, 14, 10, 16, 17, 10, 13, 15]   \n",
      "653                  [10, 10, 14, 14, 14, 14, 14]   \n",
      "654                  [33, 35, 35, 40, 41, 35, 32]   \n",
      "655                              [18, 14, 18, 18]   \n",
      "656                                  [13, 14, 14]   \n",
      "657  [13, 14, 15, 13, 14, 15, 10, 11, 12, 22, 23]   \n",
      "658                          [13, 12, 12, 13, 12]   \n",
      "659                                      [18, 11]   \n",
      "\n",
      "                                               image_1  \\\n",
      "652               https://i.redd.it/ifbpxrrxbbvc1.jpeg   \n",
      "653  https://preview.redd.it/l8y21c7q1ssc1.jpg?widt...   \n",
      "654  https://preview.redd.it/sr7aqrbzx6mc1.jpg?widt...   \n",
      "655  https://preview.redd.it/current-bf-est-and-adv...   \n",
      "656  https://preview.redd.it/56-17-post-workout-als...   \n",
      "657                https://i.redd.it/clhma4y8z7kc1.png   \n",
      "658  https://preview.redd.it/m23-would-appreciate-a...   \n",
      "659  https://preview.redd.it/would-like-10-12-how-f...   \n",
      "\n",
      "                                               image_2  \\\n",
      "652                                                NaN   \n",
      "653  https://preview.redd.it/8amhjb7q1ssc1.jpg?widt...   \n",
      "654  https://preview.redd.it/76m81vbzx6mc1.jpg?widt...   \n",
      "655  https://preview.redd.it/current-bf-est-and-adv...   \n",
      "656  https://preview.redd.it/56-17-post-workout-als...   \n",
      "657                                                NaN   \n",
      "658  https://preview.redd.it/m23-would-appreciate-a...   \n",
      "659  https://preview.redd.it/would-like-10-12-how-f...   \n",
      "\n",
      "                                               image_3  \\\n",
      "652                                                NaN   \n",
      "653  https://preview.redd.it/n5n66c7q1ssc1.jpg?widt...   \n",
      "654  https://preview.redd.it/ugr1gubzx6mc1.jpg?widt...   \n",
      "655  https://preview.redd.it/current-bf-est-and-adv...   \n",
      "656  https://preview.redd.it/56-17-post-workout-als...   \n",
      "657                                                NaN   \n",
      "658  https://preview.redd.it/m23-would-appreciate-a...   \n",
      "659                                                NaN   \n",
      "\n",
      "                                               image_4  image_5  \n",
      "652                                                NaN      NaN  \n",
      "653  https://preview.redd.it/ovf41c7q1ssc1.jpg?widt...      NaN  \n",
      "654                                                NaN      NaN  \n",
      "655                                                NaN      NaN  \n",
      "656                                                NaN      NaN  \n",
      "657                                                NaN      NaN  \n",
      "658                                                NaN      NaN  \n",
      "659                                                NaN      NaN  \n",
      "Empty DataFrame\n",
      "Columns: [filename, target]\n",
      "Index: []\n"
     ]
    }
   ],
   "source": [
    "print(df.loc[657-5:657+2])\n",
    "print(df_labels[df_labels['filename'] == \"657_image_1.jpg\"])\n"
   ]
  },
  {
   "cell_type": "code",
   "execution_count": 11,
   "id": "8b9f8e09-22b7-472a-bba3-0d7c297279d5",
   "metadata": {},
   "outputs": [
    {
     "data": {
      "text/plain": [
       "0"
      ]
     },
     "execution_count": 11,
     "metadata": {},
     "output_type": "execute_result"
    }
   ],
   "source": [
    "from fastai.vision.all import *\n",
    "\n",
    "failed = verify_images(get_image_files(Path('raw_images')))\n",
    "failed.map(Path.unlink)\n",
    "len(failed)"
   ]
  },
  {
   "cell_type": "code",
   "execution_count": 12,
   "id": "692e51ec-acd7-4f06-a372-d5792010bd22",
   "metadata": {},
   "outputs": [],
   "source": [
    "!python3.10 -m pip install -Uqq mediapipe"
   ]
  },
  {
   "cell_type": "code",
   "execution_count": 13,
   "id": "624a246d-2ff0-437e-bf1e-dcd3dd12c333",
   "metadata": {},
   "outputs": [
    {
     "name": "stdout",
     "output_type": "stream",
     "text": [
      "Labels df shape: (1584, 2)\n",
      "Bodyfat df shape: (798, 10)\n"
     ]
    },
    {
     "name": "stderr",
     "output_type": "stream",
     "text": [
      "WARNING: All log messages before absl::InitializeLog() is called are written to STDERR\n",
      "I0000 00:00:1749718588.263541 4724077 gl_context.cc:369] GL version: 2.1 (2.1 Metal - 89.4), renderer: Apple M4\n"
     ]
    }
   ],
   "source": [
    "import mediapipe as mp\n",
    "from PIL import Image\n",
    "import cv2\n",
    "\n",
    "\n",
    "# Paths to your datasets and images\n",
    "data_dir = Path('./data')\n",
    "image_labels_csv = data_dir / 'image_labels.csv'\n",
    "bodyfat_csv = data_dir / 'bodyfat_dataset.csv'\n",
    "images_dir = Path('raw_images')  # Adjust this path if your images are elsewhere\n",
    "\n",
    "# Load CSVs\n",
    "df_labels = pd.read_csv(image_labels_csv)\n",
    "df_bodyfat = pd.read_csv(bodyfat_csv)\n",
    "\n",
    "print(f\"Labels df shape: {df_labels.shape}\")\n",
    "print(f\"Bodyfat df shape: {df_bodyfat.shape}\")\n",
    "\n",
    "# Setup mediapipe pose detector\n",
    "mp_pose = mp.solutions.pose\n",
    "pose = mp_pose.Pose(static_image_mode=True, min_detection_confidence=0.5)\n"
   ]
  },
  {
   "cell_type": "code",
   "execution_count": 21,
   "id": "45f7875d-2c2d-4321-885e-56d986b4f0ae",
   "metadata": {},
   "outputs": [],
   "source": [
    "def crop_upper_body(image_path):\n",
    "    img = cv2.imread(str(image_path))\n",
    "    if img is None:\n",
    "        print(f\"Failed to read image {image_path}\")\n",
    "        return None\n",
    "\n",
    "    img_rgb = cv2.cvtColor(img, cv2.COLOR_BGR2RGB)\n",
    "    results = pose.process(img_rgb)\n",
    "\n",
    "    if not results.pose_landmarks:\n",
    "        return None\n",
    "\n",
    "    try:\n",
    "        landmarks = results.pose_landmarks.landmark\n",
    "\n",
    "        left_shoulder = landmarks[mp_pose.PoseLandmark.LEFT_SHOULDER]\n",
    "        right_shoulder = landmarks[mp_pose.PoseLandmark.RIGHT_SHOULDER]\n",
    "        left_hip = landmarks[mp_pose.PoseLandmark.LEFT_HIP]\n",
    "        right_hip = landmarks[mp_pose.PoseLandmark.RIGHT_HIP]\n",
    "\n",
    "        h, w, _ = img.shape\n",
    "        xs = [left_shoulder.x * w, right_shoulder.x * w, left_hip.x * w, right_hip.x * w]\n",
    "        ys = [left_shoulder.y * h, right_shoulder.y * h, left_hip.y * h, right_hip.y * h]\n",
    "\n",
    "        xmin, xmax = int(min(xs)), int(max(xs))\n",
    "        ymin, ymax = int(min(ys)), int(max(ys))\n",
    "\n",
    "        # Add padding around landmarks\n",
    "        pad_x = 20\n",
    "        pad_y = 20\n",
    "        xmin = max(xmin - pad_x, 0)\n",
    "        xmax = min(xmax + pad_x, w)\n",
    "        ymin = max(ymin - pad_y, 0)\n",
    "        ymax = min(ymax + pad_y, h)\n",
    "\n",
    "        # Final adjustment: widen the crop a little more (e.g., 10% of width)\n",
    "        box_width = xmax - xmin\n",
    "        expand = int(box_width * 0.3)  # Expand 10% on each side\n",
    "        xmin = max(xmin - expand, 0)\n",
    "        xmax = min(xmax + expand, w)\n",
    "\n",
    "        cropped = img[ymin:ymax, xmin:xmax]\n",
    "        cropped_rgb = cv2.cvtColor(cropped, cv2.COLOR_BGR2RGB)\n",
    "        return Image.fromarray(cropped_rgb)\n",
    "\n",
    "    except Exception as e:\n",
    "        print(f\"Error cropping {image_path}: {e}\")\n",
    "        return None\n"
   ]
  },
  {
   "cell_type": "code",
   "execution_count": 22,
   "id": "27a0472e-8077-4099-8e10-dc69f176a844",
   "metadata": {},
   "outputs": [
    {
     "name": "stderr",
     "output_type": "stream",
     "text": [
      "[ WARN:0@802.516] global loadsave.cpp:268 findDecoder imread_('raw_images/8_image_1.jpg'): can't open/read file: check file path/integrity\n",
      "  1%|█▎                                                                                               | 21/1584 [00:03<03:27,  7.55it/s]"
     ]
    },
    {
     "name": "stdout",
     "output_type": "stream",
     "text": [
      "Failed to read image raw_images/8_image_1.jpg\n",
      "[Errno 2] No such file or directory: '/Users/kalanjarvis-loewen/Desktop/Coding/learning/ml/LeanAI/core/raw_images/8_image_1.jpg'\n"
     ]
    },
    {
     "name": "stderr",
     "output_type": "stream",
     "text": [
      "[ WARN:0@822.502] global loadsave.cpp:268 findDecoder imread_('raw_images/178_image_2.jpg'): can't open/read file: check file path/integrity\n",
      "[ WARN:0@822.502] global loadsave.cpp:268 findDecoder imread_('raw_images/178_image_3.jpg'): can't open/read file: check file path/integrity\n",
      " 23%|█████████████████████▉                                                                          | 361/1584 [00:23<00:58, 20.86it/s]"
     ]
    },
    {
     "name": "stdout",
     "output_type": "stream",
     "text": [
      "Failed to read image raw_images/178_image_2.jpg\n",
      "[Errno 2] No such file or directory: '/Users/kalanjarvis-loewen/Desktop/Coding/learning/ml/LeanAI/core/raw_images/178_image_2.jpg'\n",
      "Failed to read image raw_images/178_image_3.jpg\n",
      "[Errno 2] No such file or directory: '/Users/kalanjarvis-loewen/Desktop/Coding/learning/ml/LeanAI/core/raw_images/178_image_3.jpg'\n"
     ]
    },
    {
     "name": "stderr",
     "output_type": "stream",
     "text": [
      "[ WARN:0@822.784] global loadsave.cpp:268 findDecoder imread_('raw_images/182_image_2.jpg'): can't open/read file: check file path/integrity\n",
      "[ WARN:0@822.784] global loadsave.cpp:268 findDecoder imread_('raw_images/182_image_3.jpg'): can't open/read file: check file path/integrity\n",
      "[ WARN:0@822.807] global loadsave.cpp:268 findDecoder imread_('raw_images/184_image_1.jpg'): can't open/read file: check file path/integrity\n",
      "[ WARN:0@822.807] global loadsave.cpp:268 findDecoder imread_('raw_images/185_image_1.png'): can't open/read file: check file path/integrity\n",
      "[ WARN:0@822.808] global loadsave.cpp:268 findDecoder imread_('raw_images/185_image_2.png'): can't open/read file: check file path/integrity\n",
      "[ WARN:0@822.808] global loadsave.cpp:268 findDecoder imread_('raw_images/185_image_3.png'): can't open/read file: check file path/integrity\n",
      "[ WARN:0@822.884] global loadsave.cpp:268 findDecoder imread_('raw_images/186_image_2.jpg'): can't open/read file: check file path/integrity\n"
     ]
    },
    {
     "name": "stdout",
     "output_type": "stream",
     "text": [
      "Failed to read image raw_images/182_image_2.jpg\n",
      "[Errno 2] No such file or directory: '/Users/kalanjarvis-loewen/Desktop/Coding/learning/ml/LeanAI/core/raw_images/182_image_2.jpg'\n",
      "Failed to read image raw_images/182_image_3.jpg\n",
      "[Errno 2] No such file or directory: '/Users/kalanjarvis-loewen/Desktop/Coding/learning/ml/LeanAI/core/raw_images/182_image_3.jpg'\n",
      "Failed to read image raw_images/184_image_1.jpg\n",
      "[Errno 2] No such file or directory: '/Users/kalanjarvis-loewen/Desktop/Coding/learning/ml/LeanAI/core/raw_images/184_image_1.jpg'\n",
      "Failed to read image raw_images/185_image_1.png\n",
      "[Errno 2] No such file or directory: '/Users/kalanjarvis-loewen/Desktop/Coding/learning/ml/LeanAI/core/raw_images/185_image_1.png'\n",
      "Failed to read image raw_images/185_image_2.png\n",
      "[Errno 2] No such file or directory: '/Users/kalanjarvis-loewen/Desktop/Coding/learning/ml/LeanAI/core/raw_images/185_image_2.png'\n",
      "Failed to read image raw_images/185_image_3.png\n",
      "[Errno 2] No such file or directory: '/Users/kalanjarvis-loewen/Desktop/Coding/learning/ml/LeanAI/core/raw_images/185_image_3.png'\n",
      "Failed to read image raw_images/186_image_2.jpg\n",
      "[Errno 2] No such file or directory: '/Users/kalanjarvis-loewen/Desktop/Coding/learning/ml/LeanAI/core/raw_images/186_image_2.jpg'\n"
     ]
    },
    {
     "name": "stderr",
     "output_type": "stream",
     "text": [
      "[ WARN:0@823.501] global loadsave.cpp:268 findDecoder imread_('raw_images/193_image_2.jpg'): can't open/read file: check file path/integrity\n",
      " 24%|███████████████████████▏                                                                        | 383/1584 [00:24<00:53, 22.51it/s]"
     ]
    },
    {
     "name": "stdout",
     "output_type": "stream",
     "text": [
      "Failed to read image raw_images/193_image_2.jpg\n",
      "[Errno 2] No such file or directory: '/Users/kalanjarvis-loewen/Desktop/Coding/learning/ml/LeanAI/core/raw_images/193_image_2.jpg'\n"
     ]
    },
    {
     "name": "stderr",
     "output_type": "stream",
     "text": [
      "[ WARN:0@823.855] global loadsave.cpp:268 findDecoder imread_('raw_images/196_image_4.jpg'): can't open/read file: check file path/integrity\n",
      "[ WARN:0@823.988] global loadsave.cpp:268 findDecoder imread_('raw_images/197_image_3.jpg'): can't open/read file: check file path/integrity\n",
      "[ WARN:0@823.989] global loadsave.cpp:268 findDecoder imread_('raw_images/198_image_1.jpg'): can't open/read file: check file path/integrity\n",
      "[ WARN:0@823.989] global loadsave.cpp:268 findDecoder imread_('raw_images/198_image_2.jpg'): can't open/read file: check file path/integrity\n",
      "[ WARN:0@823.989] global loadsave.cpp:268 findDecoder imread_('raw_images/198_image_3.png'): can't open/read file: check file path/integrity\n",
      "[ WARN:0@823.989] global loadsave.cpp:268 findDecoder imread_('raw_images/198_image_4.jpg'): can't open/read file: check file path/integrity\n",
      "[ WARN:0@823.989] global loadsave.cpp:268 findDecoder imread_('raw_images/199_image_1.png'): can't open/read file: check file path/integrity\n",
      "[ WARN:0@823.989] global loadsave.cpp:268 findDecoder imread_('raw_images/199_image_2.png'): can't open/read file: check file path/integrity\n",
      " 25%|████████████████████████▏                                                                       | 399/1584 [00:24<00:31, 37.09it/s]"
     ]
    },
    {
     "name": "stdout",
     "output_type": "stream",
     "text": [
      "Failed to read image raw_images/196_image_4.jpg\n",
      "[Errno 2] No such file or directory: '/Users/kalanjarvis-loewen/Desktop/Coding/learning/ml/LeanAI/core/raw_images/196_image_4.jpg'\n",
      "Failed to read image raw_images/197_image_3.jpg\n",
      "[Errno 2] No such file or directory: '/Users/kalanjarvis-loewen/Desktop/Coding/learning/ml/LeanAI/core/raw_images/197_image_3.jpg'\n",
      "Failed to read image raw_images/198_image_1.jpg\n",
      "[Errno 2] No such file or directory: '/Users/kalanjarvis-loewen/Desktop/Coding/learning/ml/LeanAI/core/raw_images/198_image_1.jpg'\n",
      "Failed to read image raw_images/198_image_2.jpg\n",
      "[Errno 2] No such file or directory: '/Users/kalanjarvis-loewen/Desktop/Coding/learning/ml/LeanAI/core/raw_images/198_image_2.jpg'\n",
      "Failed to read image raw_images/198_image_3.png\n",
      "[Errno 2] No such file or directory: '/Users/kalanjarvis-loewen/Desktop/Coding/learning/ml/LeanAI/core/raw_images/198_image_3.png'\n",
      "Failed to read image raw_images/198_image_4.jpg\n",
      "[Errno 2] No such file or directory: '/Users/kalanjarvis-loewen/Desktop/Coding/learning/ml/LeanAI/core/raw_images/198_image_4.jpg'\n",
      "Failed to read image raw_images/199_image_1.png\n",
      "[Errno 2] No such file or directory: '/Users/kalanjarvis-loewen/Desktop/Coding/learning/ml/LeanAI/core/raw_images/199_image_1.png'\n",
      "Failed to read image raw_images/199_image_2.png\n",
      "[Errno 2] No such file or directory: '/Users/kalanjarvis-loewen/Desktop/Coding/learning/ml/LeanAI/core/raw_images/199_image_2.png'\n"
     ]
    },
    {
     "name": "stderr",
     "output_type": "stream",
     "text": [
      "[ WARN:0@824.085] global loadsave.cpp:268 findDecoder imread_('raw_images/200_image_3.jpg'): can't open/read file: check file path/integrity\n",
      "[ WARN:0@824.085] global loadsave.cpp:268 findDecoder imread_('raw_images/200_image_4.jpg'): can't open/read file: check file path/integrity\n",
      " 26%|████████████████████████▍                                                                       | 404/1584 [00:24<00:30, 38.68it/s]"
     ]
    },
    {
     "name": "stdout",
     "output_type": "stream",
     "text": [
      "Failed to read image raw_images/200_image_3.jpg\n",
      "[Errno 2] No such file or directory: '/Users/kalanjarvis-loewen/Desktop/Coding/learning/ml/LeanAI/core/raw_images/200_image_3.jpg'\n",
      "Failed to read image raw_images/200_image_4.jpg\n",
      "[Errno 2] No such file or directory: '/Users/kalanjarvis-loewen/Desktop/Coding/learning/ml/LeanAI/core/raw_images/200_image_4.jpg'\n"
     ]
    },
    {
     "name": "stderr",
     "output_type": "stream",
     "text": [
      "[ WARN:0@824.416] global loadsave.cpp:268 findDecoder imread_('raw_images/204_image_1.jpg'): can't open/read file: check file path/integrity\n",
      "[ WARN:0@824.417] global loadsave.cpp:268 findDecoder imread_('raw_images/204_image_2.jpg'): can't open/read file: check file path/integrity\n",
      "[ WARN:0@824.417] global loadsave.cpp:268 findDecoder imread_('raw_images/204_image_3.jpg'): can't open/read file: check file path/integrity\n",
      "[ WARN:0@824.417] global loadsave.cpp:268 findDecoder imread_('raw_images/204_image_4.jpg'): can't open/read file: check file path/integrity\n",
      "[ WARN:0@824.417] global loadsave.cpp:268 findDecoder imread_('raw_images/205_image_1.jpeg'): can't open/read file: check file path/integrity\n",
      "[ WARN:0@824.417] global loadsave.cpp:268 findDecoder imread_('raw_images/206_image_1.jpg'): can't open/read file: check file path/integrity\n",
      "[ WARN:0@824.418] global loadsave.cpp:268 findDecoder imread_('raw_images/206_image_2.jpg'): can't open/read file: check file path/integrity\n",
      "[ WARN:0@824.418] global loadsave.cpp:268 findDecoder imread_('raw_images/206_image_3.jpg'): can't open/read file: check file path/integrity\n",
      "[ WARN:0@824.418] global loadsave.cpp:268 findDecoder imread_('raw_images/206_image_4.jpg'): can't open/read file: check file path/integrity\n",
      "[ WARN:0@824.473] global loadsave.cpp:268 findDecoder imread_('raw_images/208_image_1.jpeg'): can't open/read file: check file path/integrity\n",
      "[ WARN:0@824.473] global loadsave.cpp:268 findDecoder imread_('raw_images/209_image_1.png'): can't open/read file: check file path/integrity\n",
      "[ WARN:0@824.473] global loadsave.cpp:268 findDecoder imread_('raw_images/209_image_2.png'): can't open/read file: check file path/integrity\n",
      "[ WARN:0@824.473] global loadsave.cpp:268 findDecoder imread_('raw_images/209_image_3.png'): can't open/read file: check file path/integrity\n",
      "[ WARN:0@824.474] global loadsave.cpp:268 findDecoder imread_('raw_images/209_image_4.png'): can't open/read file: check file path/integrity\n",
      "[ WARN:0@824.474] global loadsave.cpp:268 findDecoder imread_('raw_images/210_image_1.jpg'): can't open/read file: check file path/integrity\n",
      "[ WARN:0@824.474] global loadsave.cpp:268 findDecoder imread_('raw_images/210_image_2.jpg'): can't open/read file: check file path/integrity\n",
      "[ WARN:0@824.474] global loadsave.cpp:268 findDecoder imread_('raw_images/211_image_1.png'): can't open/read file: check file path/integrity\n",
      "[ WARN:0@824.474] global loadsave.cpp:268 findDecoder imread_('raw_images/212_image_1.jpeg'): can't open/read file: check file path/integrity\n",
      "[ WARN:0@824.474] global loadsave.cpp:268 findDecoder imread_('raw_images/213_image_1.png'): can't open/read file: check file path/integrity\n",
      "[ WARN:0@824.474] global loadsave.cpp:268 findDecoder imread_('raw_images/213_image_2.png'): can't open/read file: check file path/integrity\n",
      " 27%|██████████████████████████▏                                                                     | 432/1584 [00:25<00:17, 67.06it/s]"
     ]
    },
    {
     "name": "stdout",
     "output_type": "stream",
     "text": [
      "Failed to read image raw_images/204_image_1.jpg\n",
      "[Errno 2] No such file or directory: '/Users/kalanjarvis-loewen/Desktop/Coding/learning/ml/LeanAI/core/raw_images/204_image_1.jpg'\n",
      "Failed to read image raw_images/204_image_2.jpg\n",
      "[Errno 2] No such file or directory: '/Users/kalanjarvis-loewen/Desktop/Coding/learning/ml/LeanAI/core/raw_images/204_image_2.jpg'\n",
      "Failed to read image raw_images/204_image_3.jpg\n",
      "[Errno 2] No such file or directory: '/Users/kalanjarvis-loewen/Desktop/Coding/learning/ml/LeanAI/core/raw_images/204_image_3.jpg'\n",
      "Failed to read image raw_images/204_image_4.jpg\n",
      "[Errno 2] No such file or directory: '/Users/kalanjarvis-loewen/Desktop/Coding/learning/ml/LeanAI/core/raw_images/204_image_4.jpg'\n",
      "Failed to read image raw_images/205_image_1.jpeg\n",
      "[Errno 2] No such file or directory: '/Users/kalanjarvis-loewen/Desktop/Coding/learning/ml/LeanAI/core/raw_images/205_image_1.jpeg'\n",
      "Failed to read image raw_images/206_image_1.jpg\n",
      "[Errno 2] No such file or directory: '/Users/kalanjarvis-loewen/Desktop/Coding/learning/ml/LeanAI/core/raw_images/206_image_1.jpg'\n",
      "Failed to read image raw_images/206_image_2.jpg\n",
      "[Errno 2] No such file or directory: '/Users/kalanjarvis-loewen/Desktop/Coding/learning/ml/LeanAI/core/raw_images/206_image_2.jpg'\n",
      "Failed to read image raw_images/206_image_3.jpg\n",
      "[Errno 2] No such file or directory: '/Users/kalanjarvis-loewen/Desktop/Coding/learning/ml/LeanAI/core/raw_images/206_image_3.jpg'\n",
      "Failed to read image raw_images/206_image_4.jpg\n",
      "[Errno 2] No such file or directory: '/Users/kalanjarvis-loewen/Desktop/Coding/learning/ml/LeanAI/core/raw_images/206_image_4.jpg'\n",
      "Failed to read image raw_images/208_image_1.jpeg\n",
      "[Errno 2] No such file or directory: '/Users/kalanjarvis-loewen/Desktop/Coding/learning/ml/LeanAI/core/raw_images/208_image_1.jpeg'\n",
      "Failed to read image raw_images/209_image_1.png\n",
      "[Errno 2] No such file or directory: '/Users/kalanjarvis-loewen/Desktop/Coding/learning/ml/LeanAI/core/raw_images/209_image_1.png'\n",
      "Failed to read image raw_images/209_image_2.png\n",
      "[Errno 2] No such file or directory: '/Users/kalanjarvis-loewen/Desktop/Coding/learning/ml/LeanAI/core/raw_images/209_image_2.png'\n",
      "Failed to read image raw_images/209_image_3.png\n",
      "[Errno 2] No such file or directory: '/Users/kalanjarvis-loewen/Desktop/Coding/learning/ml/LeanAI/core/raw_images/209_image_3.png'\n",
      "Failed to read image raw_images/209_image_4.png\n",
      "[Errno 2] No such file or directory: '/Users/kalanjarvis-loewen/Desktop/Coding/learning/ml/LeanAI/core/raw_images/209_image_4.png'\n",
      "Failed to read image raw_images/210_image_1.jpg\n",
      "[Errno 2] No such file or directory: '/Users/kalanjarvis-loewen/Desktop/Coding/learning/ml/LeanAI/core/raw_images/210_image_1.jpg'\n",
      "Failed to read image raw_images/210_image_2.jpg\n",
      "[Errno 2] No such file or directory: '/Users/kalanjarvis-loewen/Desktop/Coding/learning/ml/LeanAI/core/raw_images/210_image_2.jpg'\n",
      "Failed to read image raw_images/211_image_1.png\n",
      "[Errno 2] No such file or directory: '/Users/kalanjarvis-loewen/Desktop/Coding/learning/ml/LeanAI/core/raw_images/211_image_1.png'\n",
      "Failed to read image raw_images/212_image_1.jpeg\n",
      "[Errno 2] No such file or directory: '/Users/kalanjarvis-loewen/Desktop/Coding/learning/ml/LeanAI/core/raw_images/212_image_1.jpeg'\n",
      "Failed to read image raw_images/213_image_1.png\n",
      "[Errno 2] No such file or directory: '/Users/kalanjarvis-loewen/Desktop/Coding/learning/ml/LeanAI/core/raw_images/213_image_1.png'\n",
      "Failed to read image raw_images/213_image_2.png\n",
      "[Errno 2] No such file or directory: '/Users/kalanjarvis-loewen/Desktop/Coding/learning/ml/LeanAI/core/raw_images/213_image_2.png'\n",
      "Failed to read image raw_images/214_image_4.jpg\n",
      "[Errno 2] No such file or directory: '/Users/kalanjarvis-loewen/Desktop/Coding/learning/ml/LeanAI/core/raw_images/214_image_4.jpg'\n"
     ]
    },
    {
     "name": "stderr",
     "output_type": "stream",
     "text": [
      "[ WARN:0@824.621] global loadsave.cpp:268 findDecoder imread_('raw_images/214_image_4.jpg'): can't open/read file: check file path/integrity\n",
      "[ WARN:0@824.847] global loadsave.cpp:268 findDecoder imread_('raw_images/216_image_3.jpg'): can't open/read file: check file path/integrity\n",
      "[ WARN:0@824.899] global loadsave.cpp:268 findDecoder imread_('raw_images/217_image_2.jpg'): can't open/read file: check file path/integrity\n",
      "[ WARN:0@824.899] global loadsave.cpp:268 findDecoder imread_('raw_images/217_image_3.png'): can't open/read file: check file path/integrity\n",
      "[ WARN:0@824.899] global loadsave.cpp:268 findDecoder imread_('raw_images/217_image_4.jpg'): can't open/read file: check file path/integrity\n",
      " 28%|███████████████████████████                                                                     | 446/1584 [00:25<00:23, 48.76it/s]"
     ]
    },
    {
     "name": "stdout",
     "output_type": "stream",
     "text": [
      "Failed to read image raw_images/216_image_3.jpg\n",
      "[Errno 2] No such file or directory: '/Users/kalanjarvis-loewen/Desktop/Coding/learning/ml/LeanAI/core/raw_images/216_image_3.jpg'\n",
      "Failed to read image raw_images/217_image_2.jpg\n",
      "[Errno 2] No such file or directory: '/Users/kalanjarvis-loewen/Desktop/Coding/learning/ml/LeanAI/core/raw_images/217_image_2.jpg'\n",
      "Failed to read image raw_images/217_image_3.png\n",
      "[Errno 2] No such file or directory: '/Users/kalanjarvis-loewen/Desktop/Coding/learning/ml/LeanAI/core/raw_images/217_image_3.png'\n",
      "Failed to read image raw_images/217_image_4.jpg\n",
      "[Errno 2] No such file or directory: '/Users/kalanjarvis-loewen/Desktop/Coding/learning/ml/LeanAI/core/raw_images/217_image_4.jpg'\n"
     ]
    },
    {
     "name": "stderr",
     "output_type": "stream",
     "text": [
      "[ WARN:0@825.081] global loadsave.cpp:268 findDecoder imread_('raw_images/220_image_2.jpg'): can't open/read file: check file path/integrity\n",
      "[ WARN:0@825.081] global loadsave.cpp:268 findDecoder imread_('raw_images/220_image_3.jpg'): can't open/read file: check file path/integrity\n",
      "[ WARN:0@825.081] global loadsave.cpp:268 findDecoder imread_('raw_images/220_image_4.jpg'): can't open/read file: check file path/integrity\n",
      " 29%|███████████████████████████▍                                                                    | 452/1584 [00:25<00:26, 42.64it/s]"
     ]
    },
    {
     "name": "stdout",
     "output_type": "stream",
     "text": [
      "Failed to read image raw_images/220_image_2.jpg\n",
      "[Errno 2] No such file or directory: '/Users/kalanjarvis-loewen/Desktop/Coding/learning/ml/LeanAI/core/raw_images/220_image_2.jpg'\n",
      "Failed to read image raw_images/220_image_3.jpg\n",
      "[Errno 2] No such file or directory: '/Users/kalanjarvis-loewen/Desktop/Coding/learning/ml/LeanAI/core/raw_images/220_image_3.jpg'\n",
      "Failed to read image raw_images/220_image_4.jpg\n",
      "[Errno 2] No such file or directory: '/Users/kalanjarvis-loewen/Desktop/Coding/learning/ml/LeanAI/core/raw_images/220_image_4.jpg'\n"
     ]
    },
    {
     "name": "stderr",
     "output_type": "stream",
     "text": [
      "[ WARN:0@825.446] global loadsave.cpp:268 findDecoder imread_('raw_images/225_image_2.jpg'): can't open/read file: check file path/integrity\n",
      "[ WARN:0@825.447] global loadsave.cpp:268 findDecoder imread_('raw_images/225_image_3.jpg'): can't open/read file: check file path/integrity\n",
      " 29%|████████████████████████████                                                                    | 462/1584 [00:26<00:32, 34.62it/s]"
     ]
    },
    {
     "name": "stdout",
     "output_type": "stream",
     "text": [
      "Failed to read image raw_images/225_image_2.jpg\n",
      "[Errno 2] No such file or directory: '/Users/kalanjarvis-loewen/Desktop/Coding/learning/ml/LeanAI/core/raw_images/225_image_2.jpg'\n",
      "Failed to read image raw_images/225_image_3.jpg\n",
      "[Errno 2] No such file or directory: '/Users/kalanjarvis-loewen/Desktop/Coding/learning/ml/LeanAI/core/raw_images/225_image_3.jpg'\n"
     ]
    },
    {
     "name": "stderr",
     "output_type": "stream",
     "text": [
      "[ WARN:0@825.726] global loadsave.cpp:268 findDecoder imread_('raw_images/228_image_4.jpg'): can't open/read file: check file path/integrity\n",
      " 30%|████████████████████████████▍                                                                   | 470/1584 [00:26<00:36, 30.34it/s]"
     ]
    },
    {
     "name": "stdout",
     "output_type": "stream",
     "text": [
      "Failed to read image raw_images/228_image_4.jpg\n",
      "[Errno 2] No such file or directory: '/Users/kalanjarvis-loewen/Desktop/Coding/learning/ml/LeanAI/core/raw_images/228_image_4.jpg'\n"
     ]
    },
    {
     "name": "stderr",
     "output_type": "stream",
     "text": [
      "[ WARN:0@825.955] global loadsave.cpp:268 findDecoder imread_('raw_images/230_image_3.jpg'): can't open/read file: check file path/integrity\n",
      " 30%|████████████████████████████▋                                                                   | 474/1584 [00:26<00:37, 29.98it/s]"
     ]
    },
    {
     "name": "stdout",
     "output_type": "stream",
     "text": [
      "Failed to read image raw_images/230_image_3.jpg\n",
      "[Errno 2] No such file or directory: '/Users/kalanjarvis-loewen/Desktop/Coding/learning/ml/LeanAI/core/raw_images/230_image_3.jpg'\n",
      "Failed to read image raw_images/231_image_2.jpg\n",
      "[Errno 2] No such file or directory: '/Users/kalanjarvis-loewen/Desktop/Coding/learning/ml/LeanAI/core/raw_images/231_image_2.jpg'\n"
     ]
    },
    {
     "name": "stderr",
     "output_type": "stream",
     "text": [
      "[ WARN:0@826.000] global loadsave.cpp:268 findDecoder imread_('raw_images/231_image_2.jpg'): can't open/read file: check file path/integrity\n",
      "[ WARN:0@826.574] global loadsave.cpp:268 findDecoder imread_('raw_images/238_image_1.jpg'): can't open/read file: check file path/integrity\n",
      "[ WARN:0@826.575] global loadsave.cpp:268 findDecoder imread_('raw_images/238_image_2.jpg'): can't open/read file: check file path/integrity\n",
      "[ WARN:0@826.575] global loadsave.cpp:268 findDecoder imread_('raw_images/238_image_3.jpg'): can't open/read file: check file path/integrity\n",
      "[ WARN:0@826.575] global loadsave.cpp:268 findDecoder imread_('raw_images/238_image_4.jpg'): can't open/read file: check file path/integrity\n",
      " 31%|█████████████████████████████▌                                                                  | 488/1584 [00:27<00:41, 26.22it/s]"
     ]
    },
    {
     "name": "stdout",
     "output_type": "stream",
     "text": [
      "Failed to read image raw_images/238_image_1.jpg\n",
      "[Errno 2] No such file or directory: '/Users/kalanjarvis-loewen/Desktop/Coding/learning/ml/LeanAI/core/raw_images/238_image_1.jpg'\n",
      "Failed to read image raw_images/238_image_2.jpg\n",
      "[Errno 2] No such file or directory: '/Users/kalanjarvis-loewen/Desktop/Coding/learning/ml/LeanAI/core/raw_images/238_image_2.jpg'\n",
      "Failed to read image raw_images/238_image_3.jpg\n",
      "[Errno 2] No such file or directory: '/Users/kalanjarvis-loewen/Desktop/Coding/learning/ml/LeanAI/core/raw_images/238_image_3.jpg'\n",
      "Failed to read image raw_images/238_image_4.jpg\n",
      "[Errno 2] No such file or directory: '/Users/kalanjarvis-loewen/Desktop/Coding/learning/ml/LeanAI/core/raw_images/238_image_4.jpg'\n"
     ]
    },
    {
     "name": "stderr",
     "output_type": "stream",
     "text": [
      "[ WARN:0@827.309] global loadsave.cpp:268 findDecoder imread_('raw_images/244_image_4.jpg'): can't open/read file: check file path/integrity\n",
      "[ WARN:0@827.309] global loadsave.cpp:268 findDecoder imread_('raw_images/245_image_1.jpg'): can't open/read file: check file path/integrity\n",
      "[ WARN:0@827.310] global loadsave.cpp:268 findDecoder imread_('raw_images/245_image_2.jpg'): can't open/read file: check file path/integrity\n",
      "[ WARN:0@827.310] global loadsave.cpp:268 findDecoder imread_('raw_images/245_image_3.jpg'): can't open/read file: check file path/integrity\n"
     ]
    },
    {
     "name": "stdout",
     "output_type": "stream",
     "text": [
      "Failed to read image raw_images/244_image_4.jpg\n",
      "[Errno 2] No such file or directory: '/Users/kalanjarvis-loewen/Desktop/Coding/learning/ml/LeanAI/core/raw_images/244_image_4.jpg'\n",
      "Failed to read image raw_images/245_image_1.jpg\n",
      "[Errno 2] No such file or directory: '/Users/kalanjarvis-loewen/Desktop/Coding/learning/ml/LeanAI/core/raw_images/245_image_1.jpg'\n",
      "Failed to read image raw_images/245_image_2.jpg\n",
      "[Errno 2] No such file or directory: '/Users/kalanjarvis-loewen/Desktop/Coding/learning/ml/LeanAI/core/raw_images/245_image_2.jpg'\n",
      "Failed to read image raw_images/245_image_3.jpg\n",
      "[Errno 2] No such file or directory: '/Users/kalanjarvis-loewen/Desktop/Coding/learning/ml/LeanAI/core/raw_images/245_image_3.jpg'\n"
     ]
    },
    {
     "name": "stderr",
     "output_type": "stream",
     "text": [
      "[ WARN:0@827.578] global loadsave.cpp:268 findDecoder imread_('raw_images/247_image_1.jpeg'): can't open/read file: check file path/integrity\n",
      "[ WARN:0@827.730] global loadsave.cpp:268 findDecoder imread_('raw_images/248_image_4.jpg'): can't open/read file: check file path/integrity\n"
     ]
    },
    {
     "name": "stdout",
     "output_type": "stream",
     "text": [
      "Failed to read image raw_images/247_image_1.jpeg\n",
      "[Errno 2] No such file or directory: '/Users/kalanjarvis-loewen/Desktop/Coding/learning/ml/LeanAI/core/raw_images/247_image_1.jpeg'\n",
      "Failed to read image raw_images/248_image_4.jpg\n",
      "[Errno 2] No such file or directory: '/Users/kalanjarvis-loewen/Desktop/Coding/learning/ml/LeanAI/core/raw_images/248_image_4.jpg'\n"
     ]
    },
    {
     "name": "stderr",
     "output_type": "stream",
     "text": [
      "[ WARN:0@828.001] global loadsave.cpp:268 findDecoder imread_('raw_images/250_image_4.jpg'): can't open/read file: check file path/integrity\n",
      "[ WARN:0@828.067] global loadsave.cpp:268 findDecoder imread_('raw_images/251_image_2.jpg'): can't open/read file: check file path/integrity\n",
      "[ WARN:0@828.067] global loadsave.cpp:268 findDecoder imread_('raw_images/251_image_3.jpg'): can't open/read file: check file path/integrity\n",
      " 33%|███████████████████████████████▋                                                                | 522/1584 [00:28<00:36, 28.78it/s]"
     ]
    },
    {
     "name": "stdout",
     "output_type": "stream",
     "text": [
      "Failed to read image raw_images/250_image_4.jpg\n",
      "[Errno 2] No such file or directory: '/Users/kalanjarvis-loewen/Desktop/Coding/learning/ml/LeanAI/core/raw_images/250_image_4.jpg'\n",
      "Failed to read image raw_images/251_image_2.jpg\n",
      "[Errno 2] No such file or directory: '/Users/kalanjarvis-loewen/Desktop/Coding/learning/ml/LeanAI/core/raw_images/251_image_2.jpg'\n",
      "Failed to read image raw_images/251_image_3.jpg\n",
      "[Errno 2] No such file or directory: '/Users/kalanjarvis-loewen/Desktop/Coding/learning/ml/LeanAI/core/raw_images/251_image_3.jpg'\n"
     ]
    },
    {
     "name": "stderr",
     "output_type": "stream",
     "text": [
      "[ WARN:0@828.325] global loadsave.cpp:268 findDecoder imread_('raw_images/253_image_2.jpg'): can't open/read file: check file path/integrity\n",
      "[ WARN:0@828.326] global loadsave.cpp:268 findDecoder imread_('raw_images/253_image_3.jpg'): can't open/read file: check file path/integrity\n",
      "[ WARN:0@828.326] global loadsave.cpp:268 findDecoder imread_('raw_images/253_image_4.jpg'): can't open/read file: check file path/integrity\n",
      "[ WARN:0@828.465] global loadsave.cpp:268 findDecoder imread_('raw_images/256_image_1.jpg'): can't open/read file: check file path/integrity\n",
      " 33%|████████████████████████████████                                                                | 529/1584 [00:29<00:44, 23.89it/s]"
     ]
    },
    {
     "name": "stdout",
     "output_type": "stream",
     "text": [
      "Failed to read image raw_images/253_image_2.jpg\n",
      "[Errno 2] No such file or directory: '/Users/kalanjarvis-loewen/Desktop/Coding/learning/ml/LeanAI/core/raw_images/253_image_2.jpg'\n",
      "Failed to read image raw_images/253_image_3.jpg\n",
      "[Errno 2] No such file or directory: '/Users/kalanjarvis-loewen/Desktop/Coding/learning/ml/LeanAI/core/raw_images/253_image_3.jpg'\n",
      "Failed to read image raw_images/253_image_4.jpg\n",
      "[Errno 2] No such file or directory: '/Users/kalanjarvis-loewen/Desktop/Coding/learning/ml/LeanAI/core/raw_images/253_image_4.jpg'\n",
      "Failed to read image raw_images/256_image_1.jpg\n",
      "[Errno 2] No such file or directory: '/Users/kalanjarvis-loewen/Desktop/Coding/learning/ml/LeanAI/core/raw_images/256_image_1.jpg'\n",
      "Failed to read image raw_images/257_image_1.png\n",
      "[Errno 2] No such file or directory: '/Users/kalanjarvis-loewen/Desktop/Coding/learning/ml/LeanAI/core/raw_images/257_image_1.png'\n"
     ]
    },
    {
     "name": "stderr",
     "output_type": "stream",
     "text": [
      "[ WARN:0@828.467] global loadsave.cpp:268 findDecoder imread_('raw_images/257_image_1.png'): can't open/read file: check file path/integrity\n",
      "[ WARN:0@828.594] global loadsave.cpp:268 findDecoder imread_('raw_images/258_image_2.jpg'): can't open/read file: check file path/integrity\n",
      "[ WARN:0@828.595] global loadsave.cpp:268 findDecoder imread_('raw_images/258_image_3.jpg'): can't open/read file: check file path/integrity\n",
      "[ WARN:0@828.595] global loadsave.cpp:268 findDecoder imread_('raw_images/258_image_4.jpg'): can't open/read file: check file path/integrity\n",
      " 34%|████████████████████████████████▍                                                               | 536/1584 [00:29<00:40, 25.93it/s]"
     ]
    },
    {
     "name": "stdout",
     "output_type": "stream",
     "text": [
      "Failed to read image raw_images/258_image_2.jpg\n",
      "[Errno 2] No such file or directory: '/Users/kalanjarvis-loewen/Desktop/Coding/learning/ml/LeanAI/core/raw_images/258_image_2.jpg'\n",
      "Failed to read image raw_images/258_image_3.jpg\n",
      "[Errno 2] No such file or directory: '/Users/kalanjarvis-loewen/Desktop/Coding/learning/ml/LeanAI/core/raw_images/258_image_3.jpg'\n",
      "Failed to read image raw_images/258_image_4.jpg\n",
      "[Errno 2] No such file or directory: '/Users/kalanjarvis-loewen/Desktop/Coding/learning/ml/LeanAI/core/raw_images/258_image_4.jpg'\n"
     ]
    },
    {
     "name": "stderr",
     "output_type": "stream",
     "text": [
      "[ WARN:0@828.989] global loadsave.cpp:268 findDecoder imread_('raw_images/262_image_2.jpg'): can't open/read file: check file path/integrity\n",
      "[ WARN:0@828.991] global loadsave.cpp:268 findDecoder imread_('raw_images/262_image_3.jpg'): can't open/read file: check file path/integrity\n",
      "[ WARN:0@828.991] global loadsave.cpp:268 findDecoder imread_('raw_images/262_image_4.jpg'): can't open/read file: check file path/integrity\n",
      " 34%|█████████████████████████████████                                                               | 546/1584 [00:29<00:38, 27.30it/s]"
     ]
    },
    {
     "name": "stdout",
     "output_type": "stream",
     "text": [
      "Failed to read image raw_images/262_image_2.jpg\n",
      "[Errno 2] No such file or directory: '/Users/kalanjarvis-loewen/Desktop/Coding/learning/ml/LeanAI/core/raw_images/262_image_2.jpg'\n",
      "Failed to read image raw_images/262_image_3.jpg\n",
      "[Errno 2] No such file or directory: '/Users/kalanjarvis-loewen/Desktop/Coding/learning/ml/LeanAI/core/raw_images/262_image_3.jpg'\n",
      "Failed to read image raw_images/262_image_4.jpg\n",
      "[Errno 2] No such file or directory: '/Users/kalanjarvis-loewen/Desktop/Coding/learning/ml/LeanAI/core/raw_images/262_image_4.jpg'\n"
     ]
    },
    {
     "name": "stderr",
     "output_type": "stream",
     "text": [
      "[ WARN:0@829.319] global loadsave.cpp:268 findDecoder imread_('raw_images/266_image_2.jpg'): can't open/read file: check file path/integrity\n",
      " 35%|█████████████████████████████████▍                                                              | 552/1584 [00:30<00:52, 19.56it/s]"
     ]
    },
    {
     "name": "stdout",
     "output_type": "stream",
     "text": [
      "Failed to read image raw_images/266_image_2.jpg\n",
      "[Errno 2] No such file or directory: '/Users/kalanjarvis-loewen/Desktop/Coding/learning/ml/LeanAI/core/raw_images/266_image_2.jpg'\n"
     ]
    },
    {
     "name": "stderr",
     "output_type": "stream",
     "text": [
      "[ WARN:0@829.770] global loadsave.cpp:268 findDecoder imread_('raw_images/271_image_2.jpg'): can't open/read file: check file path/integrity\n",
      "[ WARN:0@829.770] global loadsave.cpp:268 findDecoder imread_('raw_images/271_image_3.jpg'): can't open/read file: check file path/integrity\n",
      "[ WARN:0@829.770] global loadsave.cpp:268 findDecoder imread_('raw_images/271_image_4.jpg'): can't open/read file: check file path/integrity\n",
      "[ WARN:0@829.930] global loadsave.cpp:268 findDecoder imread_('raw_images/273_image_3.jpg'): can't open/read file: check file path/integrity\n"
     ]
    },
    {
     "name": "stdout",
     "output_type": "stream",
     "text": [
      "Failed to read image raw_images/271_image_2.jpg\n",
      "[Errno 2] No such file or directory: '/Users/kalanjarvis-loewen/Desktop/Coding/learning/ml/LeanAI/core/raw_images/271_image_2.jpg'\n",
      "Failed to read image raw_images/271_image_3.jpg\n",
      "[Errno 2] No such file or directory: '/Users/kalanjarvis-loewen/Desktop/Coding/learning/ml/LeanAI/core/raw_images/271_image_3.jpg'\n",
      "Failed to read image raw_images/271_image_4.jpg\n",
      "[Errno 2] No such file or directory: '/Users/kalanjarvis-loewen/Desktop/Coding/learning/ml/LeanAI/core/raw_images/271_image_4.jpg'\n",
      "Failed to read image raw_images/273_image_3.jpg\n",
      "[Errno 2] No such file or directory: '/Users/kalanjarvis-loewen/Desktop/Coding/learning/ml/LeanAI/core/raw_images/273_image_3.jpg'\n"
     ]
    },
    {
     "name": "stderr",
     "output_type": "stream",
     "text": [
      "[ WARN:0@830.007] global loadsave.cpp:268 findDecoder imread_('raw_images/274_image_2.jpg'): can't open/read file: check file path/integrity\n",
      " 36%|██████████████████████████████████▌                                                             | 570/1584 [00:30<00:36, 27.84it/s]"
     ]
    },
    {
     "name": "stdout",
     "output_type": "stream",
     "text": [
      "Failed to read image raw_images/274_image_2.jpg\n",
      "[Errno 2] No such file or directory: '/Users/kalanjarvis-loewen/Desktop/Coding/learning/ml/LeanAI/core/raw_images/274_image_2.jpg'\n"
     ]
    },
    {
     "name": "stderr",
     "output_type": "stream",
     "text": [
      "[ WARN:0@830.313] global loadsave.cpp:268 findDecoder imread_('raw_images/277_image_4.jpg'): can't open/read file: check file path/integrity\n",
      "[ WARN:0@830.313] global loadsave.cpp:268 findDecoder imread_('raw_images/278_image_1.jpg'): can't open/read file: check file path/integrity\n",
      "[ WARN:0@830.313] global loadsave.cpp:268 findDecoder imread_('raw_images/278_image_2.jpg'): can't open/read file: check file path/integrity\n",
      "[ WARN:0@830.313] global loadsave.cpp:268 findDecoder imread_('raw_images/278_image_3.jpg'): can't open/read file: check file path/integrity\n",
      "[ WARN:0@830.313] global loadsave.cpp:268 findDecoder imread_('raw_images/279_image_1.png'): can't open/read file: check file path/integrity\n",
      "[ WARN:0@830.359] global loadsave.cpp:268 findDecoder imread_('raw_images/281_image_1.jpg'): can't open/read file: check file path/integrity\n",
      "[ WARN:0@830.363] global loadsave.cpp:268 findDecoder imread_('raw_images/281_image_2.jpg'): can't open/read file: check file path/integrity\n",
      " 37%|███████████████████████████████████▎                                                            | 583/1584 [00:31<00:29, 34.46it/s]"
     ]
    },
    {
     "name": "stdout",
     "output_type": "stream",
     "text": [
      "Failed to read image raw_images/277_image_4.jpg\n",
      "[Errno 2] No such file or directory: '/Users/kalanjarvis-loewen/Desktop/Coding/learning/ml/LeanAI/core/raw_images/277_image_4.jpg'\n",
      "Failed to read image raw_images/278_image_1.jpg\n",
      "[Errno 2] No such file or directory: '/Users/kalanjarvis-loewen/Desktop/Coding/learning/ml/LeanAI/core/raw_images/278_image_1.jpg'\n",
      "Failed to read image raw_images/278_image_2.jpg\n",
      "[Errno 2] No such file or directory: '/Users/kalanjarvis-loewen/Desktop/Coding/learning/ml/LeanAI/core/raw_images/278_image_2.jpg'\n",
      "Failed to read image raw_images/278_image_3.jpg\n",
      "[Errno 2] No such file or directory: '/Users/kalanjarvis-loewen/Desktop/Coding/learning/ml/LeanAI/core/raw_images/278_image_3.jpg'\n",
      "Failed to read image raw_images/279_image_1.png\n",
      "[Errno 2] No such file or directory: '/Users/kalanjarvis-loewen/Desktop/Coding/learning/ml/LeanAI/core/raw_images/279_image_1.png'\n",
      "Failed to read image raw_images/281_image_1.jpg\n",
      "[Errno 2] No such file or directory: '/Users/kalanjarvis-loewen/Desktop/Coding/learning/ml/LeanAI/core/raw_images/281_image_1.jpg'\n",
      "Failed to read image raw_images/281_image_2.jpg\n",
      "[Errno 2] No such file or directory: '/Users/kalanjarvis-loewen/Desktop/Coding/learning/ml/LeanAI/core/raw_images/281_image_2.jpg'\n"
     ]
    },
    {
     "name": "stderr",
     "output_type": "stream",
     "text": [
      "[ WARN:0@830.600] global loadsave.cpp:268 findDecoder imread_('raw_images/284_image_1.jpeg'): can't open/read file: check file path/integrity\n",
      "[ WARN:0@830.601] global loadsave.cpp:268 findDecoder imread_('raw_images/285_image_1.jpg'): can't open/read file: check file path/integrity\n",
      "[ WARN:0@830.601] global loadsave.cpp:268 findDecoder imread_('raw_images/285_image_2.jpg'): can't open/read file: check file path/integrity\n",
      "[ WARN:0@830.602] global loadsave.cpp:268 findDecoder imread_('raw_images/285_image_3.jpg'): can't open/read file: check file path/integrity\n",
      "[ WARN:0@830.602] global loadsave.cpp:268 findDecoder imread_('raw_images/285_image_4.jpg'): can't open/read file: check file path/integrity\n",
      "[ WARN:0@830.602] global loadsave.cpp:268 findDecoder imread_('raw_images/286_image_1.jpeg'): can't open/read file: check file path/integrity\n",
      " 37%|███████████████████████████████████▉                                                            | 593/1584 [00:31<00:26, 37.38it/s]"
     ]
    },
    {
     "name": "stdout",
     "output_type": "stream",
     "text": [
      "Failed to read image raw_images/284_image_1.jpeg\n",
      "[Errno 2] No such file or directory: '/Users/kalanjarvis-loewen/Desktop/Coding/learning/ml/LeanAI/core/raw_images/284_image_1.jpeg'\n",
      "Failed to read image raw_images/285_image_1.jpg\n",
      "[Errno 2] No such file or directory: '/Users/kalanjarvis-loewen/Desktop/Coding/learning/ml/LeanAI/core/raw_images/285_image_1.jpg'\n",
      "Failed to read image raw_images/285_image_2.jpg\n",
      "[Errno 2] No such file or directory: '/Users/kalanjarvis-loewen/Desktop/Coding/learning/ml/LeanAI/core/raw_images/285_image_2.jpg'\n",
      "Failed to read image raw_images/285_image_3.jpg\n",
      "[Errno 2] No such file or directory: '/Users/kalanjarvis-loewen/Desktop/Coding/learning/ml/LeanAI/core/raw_images/285_image_3.jpg'\n",
      "Failed to read image raw_images/285_image_4.jpg\n",
      "[Errno 2] No such file or directory: '/Users/kalanjarvis-loewen/Desktop/Coding/learning/ml/LeanAI/core/raw_images/285_image_4.jpg'\n",
      "Failed to read image raw_images/286_image_1.jpeg\n",
      "[Errno 2] No such file or directory: '/Users/kalanjarvis-loewen/Desktop/Coding/learning/ml/LeanAI/core/raw_images/286_image_1.jpeg'\n",
      "Failed to read image raw_images/288_image_1.jpg\n",
      "[Errno 2] No such file or directory: '/Users/kalanjarvis-loewen/Desktop/Coding/learning/ml/LeanAI/core/raw_images/288_image_1.jpg'\n",
      "Failed to read image raw_images/288_image_2.jpg\n",
      "[Errno 2] No such file or directory: '/Users/kalanjarvis-loewen/Desktop/Coding/learning/ml/LeanAI/core/raw_images/288_image_2.jpg'\n",
      "Failed to read image raw_images/288_image_3.jpg\n",
      "[Errno 2] No such file or directory: '/Users/kalanjarvis-loewen/Desktop/Coding/learning/ml/LeanAI/core/raw_images/288_image_3.jpg'\n",
      "Failed to read image raw_images/288_image_4.jpg\n",
      "[Errno 2] No such file or directory: '/Users/kalanjarvis-loewen/Desktop/Coding/learning/ml/LeanAI/core/raw_images/288_image_4.jpg'\n"
     ]
    },
    {
     "name": "stderr",
     "output_type": "stream",
     "text": [
      "[ WARN:0@830.734] global loadsave.cpp:268 findDecoder imread_('raw_images/288_image_1.jpg'): can't open/read file: check file path/integrity\n",
      "[ WARN:0@830.734] global loadsave.cpp:268 findDecoder imread_('raw_images/288_image_2.jpg'): can't open/read file: check file path/integrity\n",
      "[ WARN:0@830.735] global loadsave.cpp:268 findDecoder imread_('raw_images/288_image_3.jpg'): can't open/read file: check file path/integrity\n",
      "[ WARN:0@830.735] global loadsave.cpp:268 findDecoder imread_('raw_images/288_image_4.jpg'): can't open/read file: check file path/integrity\n",
      "[ WARN:0@830.814] global loadsave.cpp:268 findDecoder imread_('raw_images/291_image_1.jpeg'): can't open/read file: check file path/integrity\n",
      " 38%|████████████████████████████████████▍                                                           | 601/1584 [00:31<00:22, 44.47it/s]"
     ]
    },
    {
     "name": "stdout",
     "output_type": "stream",
     "text": [
      "Failed to read image raw_images/291_image_1.jpeg\n",
      "[Errno 2] No such file or directory: '/Users/kalanjarvis-loewen/Desktop/Coding/learning/ml/LeanAI/core/raw_images/291_image_1.jpeg'\n"
     ]
    },
    {
     "name": "stderr",
     "output_type": "stream",
     "text": [
      "[ WARN:0@831.172] global loadsave.cpp:268 findDecoder imread_('raw_images/294_image_3.jpg'): can't open/read file: check file path/integrity\n",
      "[ WARN:0@831.173] global loadsave.cpp:268 findDecoder imread_('raw_images/294_image_4.jpg'): can't open/read file: check file path/integrity\n",
      "[ WARN:0@831.173] global loadsave.cpp:268 findDecoder imread_('raw_images/295_image_1.jpg'): can't open/read file: check file path/integrity\n",
      "[ WARN:0@831.173] global loadsave.cpp:268 findDecoder imread_('raw_images/295_image_2.jpg'): can't open/read file: check file path/integrity\n",
      "[ WARN:0@831.173] global loadsave.cpp:268 findDecoder imread_('raw_images/296_image_1.png'): can't open/read file: check file path/integrity\n",
      "[ WARN:0@831.173] global loadsave.cpp:268 findDecoder imread_('raw_images/296_image_2.png'): can't open/read file: check file path/integrity\n",
      "[ WARN:0@831.174] global loadsave.cpp:268 findDecoder imread_('raw_images/296_image_3.png'): can't open/read file: check file path/integrity\n",
      "[ WARN:0@831.174] global loadsave.cpp:268 findDecoder imread_('raw_images/297_image_1.jpg'): can't open/read file: check file path/integrity\n",
      "[ WARN:0@831.174] global loadsave.cpp:268 findDecoder imread_('raw_images/297_image_2.jpg'): can't open/read file: check file path/integrity\n",
      "[ WARN:0@831.174] global loadsave.cpp:268 findDecoder imread_('raw_images/297_image_3.jpg'): can't open/read file: check file path/integrity\n",
      "[ WARN:0@831.174] global loadsave.cpp:268 findDecoder imread_('raw_images/297_image_4.jpg'): can't open/read file: check file path/integrity\n",
      " 39%|█████████████████████████████████████▌                                                          | 620/1584 [00:32<00:18, 52.83it/s]"
     ]
    },
    {
     "name": "stdout",
     "output_type": "stream",
     "text": [
      "Failed to read image raw_images/294_image_3.jpg\n",
      "[Errno 2] No such file or directory: '/Users/kalanjarvis-loewen/Desktop/Coding/learning/ml/LeanAI/core/raw_images/294_image_3.jpg'\n",
      "Failed to read image raw_images/294_image_4.jpg\n",
      "[Errno 2] No such file or directory: '/Users/kalanjarvis-loewen/Desktop/Coding/learning/ml/LeanAI/core/raw_images/294_image_4.jpg'\n",
      "Failed to read image raw_images/295_image_1.jpg\n",
      "[Errno 2] No such file or directory: '/Users/kalanjarvis-loewen/Desktop/Coding/learning/ml/LeanAI/core/raw_images/295_image_1.jpg'\n",
      "Failed to read image raw_images/295_image_2.jpg\n",
      "[Errno 2] No such file or directory: '/Users/kalanjarvis-loewen/Desktop/Coding/learning/ml/LeanAI/core/raw_images/295_image_2.jpg'\n",
      "Failed to read image raw_images/296_image_1.png\n",
      "[Errno 2] No such file or directory: '/Users/kalanjarvis-loewen/Desktop/Coding/learning/ml/LeanAI/core/raw_images/296_image_1.png'\n",
      "Failed to read image raw_images/296_image_2.png\n",
      "[Errno 2] No such file or directory: '/Users/kalanjarvis-loewen/Desktop/Coding/learning/ml/LeanAI/core/raw_images/296_image_2.png'\n",
      "Failed to read image raw_images/296_image_3.png\n",
      "[Errno 2] No such file or directory: '/Users/kalanjarvis-loewen/Desktop/Coding/learning/ml/LeanAI/core/raw_images/296_image_3.png'\n",
      "Failed to read image raw_images/297_image_1.jpg\n",
      "[Errno 2] No such file or directory: '/Users/kalanjarvis-loewen/Desktop/Coding/learning/ml/LeanAI/core/raw_images/297_image_1.jpg'\n",
      "Failed to read image raw_images/297_image_2.jpg\n",
      "[Errno 2] No such file or directory: '/Users/kalanjarvis-loewen/Desktop/Coding/learning/ml/LeanAI/core/raw_images/297_image_2.jpg'\n",
      "Failed to read image raw_images/297_image_3.jpg\n",
      "[Errno 2] No such file or directory: '/Users/kalanjarvis-loewen/Desktop/Coding/learning/ml/LeanAI/core/raw_images/297_image_3.jpg'\n",
      "Failed to read image raw_images/297_image_4.jpg\n",
      "[Errno 2] No such file or directory: '/Users/kalanjarvis-loewen/Desktop/Coding/learning/ml/LeanAI/core/raw_images/297_image_4.jpg'\n"
     ]
    },
    {
     "name": "stderr",
     "output_type": "stream",
     "text": [
      "[ WARN:0@831.447] global loadsave.cpp:268 findDecoder imread_('raw_images/301_image_1.jpeg'): can't open/read file: check file path/integrity\n",
      "[ WARN:0@831.558] global loadsave.cpp:268 findDecoder imread_('raw_images/302_image_3.jpg'): can't open/read file: check file path/integrity\n",
      " 40%|█████████████████████████████████████▉                                                          | 626/1584 [00:32<00:26, 36.09it/s]"
     ]
    },
    {
     "name": "stdout",
     "output_type": "stream",
     "text": [
      "Failed to read image raw_images/301_image_1.jpeg\n",
      "[Errno 2] No such file or directory: '/Users/kalanjarvis-loewen/Desktop/Coding/learning/ml/LeanAI/core/raw_images/301_image_1.jpeg'\n",
      "Failed to read image raw_images/302_image_3.jpg\n",
      "[Errno 2] No such file or directory: '/Users/kalanjarvis-loewen/Desktop/Coding/learning/ml/LeanAI/core/raw_images/302_image_3.jpg'\n",
      "Failed to read image raw_images/302_image_4.jpg\n",
      "[Errno 2] No such file or directory: '/Users/kalanjarvis-loewen/Desktop/Coding/learning/ml/LeanAI/core/raw_images/302_image_4.jpg'\n",
      "Failed to read image raw_images/303_image_1.jpg\n",
      "[Errno 2] No such file or directory: '/Users/kalanjarvis-loewen/Desktop/Coding/learning/ml/LeanAI/core/raw_images/303_image_1.jpg'\n",
      "Failed to read image raw_images/303_image_2.jpg\n",
      "[Errno 2] No such file or directory: '/Users/kalanjarvis-loewen/Desktop/Coding/learning/ml/LeanAI/core/raw_images/303_image_2.jpg'\n",
      "Failed to read image raw_images/304_image_1.jpeg\n",
      "[Errno 2] No such file or directory: '/Users/kalanjarvis-loewen/Desktop/Coding/learning/ml/LeanAI/core/raw_images/304_image_1.jpeg'\n",
      "Failed to read image raw_images/305_image_1.jpg\n",
      "[Errno 2] No such file or directory: '/Users/kalanjarvis-loewen/Desktop/Coding/learning/ml/LeanAI/core/raw_images/305_image_1.jpg'\n",
      "Failed to read image raw_images/305_image_2.jpg\n",
      "[Errno 2] No such file or directory: '/Users/kalanjarvis-loewen/Desktop/Coding/learning/ml/LeanAI/core/raw_images/305_image_2.jpg'\n",
      "Failed to read image raw_images/305_image_3.jpg\n",
      "[Errno 2] No such file or directory: '/Users/kalanjarvis-loewen/Desktop/Coding/learning/ml/LeanAI/core/raw_images/305_image_3.jpg'\n",
      "Failed to read image raw_images/306_image_1.jpeg\n",
      "[Errno 2] No such file or directory: '/Users/kalanjarvis-loewen/Desktop/Coding/learning/ml/LeanAI/core/raw_images/306_image_1.jpeg'\n",
      "Failed to read image raw_images/307_image_1.jpg\n",
      "[Errno 2] No such file or directory: '/Users/kalanjarvis-loewen/Desktop/Coding/learning/ml/LeanAI/core/raw_images/307_image_1.jpg'\n",
      "Failed to read image raw_images/307_image_2.jpg\n",
      "[Errno 2] No such file or directory: '/Users/kalanjarvis-loewen/Desktop/Coding/learning/ml/LeanAI/core/raw_images/307_image_2.jpg'\n",
      "Failed to read image raw_images/307_image_3.jpg\n",
      "[Errno 2] No such file or directory: '/Users/kalanjarvis-loewen/Desktop/Coding/learning/ml/LeanAI/core/raw_images/307_image_3.jpg'\n",
      "Failed to read image raw_images/307_image_4.jpg\n",
      "[Errno 2] No such file or directory: '/Users/kalanjarvis-loewen/Desktop/Coding/learning/ml/LeanAI/core/raw_images/307_image_4.jpg'\n",
      "Failed to read image raw_images/308_image_1.png\n",
      "[Errno 2] No such file or directory: '/Users/kalanjarvis-loewen/Desktop/Coding/learning/ml/LeanAI/core/raw_images/308_image_1.png'\n"
     ]
    },
    {
     "name": "stderr",
     "output_type": "stream",
     "text": [
      "[ WARN:0@831.559] global loadsave.cpp:268 findDecoder imread_('raw_images/302_image_4.jpg'): can't open/read file: check file path/integrity\n",
      "[ WARN:0@831.559] global loadsave.cpp:268 findDecoder imread_('raw_images/303_image_1.jpg'): can't open/read file: check file path/integrity\n",
      "[ WARN:0@831.559] global loadsave.cpp:268 findDecoder imread_('raw_images/303_image_2.jpg'): can't open/read file: check file path/integrity\n",
      "[ WARN:0@831.559] global loadsave.cpp:268 findDecoder imread_('raw_images/304_image_1.jpeg'): can't open/read file: check file path/integrity\n",
      "[ WARN:0@831.559] global loadsave.cpp:268 findDecoder imread_('raw_images/305_image_1.jpg'): can't open/read file: check file path/integrity\n",
      "[ WARN:0@831.559] global loadsave.cpp:268 findDecoder imread_('raw_images/305_image_2.jpg'): can't open/read file: check file path/integrity\n",
      "[ WARN:0@831.560] global loadsave.cpp:268 findDecoder imread_('raw_images/305_image_3.jpg'): can't open/read file: check file path/integrity\n",
      "[ WARN:0@831.560] global loadsave.cpp:268 findDecoder imread_('raw_images/306_image_1.jpeg'): can't open/read file: check file path/integrity\n",
      "[ WARN:0@831.560] global loadsave.cpp:268 findDecoder imread_('raw_images/307_image_1.jpg'): can't open/read file: check file path/integrity\n",
      "[ WARN:0@831.560] global loadsave.cpp:268 findDecoder imread_('raw_images/307_image_2.jpg'): can't open/read file: check file path/integrity\n",
      "[ WARN:0@831.560] global loadsave.cpp:268 findDecoder imread_('raw_images/307_image_3.jpg'): can't open/read file: check file path/integrity\n",
      "[ WARN:0@831.560] global loadsave.cpp:268 findDecoder imread_('raw_images/307_image_4.jpg'): can't open/read file: check file path/integrity\n",
      "[ WARN:0@831.560] global loadsave.cpp:268 findDecoder imread_('raw_images/308_image_1.png'): can't open/read file: check file path/integrity\n",
      "[ WARN:0@831.650] global loadsave.cpp:268 findDecoder imread_('raw_images/310_image_1.jpg'): can't open/read file: check file path/integrity\n",
      "[ WARN:0@831.650] global loadsave.cpp:268 findDecoder imread_('raw_images/310_image_2.jpg'): can't open/read file: check file path/integrity\n",
      "[ WARN:0@831.650] global loadsave.cpp:268 findDecoder imread_('raw_images/310_image_3.jpg'): can't open/read file: check file path/integrity\n",
      "[ WARN:0@831.650] global loadsave.cpp:268 findDecoder imread_('raw_images/310_image_4.jpg'): can't open/read file: check file path/integrity\n",
      " 41%|███████████████████████████████████████▏                                                        | 646/1584 [00:32<00:15, 61.40it/s]"
     ]
    },
    {
     "name": "stdout",
     "output_type": "stream",
     "text": [
      "Failed to read image raw_images/310_image_1.jpg\n",
      "[Errno 2] No such file or directory: '/Users/kalanjarvis-loewen/Desktop/Coding/learning/ml/LeanAI/core/raw_images/310_image_1.jpg'\n",
      "Failed to read image raw_images/310_image_2.jpg\n",
      "[Errno 2] No such file or directory: '/Users/kalanjarvis-loewen/Desktop/Coding/learning/ml/LeanAI/core/raw_images/310_image_2.jpg'\n",
      "Failed to read image raw_images/310_image_3.jpg\n",
      "[Errno 2] No such file or directory: '/Users/kalanjarvis-loewen/Desktop/Coding/learning/ml/LeanAI/core/raw_images/310_image_3.jpg'\n",
      "Failed to read image raw_images/310_image_4.jpg\n",
      "[Errno 2] No such file or directory: '/Users/kalanjarvis-loewen/Desktop/Coding/learning/ml/LeanAI/core/raw_images/310_image_4.jpg'\n"
     ]
    },
    {
     "name": "stderr",
     "output_type": "stream",
     "text": [
      "[ WARN:0@831.904] global loadsave.cpp:268 findDecoder imread_('raw_images/313_image_2.jpg'): can't open/read file: check file path/integrity\n",
      " 41%|███████████████████████████████████████▋                                                        | 654/1584 [00:32<00:22, 40.76it/s]"
     ]
    },
    {
     "name": "stdout",
     "output_type": "stream",
     "text": [
      "Failed to read image raw_images/313_image_2.jpg\n",
      "[Errno 2] No such file or directory: '/Users/kalanjarvis-loewen/Desktop/Coding/learning/ml/LeanAI/core/raw_images/313_image_2.jpg'\n",
      "Failed to read image raw_images/317_image_1.jpg\n",
      "[Errno 2] No such file or directory: '/Users/kalanjarvis-loewen/Desktop/Coding/learning/ml/LeanAI/core/raw_images/317_image_1.jpg'\n",
      "Failed to read image raw_images/318_image_1.png\n",
      "[Errno 2] No such file or directory: '/Users/kalanjarvis-loewen/Desktop/Coding/learning/ml/LeanAI/core/raw_images/318_image_1.png'\n"
     ]
    },
    {
     "name": "stderr",
     "output_type": "stream",
     "text": [
      "[ WARN:0@832.096] global loadsave.cpp:268 findDecoder imread_('raw_images/317_image_1.jpg'): can't open/read file: check file path/integrity\n",
      "[ WARN:0@832.097] global loadsave.cpp:268 findDecoder imread_('raw_images/318_image_1.png'): can't open/read file: check file path/integrity\n",
      "[ WARN:0@832.180] global loadsave.cpp:268 findDecoder imread_('raw_images/319_image_2.jpg'): can't open/read file: check file path/integrity\n",
      "[ WARN:0@832.181] global loadsave.cpp:268 findDecoder imread_('raw_images/320_image_1.jpg'): can't open/read file: check file path/integrity\n",
      "[ WARN:0@832.181] global loadsave.cpp:268 findDecoder imread_('raw_images/321_image_1.png'): can't open/read file: check file path/integrity\n",
      "[ WARN:0@832.224] global loadsave.cpp:268 findDecoder imread_('raw_images/322_image_2.jpg'): can't open/read file: check file path/integrity\n",
      "[ WARN:0@832.224] global loadsave.cpp:268 findDecoder imread_('raw_images/322_image_3.jpg'): can't open/read file: check file path/integrity\n"
     ]
    },
    {
     "name": "stdout",
     "output_type": "stream",
     "text": [
      "Failed to read image raw_images/319_image_2.jpg\n",
      "[Errno 2] No such file or directory: '/Users/kalanjarvis-loewen/Desktop/Coding/learning/ml/LeanAI/core/raw_images/319_image_2.jpg'\n",
      "Failed to read image raw_images/320_image_1.jpg\n",
      "[Errno 2] No such file or directory: '/Users/kalanjarvis-loewen/Desktop/Coding/learning/ml/LeanAI/core/raw_images/320_image_1.jpg'\n",
      "Failed to read image raw_images/321_image_1.png\n",
      "[Errno 2] No such file or directory: '/Users/kalanjarvis-loewen/Desktop/Coding/learning/ml/LeanAI/core/raw_images/321_image_1.png'\n",
      "Failed to read image raw_images/322_image_2.jpg\n",
      "[Errno 2] No such file or directory: '/Users/kalanjarvis-loewen/Desktop/Coding/learning/ml/LeanAI/core/raw_images/322_image_2.jpg'\n",
      "Failed to read image raw_images/322_image_3.jpg\n",
      "[Errno 2] No such file or directory: '/Users/kalanjarvis-loewen/Desktop/Coding/learning/ml/LeanAI/core/raw_images/322_image_3.jpg'\n"
     ]
    },
    {
     "name": "stderr",
     "output_type": "stream",
     "text": [
      "[ WARN:0@832.470] global loadsave.cpp:268 findDecoder imread_('raw_images/325_image_3.jpg'): can't open/read file: check file path/integrity\n",
      "[ WARN:0@832.470] global loadsave.cpp:268 findDecoder imread_('raw_images/325_image_4.jpg'): can't open/read file: check file path/integrity\n",
      "[ WARN:0@832.633] global loadsave.cpp:268 findDecoder imread_('raw_images/327_image_2.jpg'): can't open/read file: check file path/integrity\n",
      "[ WARN:0@832.634] global loadsave.cpp:268 findDecoder imread_('raw_images/327_image_3.jpg'): can't open/read file: check file path/integrity\n"
     ]
    },
    {
     "name": "stdout",
     "output_type": "stream",
     "text": [
      "Failed to read image raw_images/325_image_3.jpg\n",
      "[Errno 2] No such file or directory: '/Users/kalanjarvis-loewen/Desktop/Coding/learning/ml/LeanAI/core/raw_images/325_image_3.jpg'\n",
      "Failed to read image raw_images/325_image_4.jpg\n",
      "[Errno 2] No such file or directory: '/Users/kalanjarvis-loewen/Desktop/Coding/learning/ml/LeanAI/core/raw_images/325_image_4.jpg'\n",
      "Failed to read image raw_images/327_image_2.jpg\n",
      "[Errno 2] No such file or directory: '/Users/kalanjarvis-loewen/Desktop/Coding/learning/ml/LeanAI/core/raw_images/327_image_2.jpg'\n",
      "Failed to read image raw_images/327_image_3.jpg\n",
      "[Errno 2] No such file or directory: '/Users/kalanjarvis-loewen/Desktop/Coding/learning/ml/LeanAI/core/raw_images/327_image_3.jpg'\n"
     ]
    },
    {
     "name": "stderr",
     "output_type": "stream",
     "text": [
      "[ WARN:0@833.031] global loadsave.cpp:268 findDecoder imread_('raw_images/331_image_2.jpg'): can't open/read file: check file path/integrity\n",
      "[ WARN:0@833.032] global loadsave.cpp:268 findDecoder imread_('raw_images/331_image_3.jpg'): can't open/read file: check file path/integrity\n",
      "[ WARN:0@833.032] global loadsave.cpp:268 findDecoder imread_('raw_images/331_image_4.jpg'): can't open/read file: check file path/integrity\n",
      "[ WARN:0@833.032] global loadsave.cpp:268 findDecoder imread_('raw_images/332_image_1.jpg'): can't open/read file: check file path/integrity\n",
      "[ WARN:0@833.090] global loadsave.cpp:268 findDecoder imread_('raw_images/334_image_2.jpg'): can't open/read file: check file path/integrity\n",
      "[ WARN:0@833.090] global loadsave.cpp:268 findDecoder imread_('raw_images/334_image_3.jpg'): can't open/read file: check file path/integrity\n",
      "[ WARN:0@833.090] global loadsave.cpp:268 findDecoder imread_('raw_images/334_image_4.jpg'): can't open/read file: check file path/integrity\n",
      " 44%|█████████████████████████████████████████▊                                                      | 690/1584 [00:33<00:23, 38.52it/s]"
     ]
    },
    {
     "name": "stdout",
     "output_type": "stream",
     "text": [
      "Failed to read image raw_images/331_image_2.jpg\n",
      "[Errno 2] No such file or directory: '/Users/kalanjarvis-loewen/Desktop/Coding/learning/ml/LeanAI/core/raw_images/331_image_2.jpg'\n",
      "Failed to read image raw_images/331_image_3.jpg\n",
      "[Errno 2] No such file or directory: '/Users/kalanjarvis-loewen/Desktop/Coding/learning/ml/LeanAI/core/raw_images/331_image_3.jpg'\n",
      "Failed to read image raw_images/331_image_4.jpg\n",
      "[Errno 2] No such file or directory: '/Users/kalanjarvis-loewen/Desktop/Coding/learning/ml/LeanAI/core/raw_images/331_image_4.jpg'\n",
      "Failed to read image raw_images/332_image_1.jpg\n",
      "[Errno 2] No such file or directory: '/Users/kalanjarvis-loewen/Desktop/Coding/learning/ml/LeanAI/core/raw_images/332_image_1.jpg'\n",
      "Failed to read image raw_images/334_image_2.jpg\n",
      "[Errno 2] No such file or directory: '/Users/kalanjarvis-loewen/Desktop/Coding/learning/ml/LeanAI/core/raw_images/334_image_2.jpg'\n",
      "Failed to read image raw_images/334_image_3.jpg\n",
      "[Errno 2] No such file or directory: '/Users/kalanjarvis-loewen/Desktop/Coding/learning/ml/LeanAI/core/raw_images/334_image_3.jpg'\n",
      "Failed to read image raw_images/334_image_4.jpg\n",
      "[Errno 2] No such file or directory: '/Users/kalanjarvis-loewen/Desktop/Coding/learning/ml/LeanAI/core/raw_images/334_image_4.jpg'\n"
     ]
    },
    {
     "name": "stderr",
     "output_type": "stream",
     "text": [
      "[ WARN:0@833.300] global loadsave.cpp:268 findDecoder imread_('raw_images/337_image_4.png'): can't open/read file: check file path/integrity\n",
      "[ WARN:0@833.359] global loadsave.cpp:268 findDecoder imread_('raw_images/338_image_2.jpg'): can't open/read file: check file path/integrity\n",
      "[ WARN:0@833.359] global loadsave.cpp:268 findDecoder imread_('raw_images/338_image_3.jpg'): can't open/read file: check file path/integrity\n",
      " 44%|██████████████████████████████████████████▍                                                     | 700/1584 [00:34<00:24, 36.08it/s]"
     ]
    },
    {
     "name": "stdout",
     "output_type": "stream",
     "text": [
      "Failed to read image raw_images/337_image_4.png\n",
      "[Errno 2] No such file or directory: '/Users/kalanjarvis-loewen/Desktop/Coding/learning/ml/LeanAI/core/raw_images/337_image_4.png'\n",
      "Failed to read image raw_images/338_image_2.jpg\n",
      "[Errno 2] No such file or directory: '/Users/kalanjarvis-loewen/Desktop/Coding/learning/ml/LeanAI/core/raw_images/338_image_2.jpg'\n",
      "Failed to read image raw_images/338_image_3.jpg\n",
      "[Errno 2] No such file or directory: '/Users/kalanjarvis-loewen/Desktop/Coding/learning/ml/LeanAI/core/raw_images/338_image_3.jpg'\n",
      "Failed to read image raw_images/340_image_3.jpg\n",
      "[Errno 2] No such file or directory: '/Users/kalanjarvis-loewen/Desktop/Coding/learning/ml/LeanAI/core/raw_images/340_image_3.jpg'\n",
      "Failed to read image raw_images/340_image_4.jpg\n",
      "[Errno 2] No such file or directory: '/Users/kalanjarvis-loewen/Desktop/Coding/learning/ml/LeanAI/core/raw_images/340_image_4.jpg'\n"
     ]
    },
    {
     "name": "stderr",
     "output_type": "stream",
     "text": [
      "[ WARN:0@833.494] global loadsave.cpp:268 findDecoder imread_('raw_images/340_image_3.jpg'): can't open/read file: check file path/integrity\n",
      "[ WARN:0@833.494] global loadsave.cpp:268 findDecoder imread_('raw_images/340_image_4.jpg'): can't open/read file: check file path/integrity\n",
      "[ WARN:0@833.631] global loadsave.cpp:268 findDecoder imread_('raw_images/342_image_2.jpg'): can't open/read file: check file path/integrity\n",
      "[ WARN:0@833.631] global loadsave.cpp:268 findDecoder imread_('raw_images/342_image_3.jpg'): can't open/read file: check file path/integrity\n",
      "[ WARN:0@833.631] global loadsave.cpp:268 findDecoder imread_('raw_images/342_image_4.jpg'): can't open/read file: check file path/integrity\n",
      " 45%|███████████████████████████████████████████                                                     | 711/1584 [00:34<00:23, 37.87it/s]"
     ]
    },
    {
     "name": "stdout",
     "output_type": "stream",
     "text": [
      "Failed to read image raw_images/342_image_2.jpg\n",
      "[Errno 2] No such file or directory: '/Users/kalanjarvis-loewen/Desktop/Coding/learning/ml/LeanAI/core/raw_images/342_image_2.jpg'\n",
      "Failed to read image raw_images/342_image_3.jpg\n",
      "[Errno 2] No such file or directory: '/Users/kalanjarvis-loewen/Desktop/Coding/learning/ml/LeanAI/core/raw_images/342_image_3.jpg'\n",
      "Failed to read image raw_images/342_image_4.jpg\n",
      "[Errno 2] No such file or directory: '/Users/kalanjarvis-loewen/Desktop/Coding/learning/ml/LeanAI/core/raw_images/342_image_4.jpg'\n"
     ]
    },
    {
     "name": "stderr",
     "output_type": "stream",
     "text": [
      "[ WARN:0@833.862] global loadsave.cpp:268 findDecoder imread_('raw_images/345_image_1.jpg'): can't open/read file: check file path/integrity\n",
      "[ WARN:0@833.864] global loadsave.cpp:268 findDecoder imread_('raw_images/345_image_2.jpg'): can't open/read file: check file path/integrity\n",
      "[ WARN:0@833.864] global loadsave.cpp:268 findDecoder imread_('raw_images/345_image_3.jpg'): can't open/read file: check file path/integrity\n",
      "[ WARN:0@833.864] global loadsave.cpp:268 findDecoder imread_('raw_images/345_image_4.jpg'): can't open/read file: check file path/integrity\n",
      "[ WARN:0@833.864] global loadsave.cpp:268 findDecoder imread_('raw_images/346_image_1.png'): can't open/read file: check file path/integrity\n",
      "[ WARN:0@833.864] global loadsave.cpp:268 findDecoder imread_('raw_images/346_image_2.png'): can't open/read file: check file path/integrity\n",
      "[ WARN:0@833.865] global loadsave.cpp:268 findDecoder imread_('raw_images/346_image_3.png'): can't open/read file: check file path/integrity\n",
      "[ WARN:0@833.865] global loadsave.cpp:268 findDecoder imread_('raw_images/347_image_1.jpg'): can't open/read file: check file path/integrity\n",
      "[ WARN:0@833.865] global loadsave.cpp:268 findDecoder imread_('raw_images/347_image_2.jpg'): can't open/read file: check file path/integrity\n",
      "[ WARN:0@833.865] global loadsave.cpp:268 findDecoder imread_('raw_images/347_image_3.jpg'): can't open/read file: check file path/integrity\n",
      "[ WARN:0@833.924] global loadsave.cpp:268 findDecoder imread_('raw_images/349_image_1.jpeg'): can't open/read file: check file path/integrity\n",
      "[ WARN:0@833.924] global loadsave.cpp:268 findDecoder imread_('raw_images/350_image_1.jpg'): can't open/read file: check file path/integrity\n",
      "[ WARN:0@833.924] global loadsave.cpp:268 findDecoder imread_('raw_images/350_image_2.jpg'): can't open/read file: check file path/integrity\n",
      "[ WARN:0@833.924] global loadsave.cpp:268 findDecoder imread_('raw_images/350_image_3.jpg'): can't open/read file: check file path/integrity\n",
      "[ WARN:0@833.924] global loadsave.cpp:268 findDecoder imread_('raw_images/350_image_4.jpg'): can't open/read file: check file path/integrity\n"
     ]
    },
    {
     "name": "stdout",
     "output_type": "stream",
     "text": [
      "Failed to read image raw_images/345_image_1.jpg\n",
      "[Errno 2] No such file or directory: '/Users/kalanjarvis-loewen/Desktop/Coding/learning/ml/LeanAI/core/raw_images/345_image_1.jpg'\n",
      "Failed to read image raw_images/345_image_2.jpg\n",
      "[Errno 2] No such file or directory: '/Users/kalanjarvis-loewen/Desktop/Coding/learning/ml/LeanAI/core/raw_images/345_image_2.jpg'\n",
      "Failed to read image raw_images/345_image_3.jpg\n",
      "[Errno 2] No such file or directory: '/Users/kalanjarvis-loewen/Desktop/Coding/learning/ml/LeanAI/core/raw_images/345_image_3.jpg'\n",
      "Failed to read image raw_images/345_image_4.jpg\n",
      "[Errno 2] No such file or directory: '/Users/kalanjarvis-loewen/Desktop/Coding/learning/ml/LeanAI/core/raw_images/345_image_4.jpg'\n",
      "Failed to read image raw_images/346_image_1.png\n",
      "[Errno 2] No such file or directory: '/Users/kalanjarvis-loewen/Desktop/Coding/learning/ml/LeanAI/core/raw_images/346_image_1.png'\n",
      "Failed to read image raw_images/346_image_2.png\n",
      "[Errno 2] No such file or directory: '/Users/kalanjarvis-loewen/Desktop/Coding/learning/ml/LeanAI/core/raw_images/346_image_2.png'\n",
      "Failed to read image raw_images/346_image_3.png\n",
      "[Errno 2] No such file or directory: '/Users/kalanjarvis-loewen/Desktop/Coding/learning/ml/LeanAI/core/raw_images/346_image_3.png'\n",
      "Failed to read image raw_images/347_image_1.jpg\n",
      "[Errno 2] No such file or directory: '/Users/kalanjarvis-loewen/Desktop/Coding/learning/ml/LeanAI/core/raw_images/347_image_1.jpg'\n",
      "Failed to read image raw_images/347_image_2.jpg\n",
      "[Errno 2] No such file or directory: '/Users/kalanjarvis-loewen/Desktop/Coding/learning/ml/LeanAI/core/raw_images/347_image_2.jpg'\n",
      "Failed to read image raw_images/347_image_3.jpg\n",
      "[Errno 2] No such file or directory: '/Users/kalanjarvis-loewen/Desktop/Coding/learning/ml/LeanAI/core/raw_images/347_image_3.jpg'\n",
      "Failed to read image raw_images/349_image_1.jpeg\n",
      "[Errno 2] No such file or directory: '/Users/kalanjarvis-loewen/Desktop/Coding/learning/ml/LeanAI/core/raw_images/349_image_1.jpeg'\n",
      "Failed to read image raw_images/350_image_1.jpg\n",
      "[Errno 2] No such file or directory: '/Users/kalanjarvis-loewen/Desktop/Coding/learning/ml/LeanAI/core/raw_images/350_image_1.jpg'\n",
      "Failed to read image raw_images/350_image_2.jpg\n",
      "[Errno 2] No such file or directory: '/Users/kalanjarvis-loewen/Desktop/Coding/learning/ml/LeanAI/core/raw_images/350_image_2.jpg'\n",
      "Failed to read image raw_images/350_image_3.jpg\n",
      "[Errno 2] No such file or directory: '/Users/kalanjarvis-loewen/Desktop/Coding/learning/ml/LeanAI/core/raw_images/350_image_3.jpg'\n",
      "Failed to read image raw_images/350_image_4.jpg\n",
      "[Errno 2] No such file or directory: '/Users/kalanjarvis-loewen/Desktop/Coding/learning/ml/LeanAI/core/raw_images/350_image_4.jpg'\n"
     ]
    },
    {
     "name": "stderr",
     "output_type": "stream",
     "text": [
      "[ WARN:0@834.387] global loadsave.cpp:268 findDecoder imread_('raw_images/353_image_1.jpeg'): can't open/read file: check file path/integrity\n",
      " 46%|████████████████████████████████████████████▌                                                   | 736/1584 [00:35<00:28, 29.83it/s]"
     ]
    },
    {
     "name": "stdout",
     "output_type": "stream",
     "text": [
      "Failed to read image raw_images/353_image_1.jpeg\n",
      "[Errno 2] No such file or directory: '/Users/kalanjarvis-loewen/Desktop/Coding/learning/ml/LeanAI/core/raw_images/353_image_1.jpeg'\n",
      "Failed to read image raw_images/355_image_1.jpg\n",
      "[Errno 2] No such file or directory: '/Users/kalanjarvis-loewen/Desktop/Coding/learning/ml/LeanAI/core/raw_images/355_image_1.jpg'\n",
      "Failed to read image raw_images/355_image_2.jpg\n",
      "[Errno 2] No such file or directory: '/Users/kalanjarvis-loewen/Desktop/Coding/learning/ml/LeanAI/core/raw_images/355_image_2.jpg'\n",
      "Failed to read image raw_images/355_image_3.jpg\n",
      "[Errno 2] No such file or directory: '/Users/kalanjarvis-loewen/Desktop/Coding/learning/ml/LeanAI/core/raw_images/355_image_3.jpg'\n",
      "Failed to read image raw_images/355_image_4.jpg\n",
      "[Errno 2] No such file or directory: '/Users/kalanjarvis-loewen/Desktop/Coding/learning/ml/LeanAI/core/raw_images/355_image_4.jpg'\n",
      "Failed to read image raw_images/356_image_1.jpeg\n",
      "[Errno 2] No such file or directory: '/Users/kalanjarvis-loewen/Desktop/Coding/learning/ml/LeanAI/core/raw_images/356_image_1.jpeg'\n",
      "Failed to read image raw_images/357_image_1.jpg\n",
      "[Errno 2] No such file or directory: '/Users/kalanjarvis-loewen/Desktop/Coding/learning/ml/LeanAI/core/raw_images/357_image_1.jpg'\n",
      "Failed to read image raw_images/357_image_2.jpg\n",
      "[Errno 2] No such file or directory: '/Users/kalanjarvis-loewen/Desktop/Coding/learning/ml/LeanAI/core/raw_images/357_image_2.jpg'\n",
      "Failed to read image raw_images/358_image_1.jpeg\n",
      "[Errno 2] No such file or directory: '/Users/kalanjarvis-loewen/Desktop/Coding/learning/ml/LeanAI/core/raw_images/358_image_1.jpeg'\n"
     ]
    },
    {
     "name": "stderr",
     "output_type": "stream",
     "text": [
      "[ WARN:0@834.573] global loadsave.cpp:268 findDecoder imread_('raw_images/355_image_1.jpg'): can't open/read file: check file path/integrity\n",
      "[ WARN:0@834.573] global loadsave.cpp:268 findDecoder imread_('raw_images/355_image_2.jpg'): can't open/read file: check file path/integrity\n",
      "[ WARN:0@834.573] global loadsave.cpp:268 findDecoder imread_('raw_images/355_image_3.jpg'): can't open/read file: check file path/integrity\n",
      "[ WARN:0@834.574] global loadsave.cpp:268 findDecoder imread_('raw_images/355_image_4.jpg'): can't open/read file: check file path/integrity\n",
      "[ WARN:0@834.574] global loadsave.cpp:268 findDecoder imread_('raw_images/356_image_1.jpeg'): can't open/read file: check file path/integrity\n",
      "[ WARN:0@834.574] global loadsave.cpp:268 findDecoder imread_('raw_images/357_image_1.jpg'): can't open/read file: check file path/integrity\n",
      "[ WARN:0@834.574] global loadsave.cpp:268 findDecoder imread_('raw_images/357_image_2.jpg'): can't open/read file: check file path/integrity\n",
      "[ WARN:0@834.574] global loadsave.cpp:268 findDecoder imread_('raw_images/358_image_1.jpeg'): can't open/read file: check file path/integrity\n",
      "[ WARN:0@834.663] global loadsave.cpp:268 findDecoder imread_('raw_images/360_image_1.jpg'): can't open/read file: check file path/integrity\n",
      "[ WARN:0@834.663] global loadsave.cpp:268 findDecoder imread_('raw_images/360_image_2.jpg'): can't open/read file: check file path/integrity\n",
      "[ WARN:0@834.663] global loadsave.cpp:268 findDecoder imread_('raw_images/361_image_1.jpeg'): can't open/read file: check file path/integrity\n",
      "[ WARN:0@834.663] global loadsave.cpp:268 findDecoder imread_('raw_images/362_image_1.jpg'): can't open/read file: check file path/integrity\n",
      "[ WARN:0@834.664] global loadsave.cpp:268 findDecoder imread_('raw_images/362_image_2.jpg'): can't open/read file: check file path/integrity\n",
      "[ WARN:0@834.664] global loadsave.cpp:268 findDecoder imread_('raw_images/363_image_1.jpeg'): can't open/read file: check file path/integrity\n",
      "[ WARN:0@834.664] global loadsave.cpp:268 findDecoder imread_('raw_images/364_image_1.jpg'): can't open/read file: check file path/integrity\n",
      "[ WARN:0@834.664] global loadsave.cpp:268 findDecoder imread_('raw_images/364_image_2.jpg'): can't open/read file: check file path/integrity\n",
      "[ WARN:0@834.664] global loadsave.cpp:268 findDecoder imread_('raw_images/365_image_1.jpeg'): can't open/read file: check file path/integrity\n",
      "[ WARN:0@834.664] global loadsave.cpp:268 findDecoder imread_('raw_images/366_image_1.png'): can't open/read file: check file path/integrity\n",
      "[ WARN:0@834.665] global loadsave.cpp:268 findDecoder imread_('raw_images/366_image_2.png'): can't open/read file: check file path/integrity\n",
      "[ WARN:0@834.665] global loadsave.cpp:268 findDecoder imread_('raw_images/366_image_3.png'): can't open/read file: check file path/integrity\n",
      "[ WARN:0@834.665] global loadsave.cpp:268 findDecoder imread_('raw_images/366_image_4.png'): can't open/read file: check file path/integrity\n",
      "[ WARN:0@834.765] global loadsave.cpp:268 findDecoder imread_('raw_images/368_image_1.jpeg'): can't open/read file: check file path/integrity\n",
      "[ WARN:0@834.766] global loadsave.cpp:268 findDecoder imread_('raw_images/369_image_1.jpg'): can't open/read file: check file path/integrity\n",
      "[ WARN:0@834.766] global loadsave.cpp:268 findDecoder imread_('raw_images/369_image_2.jpg'): can't open/read file: check file path/integrity\n",
      "[ WARN:0@834.766] global loadsave.cpp:268 findDecoder imread_('raw_images/369_image_3.jpg'): can't open/read file: check file path/integrity\n",
      "[ WARN:0@834.766] global loadsave.cpp:268 findDecoder imread_('raw_images/369_image_4.jpg'): can't open/read file: check file path/integrity\n",
      "[ WARN:0@834.766] global loadsave.cpp:268 findDecoder imread_('raw_images/370_image_1.jpeg'): can't open/read file: check file path/integrity\n",
      "[ WARN:0@834.766] global loadsave.cpp:268 findDecoder imread_('raw_images/371_image_1.jpg'): can't open/read file: check file path/integrity\n",
      "[ WARN:0@834.766] global loadsave.cpp:268 findDecoder imread_('raw_images/371_image_2.jpg'): can't open/read file: check file path/integrity\n",
      "[ WARN:0@834.767] global loadsave.cpp:268 findDecoder imread_('raw_images/371_image_3.jpg'): can't open/read file: check file path/integrity\n",
      "[ WARN:0@834.767] global loadsave.cpp:268 findDecoder imread_('raw_images/372_image_1.jpeg'): can't open/read file: check file path/integrity\n",
      "[ WARN:0@834.767] global loadsave.cpp:268 findDecoder imread_('raw_images/373_image_1.jpg'): can't open/read file: check file path/integrity\n",
      "[ WARN:0@834.767] global loadsave.cpp:268 findDecoder imread_('raw_images/373_image_2.jpg'): can't open/read file: check file path/integrity\n",
      "[ WARN:0@834.767] global loadsave.cpp:268 findDecoder imread_('raw_images/373_image_3.jpg'): can't open/read file: check file path/integrity\n",
      "[ WARN:0@834.767] global loadsave.cpp:268 findDecoder imread_('raw_images/373_image_4.jpg'): can't open/read file: check file path/integrity\n",
      "[ WARN:0@834.767] global loadsave.cpp:268 findDecoder imread_('raw_images/374_image_1.jpeg'): can't open/read file: check file path/integrity\n"
     ]
    },
    {
     "name": "stdout",
     "output_type": "stream",
     "text": [
      "Failed to read image raw_images/360_image_1.jpg\n",
      "[Errno 2] No such file or directory: '/Users/kalanjarvis-loewen/Desktop/Coding/learning/ml/LeanAI/core/raw_images/360_image_1.jpg'\n",
      "Failed to read image raw_images/360_image_2.jpg\n",
      "[Errno 2] No such file or directory: '/Users/kalanjarvis-loewen/Desktop/Coding/learning/ml/LeanAI/core/raw_images/360_image_2.jpg'\n",
      "Failed to read image raw_images/361_image_1.jpeg\n",
      "[Errno 2] No such file or directory: '/Users/kalanjarvis-loewen/Desktop/Coding/learning/ml/LeanAI/core/raw_images/361_image_1.jpeg'\n",
      "Failed to read image raw_images/362_image_1.jpg\n",
      "[Errno 2] No such file or directory: '/Users/kalanjarvis-loewen/Desktop/Coding/learning/ml/LeanAI/core/raw_images/362_image_1.jpg'\n",
      "Failed to read image raw_images/362_image_2.jpg\n",
      "[Errno 2] No such file or directory: '/Users/kalanjarvis-loewen/Desktop/Coding/learning/ml/LeanAI/core/raw_images/362_image_2.jpg'\n",
      "Failed to read image raw_images/363_image_1.jpeg\n",
      "[Errno 2] No such file or directory: '/Users/kalanjarvis-loewen/Desktop/Coding/learning/ml/LeanAI/core/raw_images/363_image_1.jpeg'\n",
      "Failed to read image raw_images/364_image_1.jpg\n",
      "[Errno 2] No such file or directory: '/Users/kalanjarvis-loewen/Desktop/Coding/learning/ml/LeanAI/core/raw_images/364_image_1.jpg'\n",
      "Failed to read image raw_images/364_image_2.jpg\n",
      "[Errno 2] No such file or directory: '/Users/kalanjarvis-loewen/Desktop/Coding/learning/ml/LeanAI/core/raw_images/364_image_2.jpg'\n",
      "Failed to read image raw_images/365_image_1.jpeg\n",
      "[Errno 2] No such file or directory: '/Users/kalanjarvis-loewen/Desktop/Coding/learning/ml/LeanAI/core/raw_images/365_image_1.jpeg'\n",
      "Failed to read image raw_images/366_image_1.png\n",
      "[Errno 2] No such file or directory: '/Users/kalanjarvis-loewen/Desktop/Coding/learning/ml/LeanAI/core/raw_images/366_image_1.png'\n",
      "Failed to read image raw_images/366_image_2.png\n",
      "[Errno 2] No such file or directory: '/Users/kalanjarvis-loewen/Desktop/Coding/learning/ml/LeanAI/core/raw_images/366_image_2.png'\n",
      "Failed to read image raw_images/366_image_3.png\n",
      "[Errno 2] No such file or directory: '/Users/kalanjarvis-loewen/Desktop/Coding/learning/ml/LeanAI/core/raw_images/366_image_3.png'\n",
      "Failed to read image raw_images/366_image_4.png\n",
      "[Errno 2] No such file or directory: '/Users/kalanjarvis-loewen/Desktop/Coding/learning/ml/LeanAI/core/raw_images/366_image_4.png'\n",
      "Failed to read image raw_images/368_image_1.jpeg\n",
      "[Errno 2] No such file or directory: '/Users/kalanjarvis-loewen/Desktop/Coding/learning/ml/LeanAI/core/raw_images/368_image_1.jpeg'\n",
      "Failed to read image raw_images/369_image_1.jpg\n",
      "[Errno 2] No such file or directory: '/Users/kalanjarvis-loewen/Desktop/Coding/learning/ml/LeanAI/core/raw_images/369_image_1.jpg'\n",
      "Failed to read image raw_images/369_image_2.jpg\n",
      "[Errno 2] No such file or directory: '/Users/kalanjarvis-loewen/Desktop/Coding/learning/ml/LeanAI/core/raw_images/369_image_2.jpg'\n",
      "Failed to read image raw_images/369_image_3.jpg\n",
      "[Errno 2] No such file or directory: '/Users/kalanjarvis-loewen/Desktop/Coding/learning/ml/LeanAI/core/raw_images/369_image_3.jpg'\n",
      "Failed to read image raw_images/369_image_4.jpg\n",
      "[Errno 2] No such file or directory: '/Users/kalanjarvis-loewen/Desktop/Coding/learning/ml/LeanAI/core/raw_images/369_image_4.jpg'\n",
      "Failed to read image raw_images/370_image_1.jpeg\n",
      "[Errno 2] No such file or directory: '/Users/kalanjarvis-loewen/Desktop/Coding/learning/ml/LeanAI/core/raw_images/370_image_1.jpeg'\n",
      "Failed to read image raw_images/371_image_1.jpg\n",
      "[Errno 2] No such file or directory: '/Users/kalanjarvis-loewen/Desktop/Coding/learning/ml/LeanAI/core/raw_images/371_image_1.jpg'\n",
      "Failed to read image raw_images/371_image_2.jpg\n",
      "[Errno 2] No such file or directory: '/Users/kalanjarvis-loewen/Desktop/Coding/learning/ml/LeanAI/core/raw_images/371_image_2.jpg'\n",
      "Failed to read image raw_images/371_image_3.jpg\n",
      "[Errno 2] No such file or directory: '/Users/kalanjarvis-loewen/Desktop/Coding/learning/ml/LeanAI/core/raw_images/371_image_3.jpg'\n",
      "Failed to read image raw_images/372_image_1.jpeg\n",
      "[Errno 2] No such file or directory: '/Users/kalanjarvis-loewen/Desktop/Coding/learning/ml/LeanAI/core/raw_images/372_image_1.jpeg'\n",
      "Failed to read image raw_images/373_image_1.jpg\n",
      "[Errno 2] No such file or directory: '/Users/kalanjarvis-loewen/Desktop/Coding/learning/ml/LeanAI/core/raw_images/373_image_1.jpg'\n",
      "Failed to read image raw_images/373_image_2.jpg\n",
      "[Errno 2] No such file or directory: '/Users/kalanjarvis-loewen/Desktop/Coding/learning/ml/LeanAI/core/raw_images/373_image_2.jpg'\n",
      "Failed to read image raw_images/373_image_3.jpg\n",
      "[Errno 2] No such file or directory: '/Users/kalanjarvis-loewen/Desktop/Coding/learning/ml/LeanAI/core/raw_images/373_image_3.jpg'\n",
      "Failed to read image raw_images/373_image_4.jpg\n",
      "[Errno 2] No such file or directory: '/Users/kalanjarvis-loewen/Desktop/Coding/learning/ml/LeanAI/core/raw_images/373_image_4.jpg'\n",
      "Failed to read image raw_images/374_image_1.jpeg\n",
      "[Errno 2] No such file or directory: '/Users/kalanjarvis-loewen/Desktop/Coding/learning/ml/LeanAI/core/raw_images/374_image_1.jpeg'\n"
     ]
    },
    {
     "name": "stderr",
     "output_type": "stream",
     "text": [
      "[ WARN:0@834.868] global loadsave.cpp:268 findDecoder imread_('raw_images/376_image_1.jpg'): can't open/read file: check file path/integrity\n",
      "[ WARN:0@834.868] global loadsave.cpp:268 findDecoder imread_('raw_images/377_image_1.png'): can't open/read file: check file path/integrity\n"
     ]
    },
    {
     "name": "stdout",
     "output_type": "stream",
     "text": [
      "Failed to read image raw_images/376_image_1.jpg\n",
      "[Errno 2] No such file or directory: '/Users/kalanjarvis-loewen/Desktop/Coding/learning/ml/LeanAI/core/raw_images/376_image_1.jpg'\n",
      "Failed to read image raw_images/377_image_1.png\n",
      "[Errno 2] No such file or directory: '/Users/kalanjarvis-loewen/Desktop/Coding/learning/ml/LeanAI/core/raw_images/377_image_1.png'\n"
     ]
    },
    {
     "name": "stderr",
     "output_type": "stream",
     "text": [
      "[ WARN:0@835.147] global loadsave.cpp:268 findDecoder imread_('raw_images/381_image_3.jpg'): can't open/read file: check file path/integrity\n",
      "[ WARN:0@835.147] global loadsave.cpp:268 findDecoder imread_('raw_images/381_image_4.jpg'): can't open/read file: check file path/integrity\n",
      " 50%|███████████████████████████████████████████████▋                                                | 787/1584 [00:36<00:14, 54.39it/s]"
     ]
    },
    {
     "name": "stdout",
     "output_type": "stream",
     "text": [
      "Failed to read image raw_images/381_image_3.jpg\n",
      "[Errno 2] No such file or directory: '/Users/kalanjarvis-loewen/Desktop/Coding/learning/ml/LeanAI/core/raw_images/381_image_3.jpg'\n",
      "Failed to read image raw_images/381_image_4.jpg\n",
      "[Errno 2] No such file or directory: '/Users/kalanjarvis-loewen/Desktop/Coding/learning/ml/LeanAI/core/raw_images/381_image_4.jpg'\n",
      "Failed to read image raw_images/383_image_2.jpg\n",
      "[Errno 2] No such file or directory: '/Users/kalanjarvis-loewen/Desktop/Coding/learning/ml/LeanAI/core/raw_images/383_image_2.jpg'\n"
     ]
    },
    {
     "name": "stderr",
     "output_type": "stream",
     "text": [
      "[ WARN:0@835.343] global loadsave.cpp:268 findDecoder imread_('raw_images/383_image_2.jpg'): can't open/read file: check file path/integrity\n",
      "[ WARN:0@835.548] global loadsave.cpp:268 findDecoder imread_('raw_images/386_image_2.jpg'): can't open/read file: check file path/integrity\n",
      " 50%|████████████████████████████████████████████████▏                                               | 795/1584 [00:36<00:19, 41.01it/s]"
     ]
    },
    {
     "name": "stdout",
     "output_type": "stream",
     "text": [
      "Failed to read image raw_images/386_image_2.jpg\n",
      "[Errno 2] No such file or directory: '/Users/kalanjarvis-loewen/Desktop/Coding/learning/ml/LeanAI/core/raw_images/386_image_2.jpg'\n",
      "Failed to read image raw_images/386_image_3.jpg\n",
      "[Errno 2] No such file or directory: '/Users/kalanjarvis-loewen/Desktop/Coding/learning/ml/LeanAI/core/raw_images/386_image_3.jpg'\n",
      "Failed to read image raw_images/388_image_1.jpg\n",
      "[Errno 2] No such file or directory: '/Users/kalanjarvis-loewen/Desktop/Coding/learning/ml/LeanAI/core/raw_images/388_image_1.jpg'\n",
      "Failed to read image raw_images/389_image_1.png\n",
      "[Errno 2] No such file or directory: '/Users/kalanjarvis-loewen/Desktop/Coding/learning/ml/LeanAI/core/raw_images/389_image_1.png'\n"
     ]
    },
    {
     "name": "stderr",
     "output_type": "stream",
     "text": [
      "[ WARN:0@835.549] global loadsave.cpp:268 findDecoder imread_('raw_images/386_image_3.jpg'): can't open/read file: check file path/integrity\n",
      "[ WARN:0@835.614] global loadsave.cpp:268 findDecoder imread_('raw_images/388_image_1.jpg'): can't open/read file: check file path/integrity\n",
      "[ WARN:0@835.614] global loadsave.cpp:268 findDecoder imread_('raw_images/389_image_1.png'): can't open/read file: check file path/integrity\n",
      "[ WARN:0@836.305] global loadsave.cpp:268 findDecoder imread_('raw_images/396_image_2.jpg'): can't open/read file: check file path/integrity\n",
      "[ WARN:0@836.305] global loadsave.cpp:268 findDecoder imread_('raw_images/396_image_3.jpg'): can't open/read file: check file path/integrity\n",
      "[ WARN:0@836.306] global loadsave.cpp:268 findDecoder imread_('raw_images/396_image_4.jpg'): can't open/read file: check file path/integrity\n",
      "[ WARN:0@836.306] global loadsave.cpp:268 findDecoder imread_('raw_images/397_image_1.jpg'): can't open/read file: check file path/integrity\n",
      "[ WARN:0@836.306] global loadsave.cpp:268 findDecoder imread_('raw_images/398_image_1.png'): can't open/read file: check file path/integrity\n",
      "[ WARN:0@836.375] global loadsave.cpp:268 findDecoder imread_('raw_images/399_image_2.jpg'): can't open/read file: check file path/integrity\n",
      " 52%|█████████████████████████████████████████████████▊                                              | 821/1584 [00:37<00:21, 35.16it/s]"
     ]
    },
    {
     "name": "stdout",
     "output_type": "stream",
     "text": [
      "Failed to read image raw_images/396_image_2.jpg\n",
      "[Errno 2] No such file or directory: '/Users/kalanjarvis-loewen/Desktop/Coding/learning/ml/LeanAI/core/raw_images/396_image_2.jpg'\n",
      "Failed to read image raw_images/396_image_3.jpg\n",
      "[Errno 2] No such file or directory: '/Users/kalanjarvis-loewen/Desktop/Coding/learning/ml/LeanAI/core/raw_images/396_image_3.jpg'\n",
      "Failed to read image raw_images/396_image_4.jpg\n",
      "[Errno 2] No such file or directory: '/Users/kalanjarvis-loewen/Desktop/Coding/learning/ml/LeanAI/core/raw_images/396_image_4.jpg'\n",
      "Failed to read image raw_images/397_image_1.jpg\n",
      "[Errno 2] No such file or directory: '/Users/kalanjarvis-loewen/Desktop/Coding/learning/ml/LeanAI/core/raw_images/397_image_1.jpg'\n",
      "Failed to read image raw_images/398_image_1.png\n",
      "[Errno 2] No such file or directory: '/Users/kalanjarvis-loewen/Desktop/Coding/learning/ml/LeanAI/core/raw_images/398_image_1.png'\n",
      "Failed to read image raw_images/399_image_2.jpg\n",
      "[Errno 2] No such file or directory: '/Users/kalanjarvis-loewen/Desktop/Coding/learning/ml/LeanAI/core/raw_images/399_image_2.jpg'\n",
      "Failed to read image raw_images/402_image_1.jpg\n",
      "[Errno 2] No such file or directory: '/Users/kalanjarvis-loewen/Desktop/Coding/learning/ml/LeanAI/core/raw_images/402_image_1.jpg'\n"
     ]
    },
    {
     "name": "stderr",
     "output_type": "stream",
     "text": [
      "[ WARN:0@836.686] global loadsave.cpp:268 findDecoder imread_('raw_images/402_image_1.jpg'): can't open/read file: check file path/integrity\n",
      "[ WARN:0@837.979] global loadsave.cpp:268 findDecoder imread_('raw_images/416_image_1.jpg'): can't open/read file: check file path/integrity\n",
      "[ WARN:0@837.979] global loadsave.cpp:268 findDecoder imread_('raw_images/417_image_1.jpg'): can't open/read file: check file path/integrity\n",
      "[ WARN:0@837.980] global loadsave.cpp:268 findDecoder imread_('raw_images/418_image_1.jpeg'): can't open/read file: check file path/integrity\n",
      "[ WARN:0@837.980] global loadsave.cpp:268 findDecoder imread_('raw_images/419_image_1.png'): can't open/read file: check file path/integrity\n",
      "[ WARN:0@838.049] global loadsave.cpp:268 findDecoder imread_('raw_images/421_image_1.jpeg'): can't open/read file: check file path/integrity\n",
      "[ WARN:0@838.049] global loadsave.cpp:268 findDecoder imread_('raw_images/422_image_1.png'): can't open/read file: check file path/integrity\n",
      " 53%|███████████████████████████████████████████████████▏                                            | 844/1584 [00:38<00:35, 21.04it/s]"
     ]
    },
    {
     "name": "stdout",
     "output_type": "stream",
     "text": [
      "Failed to read image raw_images/416_image_1.jpg\n",
      "[Errno 2] No such file or directory: '/Users/kalanjarvis-loewen/Desktop/Coding/learning/ml/LeanAI/core/raw_images/416_image_1.jpg'\n",
      "Failed to read image raw_images/417_image_1.jpg\n",
      "[Errno 2] No such file or directory: '/Users/kalanjarvis-loewen/Desktop/Coding/learning/ml/LeanAI/core/raw_images/417_image_1.jpg'\n",
      "Failed to read image raw_images/418_image_1.jpeg\n",
      "[Errno 2] No such file or directory: '/Users/kalanjarvis-loewen/Desktop/Coding/learning/ml/LeanAI/core/raw_images/418_image_1.jpeg'\n",
      "Failed to read image raw_images/419_image_1.png\n",
      "[Errno 2] No such file or directory: '/Users/kalanjarvis-loewen/Desktop/Coding/learning/ml/LeanAI/core/raw_images/419_image_1.png'\n",
      "Failed to read image raw_images/421_image_1.jpeg\n",
      "[Errno 2] No such file or directory: '/Users/kalanjarvis-loewen/Desktop/Coding/learning/ml/LeanAI/core/raw_images/421_image_1.jpeg'\n",
      "Failed to read image raw_images/422_image_1.png\n",
      "[Errno 2] No such file or directory: '/Users/kalanjarvis-loewen/Desktop/Coding/learning/ml/LeanAI/core/raw_images/422_image_1.png'\n"
     ]
    },
    {
     "name": "stderr",
     "output_type": "stream",
     "text": [
      "[ WARN:0@838.317] global loadsave.cpp:268 findDecoder imread_('raw_images/426_image_1.jpeg'): can't open/read file: check file path/integrity\n",
      "[ WARN:0@838.318] global loadsave.cpp:268 findDecoder imread_('raw_images/427_image_1.png'): can't open/read file: check file path/integrity\n",
      "[ WARN:0@838.433] global loadsave.cpp:268 findDecoder imread_('raw_images/429_image_1.jpeg'): can't open/read file: check file path/integrity\n",
      "[ WARN:0@838.433] global loadsave.cpp:268 findDecoder imread_('raw_images/430_image_1.png'): can't open/read file: check file path/integrity\n",
      " 54%|███████████████████████████████████████████████████▌                                            | 851/1584 [00:39<00:33, 21.72it/s]"
     ]
    },
    {
     "name": "stdout",
     "output_type": "stream",
     "text": [
      "Failed to read image raw_images/426_image_1.jpeg\n",
      "[Errno 2] No such file or directory: '/Users/kalanjarvis-loewen/Desktop/Coding/learning/ml/LeanAI/core/raw_images/426_image_1.jpeg'\n",
      "Failed to read image raw_images/427_image_1.png\n",
      "[Errno 2] No such file or directory: '/Users/kalanjarvis-loewen/Desktop/Coding/learning/ml/LeanAI/core/raw_images/427_image_1.png'\n",
      "Failed to read image raw_images/429_image_1.jpeg\n",
      "[Errno 2] No such file or directory: '/Users/kalanjarvis-loewen/Desktop/Coding/learning/ml/LeanAI/core/raw_images/429_image_1.jpeg'\n",
      "Failed to read image raw_images/430_image_1.png\n",
      "[Errno 2] No such file or directory: '/Users/kalanjarvis-loewen/Desktop/Coding/learning/ml/LeanAI/core/raw_images/430_image_1.png'\n"
     ]
    },
    {
     "name": "stderr",
     "output_type": "stream",
     "text": [
      "[ WARN:0@840.741] global loadsave.cpp:268 findDecoder imread_('raw_images/456_image_4.jpg'): can't open/read file: check file path/integrity\n",
      "[ WARN:0@840.848] global loadsave.cpp:268 findDecoder imread_('raw_images/457_image_2.jpg'): can't open/read file: check file path/integrity\n",
      "[ WARN:0@840.848] global loadsave.cpp:268 findDecoder imread_('raw_images/457_image_3.jpg'): can't open/read file: check file path/integrity\n"
     ]
    },
    {
     "name": "stdout",
     "output_type": "stream",
     "text": [
      "Failed to read image raw_images/456_image_4.jpg\n",
      "[Errno 2] No such file or directory: '/Users/kalanjarvis-loewen/Desktop/Coding/learning/ml/LeanAI/core/raw_images/456_image_4.jpg'\n",
      "Failed to read image raw_images/457_image_2.jpg\n",
      "[Errno 2] No such file or directory: '/Users/kalanjarvis-loewen/Desktop/Coding/learning/ml/LeanAI/core/raw_images/457_image_2.jpg'\n",
      "Failed to read image raw_images/457_image_3.jpg\n",
      "[Errno 2] No such file or directory: '/Users/kalanjarvis-loewen/Desktop/Coding/learning/ml/LeanAI/core/raw_images/457_image_3.jpg'\n"
     ]
    },
    {
     "name": "stderr",
     "output_type": "stream",
     "text": [
      "[ WARN:0@841.380] global loadsave.cpp:268 findDecoder imread_('raw_images/463_image_2.jpg'): can't open/read file: check file path/integrity\n",
      "[ WARN:0@841.380] global loadsave.cpp:268 findDecoder imread_('raw_images/463_image_3.jpg'): can't open/read file: check file path/integrity\n",
      " 57%|██████████████████████████████████████████████████████▏                                         | 895/1584 [00:42<00:36, 18.62it/s]"
     ]
    },
    {
     "name": "stdout",
     "output_type": "stream",
     "text": [
      "Failed to read image raw_images/463_image_2.jpg\n",
      "[Errno 2] No such file or directory: '/Users/kalanjarvis-loewen/Desktop/Coding/learning/ml/LeanAI/core/raw_images/463_image_2.jpg'\n",
      "Failed to read image raw_images/463_image_3.jpg\n",
      "[Errno 2] No such file or directory: '/Users/kalanjarvis-loewen/Desktop/Coding/learning/ml/LeanAI/core/raw_images/463_image_3.jpg'\n"
     ]
    },
    {
     "name": "stderr",
     "output_type": "stream",
     "text": [
      "[ WARN:0@841.631] global loadsave.cpp:268 findDecoder imread_('raw_images/467_image_1.jpg'): can't open/read file: check file path/integrity\n",
      "[ WARN:0@841.631] global loadsave.cpp:268 findDecoder imread_('raw_images/468_image_1.jpeg'): can't open/read file: check file path/integrity\n",
      "[ WARN:0@841.631] global loadsave.cpp:268 findDecoder imread_('raw_images/469_image_1.jpg'): can't open/read file: check file path/integrity\n",
      "[ WARN:0@841.632] global loadsave.cpp:268 findDecoder imread_('raw_images/469_image_2.jpg'): can't open/read file: check file path/integrity\n",
      "[ WARN:0@841.632] global loadsave.cpp:268 findDecoder imread_('raw_images/469_image_3.jpg'): can't open/read file: check file path/integrity\n",
      "[ WARN:0@841.632] global loadsave.cpp:268 findDecoder imread_('raw_images/469_image_4.jpg'): can't open/read file: check file path/integrity\n",
      " 57%|██████████████████████████████████████████████████████▋                                         | 903/1584 [00:42<00:23, 29.01it/s]"
     ]
    },
    {
     "name": "stdout",
     "output_type": "stream",
     "text": [
      "Failed to read image raw_images/467_image_1.jpg\n",
      "[Errno 2] No such file or directory: '/Users/kalanjarvis-loewen/Desktop/Coding/learning/ml/LeanAI/core/raw_images/467_image_1.jpg'\n",
      "Failed to read image raw_images/468_image_1.jpeg\n",
      "[Errno 2] No such file or directory: '/Users/kalanjarvis-loewen/Desktop/Coding/learning/ml/LeanAI/core/raw_images/468_image_1.jpeg'\n",
      "Failed to read image raw_images/469_image_1.jpg\n",
      "[Errno 2] No such file or directory: '/Users/kalanjarvis-loewen/Desktop/Coding/learning/ml/LeanAI/core/raw_images/469_image_1.jpg'\n",
      "Failed to read image raw_images/469_image_2.jpg\n",
      "[Errno 2] No such file or directory: '/Users/kalanjarvis-loewen/Desktop/Coding/learning/ml/LeanAI/core/raw_images/469_image_2.jpg'\n",
      "Failed to read image raw_images/469_image_3.jpg\n",
      "[Errno 2] No such file or directory: '/Users/kalanjarvis-loewen/Desktop/Coding/learning/ml/LeanAI/core/raw_images/469_image_3.jpg'\n",
      "Failed to read image raw_images/469_image_4.jpg\n",
      "[Errno 2] No such file or directory: '/Users/kalanjarvis-loewen/Desktop/Coding/learning/ml/LeanAI/core/raw_images/469_image_4.jpg'\n"
     ]
    },
    {
     "name": "stderr",
     "output_type": "stream",
     "text": [
      "[ WARN:0@841.949] global loadsave.cpp:268 findDecoder imread_('raw_images/472_image_3.jpg'): can't open/read file: check file path/integrity\n",
      "[ WARN:0@841.950] global loadsave.cpp:268 findDecoder imread_('raw_images/473_image_1.jpg'): can't open/read file: check file path/integrity\n",
      "[ WARN:0@841.950] global loadsave.cpp:268 findDecoder imread_('raw_images/473_image_2.jpg'): can't open/read file: check file path/integrity\n",
      "[ WARN:0@841.950] global loadsave.cpp:268 findDecoder imread_('raw_images/474_image_1.jpeg'): can't open/read file: check file path/integrity\n",
      "[ WARN:0@841.950] global loadsave.cpp:268 findDecoder imread_('raw_images/475_image_1.jpg'): can't open/read file: check file path/integrity\n",
      "[ WARN:0@841.993] global loadsave.cpp:268 findDecoder imread_('raw_images/475_image_3.jpg'): can't open/read file: check file path/integrity\n",
      "[ WARN:0@841.994] global loadsave.cpp:268 findDecoder imread_('raw_images/475_image_4.jpg'): can't open/read file: check file path/integrity\n",
      "[ WARN:0@841.994] global loadsave.cpp:268 findDecoder imread_('raw_images/476_image_1.png'): can't open/read file: check file path/integrity\n",
      "[ WARN:0@841.994] global loadsave.cpp:268 findDecoder imread_('raw_images/476_image_2.jpg'): can't open/read file: check file path/integrity\n",
      "[ WARN:0@841.994] global loadsave.cpp:268 findDecoder imread_('raw_images/477_image_1.jpeg'): can't open/read file: check file path/integrity\n",
      "[ WARN:0@841.994] global loadsave.cpp:268 findDecoder imread_('raw_images/478_image_1.jpg'): can't open/read file: check file path/integrity\n",
      "[ WARN:0@841.995] global loadsave.cpp:268 findDecoder imread_('raw_images/478_image_2.jpg'): can't open/read file: check file path/integrity\n",
      " 58%|███████████████████████████████████████████████████████▉                                        | 923/1584 [00:42<00:14, 44.07it/s]"
     ]
    },
    {
     "name": "stdout",
     "output_type": "stream",
     "text": [
      "Failed to read image raw_images/472_image_3.jpg\n",
      "[Errno 2] No such file or directory: '/Users/kalanjarvis-loewen/Desktop/Coding/learning/ml/LeanAI/core/raw_images/472_image_3.jpg'\n",
      "Failed to read image raw_images/473_image_1.jpg\n",
      "[Errno 2] No such file or directory: '/Users/kalanjarvis-loewen/Desktop/Coding/learning/ml/LeanAI/core/raw_images/473_image_1.jpg'\n",
      "Failed to read image raw_images/473_image_2.jpg\n",
      "[Errno 2] No such file or directory: '/Users/kalanjarvis-loewen/Desktop/Coding/learning/ml/LeanAI/core/raw_images/473_image_2.jpg'\n",
      "Failed to read image raw_images/474_image_1.jpeg\n",
      "[Errno 2] No such file or directory: '/Users/kalanjarvis-loewen/Desktop/Coding/learning/ml/LeanAI/core/raw_images/474_image_1.jpeg'\n",
      "Failed to read image raw_images/475_image_1.jpg\n",
      "[Errno 2] No such file or directory: '/Users/kalanjarvis-loewen/Desktop/Coding/learning/ml/LeanAI/core/raw_images/475_image_1.jpg'\n",
      "Failed to read image raw_images/475_image_3.jpg\n",
      "[Errno 2] No such file or directory: '/Users/kalanjarvis-loewen/Desktop/Coding/learning/ml/LeanAI/core/raw_images/475_image_3.jpg'\n",
      "Failed to read image raw_images/475_image_4.jpg\n",
      "[Errno 2] No such file or directory: '/Users/kalanjarvis-loewen/Desktop/Coding/learning/ml/LeanAI/core/raw_images/475_image_4.jpg'\n",
      "Failed to read image raw_images/476_image_1.png\n",
      "[Errno 2] No such file or directory: '/Users/kalanjarvis-loewen/Desktop/Coding/learning/ml/LeanAI/core/raw_images/476_image_1.png'\n",
      "Failed to read image raw_images/476_image_2.jpg\n",
      "[Errno 2] No such file or directory: '/Users/kalanjarvis-loewen/Desktop/Coding/learning/ml/LeanAI/core/raw_images/476_image_2.jpg'\n",
      "Failed to read image raw_images/477_image_1.jpeg\n",
      "[Errno 2] No such file or directory: '/Users/kalanjarvis-loewen/Desktop/Coding/learning/ml/LeanAI/core/raw_images/477_image_1.jpeg'\n",
      "Failed to read image raw_images/478_image_1.jpg\n",
      "[Errno 2] No such file or directory: '/Users/kalanjarvis-loewen/Desktop/Coding/learning/ml/LeanAI/core/raw_images/478_image_1.jpg'\n",
      "Failed to read image raw_images/478_image_2.jpg\n",
      "[Errno 2] No such file or directory: '/Users/kalanjarvis-loewen/Desktop/Coding/learning/ml/LeanAI/core/raw_images/478_image_2.jpg'\n",
      "Failed to read image raw_images/480_image_1.jpeg\n",
      "[Errno 2] No such file or directory: '/Users/kalanjarvis-loewen/Desktop/Coding/learning/ml/LeanAI/core/raw_images/480_image_1.jpeg'\n",
      "Failed to read image raw_images/481_image_1.jpg\n",
      "[Errno 2] No such file or directory: '/Users/kalanjarvis-loewen/Desktop/Coding/learning/ml/LeanAI/core/raw_images/481_image_1.jpg'\n",
      "Failed to read image raw_images/481_image_2.jpg\n",
      "[Errno 2] No such file or directory: '/Users/kalanjarvis-loewen/Desktop/Coding/learning/ml/LeanAI/core/raw_images/481_image_2.jpg'\n",
      "Failed to read image raw_images/482_image_1.jpeg\n",
      "[Errno 2] No such file or directory: '/Users/kalanjarvis-loewen/Desktop/Coding/learning/ml/LeanAI/core/raw_images/482_image_1.jpeg'\n"
     ]
    },
    {
     "name": "stderr",
     "output_type": "stream",
     "text": [
      "[ WARN:0@842.103] global loadsave.cpp:268 findDecoder imread_('raw_images/480_image_1.jpeg'): can't open/read file: check file path/integrity\n",
      "[ WARN:0@842.104] global loadsave.cpp:268 findDecoder imread_('raw_images/481_image_1.jpg'): can't open/read file: check file path/integrity\n",
      "[ WARN:0@842.104] global loadsave.cpp:268 findDecoder imread_('raw_images/481_image_2.jpg'): can't open/read file: check file path/integrity\n",
      "[ WARN:0@842.104] global loadsave.cpp:268 findDecoder imread_('raw_images/482_image_1.jpeg'): can't open/read file: check file path/integrity\n",
      "[ WARN:0@842.377] global loadsave.cpp:268 findDecoder imread_('raw_images/484_image_4.jpg'): can't open/read file: check file path/integrity\n",
      "[ WARN:0@842.473] global loadsave.cpp:268 findDecoder imread_('raw_images/485_image_3.jpg'): can't open/read file: check file path/integrity\n",
      "[ WARN:0@842.473] global loadsave.cpp:268 findDecoder imread_('raw_images/486_image_1.jpg'): can't open/read file: check file path/integrity\n",
      "[ WARN:0@842.473] global loadsave.cpp:268 findDecoder imread_('raw_images/486_image_2.jpg'): can't open/read file: check file path/integrity\n",
      "[ WARN:0@842.473] global loadsave.cpp:268 findDecoder imread_('raw_images/487_image_1.jpeg'): can't open/read file: check file path/integrity\n",
      "[ WARN:0@842.474] global loadsave.cpp:268 findDecoder imread_('raw_images/488_image_1.jpg'): can't open/read file: check file path/integrity\n",
      "[ WARN:0@842.474] global loadsave.cpp:268 findDecoder imread_('raw_images/488_image_2.jpg'): can't open/read file: check file path/integrity\n",
      "[ WARN:0@842.474] global loadsave.cpp:268 findDecoder imread_('raw_images/489_image_1.jpeg'): can't open/read file: check file path/integrity\n",
      " 60%|█████████████████████████████████████████████████████████▎                                      | 945/1584 [00:43<00:12, 49.74it/s]"
     ]
    },
    {
     "name": "stdout",
     "output_type": "stream",
     "text": [
      "Failed to read image raw_images/484_image_4.jpg\n",
      "[Errno 2] No such file or directory: '/Users/kalanjarvis-loewen/Desktop/Coding/learning/ml/LeanAI/core/raw_images/484_image_4.jpg'\n",
      "Failed to read image raw_images/485_image_3.jpg\n",
      "[Errno 2] No such file or directory: '/Users/kalanjarvis-loewen/Desktop/Coding/learning/ml/LeanAI/core/raw_images/485_image_3.jpg'\n",
      "Failed to read image raw_images/486_image_1.jpg\n",
      "[Errno 2] No such file or directory: '/Users/kalanjarvis-loewen/Desktop/Coding/learning/ml/LeanAI/core/raw_images/486_image_1.jpg'\n",
      "Failed to read image raw_images/486_image_2.jpg\n",
      "[Errno 2] No such file or directory: '/Users/kalanjarvis-loewen/Desktop/Coding/learning/ml/LeanAI/core/raw_images/486_image_2.jpg'\n",
      "Failed to read image raw_images/487_image_1.jpeg\n",
      "[Errno 2] No such file or directory: '/Users/kalanjarvis-loewen/Desktop/Coding/learning/ml/LeanAI/core/raw_images/487_image_1.jpeg'\n",
      "Failed to read image raw_images/488_image_1.jpg\n",
      "[Errno 2] No such file or directory: '/Users/kalanjarvis-loewen/Desktop/Coding/learning/ml/LeanAI/core/raw_images/488_image_1.jpg'\n",
      "Failed to read image raw_images/488_image_2.jpg\n",
      "[Errno 2] No such file or directory: '/Users/kalanjarvis-loewen/Desktop/Coding/learning/ml/LeanAI/core/raw_images/488_image_2.jpg'\n",
      "Failed to read image raw_images/489_image_1.jpeg\n",
      "[Errno 2] No such file or directory: '/Users/kalanjarvis-loewen/Desktop/Coding/learning/ml/LeanAI/core/raw_images/489_image_1.jpeg'\n",
      "Failed to read image raw_images/490_image_3.jpg\n",
      "[Errno 2] No such file or directory: '/Users/kalanjarvis-loewen/Desktop/Coding/learning/ml/LeanAI/core/raw_images/490_image_3.jpg'\n",
      "Failed to read image raw_images/490_image_4.jpg\n",
      "[Errno 2] No such file or directory: '/Users/kalanjarvis-loewen/Desktop/Coding/learning/ml/LeanAI/core/raw_images/490_image_4.jpg'\n"
     ]
    },
    {
     "name": "stderr",
     "output_type": "stream",
     "text": [
      "[ WARN:0@842.551] global loadsave.cpp:268 findDecoder imread_('raw_images/490_image_3.jpg'): can't open/read file: check file path/integrity\n",
      "[ WARN:0@842.551] global loadsave.cpp:268 findDecoder imread_('raw_images/490_image_4.jpg'): can't open/read file: check file path/integrity\n",
      "[ WARN:0@842.873] global loadsave.cpp:268 findDecoder imread_('raw_images/493_image_3.jpg'): can't open/read file: check file path/integrity\n",
      "[ WARN:0@842.874] global loadsave.cpp:268 findDecoder imread_('raw_images/493_image_4.jpg'): can't open/read file: check file path/integrity\n",
      "[ WARN:0@842.875] global loadsave.cpp:268 findDecoder imread_('raw_images/494_image_1.jpg'): can't open/read file: check file path/integrity\n",
      "[ WARN:0@842.875] global loadsave.cpp:268 findDecoder imread_('raw_images/494_image_2.jpg'): can't open/read file: check file path/integrity\n",
      "[ WARN:0@842.875] global loadsave.cpp:268 findDecoder imread_('raw_images/495_image_1.jpeg'): can't open/read file: check file path/integrity\n",
      " 61%|██████████████████████████████████████████████████████████▎                                     | 962/1584 [00:43<00:14, 43.26it/s]"
     ]
    },
    {
     "name": "stdout",
     "output_type": "stream",
     "text": [
      "Failed to read image raw_images/493_image_3.jpg\n",
      "[Errno 2] No such file or directory: '/Users/kalanjarvis-loewen/Desktop/Coding/learning/ml/LeanAI/core/raw_images/493_image_3.jpg'\n",
      "Failed to read image raw_images/493_image_4.jpg\n",
      "[Errno 2] No such file or directory: '/Users/kalanjarvis-loewen/Desktop/Coding/learning/ml/LeanAI/core/raw_images/493_image_4.jpg'\n",
      "Failed to read image raw_images/494_image_1.jpg\n",
      "[Errno 2] No such file or directory: '/Users/kalanjarvis-loewen/Desktop/Coding/learning/ml/LeanAI/core/raw_images/494_image_1.jpg'\n",
      "Failed to read image raw_images/494_image_2.jpg\n",
      "[Errno 2] No such file or directory: '/Users/kalanjarvis-loewen/Desktop/Coding/learning/ml/LeanAI/core/raw_images/494_image_2.jpg'\n",
      "Failed to read image raw_images/495_image_1.jpeg\n",
      "[Errno 2] No such file or directory: '/Users/kalanjarvis-loewen/Desktop/Coding/learning/ml/LeanAI/core/raw_images/495_image_1.jpeg'\n"
     ]
    },
    {
     "name": "stderr",
     "output_type": "stream",
     "text": [
      "[ WARN:0@843.247] global loadsave.cpp:268 findDecoder imread_('raw_images/498_image_3.jpg'): can't open/read file: check file path/integrity\n",
      "[ WARN:0@843.248] global loadsave.cpp:268 findDecoder imread_('raw_images/498_image_4.jpg'): can't open/read file: check file path/integrity\n",
      " 61%|██████████████████████████████████████████████████████████▉                                     | 972/1584 [00:44<00:18, 33.76it/s]"
     ]
    },
    {
     "name": "stdout",
     "output_type": "stream",
     "text": [
      "Failed to read image raw_images/498_image_3.jpg\n",
      "[Errno 2] No such file or directory: '/Users/kalanjarvis-loewen/Desktop/Coding/learning/ml/LeanAI/core/raw_images/498_image_3.jpg'\n",
      "Failed to read image raw_images/498_image_4.jpg\n",
      "[Errno 2] No such file or directory: '/Users/kalanjarvis-loewen/Desktop/Coding/learning/ml/LeanAI/core/raw_images/498_image_4.jpg'\n"
     ]
    },
    {
     "name": "stderr",
     "output_type": "stream",
     "text": [
      "[ WARN:0@843.524] global loadsave.cpp:268 findDecoder imread_('raw_images/501_image_1.jpg'): can't open/read file: check file path/integrity\n",
      "[ WARN:0@843.525] global loadsave.cpp:268 findDecoder imread_('raw_images/501_image_2.jpg'): can't open/read file: check file path/integrity\n",
      "[ WARN:0@843.526] global loadsave.cpp:268 findDecoder imread_('raw_images/501_image_3.jpg'): can't open/read file: check file path/integrity\n",
      "[ WARN:0@843.526] global loadsave.cpp:268 findDecoder imread_('raw_images/501_image_4.jpg'): can't open/read file: check file path/integrity\n",
      "[ WARN:0@843.526] global loadsave.cpp:268 findDecoder imread_('raw_images/502_image_1.jpeg'): can't open/read file: check file path/integrity\n",
      "[ WARN:0@843.526] global loadsave.cpp:268 findDecoder imread_('raw_images/503_image_1.jpg'): can't open/read file: check file path/integrity\n",
      "[ WARN:0@843.526] global loadsave.cpp:268 findDecoder imread_('raw_images/503_image_2.jpg'): can't open/read file: check file path/integrity\n",
      "[ WARN:0@843.526] global loadsave.cpp:268 findDecoder imread_('raw_images/503_image_3.jpg'): can't open/read file: check file path/integrity\n",
      "[ WARN:0@843.527] global loadsave.cpp:268 findDecoder imread_('raw_images/504_image_1.png'): can't open/read file: check file path/integrity\n",
      "[ WARN:0@843.527] global loadsave.cpp:268 findDecoder imread_('raw_images/504_image_2.png'): can't open/read file: check file path/integrity\n",
      "[ WARN:0@843.527] global loadsave.cpp:268 findDecoder imread_('raw_images/504_image_3.png'): can't open/read file: check file path/integrity\n",
      "[ WARN:0@843.587] global loadsave.cpp:268 findDecoder imread_('raw_images/505_image_3.jpg'): can't open/read file: check file path/integrity\n",
      "[ WARN:0@843.587] global loadsave.cpp:268 findDecoder imread_('raw_images/505_image_4.jpg'): can't open/read file: check file path/integrity\n",
      "[ WARN:0@843.587] global loadsave.cpp:268 findDecoder imread_('raw_images/506_image_1.jpg'): can't open/read file: check file path/integrity\n",
      "[ WARN:0@843.587] global loadsave.cpp:268 findDecoder imread_('raw_images/506_image_2.jpg'): can't open/read file: check file path/integrity\n",
      "[ WARN:0@843.587] global loadsave.cpp:268 findDecoder imread_('raw_images/507_image_1.jpeg'): can't open/read file: check file path/integrity\n",
      "[ WARN:0@843.587] global loadsave.cpp:268 findDecoder imread_('raw_images/508_image_1.jpg'): can't open/read file: check file path/integrity\n",
      "[ WARN:0@843.587] global loadsave.cpp:268 findDecoder imread_('raw_images/508_image_2.jpg'): can't open/read file: check file path/integrity\n",
      "[ WARN:0@843.587] global loadsave.cpp:268 findDecoder imread_('raw_images/508_image_3.jpg'): can't open/read file: check file path/integrity\n",
      " 63%|████████████████████████████████████████████████████████████▍                                   | 997/1584 [00:44<00:09, 61.11it/s]"
     ]
    },
    {
     "name": "stdout",
     "output_type": "stream",
     "text": [
      "Failed to read image raw_images/501_image_1.jpg\n",
      "[Errno 2] No such file or directory: '/Users/kalanjarvis-loewen/Desktop/Coding/learning/ml/LeanAI/core/raw_images/501_image_1.jpg'\n",
      "Failed to read image raw_images/501_image_2.jpg\n",
      "[Errno 2] No such file or directory: '/Users/kalanjarvis-loewen/Desktop/Coding/learning/ml/LeanAI/core/raw_images/501_image_2.jpg'\n",
      "Failed to read image raw_images/501_image_3.jpg\n",
      "[Errno 2] No such file or directory: '/Users/kalanjarvis-loewen/Desktop/Coding/learning/ml/LeanAI/core/raw_images/501_image_3.jpg'\n",
      "Failed to read image raw_images/501_image_4.jpg\n",
      "[Errno 2] No such file or directory: '/Users/kalanjarvis-loewen/Desktop/Coding/learning/ml/LeanAI/core/raw_images/501_image_4.jpg'\n",
      "Failed to read image raw_images/502_image_1.jpeg\n",
      "[Errno 2] No such file or directory: '/Users/kalanjarvis-loewen/Desktop/Coding/learning/ml/LeanAI/core/raw_images/502_image_1.jpeg'\n",
      "Failed to read image raw_images/503_image_1.jpg\n",
      "[Errno 2] No such file or directory: '/Users/kalanjarvis-loewen/Desktop/Coding/learning/ml/LeanAI/core/raw_images/503_image_1.jpg'\n",
      "Failed to read image raw_images/503_image_2.jpg\n",
      "[Errno 2] No such file or directory: '/Users/kalanjarvis-loewen/Desktop/Coding/learning/ml/LeanAI/core/raw_images/503_image_2.jpg'\n",
      "Failed to read image raw_images/503_image_3.jpg\n",
      "[Errno 2] No such file or directory: '/Users/kalanjarvis-loewen/Desktop/Coding/learning/ml/LeanAI/core/raw_images/503_image_3.jpg'\n",
      "Failed to read image raw_images/504_image_1.png\n",
      "[Errno 2] No such file or directory: '/Users/kalanjarvis-loewen/Desktop/Coding/learning/ml/LeanAI/core/raw_images/504_image_1.png'\n",
      "Failed to read image raw_images/504_image_2.png\n",
      "[Errno 2] No such file or directory: '/Users/kalanjarvis-loewen/Desktop/Coding/learning/ml/LeanAI/core/raw_images/504_image_2.png'\n",
      "Failed to read image raw_images/504_image_3.png\n",
      "[Errno 2] No such file or directory: '/Users/kalanjarvis-loewen/Desktop/Coding/learning/ml/LeanAI/core/raw_images/504_image_3.png'\n",
      "Failed to read image raw_images/505_image_3.jpg\n",
      "[Errno 2] No such file or directory: '/Users/kalanjarvis-loewen/Desktop/Coding/learning/ml/LeanAI/core/raw_images/505_image_3.jpg'\n",
      "Failed to read image raw_images/505_image_4.jpg\n",
      "[Errno 2] No such file or directory: '/Users/kalanjarvis-loewen/Desktop/Coding/learning/ml/LeanAI/core/raw_images/505_image_4.jpg'\n",
      "Failed to read image raw_images/506_image_1.jpg\n",
      "[Errno 2] No such file or directory: '/Users/kalanjarvis-loewen/Desktop/Coding/learning/ml/LeanAI/core/raw_images/506_image_1.jpg'\n",
      "Failed to read image raw_images/506_image_2.jpg\n",
      "[Errno 2] No such file or directory: '/Users/kalanjarvis-loewen/Desktop/Coding/learning/ml/LeanAI/core/raw_images/506_image_2.jpg'\n",
      "Failed to read image raw_images/507_image_1.jpeg\n",
      "[Errno 2] No such file or directory: '/Users/kalanjarvis-loewen/Desktop/Coding/learning/ml/LeanAI/core/raw_images/507_image_1.jpeg'\n",
      "Failed to read image raw_images/508_image_1.jpg\n",
      "[Errno 2] No such file or directory: '/Users/kalanjarvis-loewen/Desktop/Coding/learning/ml/LeanAI/core/raw_images/508_image_1.jpg'\n",
      "Failed to read image raw_images/508_image_2.jpg\n",
      "[Errno 2] No such file or directory: '/Users/kalanjarvis-loewen/Desktop/Coding/learning/ml/LeanAI/core/raw_images/508_image_2.jpg'\n",
      "Failed to read image raw_images/508_image_3.jpg\n",
      "[Errno 2] No such file or directory: '/Users/kalanjarvis-loewen/Desktop/Coding/learning/ml/LeanAI/core/raw_images/508_image_3.jpg'\n"
     ]
    },
    {
     "name": "stderr",
     "output_type": "stream",
     "text": [
      "[ WARN:0@843.748] global loadsave.cpp:268 findDecoder imread_('raw_images/511_image_1.jpeg'): can't open/read file: check file path/integrity\n",
      "[ WARN:0@843.749] global loadsave.cpp:268 findDecoder imread_('raw_images/512_image_1.jpg'): can't open/read file: check file path/integrity\n",
      "[ WARN:0@843.795] global loadsave.cpp:268 findDecoder imread_('raw_images/512_image_3.jpg'): can't open/read file: check file path/integrity\n",
      "[ WARN:0@843.795] global loadsave.cpp:268 findDecoder imread_('raw_images/513_image_1.png'): can't open/read file: check file path/integrity\n",
      "[ WARN:0@843.795] global loadsave.cpp:268 findDecoder imread_('raw_images/513_image_2.jpg'): can't open/read file: check file path/integrity\n",
      " 63%|████████████████████████████████████████████████████████████▎                                  | 1005/1584 [00:44<00:09, 59.13it/s]"
     ]
    },
    {
     "name": "stdout",
     "output_type": "stream",
     "text": [
      "Failed to read image raw_images/511_image_1.jpeg\n",
      "[Errno 2] No such file or directory: '/Users/kalanjarvis-loewen/Desktop/Coding/learning/ml/LeanAI/core/raw_images/511_image_1.jpeg'\n",
      "Failed to read image raw_images/512_image_1.jpg\n",
      "[Errno 2] No such file or directory: '/Users/kalanjarvis-loewen/Desktop/Coding/learning/ml/LeanAI/core/raw_images/512_image_1.jpg'\n",
      "Failed to read image raw_images/512_image_3.jpg\n",
      "[Errno 2] No such file or directory: '/Users/kalanjarvis-loewen/Desktop/Coding/learning/ml/LeanAI/core/raw_images/512_image_3.jpg'\n",
      "Failed to read image raw_images/513_image_1.png\n",
      "[Errno 2] No such file or directory: '/Users/kalanjarvis-loewen/Desktop/Coding/learning/ml/LeanAI/core/raw_images/513_image_1.png'\n",
      "Failed to read image raw_images/513_image_2.jpg\n",
      "[Errno 2] No such file or directory: '/Users/kalanjarvis-loewen/Desktop/Coding/learning/ml/LeanAI/core/raw_images/513_image_2.jpg'\n",
      "Failed to read image raw_images/515_image_1.jpeg\n",
      "[Errno 2] No such file or directory: '/Users/kalanjarvis-loewen/Desktop/Coding/learning/ml/LeanAI/core/raw_images/515_image_1.jpeg'\n",
      "Failed to read image raw_images/516_image_1.png\n",
      "[Errno 2] No such file or directory: '/Users/kalanjarvis-loewen/Desktop/Coding/learning/ml/LeanAI/core/raw_images/516_image_1.png'\n"
     ]
    },
    {
     "name": "stderr",
     "output_type": "stream",
     "text": [
      "[ WARN:0@843.848] global loadsave.cpp:268 findDecoder imread_('raw_images/515_image_1.jpeg'): can't open/read file: check file path/integrity\n",
      "[ WARN:0@843.849] global loadsave.cpp:268 findDecoder imread_('raw_images/516_image_1.png'): can't open/read file: check file path/integrity\n",
      "[ WARN:0@843.957] global loadsave.cpp:268 findDecoder imread_('raw_images/518_image_1.jpeg'): can't open/read file: check file path/integrity\n",
      "[ WARN:0@843.957] global loadsave.cpp:268 findDecoder imread_('raw_images/519_image_1.png'): can't open/read file: check file path/integrity\n",
      "[ WARN:0@843.958] global loadsave.cpp:268 findDecoder imread_('raw_images/519_image_2.png'): can't open/read file: check file path/integrity\n",
      "[ WARN:0@843.958] global loadsave.cpp:268 findDecoder imread_('raw_images/519_image_3.png'): can't open/read file: check file path/integrity\n",
      "[ WARN:0@843.959] global loadsave.cpp:268 findDecoder imread_('raw_images/520_image_1.jpeg'): can't open/read file: check file path/integrity\n",
      " 64%|████████████████████████████████████████████████████████████▉                                  | 1017/1584 [00:44<00:11, 47.64it/s]"
     ]
    },
    {
     "name": "stdout",
     "output_type": "stream",
     "text": [
      "Failed to read image raw_images/518_image_1.jpeg\n",
      "[Errno 2] No such file or directory: '/Users/kalanjarvis-loewen/Desktop/Coding/learning/ml/LeanAI/core/raw_images/518_image_1.jpeg'\n",
      "Failed to read image raw_images/519_image_1.png\n",
      "[Errno 2] No such file or directory: '/Users/kalanjarvis-loewen/Desktop/Coding/learning/ml/LeanAI/core/raw_images/519_image_1.png'\n",
      "Failed to read image raw_images/519_image_2.png\n",
      "[Errno 2] No such file or directory: '/Users/kalanjarvis-loewen/Desktop/Coding/learning/ml/LeanAI/core/raw_images/519_image_2.png'\n",
      "Failed to read image raw_images/519_image_3.png\n",
      "[Errno 2] No such file or directory: '/Users/kalanjarvis-loewen/Desktop/Coding/learning/ml/LeanAI/core/raw_images/519_image_3.png'\n",
      "Failed to read image raw_images/520_image_1.jpeg\n",
      "[Errno 2] No such file or directory: '/Users/kalanjarvis-loewen/Desktop/Coding/learning/ml/LeanAI/core/raw_images/520_image_1.jpeg'\n",
      "Failed to read image raw_images/522_image_1.jpg\n",
      "[Errno 2] No such file or directory: '/Users/kalanjarvis-loewen/Desktop/Coding/learning/ml/LeanAI/core/raw_images/522_image_1.jpg'\n"
     ]
    },
    {
     "name": "stderr",
     "output_type": "stream",
     "text": [
      "[ WARN:0@844.157] global loadsave.cpp:268 findDecoder imread_('raw_images/522_image_1.jpg'): can't open/read file: check file path/integrity\n",
      "[ WARN:0@844.158] global loadsave.cpp:268 findDecoder imread_('raw_images/522_image_2.jpg'): can't open/read file: check file path/integrity\n",
      "[ WARN:0@844.158] global loadsave.cpp:268 findDecoder imread_('raw_images/522_image_3.jpg'): can't open/read file: check file path/integrity\n",
      "[ WARN:0@844.159] global loadsave.cpp:268 findDecoder imread_('raw_images/522_image_4.jpg'): can't open/read file: check file path/integrity\n",
      "[ WARN:0@844.228] global loadsave.cpp:268 findDecoder imread_('raw_images/524_image_1.jpeg'): can't open/read file: check file path/integrity\n",
      " 65%|█████████████████████████████████████████████████████████████▍                                 | 1024/1584 [00:45<00:11, 50.53it/s]"
     ]
    },
    {
     "name": "stdout",
     "output_type": "stream",
     "text": [
      "Failed to read image raw_images/522_image_2.jpg\n",
      "[Errno 2] No such file or directory: '/Users/kalanjarvis-loewen/Desktop/Coding/learning/ml/LeanAI/core/raw_images/522_image_2.jpg'\n",
      "Failed to read image raw_images/522_image_3.jpg\n",
      "[Errno 2] No such file or directory: '/Users/kalanjarvis-loewen/Desktop/Coding/learning/ml/LeanAI/core/raw_images/522_image_3.jpg'\n",
      "Failed to read image raw_images/522_image_4.jpg\n",
      "[Errno 2] No such file or directory: '/Users/kalanjarvis-loewen/Desktop/Coding/learning/ml/LeanAI/core/raw_images/522_image_4.jpg'\n",
      "Failed to read image raw_images/524_image_1.jpeg\n",
      "[Errno 2] No such file or directory: '/Users/kalanjarvis-loewen/Desktop/Coding/learning/ml/LeanAI/core/raw_images/524_image_1.jpeg'\n"
     ]
    },
    {
     "name": "stderr",
     "output_type": "stream",
     "text": [
      "[ WARN:0@844.406] global loadsave.cpp:268 findDecoder imread_('raw_images/526_image_4.jpg'): can't open/read file: check file path/integrity\n",
      " 65%|█████████████████████████████████████████████████████████████▊                                 | 1030/1584 [00:45<00:13, 41.12it/s]"
     ]
    },
    {
     "name": "stdout",
     "output_type": "stream",
     "text": [
      "Failed to read image raw_images/526_image_4.jpg\n",
      "[Errno 2] No such file or directory: '/Users/kalanjarvis-loewen/Desktop/Coding/learning/ml/LeanAI/core/raw_images/526_image_4.jpg'\n"
     ]
    },
    {
     "name": "stderr",
     "output_type": "stream",
     "text": [
      "[ WARN:0@844.726] global loadsave.cpp:268 findDecoder imread_('raw_images/529_image_3.jpg'): can't open/read file: check file path/integrity\n",
      "[ WARN:0@844.727] global loadsave.cpp:268 findDecoder imread_('raw_images/529_image_4.jpg'): can't open/read file: check file path/integrity\n",
      "[ WARN:0@844.858] global loadsave.cpp:268 findDecoder imread_('raw_images/531_image_2.jpg'): can't open/read file: check file path/integrity\n",
      "[ WARN:0@844.859] global loadsave.cpp:268 findDecoder imread_('raw_images/531_image_3.jpg'): can't open/read file: check file path/integrity\n",
      "[ WARN:0@844.859] global loadsave.cpp:268 findDecoder imread_('raw_images/531_image_4.jpg'): can't open/read file: check file path/integrity\n",
      " 66%|██████████████████████████████████████████████████████████████▋                                | 1045/1584 [00:45<00:13, 39.14it/s]"
     ]
    },
    {
     "name": "stdout",
     "output_type": "stream",
     "text": [
      "Failed to read image raw_images/529_image_3.jpg\n",
      "[Errno 2] No such file or directory: '/Users/kalanjarvis-loewen/Desktop/Coding/learning/ml/LeanAI/core/raw_images/529_image_3.jpg'\n",
      "Failed to read image raw_images/529_image_4.jpg\n",
      "[Errno 2] No such file or directory: '/Users/kalanjarvis-loewen/Desktop/Coding/learning/ml/LeanAI/core/raw_images/529_image_4.jpg'\n",
      "Failed to read image raw_images/531_image_2.jpg\n",
      "[Errno 2] No such file or directory: '/Users/kalanjarvis-loewen/Desktop/Coding/learning/ml/LeanAI/core/raw_images/531_image_2.jpg'\n",
      "Failed to read image raw_images/531_image_3.jpg\n",
      "[Errno 2] No such file or directory: '/Users/kalanjarvis-loewen/Desktop/Coding/learning/ml/LeanAI/core/raw_images/531_image_3.jpg'\n",
      "Failed to read image raw_images/531_image_4.jpg\n",
      "[Errno 2] No such file or directory: '/Users/kalanjarvis-loewen/Desktop/Coding/learning/ml/LeanAI/core/raw_images/531_image_4.jpg'\n"
     ]
    },
    {
     "name": "stderr",
     "output_type": "stream",
     "text": [
      "[ WARN:0@845.046] global loadsave.cpp:268 findDecoder imread_('raw_images/534_image_2.jpg'): can't open/read file: check file path/integrity\n",
      "[ WARN:0@845.046] global loadsave.cpp:268 findDecoder imread_('raw_images/534_image_3.jpg'): can't open/read file: check file path/integrity\n",
      " 66%|██████████████████████████████████████████████████████████████▉                                | 1050/1584 [00:45<00:13, 38.78it/s]"
     ]
    },
    {
     "name": "stdout",
     "output_type": "stream",
     "text": [
      "Failed to read image raw_images/534_image_2.jpg\n",
      "[Errno 2] No such file or directory: '/Users/kalanjarvis-loewen/Desktop/Coding/learning/ml/LeanAI/core/raw_images/534_image_2.jpg'\n",
      "Failed to read image raw_images/534_image_3.jpg\n",
      "[Errno 2] No such file or directory: '/Users/kalanjarvis-loewen/Desktop/Coding/learning/ml/LeanAI/core/raw_images/534_image_3.jpg'\n"
     ]
    },
    {
     "name": "stderr",
     "output_type": "stream",
     "text": [
      "[ WARN:0@845.277] global loadsave.cpp:268 findDecoder imread_('raw_images/538_image_2.jpg'): can't open/read file: check file path/integrity\n",
      "[ WARN:0@845.277] global loadsave.cpp:268 findDecoder imread_('raw_images/538_image_3.jpg'): can't open/read file: check file path/integrity\n",
      " 67%|███████████████████████████████████████████████████████████████▌                               | 1060/1584 [00:46<00:15, 33.88it/s]"
     ]
    },
    {
     "name": "stdout",
     "output_type": "stream",
     "text": [
      "Failed to read image raw_images/538_image_2.jpg\n",
      "[Errno 2] No such file or directory: '/Users/kalanjarvis-loewen/Desktop/Coding/learning/ml/LeanAI/core/raw_images/538_image_2.jpg'\n",
      "Failed to read image raw_images/538_image_3.jpg\n",
      "[Errno 2] No such file or directory: '/Users/kalanjarvis-loewen/Desktop/Coding/learning/ml/LeanAI/core/raw_images/538_image_3.jpg'\n"
     ]
    },
    {
     "name": "stderr",
     "output_type": "stream",
     "text": [
      "[ WARN:0@845.493] global loadsave.cpp:268 findDecoder imread_('raw_images/541_image_2.jpg'): can't open/read file: check file path/integrity\n",
      " 67%|███████████████████████████████████████████████████████████████▊                               | 1064/1584 [00:46<00:16, 32.40it/s]"
     ]
    },
    {
     "name": "stdout",
     "output_type": "stream",
     "text": [
      "Failed to read image raw_images/541_image_2.jpg\n",
      "[Errno 2] No such file or directory: '/Users/kalanjarvis-loewen/Desktop/Coding/learning/ml/LeanAI/core/raw_images/541_image_2.jpg'\n"
     ]
    },
    {
     "name": "stderr",
     "output_type": "stream",
     "text": [
      "[ WARN:0@845.940] global loadsave.cpp:268 findDecoder imread_('raw_images/542_image_2.png'): can't open/read file: check file path/integrity\n",
      "[ WARN:0@845.941] global loadsave.cpp:268 findDecoder imread_('raw_images/542_image_3.jpg'): can't open/read file: check file path/integrity\n",
      "[ WARN:0@846.111] global loadsave.cpp:268 findDecoder imread_('raw_images/546_image_1.jpg'): can't open/read file: check file path/integrity\n",
      " 68%|████████████████████████████████████████████████████████████████▏                              | 1071/1584 [00:46<00:25, 20.23it/s]"
     ]
    },
    {
     "name": "stdout",
     "output_type": "stream",
     "text": [
      "Failed to read image raw_images/542_image_2.png\n",
      "[Errno 2] No such file or directory: '/Users/kalanjarvis-loewen/Desktop/Coding/learning/ml/LeanAI/core/raw_images/542_image_2.png'\n",
      "Failed to read image raw_images/542_image_3.jpg\n",
      "[Errno 2] No such file or directory: '/Users/kalanjarvis-loewen/Desktop/Coding/learning/ml/LeanAI/core/raw_images/542_image_3.jpg'\n",
      "Failed to read image raw_images/546_image_1.jpg\n",
      "[Errno 2] No such file or directory: '/Users/kalanjarvis-loewen/Desktop/Coding/learning/ml/LeanAI/core/raw_images/546_image_1.jpg'\n",
      "Failed to read image raw_images/546_image_2.jpg\n",
      "[Errno 2] No such file or directory: '/Users/kalanjarvis-loewen/Desktop/Coding/learning/ml/LeanAI/core/raw_images/546_image_2.jpg'\n",
      "Failed to read image raw_images/546_image_3.jpg\n",
      "[Errno 2] No such file or directory: '/Users/kalanjarvis-loewen/Desktop/Coding/learning/ml/LeanAI/core/raw_images/546_image_3.jpg'\n",
      "Failed to read image raw_images/546_image_4.jpg\n",
      "[Errno 2] No such file or directory: '/Users/kalanjarvis-loewen/Desktop/Coding/learning/ml/LeanAI/core/raw_images/546_image_4.jpg'\n",
      "Failed to read image raw_images/547_image_1.png\n",
      "[Errno 2] No such file or directory: '/Users/kalanjarvis-loewen/Desktop/Coding/learning/ml/LeanAI/core/raw_images/547_image_1.png'\n"
     ]
    },
    {
     "name": "stderr",
     "output_type": "stream",
     "text": [
      "[ WARN:0@846.112] global loadsave.cpp:268 findDecoder imread_('raw_images/546_image_2.jpg'): can't open/read file: check file path/integrity\n",
      "[ WARN:0@846.112] global loadsave.cpp:268 findDecoder imread_('raw_images/546_image_3.jpg'): can't open/read file: check file path/integrity\n",
      "[ WARN:0@846.112] global loadsave.cpp:268 findDecoder imread_('raw_images/546_image_4.jpg'): can't open/read file: check file path/integrity\n",
      "[ WARN:0@846.112] global loadsave.cpp:268 findDecoder imread_('raw_images/547_image_1.png'): can't open/read file: check file path/integrity\n",
      "[ WARN:0@846.217] global loadsave.cpp:268 findDecoder imread_('raw_images/548_image_3.jpg'): can't open/read file: check file path/integrity\n"
     ]
    },
    {
     "name": "stdout",
     "output_type": "stream",
     "text": [
      "Failed to read image raw_images/548_image_3.jpg\n",
      "[Errno 2] No such file or directory: '/Users/kalanjarvis-loewen/Desktop/Coding/learning/ml/LeanAI/core/raw_images/548_image_3.jpg'\n"
     ]
    },
    {
     "name": "stderr",
     "output_type": "stream",
     "text": [
      "[ WARN:0@846.577] global loadsave.cpp:268 findDecoder imread_('raw_images/550_image_2.jpg'): can't open/read file: check file path/integrity\n",
      "[ WARN:0@846.640] global loadsave.cpp:268 findDecoder imread_('raw_images/552_image_1.jpg'): can't open/read file: check file path/integrity\n",
      "[ WARN:0@846.640] global loadsave.cpp:268 findDecoder imread_('raw_images/553_image_1.png'): can't open/read file: check file path/integrity\n",
      " 69%|█████████████████████████████████████████████████████████████████▏                             | 1086/1584 [00:47<00:21, 23.61it/s]"
     ]
    },
    {
     "name": "stdout",
     "output_type": "stream",
     "text": [
      "Failed to read image raw_images/550_image_2.jpg\n",
      "[Errno 2] No such file or directory: '/Users/kalanjarvis-loewen/Desktop/Coding/learning/ml/LeanAI/core/raw_images/550_image_2.jpg'\n",
      "Failed to read image raw_images/552_image_1.jpg\n",
      "[Errno 2] No such file or directory: '/Users/kalanjarvis-loewen/Desktop/Coding/learning/ml/LeanAI/core/raw_images/552_image_1.jpg'\n",
      "Failed to read image raw_images/553_image_1.png\n",
      "[Errno 2] No such file or directory: '/Users/kalanjarvis-loewen/Desktop/Coding/learning/ml/LeanAI/core/raw_images/553_image_1.png'\n"
     ]
    },
    {
     "name": "stderr",
     "output_type": "stream",
     "text": [
      "[ WARN:0@847.112] global loadsave.cpp:268 findDecoder imread_('raw_images/554_image_2.jpg'): can't open/read file: check file path/integrity\n",
      "[ WARN:0@847.112] global loadsave.cpp:268 findDecoder imread_('raw_images/554_image_3.jpg'): can't open/read file: check file path/integrity\n",
      "[ WARN:0@847.113] global loadsave.cpp:268 findDecoder imread_('raw_images/555_image_1.jpg'): can't open/read file: check file path/integrity\n",
      "[ WARN:0@847.113] global loadsave.cpp:268 findDecoder imread_('raw_images/556_image_1.png'): can't open/read file: check file path/integrity\n",
      " 69%|█████████████████████████████████████████████████████████████████▌                             | 1093/1584 [00:48<00:28, 16.94it/s]"
     ]
    },
    {
     "name": "stdout",
     "output_type": "stream",
     "text": [
      "Failed to read image raw_images/554_image_2.jpg\n",
      "[Errno 2] No such file or directory: '/Users/kalanjarvis-loewen/Desktop/Coding/learning/ml/LeanAI/core/raw_images/554_image_2.jpg'\n",
      "Failed to read image raw_images/554_image_3.jpg\n",
      "[Errno 2] No such file or directory: '/Users/kalanjarvis-loewen/Desktop/Coding/learning/ml/LeanAI/core/raw_images/554_image_3.jpg'\n",
      "Failed to read image raw_images/555_image_1.jpg\n",
      "[Errno 2] No such file or directory: '/Users/kalanjarvis-loewen/Desktop/Coding/learning/ml/LeanAI/core/raw_images/555_image_1.jpg'\n",
      "Failed to read image raw_images/556_image_1.png\n",
      "[Errno 2] No such file or directory: '/Users/kalanjarvis-loewen/Desktop/Coding/learning/ml/LeanAI/core/raw_images/556_image_1.png'\n"
     ]
    },
    {
     "name": "stderr",
     "output_type": "stream",
     "text": [
      "[ WARN:0@847.359] global loadsave.cpp:268 findDecoder imread_('raw_images/559_image_2.jpg'): can't open/read file: check file path/integrity\n",
      "[ WARN:0@847.360] global loadsave.cpp:268 findDecoder imread_('raw_images/559_image_3.jpg'): can't open/read file: check file path/integrity\n",
      " 69%|█████████████████████████████████████████████████████████████████▉                             | 1100/1584 [00:48<00:23, 20.78it/s]"
     ]
    },
    {
     "name": "stdout",
     "output_type": "stream",
     "text": [
      "Failed to read image raw_images/559_image_2.jpg\n",
      "[Errno 2] No such file or directory: '/Users/kalanjarvis-loewen/Desktop/Coding/learning/ml/LeanAI/core/raw_images/559_image_2.jpg'\n",
      "Failed to read image raw_images/559_image_3.jpg\n",
      "[Errno 2] No such file or directory: '/Users/kalanjarvis-loewen/Desktop/Coding/learning/ml/LeanAI/core/raw_images/559_image_3.jpg'\n"
     ]
    },
    {
     "name": "stderr",
     "output_type": "stream",
     "text": [
      "[ WARN:0@847.581] global loadsave.cpp:268 findDecoder imread_('raw_images/563_image_2.jpg'): can't open/read file: check file path/integrity\n",
      "[ WARN:0@847.582] global loadsave.cpp:268 findDecoder imread_('raw_images/563_image_3.jpg'): can't open/read file: check file path/integrity\n",
      " 70%|██████████████████████████████████████████████████████████████████▏                            | 1104/1584 [00:48<00:19, 24.46it/s]"
     ]
    },
    {
     "name": "stdout",
     "output_type": "stream",
     "text": [
      "Failed to read image raw_images/563_image_2.jpg\n",
      "[Errno 2] No such file or directory: '/Users/kalanjarvis-loewen/Desktop/Coding/learning/ml/LeanAI/core/raw_images/563_image_2.jpg'\n",
      "Failed to read image raw_images/563_image_3.jpg\n",
      "[Errno 2] No such file or directory: '/Users/kalanjarvis-loewen/Desktop/Coding/learning/ml/LeanAI/core/raw_images/563_image_3.jpg'\n"
     ]
    },
    {
     "name": "stderr",
     "output_type": "stream",
     "text": [
      "[ WARN:0@848.130] global loadsave.cpp:268 findDecoder imread_('raw_images/568_image_4.jpg'): can't open/read file: check file path/integrity\n",
      " 70%|██████████████████████████████████████████████████████████████████▊                            | 1113/1584 [00:49<00:23, 19.88it/s]"
     ]
    },
    {
     "name": "stdout",
     "output_type": "stream",
     "text": [
      "Failed to read image raw_images/568_image_4.jpg\n",
      "[Errno 2] No such file or directory: '/Users/kalanjarvis-loewen/Desktop/Coding/learning/ml/LeanAI/core/raw_images/568_image_4.jpg'\n"
     ]
    },
    {
     "name": "stderr",
     "output_type": "stream",
     "text": [
      "[ WARN:0@848.341] global loadsave.cpp:268 findDecoder imread_('raw_images/570_image_2.jpg'): can't open/read file: check file path/integrity\n",
      "[ WARN:0@848.342] global loadsave.cpp:268 findDecoder imread_('raw_images/570_image_3.jpg'): can't open/read file: check file path/integrity\n",
      "[ WARN:0@848.343] global loadsave.cpp:268 findDecoder imread_('raw_images/570_image_4.jpg'): can't open/read file: check file path/integrity\n",
      " 71%|███████████████████████████████████████████████████████████████████▏                           | 1120/1584 [00:49<00:19, 24.22it/s]"
     ]
    },
    {
     "name": "stdout",
     "output_type": "stream",
     "text": [
      "Failed to read image raw_images/570_image_2.jpg\n",
      "[Errno 2] No such file or directory: '/Users/kalanjarvis-loewen/Desktop/Coding/learning/ml/LeanAI/core/raw_images/570_image_2.jpg'\n",
      "Failed to read image raw_images/570_image_3.jpg\n",
      "[Errno 2] No such file or directory: '/Users/kalanjarvis-loewen/Desktop/Coding/learning/ml/LeanAI/core/raw_images/570_image_3.jpg'\n",
      "Failed to read image raw_images/570_image_4.jpg\n",
      "[Errno 2] No such file or directory: '/Users/kalanjarvis-loewen/Desktop/Coding/learning/ml/LeanAI/core/raw_images/570_image_4.jpg'\n"
     ]
    },
    {
     "name": "stderr",
     "output_type": "stream",
     "text": [
      "[ WARN:0@848.568] global loadsave.cpp:268 findDecoder imread_('raw_images/574_image_2.jpg'): can't open/read file: check file path/integrity\n",
      " 71%|███████████████████████████████████████████████████████████████████▌                           | 1126/1584 [00:49<00:18, 24.26it/s]"
     ]
    },
    {
     "name": "stdout",
     "output_type": "stream",
     "text": [
      "Failed to read image raw_images/574_image_2.jpg\n",
      "[Errno 2] No such file or directory: '/Users/kalanjarvis-loewen/Desktop/Coding/learning/ml/LeanAI/core/raw_images/574_image_2.jpg'\n",
      "Failed to read image raw_images/576_image_3.jpg\n",
      "[Errno 2] No such file or directory: '/Users/kalanjarvis-loewen/Desktop/Coding/learning/ml/LeanAI/core/raw_images/576_image_3.jpg'\n",
      "Failed to read image raw_images/576_image_4.jpg\n",
      "[Errno 2] No such file or directory: '/Users/kalanjarvis-loewen/Desktop/Coding/learning/ml/LeanAI/core/raw_images/576_image_4.jpg'\n"
     ]
    },
    {
     "name": "stderr",
     "output_type": "stream",
     "text": [
      "[ WARN:0@848.709] global loadsave.cpp:268 findDecoder imread_('raw_images/576_image_3.jpg'): can't open/read file: check file path/integrity\n",
      "[ WARN:0@848.709] global loadsave.cpp:268 findDecoder imread_('raw_images/576_image_4.jpg'): can't open/read file: check file path/integrity\n",
      "[ WARN:0@848.904] global loadsave.cpp:268 findDecoder imread_('raw_images/578_image_3.jpg'): can't open/read file: check file path/integrity\n",
      "[ WARN:0@848.905] global loadsave.cpp:268 findDecoder imread_('raw_images/578_image_4.jpg'): can't open/read file: check file path/integrity\n",
      "[ WARN:0@848.968] global loadsave.cpp:268 findDecoder imread_('raw_images/579_image_2.jpg'): can't open/read file: check file path/integrity\n"
     ]
    },
    {
     "name": "stdout",
     "output_type": "stream",
     "text": [
      "Failed to read image raw_images/578_image_3.jpg\n",
      "[Errno 2] No such file or directory: '/Users/kalanjarvis-loewen/Desktop/Coding/learning/ml/LeanAI/core/raw_images/578_image_3.jpg'\n",
      "Failed to read image raw_images/578_image_4.jpg\n",
      "[Errno 2] No such file or directory: '/Users/kalanjarvis-loewen/Desktop/Coding/learning/ml/LeanAI/core/raw_images/578_image_4.jpg'\n",
      "Failed to read image raw_images/579_image_2.jpg\n",
      "[Errno 2] No such file or directory: '/Users/kalanjarvis-loewen/Desktop/Coding/learning/ml/LeanAI/core/raw_images/579_image_2.jpg'\n"
     ]
    },
    {
     "name": "stderr",
     "output_type": "stream",
     "text": [
      "[ WARN:0@849.243] global loadsave.cpp:268 findDecoder imread_('raw_images/582_image_2.jpg'): can't open/read file: check file path/integrity\n",
      " 72%|████████████████████████████████████████████████████████████████████▌                          | 1143/1584 [00:50<00:18, 24.10it/s]"
     ]
    },
    {
     "name": "stdout",
     "output_type": "stream",
     "text": [
      "Failed to read image raw_images/582_image_2.jpg\n",
      "[Errno 2] No such file or directory: '/Users/kalanjarvis-loewen/Desktop/Coding/learning/ml/LeanAI/core/raw_images/582_image_2.jpg'\n"
     ]
    },
    {
     "name": "stderr",
     "output_type": "stream",
     "text": [
      "[ WARN:0@849.523] global loadsave.cpp:268 findDecoder imread_('raw_images/585_image_4.jpg'): can't open/read file: check file path/integrity\n",
      "[ WARN:0@849.645] global loadsave.cpp:268 findDecoder imread_('raw_images/586_image_2.jpg'): can't open/read file: check file path/integrity\n",
      "[ WARN:0@849.646] global loadsave.cpp:268 findDecoder imread_('raw_images/586_image_3.jpg'): can't open/read file: check file path/integrity\n"
     ]
    },
    {
     "name": "stdout",
     "output_type": "stream",
     "text": [
      "Failed to read image raw_images/585_image_4.jpg\n",
      "[Errno 2] No such file or directory: '/Users/kalanjarvis-loewen/Desktop/Coding/learning/ml/LeanAI/core/raw_images/585_image_4.jpg'\n",
      "Failed to read image raw_images/586_image_2.jpg\n",
      "[Errno 2] No such file or directory: '/Users/kalanjarvis-loewen/Desktop/Coding/learning/ml/LeanAI/core/raw_images/586_image_2.jpg'\n",
      "Failed to read image raw_images/586_image_3.jpg\n",
      "[Errno 2] No such file or directory: '/Users/kalanjarvis-loewen/Desktop/Coding/learning/ml/LeanAI/core/raw_images/586_image_3.jpg'\n"
     ]
    },
    {
     "name": "stderr",
     "output_type": "stream",
     "text": [
      "[ WARN:0@849.897] global loadsave.cpp:268 findDecoder imread_('raw_images/589_image_3.jpg'): can't open/read file: check file path/integrity\n",
      "[ WARN:0@849.898] global loadsave.cpp:268 findDecoder imread_('raw_images/589_image_4.jpg'): can't open/read file: check file path/integrity\n",
      "[ WARN:0@849.956] global loadsave.cpp:268 findDecoder imread_('raw_images/590_image_2.jpg'): can't open/read file: check file path/integrity\n",
      "[ WARN:0@850.097] global loadsave.cpp:268 findDecoder imread_('raw_images/592_image_2.jpg'): can't open/read file: check file path/integrity\n",
      "[ WARN:0@850.098] global loadsave.cpp:268 findDecoder imread_('raw_images/592_image_3.jpg'): can't open/read file: check file path/integrity\n"
     ]
    },
    {
     "name": "stdout",
     "output_type": "stream",
     "text": [
      "Failed to read image raw_images/589_image_3.jpg\n",
      "[Errno 2] No such file or directory: '/Users/kalanjarvis-loewen/Desktop/Coding/learning/ml/LeanAI/core/raw_images/589_image_3.jpg'\n",
      "Failed to read image raw_images/589_image_4.jpg\n",
      "[Errno 2] No such file or directory: '/Users/kalanjarvis-loewen/Desktop/Coding/learning/ml/LeanAI/core/raw_images/589_image_4.jpg'\n",
      "Failed to read image raw_images/590_image_2.jpg\n",
      "[Errno 2] No such file or directory: '/Users/kalanjarvis-loewen/Desktop/Coding/learning/ml/LeanAI/core/raw_images/590_image_2.jpg'\n",
      "Failed to read image raw_images/592_image_2.jpg\n",
      "[Errno 2] No such file or directory: '/Users/kalanjarvis-loewen/Desktop/Coding/learning/ml/LeanAI/core/raw_images/592_image_2.jpg'\n",
      "Failed to read image raw_images/592_image_3.jpg\n"
     ]
    },
    {
     "name": "stderr",
     "output_type": "stream",
     "text": [
      "[ WARN:0@850.098] global loadsave.cpp:268 findDecoder imread_('raw_images/592_image_4.jpg'): can't open/read file: check file path/integrity\n",
      " 74%|█████████████████████████████████████████████████████████████████████▊                         | 1165/1584 [00:50<00:13, 30.88it/s]"
     ]
    },
    {
     "name": "stdout",
     "output_type": "stream",
     "text": [
      "[Errno 2] No such file or directory: '/Users/kalanjarvis-loewen/Desktop/Coding/learning/ml/LeanAI/core/raw_images/592_image_3.jpg'\n",
      "Failed to read image raw_images/592_image_4.jpg\n",
      "[Errno 2] No such file or directory: '/Users/kalanjarvis-loewen/Desktop/Coding/learning/ml/LeanAI/core/raw_images/592_image_4.jpg'\n"
     ]
    },
    {
     "name": "stderr",
     "output_type": "stream",
     "text": [
      "[ WARN:0@850.324] global loadsave.cpp:268 findDecoder imread_('raw_images/595_image_3.jpg'): can't open/read file: check file path/integrity\n",
      "[ WARN:0@850.413] global loadsave.cpp:268 findDecoder imread_('raw_images/597_image_1.jpg'): can't open/read file: check file path/integrity\n",
      "[ WARN:0@850.413] global loadsave.cpp:268 findDecoder imread_('raw_images/597_image_2.jpg'): can't open/read file: check file path/integrity\n",
      "[ WARN:0@850.413] global loadsave.cpp:268 findDecoder imread_('raw_images/597_image_3.jpg'): can't open/read file: check file path/integrity\n",
      "[ WARN:0@850.478] global loadsave.cpp:268 findDecoder imread_('raw_images/599_image_1.jpg'): can't open/read file: check file path/integrity\n",
      "[ WARN:0@850.522] global loadsave.cpp:268 findDecoder imread_('raw_images/601_image_1.jpeg'): can't open/read file: check file path/integrity\n"
     ]
    },
    {
     "name": "stdout",
     "output_type": "stream",
     "text": [
      "Failed to read image raw_images/595_image_3.jpg\n",
      "[Errno 2] No such file or directory: '/Users/kalanjarvis-loewen/Desktop/Coding/learning/ml/LeanAI/core/raw_images/595_image_3.jpg'\n",
      "Failed to read image raw_images/597_image_1.jpg\n",
      "[Errno 2] No such file or directory: '/Users/kalanjarvis-loewen/Desktop/Coding/learning/ml/LeanAI/core/raw_images/597_image_1.jpg'\n",
      "Failed to read image raw_images/597_image_2.jpg\n",
      "[Errno 2] No such file or directory: '/Users/kalanjarvis-loewen/Desktop/Coding/learning/ml/LeanAI/core/raw_images/597_image_2.jpg'\n",
      "Failed to read image raw_images/597_image_3.jpg\n",
      "[Errno 2] No such file or directory: '/Users/kalanjarvis-loewen/Desktop/Coding/learning/ml/LeanAI/core/raw_images/597_image_3.jpg'\n",
      "Failed to read image raw_images/599_image_1.jpg\n",
      "[Errno 2] No such file or directory: '/Users/kalanjarvis-loewen/Desktop/Coding/learning/ml/LeanAI/core/raw_images/599_image_1.jpg'\n",
      "Failed to read image raw_images/601_image_1.jpeg\n",
      "[Errno 2] No such file or directory: '/Users/kalanjarvis-loewen/Desktop/Coding/learning/ml/LeanAI/core/raw_images/601_image_1.jpeg'\n"
     ]
    },
    {
     "name": "stderr",
     "output_type": "stream",
     "text": [
      "[ WARN:0@850.598] global loadsave.cpp:268 findDecoder imread_('raw_images/602_image_2.png'): can't open/read file: check file path/integrity\n",
      "[ WARN:0@850.598] global loadsave.cpp:268 findDecoder imread_('raw_images/603_image_1.png'): can't open/read file: check file path/integrity\n",
      " 75%|███████████████████████████████████████████████████████████████████████                        | 1184/1584 [00:51<00:11, 34.60it/s]"
     ]
    },
    {
     "name": "stdout",
     "output_type": "stream",
     "text": [
      "Failed to read image raw_images/602_image_2.png\n",
      "[Errno 2] No such file or directory: '/Users/kalanjarvis-loewen/Desktop/Coding/learning/ml/LeanAI/core/raw_images/602_image_2.png'\n",
      "Failed to read image raw_images/603_image_1.png\n",
      "[Errno 2] No such file or directory: '/Users/kalanjarvis-loewen/Desktop/Coding/learning/ml/LeanAI/core/raw_images/603_image_1.png'\n"
     ]
    },
    {
     "name": "stderr",
     "output_type": "stream",
     "text": [
      "[ WARN:0@850.832] global loadsave.cpp:268 findDecoder imread_('raw_images/605_image_1.jpg'): can't open/read file: check file path/integrity\n",
      "[ WARN:0@850.833] global loadsave.cpp:268 findDecoder imread_('raw_images/605_image_2.jpg'): can't open/read file: check file path/integrity\n",
      "[ WARN:0@850.833] global loadsave.cpp:268 findDecoder imread_('raw_images/605_image_3.jpg'): can't open/read file: check file path/integrity\n",
      "[ WARN:0@850.833] global loadsave.cpp:268 findDecoder imread_('raw_images/605_image_4.jpg'): can't open/read file: check file path/integrity\n"
     ]
    },
    {
     "name": "stdout",
     "output_type": "stream",
     "text": [
      "Failed to read image raw_images/605_image_1.jpg\n",
      "[Errno 2] No such file or directory: '/Users/kalanjarvis-loewen/Desktop/Coding/learning/ml/LeanAI/core/raw_images/605_image_1.jpg'\n",
      "Failed to read image raw_images/605_image_2.jpg\n",
      "[Errno 2] No such file or directory: '/Users/kalanjarvis-loewen/Desktop/Coding/learning/ml/LeanAI/core/raw_images/605_image_2.jpg'\n",
      "Failed to read image raw_images/605_image_3.jpg\n",
      "[Errno 2] No such file or directory: '/Users/kalanjarvis-loewen/Desktop/Coding/learning/ml/LeanAI/core/raw_images/605_image_3.jpg'\n",
      "Failed to read image raw_images/605_image_4.jpg\n",
      "[Errno 2] No such file or directory: '/Users/kalanjarvis-loewen/Desktop/Coding/learning/ml/LeanAI/core/raw_images/605_image_4.jpg'\n"
     ]
    },
    {
     "name": "stderr",
     "output_type": "stream",
     "text": [
      "[ WARN:0@851.167] global loadsave.cpp:268 findDecoder imread_('raw_images/608_image_1.jpeg'): can't open/read file: check file path/integrity\n",
      "[ WARN:0@851.168] global loadsave.cpp:268 findDecoder imread_('raw_images/609_image_1.jpg'): can't open/read file: check file path/integrity\n",
      "[ WARN:0@851.168] global loadsave.cpp:268 findDecoder imread_('raw_images/609_image_2.jpg'): can't open/read file: check file path/integrity\n",
      "[ WARN:0@851.168] global loadsave.cpp:268 findDecoder imread_('raw_images/610_image_1.jpeg'): can't open/read file: check file path/integrity\n",
      "[ WARN:0@851.168] global loadsave.cpp:268 findDecoder imread_('raw_images/611_image_1.jpg'): can't open/read file: check file path/integrity\n",
      "[ WARN:0@851.168] global loadsave.cpp:268 findDecoder imread_('raw_images/611_image_2.jpg'): can't open/read file: check file path/integrity\n",
      "[ WARN:0@851.168] global loadsave.cpp:268 findDecoder imread_('raw_images/612_image_1.png'): can't open/read file: check file path/integrity\n",
      " 76%|████████████████████████████████████████████████████████████████████████                       | 1201/1584 [00:52<00:10, 36.75it/s]"
     ]
    },
    {
     "name": "stdout",
     "output_type": "stream",
     "text": [
      "Failed to read image raw_images/608_image_1.jpeg\n",
      "[Errno 2] No such file or directory: '/Users/kalanjarvis-loewen/Desktop/Coding/learning/ml/LeanAI/core/raw_images/608_image_1.jpeg'\n",
      "Failed to read image raw_images/609_image_1.jpg\n",
      "[Errno 2] No such file or directory: '/Users/kalanjarvis-loewen/Desktop/Coding/learning/ml/LeanAI/core/raw_images/609_image_1.jpg'\n",
      "Failed to read image raw_images/609_image_2.jpg\n",
      "[Errno 2] No such file or directory: '/Users/kalanjarvis-loewen/Desktop/Coding/learning/ml/LeanAI/core/raw_images/609_image_2.jpg'\n",
      "Failed to read image raw_images/610_image_1.jpeg\n",
      "[Errno 2] No such file or directory: '/Users/kalanjarvis-loewen/Desktop/Coding/learning/ml/LeanAI/core/raw_images/610_image_1.jpeg'\n",
      "Failed to read image raw_images/611_image_1.jpg\n",
      "[Errno 2] No such file or directory: '/Users/kalanjarvis-loewen/Desktop/Coding/learning/ml/LeanAI/core/raw_images/611_image_1.jpg'\n",
      "Failed to read image raw_images/611_image_2.jpg\n",
      "[Errno 2] No such file or directory: '/Users/kalanjarvis-loewen/Desktop/Coding/learning/ml/LeanAI/core/raw_images/611_image_2.jpg'\n",
      "Failed to read image raw_images/612_image_1.png\n",
      "[Errno 2] No such file or directory: '/Users/kalanjarvis-loewen/Desktop/Coding/learning/ml/LeanAI/core/raw_images/612_image_1.png'\n"
     ]
    },
    {
     "name": "stderr",
     "output_type": "stream",
     "text": [
      "[ WARN:0@851.425] global loadsave.cpp:268 findDecoder imread_('raw_images/614_image_3.jpg'): can't open/read file: check file path/integrity\n",
      "[ WARN:0@851.426] global loadsave.cpp:268 findDecoder imread_('raw_images/615_image_1.jpg'): can't open/read file: check file path/integrity\n",
      "[ WARN:0@851.426] global loadsave.cpp:268 findDecoder imread_('raw_images/615_image_2.jpg'): can't open/read file: check file path/integrity\n",
      "[ WARN:0@851.426] global loadsave.cpp:268 findDecoder imread_('raw_images/616_image_1.png'): can't open/read file: check file path/integrity\n",
      "[ WARN:0@851.426] global loadsave.cpp:268 findDecoder imread_('raw_images/617_image_1.jpeg'): can't open/read file: check file path/integrity\n",
      " 77%|████████████████████████████████████████████████████████████████████████▋                      | 1213/1584 [00:52<00:09, 38.98it/s]"
     ]
    },
    {
     "name": "stdout",
     "output_type": "stream",
     "text": [
      "Failed to read image raw_images/614_image_3.jpg\n",
      "[Errno 2] No such file or directory: '/Users/kalanjarvis-loewen/Desktop/Coding/learning/ml/LeanAI/core/raw_images/614_image_3.jpg'\n",
      "Failed to read image raw_images/615_image_1.jpg\n",
      "[Errno 2] No such file or directory: '/Users/kalanjarvis-loewen/Desktop/Coding/learning/ml/LeanAI/core/raw_images/615_image_1.jpg'\n",
      "Failed to read image raw_images/615_image_2.jpg\n",
      "[Errno 2] No such file or directory: '/Users/kalanjarvis-loewen/Desktop/Coding/learning/ml/LeanAI/core/raw_images/615_image_2.jpg'\n",
      "Failed to read image raw_images/616_image_1.png\n",
      "[Errno 2] No such file or directory: '/Users/kalanjarvis-loewen/Desktop/Coding/learning/ml/LeanAI/core/raw_images/616_image_1.png'\n",
      "Failed to read image raw_images/617_image_1.jpeg\n",
      "[Errno 2] No such file or directory: '/Users/kalanjarvis-loewen/Desktop/Coding/learning/ml/LeanAI/core/raw_images/617_image_1.jpeg'\n",
      "Failed to read image raw_images/619_image_1.jpg\n",
      "[Errno 2] No such file or directory: '/Users/kalanjarvis-loewen/Desktop/Coding/learning/ml/LeanAI/core/raw_images/619_image_1.jpg'\n",
      "Failed to read image raw_images/619_image_2.jpg\n",
      "[Errno 2] No such file or directory: '/Users/kalanjarvis-loewen/Desktop/Coding/learning/ml/LeanAI/core/raw_images/619_image_2.jpg'\n",
      "Failed to read image raw_images/619_image_3.jpg\n",
      "[Errno 2] No such file or directory: '/Users/kalanjarvis-loewen/Desktop/Coding/learning/ml/LeanAI/core/raw_images/619_image_3.jpg'\n",
      "Failed to read image raw_images/619_image_4.jpg\n",
      "[Errno 2] No such file or directory: '/Users/kalanjarvis-loewen/Desktop/Coding/learning/ml/LeanAI/core/raw_images/619_image_4.jpg'\n",
      "Failed to read image raw_images/621_image_1.jpeg\n",
      "[Errno 2] No such file or directory: '/Users/kalanjarvis-loewen/Desktop/Coding/learning/ml/LeanAI/core/raw_images/621_image_1.jpeg'\n",
      "Failed to read image raw_images/622_image_1.jpg\n",
      "[Errno 2] No such file or directory: '/Users/kalanjarvis-loewen/Desktop/Coding/learning/ml/LeanAI/core/raw_images/622_image_1.jpg'\n",
      "Failed to read image raw_images/622_image_2.jpg\n",
      "[Errno 2] No such file or directory: '/Users/kalanjarvis-loewen/Desktop/Coding/learning/ml/LeanAI/core/raw_images/622_image_2.jpg'\n",
      "Failed to read image raw_images/623_image_1.jpeg\n",
      "[Errno 2] No such file or directory: '/Users/kalanjarvis-loewen/Desktop/Coding/learning/ml/LeanAI/core/raw_images/623_image_1.jpeg'\n"
     ]
    },
    {
     "name": "stderr",
     "output_type": "stream",
     "text": [
      "[ WARN:0@851.536] global loadsave.cpp:268 findDecoder imread_('raw_images/619_image_1.jpg'): can't open/read file: check file path/integrity\n",
      "[ WARN:0@851.537] global loadsave.cpp:268 findDecoder imread_('raw_images/619_image_2.jpg'): can't open/read file: check file path/integrity\n",
      "[ WARN:0@851.537] global loadsave.cpp:268 findDecoder imread_('raw_images/619_image_3.jpg'): can't open/read file: check file path/integrity\n",
      "[ WARN:0@851.537] global loadsave.cpp:268 findDecoder imread_('raw_images/619_image_4.jpg'): can't open/read file: check file path/integrity\n",
      "[ WARN:0@851.592] global loadsave.cpp:268 findDecoder imread_('raw_images/621_image_1.jpeg'): can't open/read file: check file path/integrity\n",
      "[ WARN:0@851.592] global loadsave.cpp:268 findDecoder imread_('raw_images/622_image_1.jpg'): can't open/read file: check file path/integrity\n",
      "[ WARN:0@851.592] global loadsave.cpp:268 findDecoder imread_('raw_images/622_image_2.jpg'): can't open/read file: check file path/integrity\n",
      "[ WARN:0@851.592] global loadsave.cpp:268 findDecoder imread_('raw_images/623_image_1.jpeg'): can't open/read file: check file path/integrity\n",
      "[ WARN:0@852.031] global loadsave.cpp:268 findDecoder imread_('raw_images/628_image_3.jpg'): can't open/read file: check file path/integrity\n",
      "[ WARN:0@852.032] global loadsave.cpp:268 findDecoder imread_('raw_images/628_image_4.jpg'): can't open/read file: check file path/integrity\n",
      "[ WARN:0@852.032] global loadsave.cpp:268 findDecoder imread_('raw_images/629_image_1.jpg'): can't open/read file: check file path/integrity\n",
      "[ WARN:0@852.032] global loadsave.cpp:268 findDecoder imread_('raw_images/629_image_2.jpg'): can't open/read file: check file path/integrity\n",
      "[ WARN:0@852.032] global loadsave.cpp:268 findDecoder imread_('raw_images/630_image_1.jpeg'): can't open/read file: check file path/integrity\n",
      "[ WARN:0@852.032] global loadsave.cpp:268 findDecoder imread_('raw_images/631_image_1.jpg'): can't open/read file: check file path/integrity\n",
      "[ WARN:0@852.032] global loadsave.cpp:268 findDecoder imread_('raw_images/631_image_2.jpg'): can't open/read file: check file path/integrity\n",
      "[ WARN:0@852.032] global loadsave.cpp:268 findDecoder imread_('raw_images/631_image_3.jpg'): can't open/read file: check file path/integrity\n",
      "[ WARN:0@852.033] global loadsave.cpp:268 findDecoder imread_('raw_images/631_image_4.jpg'): can't open/read file: check file path/integrity\n",
      "[ WARN:0@852.090] global loadsave.cpp:268 findDecoder imread_('raw_images/633_image_1.jpeg'): can't open/read file: check file path/integrity\n",
      "[ WARN:0@852.180] global loadsave.cpp:268 findDecoder imread_('raw_images/635_image_1.jpg'): can't open/read file: check file path/integrity\n",
      "[ WARN:0@852.181] global loadsave.cpp:268 findDecoder imread_('raw_images/635_image_2.jpg'): can't open/read file: check file path/integrity\n",
      "[ WARN:0@852.181] global loadsave.cpp:268 findDecoder imread_('raw_images/635_image_3.jpg'): can't open/read file: check file path/integrity\n",
      "[ WARN:0@852.181] global loadsave.cpp:268 findDecoder imread_('raw_images/635_image_4.jpg'): can't open/read file: check file path/integrity\n",
      "[ WARN:0@852.181] global loadsave.cpp:268 findDecoder imread_('raw_images/636_image_1.jpeg'): can't open/read file: check file path/integrity\n",
      " 79%|███████████████████████████████████████████████████████████████████████████                    | 1251/1584 [00:53<00:06, 52.98it/s]"
     ]
    },
    {
     "name": "stdout",
     "output_type": "stream",
     "text": [
      "Failed to read image raw_images/628_image_3.jpg\n",
      "[Errno 2] No such file or directory: '/Users/kalanjarvis-loewen/Desktop/Coding/learning/ml/LeanAI/core/raw_images/628_image_3.jpg'\n",
      "Failed to read image raw_images/628_image_4.jpg\n",
      "[Errno 2] No such file or directory: '/Users/kalanjarvis-loewen/Desktop/Coding/learning/ml/LeanAI/core/raw_images/628_image_4.jpg'\n",
      "Failed to read image raw_images/629_image_1.jpg\n",
      "[Errno 2] No such file or directory: '/Users/kalanjarvis-loewen/Desktop/Coding/learning/ml/LeanAI/core/raw_images/629_image_1.jpg'\n",
      "Failed to read image raw_images/629_image_2.jpg\n",
      "[Errno 2] No such file or directory: '/Users/kalanjarvis-loewen/Desktop/Coding/learning/ml/LeanAI/core/raw_images/629_image_2.jpg'\n",
      "Failed to read image raw_images/630_image_1.jpeg\n",
      "[Errno 2] No such file or directory: '/Users/kalanjarvis-loewen/Desktop/Coding/learning/ml/LeanAI/core/raw_images/630_image_1.jpeg'\n",
      "Failed to read image raw_images/631_image_1.jpg\n",
      "[Errno 2] No such file or directory: '/Users/kalanjarvis-loewen/Desktop/Coding/learning/ml/LeanAI/core/raw_images/631_image_1.jpg'\n",
      "Failed to read image raw_images/631_image_2.jpg\n",
      "[Errno 2] No such file or directory: '/Users/kalanjarvis-loewen/Desktop/Coding/learning/ml/LeanAI/core/raw_images/631_image_2.jpg'\n",
      "Failed to read image raw_images/631_image_3.jpg\n",
      "[Errno 2] No such file or directory: '/Users/kalanjarvis-loewen/Desktop/Coding/learning/ml/LeanAI/core/raw_images/631_image_3.jpg'\n",
      "Failed to read image raw_images/631_image_4.jpg\n",
      "[Errno 2] No such file or directory: '/Users/kalanjarvis-loewen/Desktop/Coding/learning/ml/LeanAI/core/raw_images/631_image_4.jpg'\n",
      "Failed to read image raw_images/633_image_1.jpeg\n",
      "[Errno 2] No such file or directory: '/Users/kalanjarvis-loewen/Desktop/Coding/learning/ml/LeanAI/core/raw_images/633_image_1.jpeg'\n",
      "Failed to read image raw_images/635_image_1.jpg\n",
      "[Errno 2] No such file or directory: '/Users/kalanjarvis-loewen/Desktop/Coding/learning/ml/LeanAI/core/raw_images/635_image_1.jpg'\n",
      "Failed to read image raw_images/635_image_2.jpg\n",
      "[Errno 2] No such file or directory: '/Users/kalanjarvis-loewen/Desktop/Coding/learning/ml/LeanAI/core/raw_images/635_image_2.jpg'\n",
      "Failed to read image raw_images/635_image_3.jpg\n",
      "[Errno 2] No such file or directory: '/Users/kalanjarvis-loewen/Desktop/Coding/learning/ml/LeanAI/core/raw_images/635_image_3.jpg'\n",
      "Failed to read image raw_images/635_image_4.jpg\n",
      "[Errno 2] No such file or directory: '/Users/kalanjarvis-loewen/Desktop/Coding/learning/ml/LeanAI/core/raw_images/635_image_4.jpg'\n",
      "Failed to read image raw_images/636_image_1.jpeg\n",
      "[Errno 2] No such file or directory: '/Users/kalanjarvis-loewen/Desktop/Coding/learning/ml/LeanAI/core/raw_images/636_image_1.jpeg'\n"
     ]
    },
    {
     "name": "stderr",
     "output_type": "stream",
     "text": [
      "[ WARN:0@852.267] global loadsave.cpp:268 findDecoder imread_('raw_images/638_image_1.jpg'): can't open/read file: check file path/integrity\n",
      "[ WARN:0@852.268] global loadsave.cpp:268 findDecoder imread_('raw_images/638_image_2.jpg'): can't open/read file: check file path/integrity\n",
      "[ WARN:0@852.459] global loadsave.cpp:268 findDecoder imread_('raw_images/642_image_1.jpeg'): can't open/read file: check file path/integrity\n",
      " 79%|███████████████████████████████████████████████████████████████████████████▍                   | 1258/1584 [00:53<00:07, 44.45it/s]"
     ]
    },
    {
     "name": "stdout",
     "output_type": "stream",
     "text": [
      "Failed to read image raw_images/638_image_1.jpg\n",
      "[Errno 2] No such file or directory: '/Users/kalanjarvis-loewen/Desktop/Coding/learning/ml/LeanAI/core/raw_images/638_image_1.jpg'\n",
      "Failed to read image raw_images/638_image_2.jpg\n",
      "[Errno 2] No such file or directory: '/Users/kalanjarvis-loewen/Desktop/Coding/learning/ml/LeanAI/core/raw_images/638_image_2.jpg'\n",
      "Failed to read image raw_images/642_image_1.jpeg\n",
      "[Errno 2] No such file or directory: '/Users/kalanjarvis-loewen/Desktop/Coding/learning/ml/LeanAI/core/raw_images/642_image_1.jpeg'\n",
      "Failed to read image raw_images/643_image_1.png\n",
      "[Errno 2] No such file or directory: '/Users/kalanjarvis-loewen/Desktop/Coding/learning/ml/LeanAI/core/raw_images/643_image_1.png'\n"
     ]
    },
    {
     "name": "stderr",
     "output_type": "stream",
     "text": [
      "[ WARN:0@852.460] global loadsave.cpp:268 findDecoder imread_('raw_images/643_image_1.png'): can't open/read file: check file path/integrity\n",
      "[ WARN:0@852.682] global loadsave.cpp:268 findDecoder imread_('raw_images/645_image_3.jpg'): can't open/read file: check file path/integrity\n",
      "[ WARN:0@852.682] global loadsave.cpp:268 findDecoder imread_('raw_images/645_image_4.jpg'): can't open/read file: check file path/integrity\n",
      "[ WARN:0@852.682] global loadsave.cpp:268 findDecoder imread_('raw_images/646_image_1.jpg'): can't open/read file: check file path/integrity\n",
      "[ WARN:0@852.728] global loadsave.cpp:268 findDecoder imread_('raw_images/647_image_1.png'): can't open/read file: check file path/integrity\n",
      "[ WARN:0@852.777] global loadsave.cpp:268 findDecoder imread_('raw_images/647_image_3.jpg'): can't open/read file: check file path/integrity\n",
      " 80%|████████████████████████████████████████████████████████████████████████████▎                  | 1272/1584 [00:53<00:07, 42.87it/s]"
     ]
    },
    {
     "name": "stdout",
     "output_type": "stream",
     "text": [
      "Failed to read image raw_images/645_image_3.jpg\n",
      "[Errno 2] No such file or directory: '/Users/kalanjarvis-loewen/Desktop/Coding/learning/ml/LeanAI/core/raw_images/645_image_3.jpg'\n",
      "Failed to read image raw_images/645_image_4.jpg\n",
      "[Errno 2] No such file or directory: '/Users/kalanjarvis-loewen/Desktop/Coding/learning/ml/LeanAI/core/raw_images/645_image_4.jpg'\n",
      "Failed to read image raw_images/646_image_1.jpg\n",
      "[Errno 2] No such file or directory: '/Users/kalanjarvis-loewen/Desktop/Coding/learning/ml/LeanAI/core/raw_images/646_image_1.jpg'\n",
      "Failed to read image raw_images/647_image_1.png\n",
      "[Errno 2] No such file or directory: '/Users/kalanjarvis-loewen/Desktop/Coding/learning/ml/LeanAI/core/raw_images/647_image_1.png'\n",
      "Failed to read image raw_images/647_image_3.jpg\n",
      "[Errno 2] No such file or directory: '/Users/kalanjarvis-loewen/Desktop/Coding/learning/ml/LeanAI/core/raw_images/647_image_3.jpg'\n"
     ]
    },
    {
     "name": "stderr",
     "output_type": "stream",
     "text": [
      "[ WARN:0@853.055] global loadsave.cpp:268 findDecoder imread_('raw_images/651_image_1.jpg'): can't open/read file: check file path/integrity\n",
      "[ WARN:0@853.056] global loadsave.cpp:268 findDecoder imread_('raw_images/651_image_2.jpg'): can't open/read file: check file path/integrity\n",
      "[ WARN:0@853.056] global loadsave.cpp:268 findDecoder imread_('raw_images/651_image_3.jpg'): can't open/read file: check file path/integrity\n",
      "[ WARN:0@853.056] global loadsave.cpp:268 findDecoder imread_('raw_images/651_image_4.jpg'): can't open/read file: check file path/integrity\n",
      "[ WARN:0@853.171] global loadsave.cpp:268 findDecoder imread_('raw_images/653_image_1.jpeg'): can't open/read file: check file path/integrity\n"
     ]
    },
    {
     "name": "stdout",
     "output_type": "stream",
     "text": [
      "Failed to read image raw_images/651_image_1.jpg\n",
      "[Errno 2] No such file or directory: '/Users/kalanjarvis-loewen/Desktop/Coding/learning/ml/LeanAI/core/raw_images/651_image_1.jpg'\n",
      "Failed to read image raw_images/651_image_2.jpg\n",
      "[Errno 2] No such file or directory: '/Users/kalanjarvis-loewen/Desktop/Coding/learning/ml/LeanAI/core/raw_images/651_image_2.jpg'\n",
      "Failed to read image raw_images/651_image_3.jpg\n",
      "[Errno 2] No such file or directory: '/Users/kalanjarvis-loewen/Desktop/Coding/learning/ml/LeanAI/core/raw_images/651_image_3.jpg'\n",
      "Failed to read image raw_images/651_image_4.jpg\n",
      "[Errno 2] No such file or directory: '/Users/kalanjarvis-loewen/Desktop/Coding/learning/ml/LeanAI/core/raw_images/651_image_4.jpg'\n",
      "Failed to read image raw_images/653_image_1.jpeg\n",
      "[Errno 2] No such file or directory: '/Users/kalanjarvis-loewen/Desktop/Coding/learning/ml/LeanAI/core/raw_images/653_image_1.jpeg'\n"
     ]
    },
    {
     "name": "stderr",
     "output_type": "stream",
     "text": [
      "[ WARN:0@853.303] global loadsave.cpp:268 findDecoder imread_('raw_images/654_image_4.jpg'): can't open/read file: check file path/integrity\n",
      " 81%|█████████████████████████████████████████████████████████████████████████████▏                 | 1287/1584 [00:54<00:08, 37.02it/s]"
     ]
    },
    {
     "name": "stdout",
     "output_type": "stream",
     "text": [
      "Failed to read image raw_images/654_image_4.jpg\n",
      "[Errno 2] No such file or directory: '/Users/kalanjarvis-loewen/Desktop/Coding/learning/ml/LeanAI/core/raw_images/654_image_4.jpg'\n"
     ]
    },
    {
     "name": "stderr",
     "output_type": "stream",
     "text": [
      "[ WARN:0@853.579] global loadsave.cpp:268 findDecoder imread_('raw_images/657_image_1.jpg'): can't open/read file: check file path/integrity\n",
      "[ WARN:0@853.580] global loadsave.cpp:268 findDecoder imread_('raw_images/657_image_2.jpg'): can't open/read file: check file path/integrity\n",
      "[ WARN:0@853.580] global loadsave.cpp:268 findDecoder imread_('raw_images/657_image_3.jpg'): can't open/read file: check file path/integrity\n",
      "[ WARN:0@853.580] global loadsave.cpp:268 findDecoder imread_('raw_images/658_image_1.png'): can't open/read file: check file path/integrity\n",
      "[ WARN:0@853.677] global loadsave.cpp:268 findDecoder imread_('raw_images/659_image_3.jpg'): can't open/read file: check file path/integrity\n"
     ]
    },
    {
     "name": "stdout",
     "output_type": "stream",
     "text": [
      "Failed to read image raw_images/657_image_1.jpg\n",
      "[Errno 2] No such file or directory: '/Users/kalanjarvis-loewen/Desktop/Coding/learning/ml/LeanAI/core/raw_images/657_image_1.jpg'\n",
      "Failed to read image raw_images/657_image_2.jpg\n",
      "[Errno 2] No such file or directory: '/Users/kalanjarvis-loewen/Desktop/Coding/learning/ml/LeanAI/core/raw_images/657_image_2.jpg'\n",
      "Failed to read image raw_images/657_image_3.jpg\n",
      "[Errno 2] No such file or directory: '/Users/kalanjarvis-loewen/Desktop/Coding/learning/ml/LeanAI/core/raw_images/657_image_3.jpg'\n",
      "Failed to read image raw_images/658_image_1.png\n",
      "[Errno 2] No such file or directory: '/Users/kalanjarvis-loewen/Desktop/Coding/learning/ml/LeanAI/core/raw_images/658_image_1.png'\n",
      "Failed to read image raw_images/659_image_3.jpg\n",
      "[Errno 2] No such file or directory: '/Users/kalanjarvis-loewen/Desktop/Coding/learning/ml/LeanAI/core/raw_images/659_image_3.jpg'\n"
     ]
    },
    {
     "name": "stderr",
     "output_type": "stream",
     "text": [
      "[ WARN:0@854.019] global loadsave.cpp:268 findDecoder imread_('raw_images/662_image_4.jpg'): can't open/read file: check file path/integrity\n",
      " 83%|██████████████████████████████████████████████████████████████████████████████▋                | 1311/1584 [00:55<00:10, 26.40it/s]"
     ]
    },
    {
     "name": "stdout",
     "output_type": "stream",
     "text": [
      "Failed to read image raw_images/662_image_4.jpg\n",
      "[Errno 2] No such file or directory: '/Users/kalanjarvis-loewen/Desktop/Coding/learning/ml/LeanAI/core/raw_images/662_image_4.jpg'\n"
     ]
    },
    {
     "name": "stderr",
     "output_type": "stream",
     "text": [
      "[ WARN:0@854.371] global loadsave.cpp:268 findDecoder imread_('raw_images/664_image_4.jpg'): can't open/read file: check file path/integrity\n",
      "[ WARN:0@854.372] global loadsave.cpp:268 findDecoder imread_('raw_images/665_image_1.jpg'): can't open/read file: check file path/integrity\n",
      "[ WARN:0@854.461] global loadsave.cpp:268 findDecoder imread_('raw_images/666_image_1.jpg'): can't open/read file: check file path/integrity\n",
      "[ WARN:0@854.461] global loadsave.cpp:268 findDecoder imread_('raw_images/666_image_2.jpg'): can't open/read file: check file path/integrity\n",
      "[ WARN:0@854.461] global loadsave.cpp:268 findDecoder imread_('raw_images/666_image_3.jpg'): can't open/read file: check file path/integrity\n",
      "[ WARN:0@854.462] global loadsave.cpp:268 findDecoder imread_('raw_images/666_image_4.jpg'): can't open/read file: check file path/integrity\n",
      "[ WARN:0@854.462] global loadsave.cpp:268 findDecoder imread_('raw_images/667_image_1.png'): can't open/read file: check file path/integrity\n",
      " 84%|███████████████████████████████████████████████████████████████████████████████▍               | 1324/1584 [00:55<00:07, 36.84it/s]"
     ]
    },
    {
     "name": "stdout",
     "output_type": "stream",
     "text": [
      "Failed to read image raw_images/664_image_4.jpg\n",
      "[Errno 2] No such file or directory: '/Users/kalanjarvis-loewen/Desktop/Coding/learning/ml/LeanAI/core/raw_images/664_image_4.jpg'\n",
      "Failed to read image raw_images/665_image_1.jpg\n",
      "[Errno 2] No such file or directory: '/Users/kalanjarvis-loewen/Desktop/Coding/learning/ml/LeanAI/core/raw_images/665_image_1.jpg'\n",
      "Failed to read image raw_images/666_image_1.jpg\n",
      "[Errno 2] No such file or directory: '/Users/kalanjarvis-loewen/Desktop/Coding/learning/ml/LeanAI/core/raw_images/666_image_1.jpg'\n",
      "Failed to read image raw_images/666_image_2.jpg\n",
      "[Errno 2] No such file or directory: '/Users/kalanjarvis-loewen/Desktop/Coding/learning/ml/LeanAI/core/raw_images/666_image_2.jpg'\n",
      "Failed to read image raw_images/666_image_3.jpg\n",
      "[Errno 2] No such file or directory: '/Users/kalanjarvis-loewen/Desktop/Coding/learning/ml/LeanAI/core/raw_images/666_image_3.jpg'\n",
      "Failed to read image raw_images/666_image_4.jpg\n",
      "[Errno 2] No such file or directory: '/Users/kalanjarvis-loewen/Desktop/Coding/learning/ml/LeanAI/core/raw_images/666_image_4.jpg'\n",
      "Failed to read image raw_images/667_image_1.png\n",
      "[Errno 2] No such file or directory: '/Users/kalanjarvis-loewen/Desktop/Coding/learning/ml/LeanAI/core/raw_images/667_image_1.png'\n"
     ]
    },
    {
     "name": "stderr",
     "output_type": "stream",
     "text": [
      "[ WARN:0@854.609] global loadsave.cpp:268 findDecoder imread_('raw_images/669_image_3.jpg'): can't open/read file: check file path/integrity\n",
      "[ WARN:0@854.610] global loadsave.cpp:268 findDecoder imread_('raw_images/669_image_4.jpg'): can't open/read file: check file path/integrity\n",
      "[ WARN:0@854.746] global loadsave.cpp:268 findDecoder imread_('raw_images/671_image_2.jpg'): can't open/read file: check file path/integrity\n",
      " 84%|███████████████████████████████████████████████████████████████████████████████▉               | 1332/1584 [00:55<00:07, 34.88it/s]"
     ]
    },
    {
     "name": "stdout",
     "output_type": "stream",
     "text": [
      "Failed to read image raw_images/669_image_3.jpg\n",
      "[Errno 2] No such file or directory: '/Users/kalanjarvis-loewen/Desktop/Coding/learning/ml/LeanAI/core/raw_images/669_image_3.jpg'\n",
      "Failed to read image raw_images/669_image_4.jpg\n",
      "[Errno 2] No such file or directory: '/Users/kalanjarvis-loewen/Desktop/Coding/learning/ml/LeanAI/core/raw_images/669_image_4.jpg'\n",
      "Failed to read image raw_images/671_image_2.jpg\n",
      "[Errno 2] No such file or directory: '/Users/kalanjarvis-loewen/Desktop/Coding/learning/ml/LeanAI/core/raw_images/671_image_2.jpg'\n"
     ]
    },
    {
     "name": "stderr",
     "output_type": "stream",
     "text": [
      "[ WARN:0@855.145] global loadsave.cpp:268 findDecoder imread_('raw_images/676_image_2.jpg'): can't open/read file: check file path/integrity\n",
      "[ WARN:0@855.145] global loadsave.cpp:268 findDecoder imread_('raw_images/676_image_3.jpg'): can't open/read file: check file path/integrity\n",
      "[ WARN:0@855.267] global loadsave.cpp:268 findDecoder imread_('raw_images/679_image_1.jpg'): can't open/read file: check file path/integrity\n"
     ]
    },
    {
     "name": "stdout",
     "output_type": "stream",
     "text": [
      "Failed to read image raw_images/676_image_2.jpg\n",
      "[Errno 2] No such file or directory: '/Users/kalanjarvis-loewen/Desktop/Coding/learning/ml/LeanAI/core/raw_images/676_image_2.jpg'\n",
      "Failed to read image raw_images/676_image_3.jpg\n",
      "[Errno 2] No such file or directory: '/Users/kalanjarvis-loewen/Desktop/Coding/learning/ml/LeanAI/core/raw_images/676_image_3.jpg'\n",
      "Failed to read image raw_images/679_image_1.jpg\n",
      "[Errno 2] No such file or directory: '/Users/kalanjarvis-loewen/Desktop/Coding/learning/ml/LeanAI/core/raw_images/679_image_1.jpg'\n"
     ]
    },
    {
     "name": "stderr",
     "output_type": "stream",
     "text": [
      "[ WARN:0@855.812] global loadsave.cpp:268 findDecoder imread_('raw_images/681_image_1.png'): can't open/read file: check file path/integrity\n",
      " 85%|████████████████████████████████████████████████████████████████████████████████▊              | 1347/1584 [00:56<00:15, 15.41it/s]"
     ]
    },
    {
     "name": "stdout",
     "output_type": "stream",
     "text": [
      "Failed to read image raw_images/681_image_1.png\n",
      "[Errno 2] No such file or directory: '/Users/kalanjarvis-loewen/Desktop/Coding/learning/ml/LeanAI/core/raw_images/681_image_1.png'\n",
      "Failed to read image raw_images/684_image_1.jpg\n",
      "[Errno 2] No such file or directory: '/Users/kalanjarvis-loewen/Desktop/Coding/learning/ml/LeanAI/core/raw_images/684_image_1.jpg'\n",
      "Failed to read image raw_images/684_image_2.jpg\n",
      "[Errno 2] No such file or directory: '/Users/kalanjarvis-loewen/Desktop/Coding/learning/ml/LeanAI/core/raw_images/684_image_2.jpg'\n",
      "Failed to read image raw_images/686_image_1.jpg\n",
      "[Errno 2] No such file or directory: '/Users/kalanjarvis-loewen/Desktop/Coding/learning/ml/LeanAI/core/raw_images/686_image_1.jpg'\n",
      "Failed to read image raw_images/686_image_2.jpg\n",
      "[Errno 2] No such file or directory: '/Users/kalanjarvis-loewen/Desktop/Coding/learning/ml/LeanAI/core/raw_images/686_image_2.jpg'\n",
      "Failed to read image raw_images/686_image_3.jpg\n",
      "[Errno 2] No such file or directory: '/Users/kalanjarvis-loewen/Desktop/Coding/learning/ml/LeanAI/core/raw_images/686_image_3.jpg'\n",
      "Failed to read image raw_images/687_image_1.png\n",
      "[Errno 2] No such file or directory: '/Users/kalanjarvis-loewen/Desktop/Coding/learning/ml/LeanAI/core/raw_images/687_image_1.png'\n"
     ]
    },
    {
     "name": "stderr",
     "output_type": "stream",
     "text": [
      "[ WARN:0@855.950] global loadsave.cpp:268 findDecoder imread_('raw_images/684_image_1.jpg'): can't open/read file: check file path/integrity\n",
      "[ WARN:0@855.950] global loadsave.cpp:268 findDecoder imread_('raw_images/684_image_2.jpg'): can't open/read file: check file path/integrity\n",
      "[ WARN:0@855.951] global loadsave.cpp:268 findDecoder imread_('raw_images/686_image_1.jpg'): can't open/read file: check file path/integrity\n",
      "[ WARN:0@855.951] global loadsave.cpp:268 findDecoder imread_('raw_images/686_image_2.jpg'): can't open/read file: check file path/integrity\n",
      "[ WARN:0@855.951] global loadsave.cpp:268 findDecoder imread_('raw_images/686_image_3.jpg'): can't open/read file: check file path/integrity\n",
      "[ WARN:0@855.951] global loadsave.cpp:268 findDecoder imread_('raw_images/687_image_1.png'): can't open/read file: check file path/integrity\n",
      "[ WARN:0@856.279] global loadsave.cpp:268 findDecoder imread_('raw_images/688_image_2.jpg'): can't open/read file: check file path/integrity\n",
      "[ WARN:0@856.280] global loadsave.cpp:268 findDecoder imread_('raw_images/688_image_3.jpg'): can't open/read file: check file path/integrity\n",
      " 86%|█████████████████████████████████████████████████████████████████████████████████▌             | 1359/1584 [00:57<00:10, 20.79it/s]"
     ]
    },
    {
     "name": "stdout",
     "output_type": "stream",
     "text": [
      "Failed to read image raw_images/688_image_2.jpg\n",
      "[Errno 2] No such file or directory: '/Users/kalanjarvis-loewen/Desktop/Coding/learning/ml/LeanAI/core/raw_images/688_image_2.jpg'\n",
      "Failed to read image raw_images/688_image_3.jpg\n",
      "[Errno 2] No such file or directory: '/Users/kalanjarvis-loewen/Desktop/Coding/learning/ml/LeanAI/core/raw_images/688_image_3.jpg'\n"
     ]
    },
    {
     "name": "stderr",
     "output_type": "stream",
     "text": [
      "[ WARN:0@856.560] global loadsave.cpp:268 findDecoder imread_('raw_images/691_image_2.jpg'): can't open/read file: check file path/integrity\n",
      "[ WARN:0@856.561] global loadsave.cpp:268 findDecoder imread_('raw_images/691_image_3.jpg'): can't open/read file: check file path/integrity\n",
      "[ WARN:0@856.561] global loadsave.cpp:268 findDecoder imread_('raw_images/691_image_4.jpg'): can't open/read file: check file path/integrity\n",
      " 86%|█████████████████████████████████████████████████████████████████████████████████▉             | 1367/1584 [00:57<00:09, 24.11it/s]"
     ]
    },
    {
     "name": "stdout",
     "output_type": "stream",
     "text": [
      "Failed to read image raw_images/691_image_2.jpg\n",
      "[Errno 2] No such file or directory: '/Users/kalanjarvis-loewen/Desktop/Coding/learning/ml/LeanAI/core/raw_images/691_image_2.jpg'\n",
      "Failed to read image raw_images/691_image_3.jpg\n",
      "[Errno 2] No such file or directory: '/Users/kalanjarvis-loewen/Desktop/Coding/learning/ml/LeanAI/core/raw_images/691_image_3.jpg'\n",
      "Failed to read image raw_images/691_image_4.jpg\n",
      "[Errno 2] No such file or directory: '/Users/kalanjarvis-loewen/Desktop/Coding/learning/ml/LeanAI/core/raw_images/691_image_4.jpg'\n"
     ]
    },
    {
     "name": "stderr",
     "output_type": "stream",
     "text": [
      "[ WARN:0@856.801] global loadsave.cpp:268 findDecoder imread_('raw_images/694_image_3.jpg'): can't open/read file: check file path/integrity\n",
      "[ WARN:0@856.802] global loadsave.cpp:268 findDecoder imread_('raw_images/694_image_4.jpg'): can't open/read file: check file path/integrity\n",
      "[ WARN:0@856.999] global loadsave.cpp:268 findDecoder imread_('raw_images/696_image_3.jpg'): can't open/read file: check file path/integrity\n",
      " 87%|██████████████████████████████████████████████████████████████████████████████████▌            | 1377/1584 [00:57<00:07, 27.87it/s]"
     ]
    },
    {
     "name": "stdout",
     "output_type": "stream",
     "text": [
      "Failed to read image raw_images/694_image_3.jpg\n",
      "[Errno 2] No such file or directory: '/Users/kalanjarvis-loewen/Desktop/Coding/learning/ml/LeanAI/core/raw_images/694_image_3.jpg'\n",
      "Failed to read image raw_images/694_image_4.jpg\n",
      "[Errno 2] No such file or directory: '/Users/kalanjarvis-loewen/Desktop/Coding/learning/ml/LeanAI/core/raw_images/694_image_4.jpg'\n",
      "Failed to read image raw_images/696_image_3.jpg\n",
      "[Errno 2] No such file or directory: '/Users/kalanjarvis-loewen/Desktop/Coding/learning/ml/LeanAI/core/raw_images/696_image_3.jpg'\n",
      "Failed to read image raw_images/696_image_4.jpg\n",
      "[Errno 2] No such file or directory: '/Users/kalanjarvis-loewen/Desktop/Coding/learning/ml/LeanAI/core/raw_images/696_image_4.jpg'\n"
     ]
    },
    {
     "name": "stderr",
     "output_type": "stream",
     "text": [
      "[ WARN:0@857.000] global loadsave.cpp:268 findDecoder imread_('raw_images/696_image_4.jpg'): can't open/read file: check file path/integrity\n",
      "[ WARN:0@857.126] global loadsave.cpp:268 findDecoder imread_('raw_images/697_image_2.jpg'): can't open/read file: check file path/integrity\n",
      " 87%|███████████████████████████████████████████████████████████████████████████████████            | 1384/1584 [00:58<00:08, 24.83it/s]"
     ]
    },
    {
     "name": "stdout",
     "output_type": "stream",
     "text": [
      "Failed to read image raw_images/697_image_2.jpg\n",
      "[Errno 2] No such file or directory: '/Users/kalanjarvis-loewen/Desktop/Coding/learning/ml/LeanAI/core/raw_images/697_image_2.jpg'\n",
      "Failed to read image raw_images/700_image_3.jpg\n",
      "[Errno 2] No such file or directory: '/Users/kalanjarvis-loewen/Desktop/Coding/learning/ml/LeanAI/core/raw_images/700_image_3.jpg'\n",
      "Failed to read image raw_images/700_image_4.jpg\n",
      "[Errno 2] No such file or directory: '/Users/kalanjarvis-loewen/Desktop/Coding/learning/ml/LeanAI/core/raw_images/700_image_4.jpg'\n"
     ]
    },
    {
     "name": "stderr",
     "output_type": "stream",
     "text": [
      "[ WARN:0@857.322] global loadsave.cpp:268 findDecoder imread_('raw_images/700_image_3.jpg'): can't open/read file: check file path/integrity\n",
      "[ WARN:0@857.323] global loadsave.cpp:268 findDecoder imread_('raw_images/700_image_4.jpg'): can't open/read file: check file path/integrity\n",
      "[ WARN:0@857.441] global loadsave.cpp:268 findDecoder imread_('raw_images/701_image_2.jpg'): can't open/read file: check file path/integrity\n",
      "[ WARN:0@857.547] global loadsave.cpp:268 findDecoder imread_('raw_images/703_image_2.jpg'): can't open/read file: check file path/integrity\n",
      "[ WARN:0@857.547] global loadsave.cpp:268 findDecoder imread_('raw_images/703_image_3.jpg'): can't open/read file: check file path/integrity\n"
     ]
    },
    {
     "name": "stdout",
     "output_type": "stream",
     "text": [
      "Failed to read image raw_images/701_image_2.jpg\n",
      "[Errno 2] No such file or directory: '/Users/kalanjarvis-loewen/Desktop/Coding/learning/ml/LeanAI/core/raw_images/701_image_2.jpg'\n",
      "Failed to read image raw_images/703_image_2.jpg\n",
      "[Errno 2] No such file or directory: '/Users/kalanjarvis-loewen/Desktop/Coding/learning/ml/LeanAI/core/raw_images/703_image_2.jpg'\n",
      "Failed to read image raw_images/703_image_3.jpg\n",
      "[Errno 2] No such file or directory: '/Users/kalanjarvis-loewen/Desktop/Coding/learning/ml/LeanAI/core/raw_images/703_image_3.jpg'\n"
     ]
    },
    {
     "name": "stderr",
     "output_type": "stream",
     "text": [
      "[ WARN:0@857.682] global loadsave.cpp:268 findDecoder imread_('raw_images/705_image_3.jpg'): can't open/read file: check file path/integrity\n",
      " 88%|███████████████████████████████████████████████████████████████████████████████████▉           | 1399/1584 [00:58<00:06, 28.92it/s]"
     ]
    },
    {
     "name": "stdout",
     "output_type": "stream",
     "text": [
      "Failed to read image raw_images/705_image_3.jpg\n",
      "[Errno 2] No such file or directory: '/Users/kalanjarvis-loewen/Desktop/Coding/learning/ml/LeanAI/core/raw_images/705_image_3.jpg'\n"
     ]
    },
    {
     "name": "stderr",
     "output_type": "stream",
     "text": [
      "[ WARN:0@857.919] global loadsave.cpp:268 findDecoder imread_('raw_images/708_image_1.jpg'): can't open/read file: check file path/integrity\n",
      "[ WARN:0@857.920] global loadsave.cpp:268 findDecoder imread_('raw_images/708_image_2.jpg'): can't open/read file: check file path/integrity\n",
      "[ WARN:0@857.920] global loadsave.cpp:268 findDecoder imread_('raw_images/708_image_3.jpg'): can't open/read file: check file path/integrity\n",
      "[ WARN:0@857.920] global loadsave.cpp:268 findDecoder imread_('raw_images/708_image_4.jpg'): can't open/read file: check file path/integrity\n",
      "[ WARN:0@857.920] global loadsave.cpp:268 findDecoder imread_('raw_images/709_image_1.png'): can't open/read file: check file path/integrity\n",
      "[ WARN:0@857.920] global loadsave.cpp:268 findDecoder imread_('raw_images/709_image_2.png'): can't open/read file: check file path/integrity\n"
     ]
    },
    {
     "name": "stdout",
     "output_type": "stream",
     "text": [
      "Failed to read image raw_images/708_image_1.jpg\n",
      "[Errno 2] No such file or directory: '/Users/kalanjarvis-loewen/Desktop/Coding/learning/ml/LeanAI/core/raw_images/708_image_1.jpg'\n",
      "Failed to read image raw_images/708_image_2.jpg\n",
      "[Errno 2] No such file or directory: '/Users/kalanjarvis-loewen/Desktop/Coding/learning/ml/LeanAI/core/raw_images/708_image_2.jpg'\n",
      "Failed to read image raw_images/708_image_3.jpg\n",
      "[Errno 2] No such file or directory: '/Users/kalanjarvis-loewen/Desktop/Coding/learning/ml/LeanAI/core/raw_images/708_image_3.jpg'\n",
      "Failed to read image raw_images/708_image_4.jpg\n",
      "[Errno 2] No such file or directory: '/Users/kalanjarvis-loewen/Desktop/Coding/learning/ml/LeanAI/core/raw_images/708_image_4.jpg'\n",
      "Failed to read image raw_images/709_image_1.png\n",
      "[Errno 2] No such file or directory: '/Users/kalanjarvis-loewen/Desktop/Coding/learning/ml/LeanAI/core/raw_images/709_image_1.png'\n",
      "Failed to read image raw_images/709_image_2.png\n",
      "[Errno 2] No such file or directory: '/Users/kalanjarvis-loewen/Desktop/Coding/learning/ml/LeanAI/core/raw_images/709_image_2.png'\n"
     ]
    },
    {
     "name": "stderr",
     "output_type": "stream",
     "text": [
      "[ WARN:0@858.554] global loadsave.cpp:268 findDecoder imread_('raw_images/715_image_3.jpg'): can't open/read file: check file path/integrity\n",
      "[ WARN:0@858.554] global loadsave.cpp:268 findDecoder imread_('raw_images/715_image_4.jpg'): can't open/read file: check file path/integrity\n",
      "[ WARN:0@858.609] global loadsave.cpp:268 findDecoder imread_('raw_images/716_image_2.jpg'): can't open/read file: check file path/integrity\n",
      "[ WARN:0@858.743] global loadsave.cpp:268 findDecoder imread_('raw_images/719_image_2.jpg'): can't open/read file: check file path/integrity\n",
      "[ WARN:0@858.743] global loadsave.cpp:268 findDecoder imread_('raw_images/719_image_3.jpg'): can't open/read file: check file path/integrity\n"
     ]
    },
    {
     "name": "stdout",
     "output_type": "stream",
     "text": [
      "Failed to read image raw_images/715_image_3.jpg\n",
      "[Errno 2] No such file or directory: '/Users/kalanjarvis-loewen/Desktop/Coding/learning/ml/LeanAI/core/raw_images/715_image_3.jpg'\n",
      "Failed to read image raw_images/715_image_4.jpg\n",
      "[Errno 2] No such file or directory: '/Users/kalanjarvis-loewen/Desktop/Coding/learning/ml/LeanAI/core/raw_images/715_image_4.jpg'\n",
      "Failed to read image raw_images/716_image_2.jpg\n",
      "[Errno 2] No such file or directory: '/Users/kalanjarvis-loewen/Desktop/Coding/learning/ml/LeanAI/core/raw_images/716_image_2.jpg'\n",
      "Failed to read image raw_images/719_image_2.jpg\n",
      "[Errno 2] No such file or directory: '/Users/kalanjarvis-loewen/Desktop/Coding/learning/ml/LeanAI/core/raw_images/719_image_2.jpg'\n",
      "Failed to read image raw_images/719_image_3.jpg\n",
      "[Errno 2] No such file or directory: '/Users/kalanjarvis-loewen/Desktop/Coding/learning/ml/LeanAI/core/raw_images/719_image_3.jpg'\n"
     ]
    },
    {
     "name": "stderr",
     "output_type": "stream",
     "text": [
      "[ WARN:0@858.886] global loadsave.cpp:268 findDecoder imread_('raw_images/721_image_2.jpg'): can't open/read file: check file path/integrity\n",
      " 90%|█████████████████████████████████████████████████████████████████████████████████████▊         | 1431/1584 [00:59<00:05, 28.85it/s]"
     ]
    },
    {
     "name": "stdout",
     "output_type": "stream",
     "text": [
      "Failed to read image raw_images/721_image_2.jpg\n",
      "[Errno 2] No such file or directory: '/Users/kalanjarvis-loewen/Desktop/Coding/learning/ml/LeanAI/core/raw_images/721_image_2.jpg'\n"
     ]
    },
    {
     "name": "stderr",
     "output_type": "stream",
     "text": [
      "[ WARN:0@859.149] global loadsave.cpp:268 findDecoder imread_('raw_images/724_image_2.jpg'): can't open/read file: check file path/integrity\n",
      "[ WARN:0@859.150] global loadsave.cpp:268 findDecoder imread_('raw_images/724_image_3.jpg'): can't open/read file: check file path/integrity\n",
      "[ WARN:0@859.151] global loadsave.cpp:268 findDecoder imread_('raw_images/724_image_4.jpg'): can't open/read file: check file path/integrity\n",
      " 91%|██████████████████████████████████████████████████████████████████████████████████████▎        | 1439/1584 [01:00<00:04, 29.25it/s]"
     ]
    },
    {
     "name": "stdout",
     "output_type": "stream",
     "text": [
      "Failed to read image raw_images/724_image_2.jpg\n",
      "[Errno 2] No such file or directory: '/Users/kalanjarvis-loewen/Desktop/Coding/learning/ml/LeanAI/core/raw_images/724_image_2.jpg'\n",
      "Failed to read image raw_images/724_image_3.jpg\n",
      "[Errno 2] No such file or directory: '/Users/kalanjarvis-loewen/Desktop/Coding/learning/ml/LeanAI/core/raw_images/724_image_3.jpg'\n",
      "Failed to read image raw_images/724_image_4.jpg\n",
      "[Errno 2] No such file or directory: '/Users/kalanjarvis-loewen/Desktop/Coding/learning/ml/LeanAI/core/raw_images/724_image_4.jpg'\n",
      "Failed to read image raw_images/726_image_2.jpg\n",
      "[Errno 2] No such file or directory: '/Users/kalanjarvis-loewen/Desktop/Coding/learning/ml/LeanAI/core/raw_images/726_image_2.jpg'\n",
      "Failed to read image raw_images/726_image_3.jpg\n",
      "[Errno 2] No such file or directory: '/Users/kalanjarvis-loewen/Desktop/Coding/learning/ml/LeanAI/core/raw_images/726_image_3.jpg'\n",
      "Failed to read image raw_images/726_image_4.jpg\n",
      "[Errno 2] No such file or directory: '/Users/kalanjarvis-loewen/Desktop/Coding/learning/ml/LeanAI/core/raw_images/726_image_4.jpg'\n"
     ]
    },
    {
     "name": "stderr",
     "output_type": "stream",
     "text": [
      "[ WARN:0@859.254] global loadsave.cpp:268 findDecoder imread_('raw_images/726_image_2.jpg'): can't open/read file: check file path/integrity\n",
      "[ WARN:0@859.255] global loadsave.cpp:268 findDecoder imread_('raw_images/726_image_3.jpg'): can't open/read file: check file path/integrity\n",
      "[ WARN:0@859.255] global loadsave.cpp:268 findDecoder imread_('raw_images/726_image_4.jpg'): can't open/read file: check file path/integrity\n",
      "[ WARN:0@859.775] global loadsave.cpp:268 findDecoder imread_('raw_images/732_image_2.jpg'): can't open/read file: check file path/integrity\n",
      "[ WARN:0@859.776] global loadsave.cpp:268 findDecoder imread_('raw_images/732_image_3.jpg'): can't open/read file: check file path/integrity\n",
      "[ WARN:0@859.776] global loadsave.cpp:268 findDecoder imread_('raw_images/732_image_4.jpg'): can't open/read file: check file path/integrity\n",
      " 92%|███████████████████████████████████████████████████████████████████████████████████████▎       | 1456/1584 [01:00<00:04, 25.92it/s]"
     ]
    },
    {
     "name": "stdout",
     "output_type": "stream",
     "text": [
      "Failed to read image raw_images/732_image_2.jpg\n",
      "[Errno 2] No such file or directory: '/Users/kalanjarvis-loewen/Desktop/Coding/learning/ml/LeanAI/core/raw_images/732_image_2.jpg'\n",
      "Failed to read image raw_images/732_image_3.jpg\n",
      "[Errno 2] No such file or directory: '/Users/kalanjarvis-loewen/Desktop/Coding/learning/ml/LeanAI/core/raw_images/732_image_3.jpg'\n",
      "Failed to read image raw_images/732_image_4.jpg\n",
      "[Errno 2] No such file or directory: '/Users/kalanjarvis-loewen/Desktop/Coding/learning/ml/LeanAI/core/raw_images/732_image_4.jpg'\n",
      "Failed to read image raw_images/734_image_4.jpg\n",
      "[Errno 2] No such file or directory: '/Users/kalanjarvis-loewen/Desktop/Coding/learning/ml/LeanAI/core/raw_images/734_image_4.jpg'\n"
     ]
    },
    {
     "name": "stderr",
     "output_type": "stream",
     "text": [
      "[ WARN:0@859.959] global loadsave.cpp:268 findDecoder imread_('raw_images/734_image_4.jpg'): can't open/read file: check file path/integrity\n",
      "[ WARN:0@860.205] global loadsave.cpp:268 findDecoder imread_('raw_images/736_image_3.jpg'): can't open/read file: check file path/integrity\n",
      "[ WARN:0@860.271] global loadsave.cpp:268 findDecoder imread_('raw_images/737_image_2.jpg'): can't open/read file: check file path/integrity\n",
      "[ WARN:0@860.271] global loadsave.cpp:268 findDecoder imread_('raw_images/738_image_1.jpg'): can't open/read file: check file path/integrity\n",
      " 93%|███████████████████████████████████████████████████████████████████████████████████████▉       | 1467/1584 [01:01<00:03, 29.75it/s]"
     ]
    },
    {
     "name": "stdout",
     "output_type": "stream",
     "text": [
      "Failed to read image raw_images/736_image_3.jpg\n",
      "[Errno 2] No such file or directory: '/Users/kalanjarvis-loewen/Desktop/Coding/learning/ml/LeanAI/core/raw_images/736_image_3.jpg'\n",
      "Failed to read image raw_images/737_image_2.jpg\n",
      "[Errno 2] No such file or directory: '/Users/kalanjarvis-loewen/Desktop/Coding/learning/ml/LeanAI/core/raw_images/737_image_2.jpg'\n",
      "Failed to read image raw_images/738_image_1.jpg\n",
      "[Errno 2] No such file or directory: '/Users/kalanjarvis-loewen/Desktop/Coding/learning/ml/LeanAI/core/raw_images/738_image_1.jpg'\n"
     ]
    },
    {
     "name": "stderr",
     "output_type": "stream",
     "text": [
      "[ WARN:0@860.908] global loadsave.cpp:268 findDecoder imread_('raw_images/743_image_3.jpg'): can't open/read file: check file path/integrity\n",
      "[ WARN:0@860.908] global loadsave.cpp:268 findDecoder imread_('raw_images/743_image_4.jpg'): can't open/read file: check file path/integrity\n",
      "[ WARN:0@861.047] global loadsave.cpp:268 findDecoder imread_('raw_images/745_image_2.jpg'): can't open/read file: check file path/integrity\n",
      "[ WARN:0@861.047] global loadsave.cpp:268 findDecoder imread_('raw_images/745_image_3.jpg'): can't open/read file: check file path/integrity\n"
     ]
    },
    {
     "name": "stdout",
     "output_type": "stream",
     "text": [
      "Failed to read image raw_images/743_image_3.jpg\n",
      "[Errno 2] No such file or directory: '/Users/kalanjarvis-loewen/Desktop/Coding/learning/ml/LeanAI/core/raw_images/743_image_3.jpg'\n",
      "Failed to read image raw_images/743_image_4.jpg\n",
      "[Errno 2] No such file or directory: '/Users/kalanjarvis-loewen/Desktop/Coding/learning/ml/LeanAI/core/raw_images/743_image_4.jpg'\n",
      "Failed to read image raw_images/745_image_2.jpg\n",
      "[Errno 2] No such file or directory: '/Users/kalanjarvis-loewen/Desktop/Coding/learning/ml/LeanAI/core/raw_images/745_image_2.jpg'\n",
      "Failed to read image raw_images/745_image_3.jpg\n",
      "[Errno 2] No such file or directory: '/Users/kalanjarvis-loewen/Desktop/Coding/learning/ml/LeanAI/core/raw_images/745_image_3.jpg'\n"
     ]
    },
    {
     "name": "stderr",
     "output_type": "stream",
     "text": [
      "[ WARN:0@861.138] global loadsave.cpp:268 findDecoder imread_('raw_images/747_image_2.jpg'): can't open/read file: check file path/integrity\n",
      " 94%|█████████████████████████████████████████████████████████████████████████████████████████▌     | 1494/1584 [01:02<00:03, 28.50it/s]"
     ]
    },
    {
     "name": "stdout",
     "output_type": "stream",
     "text": [
      "Failed to read image raw_images/747_image_2.jpg\n",
      "[Errno 2] No such file or directory: '/Users/kalanjarvis-loewen/Desktop/Coding/learning/ml/LeanAI/core/raw_images/747_image_2.jpg'\n"
     ]
    },
    {
     "name": "stderr",
     "output_type": "stream",
     "text": [
      "[ WARN:0@861.460] global loadsave.cpp:268 findDecoder imread_('raw_images/752_image_2.jpg'): can't open/read file: check file path/integrity\n",
      "[ WARN:0@861.487] global loadsave.cpp:268 findDecoder imread_('raw_images/754_image_1.jpg'): can't open/read file: check file path/integrity\n",
      "[ WARN:0@861.487] global loadsave.cpp:268 findDecoder imread_('raw_images/754_image_2.jpg'): can't open/read file: check file path/integrity\n",
      "[ WARN:0@861.488] global loadsave.cpp:268 findDecoder imread_('raw_images/754_image_3.jpg'): can't open/read file: check file path/integrity\n",
      " 95%|██████████████████████████████████████████████████████████████████████████████████████████▏    | 1503/1584 [01:02<00:02, 30.87it/s]"
     ]
    },
    {
     "name": "stdout",
     "output_type": "stream",
     "text": [
      "Failed to read image raw_images/752_image_2.jpg\n",
      "[Errno 2] No such file or directory: '/Users/kalanjarvis-loewen/Desktop/Coding/learning/ml/LeanAI/core/raw_images/752_image_2.jpg'\n",
      "Failed to read image raw_images/754_image_1.jpg\n",
      "[Errno 2] No such file or directory: '/Users/kalanjarvis-loewen/Desktop/Coding/learning/ml/LeanAI/core/raw_images/754_image_1.jpg'\n",
      "Failed to read image raw_images/754_image_2.jpg\n",
      "[Errno 2] No such file or directory: '/Users/kalanjarvis-loewen/Desktop/Coding/learning/ml/LeanAI/core/raw_images/754_image_2.jpg'\n",
      "Failed to read image raw_images/754_image_3.jpg\n",
      "[Errno 2] No such file or directory: '/Users/kalanjarvis-loewen/Desktop/Coding/learning/ml/LeanAI/core/raw_images/754_image_3.jpg'\n"
     ]
    },
    {
     "name": "stderr",
     "output_type": "stream",
     "text": [
      "[ WARN:0@861.789] global loadsave.cpp:268 findDecoder imread_('raw_images/757_image_4.jpg'): can't open/read file: check file path/integrity\n",
      "[ WARN:0@861.831] global loadsave.cpp:268 findDecoder imread_('raw_images/758_image_2.jpg'): can't open/read file: check file path/integrity\n",
      "[ WARN:0@861.831] global loadsave.cpp:268 findDecoder imread_('raw_images/758_image_3.jpg'): can't open/read file: check file path/integrity\n",
      "[ WARN:0@861.922] global loadsave.cpp:268 findDecoder imread_('raw_images/761_image_1.jpg'): can't open/read file: check file path/integrity\n",
      "[ WARN:0@861.922] global loadsave.cpp:268 findDecoder imread_('raw_images/761_image_2.jpg'): can't open/read file: check file path/integrity\n",
      "[ WARN:0@861.922] global loadsave.cpp:268 findDecoder imread_('raw_images/761_image_3.jpg'): can't open/read file: check file path/integrity\n",
      "[ WARN:0@861.923] global loadsave.cpp:268 findDecoder imread_('raw_images/761_image_4.jpg'): can't open/read file: check file path/integrity\n",
      "[ WARN:0@861.923] global loadsave.cpp:268 findDecoder imread_('raw_images/762_image_1.png'): can't open/read file: check file path/integrity\n",
      "[ WARN:0@861.923] global loadsave.cpp:268 findDecoder imread_('raw_images/762_image_2.png'): can't open/read file: check file path/integrity\n",
      "[ WARN:0@861.923] global loadsave.cpp:268 findDecoder imread_('raw_images/762_image_3.png'): can't open/read file: check file path/integrity\n"
     ]
    },
    {
     "name": "stdout",
     "output_type": "stream",
     "text": [
      "Failed to read image raw_images/757_image_4.jpg\n",
      "[Errno 2] No such file or directory: '/Users/kalanjarvis-loewen/Desktop/Coding/learning/ml/LeanAI/core/raw_images/757_image_4.jpg'\n",
      "Failed to read image raw_images/758_image_2.jpg\n",
      "[Errno 2] No such file or directory: '/Users/kalanjarvis-loewen/Desktop/Coding/learning/ml/LeanAI/core/raw_images/758_image_2.jpg'\n",
      "Failed to read image raw_images/758_image_3.jpg\n",
      "[Errno 2] No such file or directory: '/Users/kalanjarvis-loewen/Desktop/Coding/learning/ml/LeanAI/core/raw_images/758_image_3.jpg'\n",
      "Failed to read image raw_images/761_image_1.jpg\n",
      "[Errno 2] No such file or directory: '/Users/kalanjarvis-loewen/Desktop/Coding/learning/ml/LeanAI/core/raw_images/761_image_1.jpg'\n",
      "Failed to read image raw_images/761_image_2.jpg\n",
      "[Errno 2] No such file or directory: '/Users/kalanjarvis-loewen/Desktop/Coding/learning/ml/LeanAI/core/raw_images/761_image_2.jpg'\n",
      "Failed to read image raw_images/761_image_3.jpg\n",
      "[Errno 2] No such file or directory: '/Users/kalanjarvis-loewen/Desktop/Coding/learning/ml/LeanAI/core/raw_images/761_image_3.jpg'\n",
      "Failed to read image raw_images/761_image_4.jpg\n",
      "[Errno 2] No such file or directory: '/Users/kalanjarvis-loewen/Desktop/Coding/learning/ml/LeanAI/core/raw_images/761_image_4.jpg'\n",
      "Failed to read image raw_images/762_image_1.png\n",
      "[Errno 2] No such file or directory: '/Users/kalanjarvis-loewen/Desktop/Coding/learning/ml/LeanAI/core/raw_images/762_image_1.png'\n",
      "Failed to read image raw_images/762_image_2.png\n",
      "[Errno 2] No such file or directory: '/Users/kalanjarvis-loewen/Desktop/Coding/learning/ml/LeanAI/core/raw_images/762_image_2.png'\n",
      "Failed to read image raw_images/762_image_3.png\n",
      "[Errno 2] No such file or directory: '/Users/kalanjarvis-loewen/Desktop/Coding/learning/ml/LeanAI/core/raw_images/762_image_3.png'\n"
     ]
    },
    {
     "name": "stderr",
     "output_type": "stream",
     "text": [
      "[ WARN:0@862.016] global loadsave.cpp:268 findDecoder imread_('raw_images/763_image_2.jpg'): can't open/read file: check file path/integrity\n",
      " 96%|███████████████████████████████████████████████████████████████████████████████████████████▎   | 1523/1584 [01:02<00:01, 43.01it/s]"
     ]
    },
    {
     "name": "stdout",
     "output_type": "stream",
     "text": [
      "Failed to read image raw_images/763_image_2.jpg\n",
      "[Errno 2] No such file or directory: '/Users/kalanjarvis-loewen/Desktop/Coding/learning/ml/LeanAI/core/raw_images/763_image_2.jpg'\n"
     ]
    },
    {
     "name": "stderr",
     "output_type": "stream",
     "text": [
      "[ WARN:0@862.738] global loadsave.cpp:268 findDecoder imread_('raw_images/766_image_2.jpg'): can't open/read file: check file path/integrity\n",
      "[ WARN:0@862.738] global loadsave.cpp:268 findDecoder imread_('raw_images/766_image_3.jpg'): can't open/read file: check file path/integrity\n",
      "[ WARN:0@862.738] global loadsave.cpp:268 findDecoder imread_('raw_images/766_image_4.jpg'): can't open/read file: check file path/integrity\n",
      "[ WARN:0@862.856] global loadsave.cpp:268 findDecoder imread_('raw_images/769_image_1.jpg'): can't open/read file: check file path/integrity\n",
      "[ WARN:0@862.857] global loadsave.cpp:268 findDecoder imread_('raw_images/769_image_2.jpg'): can't open/read file: check file path/integrity\n",
      "[ WARN:0@862.857] global loadsave.cpp:268 findDecoder imread_('raw_images/769_image_3.jpg'): can't open/read file: check file path/integrity\n",
      "[ WARN:0@862.857] global loadsave.cpp:268 findDecoder imread_('raw_images/770_image_1.png'): can't open/read file: check file path/integrity\n",
      "[ WARN:0@862.904] global loadsave.cpp:268 findDecoder imread_('raw_images/772_image_1.jpg'): can't open/read file: check file path/integrity\n",
      "[ WARN:0@862.904] global loadsave.cpp:268 findDecoder imread_('raw_images/772_image_2.jpg'): can't open/read file: check file path/integrity\n",
      "[ WARN:0@862.904] global loadsave.cpp:268 findDecoder imread_('raw_images/773_image_1.jpg'): can't open/read file: check file path/integrity\n",
      "[ WARN:0@862.904] global loadsave.cpp:268 findDecoder imread_('raw_images/775_image_1.jpg'): can't open/read file: check file path/integrity\n",
      "[ WARN:0@862.905] global loadsave.cpp:268 findDecoder imread_('raw_images/775_image_2.jpg'): can't open/read file: check file path/integrity\n",
      "[ WARN:0@862.905] global loadsave.cpp:268 findDecoder imread_('raw_images/775_image_3.jpg'): can't open/read file: check file path/integrity\n",
      "[ WARN:0@862.905] global loadsave.cpp:268 findDecoder imread_('raw_images/775_image_4.jpg'): can't open/read file: check file path/integrity\n",
      "[ WARN:0@862.905] global loadsave.cpp:268 findDecoder imread_('raw_images/776_image_1.png'): can't open/read file: check file path/integrity\n",
      "[ WARN:0@862.905] global loadsave.cpp:268 findDecoder imread_('raw_images/776_image_2.png'): can't open/read file: check file path/integrity\n",
      "[ WARN:0@862.905] global loadsave.cpp:268 findDecoder imread_('raw_images/776_image_3.png'): can't open/read file: check file path/integrity\n",
      "[ WARN:0@862.905] global loadsave.cpp:268 findDecoder imread_('raw_images/776_image_4.png'): can't open/read file: check file path/integrity\n"
     ]
    },
    {
     "name": "stdout",
     "output_type": "stream",
     "text": [
      "Failed to read image raw_images/766_image_2.jpg\n",
      "[Errno 2] No such file or directory: '/Users/kalanjarvis-loewen/Desktop/Coding/learning/ml/LeanAI/core/raw_images/766_image_2.jpg'\n",
      "Failed to read image raw_images/766_image_3.jpg\n",
      "[Errno 2] No such file or directory: '/Users/kalanjarvis-loewen/Desktop/Coding/learning/ml/LeanAI/core/raw_images/766_image_3.jpg'\n",
      "Failed to read image raw_images/766_image_4.jpg\n",
      "[Errno 2] No such file or directory: '/Users/kalanjarvis-loewen/Desktop/Coding/learning/ml/LeanAI/core/raw_images/766_image_4.jpg'\n",
      "Failed to read image raw_images/769_image_1.jpg\n",
      "[Errno 2] No such file or directory: '/Users/kalanjarvis-loewen/Desktop/Coding/learning/ml/LeanAI/core/raw_images/769_image_1.jpg'\n",
      "Failed to read image raw_images/769_image_2.jpg\n",
      "[Errno 2] No such file or directory: '/Users/kalanjarvis-loewen/Desktop/Coding/learning/ml/LeanAI/core/raw_images/769_image_2.jpg'\n",
      "Failed to read image raw_images/769_image_3.jpg\n",
      "[Errno 2] No such file or directory: '/Users/kalanjarvis-loewen/Desktop/Coding/learning/ml/LeanAI/core/raw_images/769_image_3.jpg'\n",
      "Failed to read image raw_images/770_image_1.png\n",
      "[Errno 2] No such file or directory: '/Users/kalanjarvis-loewen/Desktop/Coding/learning/ml/LeanAI/core/raw_images/770_image_1.png'\n",
      "Failed to read image raw_images/772_image_1.jpg\n",
      "[Errno 2] No such file or directory: '/Users/kalanjarvis-loewen/Desktop/Coding/learning/ml/LeanAI/core/raw_images/772_image_1.jpg'\n",
      "Failed to read image raw_images/772_image_2.jpg\n",
      "[Errno 2] No such file or directory: '/Users/kalanjarvis-loewen/Desktop/Coding/learning/ml/LeanAI/core/raw_images/772_image_2.jpg'\n",
      "Failed to read image raw_images/773_image_1.jpg\n",
      "[Errno 2] No such file or directory: '/Users/kalanjarvis-loewen/Desktop/Coding/learning/ml/LeanAI/core/raw_images/773_image_1.jpg'\n",
      "Failed to read image raw_images/775_image_1.jpg\n",
      "[Errno 2] No such file or directory: '/Users/kalanjarvis-loewen/Desktop/Coding/learning/ml/LeanAI/core/raw_images/775_image_1.jpg'\n",
      "Failed to read image raw_images/775_image_2.jpg\n",
      "[Errno 2] No such file or directory: '/Users/kalanjarvis-loewen/Desktop/Coding/learning/ml/LeanAI/core/raw_images/775_image_2.jpg'\n",
      "Failed to read image raw_images/775_image_3.jpg\n",
      "[Errno 2] No such file or directory: '/Users/kalanjarvis-loewen/Desktop/Coding/learning/ml/LeanAI/core/raw_images/775_image_3.jpg'\n",
      "Failed to read image raw_images/775_image_4.jpg\n",
      "[Errno 2] No such file or directory: '/Users/kalanjarvis-loewen/Desktop/Coding/learning/ml/LeanAI/core/raw_images/775_image_4.jpg'\n",
      "Failed to read image raw_images/776_image_1.png\n",
      "[Errno 2] No such file or directory: '/Users/kalanjarvis-loewen/Desktop/Coding/learning/ml/LeanAI/core/raw_images/776_image_1.png'\n",
      "Failed to read image raw_images/776_image_2.png\n",
      "[Errno 2] No such file or directory: '/Users/kalanjarvis-loewen/Desktop/Coding/learning/ml/LeanAI/core/raw_images/776_image_2.png'\n",
      "Failed to read image raw_images/776_image_3.png\n",
      "[Errno 2] No such file or directory: '/Users/kalanjarvis-loewen/Desktop/Coding/learning/ml/LeanAI/core/raw_images/776_image_3.png'\n",
      "Failed to read image raw_images/776_image_4.png\n",
      "[Errno 2] No such file or directory: '/Users/kalanjarvis-loewen/Desktop/Coding/learning/ml/LeanAI/core/raw_images/776_image_4.png'\n"
     ]
    },
    {
     "name": "stderr",
     "output_type": "stream",
     "text": [
      "[ WARN:0@863.054] global loadsave.cpp:268 findDecoder imread_('raw_images/778_image_3.jpg'): can't open/read file: check file path/integrity\n",
      "[ WARN:0@863.055] global loadsave.cpp:268 findDecoder imread_('raw_images/778_image_4.jpg'): can't open/read file: check file path/integrity\n"
     ]
    },
    {
     "name": "stdout",
     "output_type": "stream",
     "text": [
      "Failed to read image raw_images/778_image_3.jpg\n",
      "[Errno 2] No such file or directory: '/Users/kalanjarvis-loewen/Desktop/Coding/learning/ml/LeanAI/core/raw_images/778_image_3.jpg'\n",
      "Failed to read image raw_images/778_image_4.jpg\n",
      "[Errno 2] No such file or directory: '/Users/kalanjarvis-loewen/Desktop/Coding/learning/ml/LeanAI/core/raw_images/778_image_4.jpg'\n",
      "Failed to read image raw_images/779_image_2.jpg\n",
      "[Errno 2] No such file or directory: '/Users/kalanjarvis-loewen/Desktop/Coding/learning/ml/LeanAI/core/raw_images/779_image_2.jpg'\n"
     ]
    },
    {
     "name": "stderr",
     "output_type": "stream",
     "text": [
      "[ WARN:0@863.180] global loadsave.cpp:268 findDecoder imread_('raw_images/779_image_2.jpg'): can't open/read file: check file path/integrity\n",
      "[ WARN:0@863.372] global loadsave.cpp:268 findDecoder imread_('raw_images/782_image_2.jpg'): can't open/read file: check file path/integrity\n",
      " 99%|█████████████████████████████████████████████████████████████████████████████████████████████▊ | 1565/1584 [01:04<00:00, 33.01it/s]"
     ]
    },
    {
     "name": "stdout",
     "output_type": "stream",
     "text": [
      "Failed to read image raw_images/782_image_2.jpg\n",
      "[Errno 2] No such file or directory: '/Users/kalanjarvis-loewen/Desktop/Coding/learning/ml/LeanAI/core/raw_images/782_image_2.jpg'\n"
     ]
    },
    {
     "name": "stderr",
     "output_type": "stream",
     "text": [
      "[ WARN:0@863.745] global loadsave.cpp:268 findDecoder imread_('raw_images/786_image_2.jpg'): can't open/read file: check file path/integrity\n",
      "[ WARN:0@863.746] global loadsave.cpp:268 findDecoder imread_('raw_images/786_image_3.jpg'): can't open/read file: check file path/integrity\n",
      "[ WARN:0@863.747] global loadsave.cpp:268 findDecoder imread_('raw_images/786_image_4.jpg'): can't open/read file: check file path/integrity\n",
      "[ WARN:0@863.747] global loadsave.cpp:268 findDecoder imread_('raw_images/787_image_1.jpg'): can't open/read file: check file path/integrity\n",
      "[ WARN:0@863.747] global loadsave.cpp:268 findDecoder imread_('raw_images/788_image_1.png'): can't open/read file: check file path/integrity\n",
      " 99%|██████████████████████████████████████████████████████████████████████████████████████████████▌| 1576/1584 [01:04<00:00, 34.17it/s]"
     ]
    },
    {
     "name": "stdout",
     "output_type": "stream",
     "text": [
      "Failed to read image raw_images/786_image_2.jpg\n",
      "[Errno 2] No such file or directory: '/Users/kalanjarvis-loewen/Desktop/Coding/learning/ml/LeanAI/core/raw_images/786_image_2.jpg'\n",
      "Failed to read image raw_images/786_image_3.jpg\n",
      "[Errno 2] No such file or directory: '/Users/kalanjarvis-loewen/Desktop/Coding/learning/ml/LeanAI/core/raw_images/786_image_3.jpg'\n",
      "Failed to read image raw_images/786_image_4.jpg\n",
      "[Errno 2] No such file or directory: '/Users/kalanjarvis-loewen/Desktop/Coding/learning/ml/LeanAI/core/raw_images/786_image_4.jpg'\n",
      "Failed to read image raw_images/787_image_1.jpg\n",
      "[Errno 2] No such file or directory: '/Users/kalanjarvis-loewen/Desktop/Coding/learning/ml/LeanAI/core/raw_images/787_image_1.jpg'\n",
      "Failed to read image raw_images/788_image_1.png\n",
      "[Errno 2] No such file or directory: '/Users/kalanjarvis-loewen/Desktop/Coding/learning/ml/LeanAI/core/raw_images/788_image_1.png'\n"
     ]
    },
    {
     "name": "stderr",
     "output_type": "stream",
     "text": [
      "[ WARN:0@864.059] global loadsave.cpp:268 findDecoder imread_('raw_images/794_image_1.jpg'): can't open/read file: check file path/integrity\n",
      "[ WARN:0@864.060] global loadsave.cpp:268 findDecoder imread_('raw_images/795_image_1.jpg'): can't open/read file: check file path/integrity\n",
      "[ WARN:0@864.111] global loadsave.cpp:268 findDecoder imread_('raw_images/797_image_1.jpg'): can't open/read file: check file path/integrity\n",
      "[ WARN:0@864.111] global loadsave.cpp:268 findDecoder imread_('raw_images/798_image_1.jpeg'): can't open/read file: check file path/integrity\n",
      "100%|███████████████████████████████████████████████████████████████████████████████████████████████| 1584/1584 [01:04<00:00, 24.39it/s]"
     ]
    },
    {
     "name": "stdout",
     "output_type": "stream",
     "text": [
      "Failed to read image raw_images/794_image_1.jpg\n",
      "[Errno 2] No such file or directory: '/Users/kalanjarvis-loewen/Desktop/Coding/learning/ml/LeanAI/core/raw_images/794_image_1.jpg'\n",
      "Failed to read image raw_images/795_image_1.jpg\n",
      "[Errno 2] No such file or directory: '/Users/kalanjarvis-loewen/Desktop/Coding/learning/ml/LeanAI/core/raw_images/795_image_1.jpg'\n",
      "Failed to read image raw_images/797_image_1.jpg\n",
      "[Errno 2] No such file or directory: '/Users/kalanjarvis-loewen/Desktop/Coding/learning/ml/LeanAI/core/raw_images/797_image_1.jpg'\n",
      "Failed to read image raw_images/798_image_1.jpeg\n",
      "[Errno 2] No such file or directory: '/Users/kalanjarvis-loewen/Desktop/Coding/learning/ml/LeanAI/core/raw_images/798_image_1.jpeg'\n",
      "Done! Cropped 1584 images, failed on 0 images.\n"
     ]
    },
    {
     "name": "stderr",
     "output_type": "stream",
     "text": [
      "\n"
     ]
    }
   ],
   "source": [
    "# Create folder for cropped images if it doesn't exist\n",
    "cropped_dir = Path('images')\n",
    "cropped_dir.mkdir(exist_ok=True)\n",
    "\n",
    "cropped_paths = []\n",
    "failed_images = []\n",
    "\n",
    "for idx, row in tqdm(df_labels.iterrows(), total=len(df_labels)):\n",
    "    filename = row['filename']\n",
    "    img_path = images_dir / filename\n",
    "    cropped_img = crop_upper_body(img_path)\n",
    "\n",
    "    save_path = cropped_dir / filename\n",
    "\n",
    "    if cropped_img is None:\n",
    "        try:\n",
    "            original_img = Image.open(img_path)\n",
    "            original_img.save(save_path)\n",
    "        except Exception as e:\n",
    "            print(f\"{e}\")\n",
    "            \n",
    "    else:\n",
    "        cropped_img.save(save_path)\n",
    "\n",
    "    cropped_paths.append(str(save_path))\n",
    "\n",
    "print(f\"Done! Cropped {len([p for p in cropped_paths if p])} images, failed on {len(failed_images)} images.\")\n",
    "\n",
    "# Add cropped image paths to dataframe and save\n",
    "df_labels['cropped_path'] = cropped_paths\n",
    "df_labels.to_csv(data_dir / 'image_labels.csv', index=False)\n"
   ]
  },
  {
   "cell_type": "code",
   "execution_count": null,
   "id": "17a41626-834e-4d41-88da-c50e72f00e51",
   "metadata": {},
   "outputs": [],
   "source": []
  },
  {
   "cell_type": "code",
   "execution_count": null,
   "id": "a429dd9b-0991-4c27-92bc-382b4037b109",
   "metadata": {},
   "outputs": [],
   "source": []
  }
 ],
 "metadata": {
  "kernelspec": {
   "display_name": "Python 3.10",
   "language": "python",
   "name": "python310"
  },
  "language_info": {
   "codemirror_mode": {
    "name": "ipython",
    "version": 3
   },
   "file_extension": ".py",
   "mimetype": "text/x-python",
   "name": "python",
   "nbconvert_exporter": "python",
   "pygments_lexer": "ipython3",
   "version": "3.10.0"
  }
 },
 "nbformat": 4,
 "nbformat_minor": 5
}
