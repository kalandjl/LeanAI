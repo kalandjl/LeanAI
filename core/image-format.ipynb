{
 "cells": [
  {
   "cell_type": "code",
   "execution_count": 12,
   "id": "08c0b377-1fce-4b19-9e77-0cf81adaf0b2",
   "metadata": {},
   "outputs": [],
   "source": [
    "import os\n",
    "from pathlib import Path\n",
    "\n",
    "path = Path('data/bodyfat_dataset.csv')\n"
   ]
  },
  {
   "cell_type": "code",
   "execution_count": 13,
   "id": "ee4549e8-2b72-4df0-9ec5-5b0f668680bb",
   "metadata": {},
   "outputs": [
    {
     "data": {
      "text/html": [
       "<div>\n",
       "<style scoped>\n",
       "    .dataframe tbody tr th:only-of-type {\n",
       "        vertical-align: middle;\n",
       "    }\n",
       "\n",
       "    .dataframe tbody tr th {\n",
       "        vertical-align: top;\n",
       "    }\n",
       "\n",
       "    .dataframe thead th {\n",
       "        text-align: right;\n",
       "    }\n",
       "</style>\n",
       "<table border=\"1\" class=\"dataframe\">\n",
       "  <thead>\n",
       "    <tr style=\"text-align: right;\">\n",
       "      <th></th>\n",
       "      <th>title</th>\n",
       "      <th>url</th>\n",
       "      <th>meanPrediction</th>\n",
       "      <th>medianPrediction</th>\n",
       "      <th>bfPredictions</th>\n",
       "      <th>image_1</th>\n",
       "      <th>image_2</th>\n",
       "      <th>image_3</th>\n",
       "      <th>image_4</th>\n",
       "      <th>image_5</th>\n",
       "    </tr>\n",
       "  </thead>\n",
       "  <tbody>\n",
       "    <tr>\n",
       "      <th>0</th>\n",
       "      <td>Leanest ive ever been. Never seen veins like this before.</td>\n",
       "      <td>https://www.reddit.com/gallery/1b6k5jh</td>\n",
       "      <td>8.00</td>\n",
       "      <td>8.0</td>\n",
       "      <td>[8]</td>\n",
       "      <td>https://preview.redd.it/leanest-ive-ever-been-never-seen-veins-like-this-before-v0-hibkcr8hfdmc1.jpg?width=640&amp;crop=smart&amp;auto=webp&amp;s=4604d036777deffcf28c2e2f396b19f77ac54c30</td>\n",
       "      <td>https://preview.redd.it/leanest-ive-ever-been-never-seen-veins-like-this-before-v0-cvvyjr8hfdmc1.jpg?width=640&amp;crop=smart&amp;auto=webp&amp;s=bbc6e7207b1aae8893ecb76d1a68adc87fcd7aa2</td>\n",
       "      <td>https://preview.redd.it/leanest-ive-ever-been-never-seen-veins-like-this-before-v0-kev0ir8hfdmc1.jpg?width=640&amp;crop=smart&amp;auto=webp&amp;s=3cf034949f12a0b62655c3dbcd0d77d4418c64fe</td>\n",
       "      <td>https://preview.redd.it/leanest-ive-ever-been-never-seen-veins-like-this-before-v0-yur9ot8hfdmc1.jpg?width=476&amp;format=pjpg&amp;auto=webp&amp;s=5af3f2a2258f511a1606651727635f31f55f4d82</td>\n",
       "      <td>NaN</td>\n",
       "    </tr>\n",
       "    <tr>\n",
       "      <th>1</th>\n",
       "      <td>Let me know. 78kg :)</td>\n",
       "      <td>https://i.redd.it/4occeq9wdd2c1.jpg</td>\n",
       "      <td>9.80</td>\n",
       "      <td>10.0</td>\n",
       "      <td>[9, 10, 10, 9, 11]</td>\n",
       "      <td>https://i.redd.it/4occeq9wdd2c1.jpg</td>\n",
       "      <td>NaN</td>\n",
       "      <td>NaN</td>\n",
       "      <td>NaN</td>\n",
       "      <td>NaN</td>\n",
       "    </tr>\n",
       "    <tr>\n",
       "      <th>2</th>\n",
       "      <td>What is my bf% I believe it’s around 13-14%</td>\n",
       "      <td>https://i.redd.it/lvfmowq0zhh91.jpg</td>\n",
       "      <td>14.33</td>\n",
       "      <td>13.5</td>\n",
       "      <td>[13, 19, 14, 14, 13, 13]</td>\n",
       "      <td>https://i.redd.it/lvfmowq0zhh91.jpg</td>\n",
       "      <td>NaN</td>\n",
       "      <td>NaN</td>\n",
       "      <td>NaN</td>\n",
       "      <td>NaN</td>\n",
       "    </tr>\n",
       "    <tr>\n",
       "      <th>3</th>\n",
       "      <td>25F | 4'11\" | 107 lbs</td>\n",
       "      <td>https://www.reddit.com/gallery/1e30z2f</td>\n",
       "      <td>23.33</td>\n",
       "      <td>24.0</td>\n",
       "      <td>[20, 26, 24]</td>\n",
       "      <td>https://preview.redd.it/25f-411-107-lbs-v0-4lmyvzck8hcd1.jpg?width=640&amp;crop=smart&amp;auto=webp&amp;s=8ad8d28fdda2a0c57664d858e31e13889dfb008d</td>\n",
       "      <td>https://preview.redd.it/25f-411-107-lbs-v0-huczvrhk8hcd1.jpg?width=640&amp;crop=smart&amp;auto=webp&amp;s=2445bde27112796d8e09d8825a1cb03d7bb83108</td>\n",
       "      <td>NaN</td>\n",
       "      <td>NaN</td>\n",
       "      <td>NaN</td>\n",
       "    </tr>\n",
       "    <tr>\n",
       "      <th>4</th>\n",
       "      <td>Bodyfat?</td>\n",
       "      <td>https://www.reddit.com/gallery/1ktwao9</td>\n",
       "      <td>17.80</td>\n",
       "      <td>18.0</td>\n",
       "      <td>[18, 16, 18, 15, 22]</td>\n",
       "      <td>https://preview.redd.it/8ekhv0d4xl2f1.jpg?width=640&amp;crop=smart&amp;auto=webp&amp;s=dfaa3a2d96c714e36a6b2579ad6559b098e145c7</td>\n",
       "      <td>https://preview.redd.it/rwkt50d4xl2f1.jpg?width=640&amp;crop=smart&amp;auto=webp&amp;s=9d4a08637bbd189e9f44f47dfe20948be74f85d4</td>\n",
       "      <td>https://preview.redd.it/vau412d4xl2f1.jpg?width=640&amp;crop=smart&amp;auto=webp&amp;s=610a51fef6107a8c7635afdc1722d01e620bf86b</td>\n",
       "      <td>NaN</td>\n",
       "      <td>NaN</td>\n",
       "    </tr>\n",
       "    <tr>\n",
       "      <th>...</th>\n",
       "      <td>...</td>\n",
       "      <td>...</td>\n",
       "      <td>...</td>\n",
       "      <td>...</td>\n",
       "      <td>...</td>\n",
       "      <td>...</td>\n",
       "      <td>...</td>\n",
       "      <td>...</td>\n",
       "      <td>...</td>\n",
       "      <td>...</td>\n",
       "    </tr>\n",
       "    <tr>\n",
       "      <th>800</th>\n",
       "      <td>[GMBF] 6'1 220LBS Any estimates appreciated!</td>\n",
       "      <td>https://i.redd.it/z543jfquva731.jpg</td>\n",
       "      <td>12.00</td>\n",
       "      <td>12.0</td>\n",
       "      <td>[12]</td>\n",
       "      <td>https://i.redd.it/z543jfquva731.jpg</td>\n",
       "      <td>NaN</td>\n",
       "      <td>NaN</td>\n",
       "      <td>NaN</td>\n",
       "      <td>NaN</td>\n",
       "    </tr>\n",
       "    <tr>\n",
       "      <th>801</th>\n",
       "      <td>[GMBF] (M/22/6'2\"/195lbs)</td>\n",
       "      <td>https://i.imgur.com/PY44dK5.jpg</td>\n",
       "      <td>10.50</td>\n",
       "      <td>10.5</td>\n",
       "      <td>[11, 9, 10, 12]</td>\n",
       "      <td>https://i.imgur.com/PY44dK5.jpg</td>\n",
       "      <td>NaN</td>\n",
       "      <td>NaN</td>\n",
       "      <td>NaN</td>\n",
       "      <td>NaN</td>\n",
       "    </tr>\n",
       "    <tr>\n",
       "      <th>802</th>\n",
       "      <td>[GMBF] M/26/6'1/191lbs - down from 245lbs</td>\n",
       "      <td>https://i.imgur.com/pWGT7nV.jpg</td>\n",
       "      <td>15.00</td>\n",
       "      <td>15.0</td>\n",
       "      <td>[15]</td>\n",
       "      <td>https://i.imgur.com/pWGT7nV.jpg</td>\n",
       "      <td>NaN</td>\n",
       "      <td>NaN</td>\n",
       "      <td>NaN</td>\n",
       "      <td>NaN</td>\n",
       "    </tr>\n",
       "    <tr>\n",
       "      <th>803</th>\n",
       "      <td>[GMBF] (M/26/5’10”/153lbs to 168lbs) What would you estimate my bf% to be before and after 4 months of (hopefully lean) bulking?</td>\n",
       "      <td>https://i.redd.it/lc2q2svumrt11.jpg</td>\n",
       "      <td>12.00</td>\n",
       "      <td>12.0</td>\n",
       "      <td>[10, 14]</td>\n",
       "      <td>https://i.redd.it/lc2q2svumrt11.jpg</td>\n",
       "      <td>NaN</td>\n",
       "      <td>NaN</td>\n",
       "      <td>NaN</td>\n",
       "      <td>NaN</td>\n",
       "    </tr>\n",
       "    <tr>\n",
       "      <th>804</th>\n",
       "      <td>Thoughts?</td>\n",
       "      <td>https://i.redd.it/3yube1tanu1f1.jpeg</td>\n",
       "      <td>13.50</td>\n",
       "      <td>13.5</td>\n",
       "      <td>[14, 13]</td>\n",
       "      <td>https://i.redd.it/3yube1tanu1f1.jpeg</td>\n",
       "      <td>NaN</td>\n",
       "      <td>NaN</td>\n",
       "      <td>NaN</td>\n",
       "      <td>NaN</td>\n",
       "    </tr>\n",
       "  </tbody>\n",
       "</table>\n",
       "<p>805 rows × 10 columns</p>\n",
       "</div>"
      ],
      "text/plain": [
       "                                                                                                                                title  \\\n",
       "0                                                                           Leanest ive ever been. Never seen veins like this before.   \n",
       "1                                                                                                                Let me know. 78kg :)   \n",
       "2                                                                                         What is my bf% I believe it’s around 13-14%   \n",
       "3                                                                                                              25F | 4'11\" | 107 lbs    \n",
       "4                                                                                                                            Bodyfat?   \n",
       "..                                                                                                                                ...   \n",
       "800                                                                                      [GMBF] 6'1 220LBS Any estimates appreciated!   \n",
       "801                                                                                                         [GMBF] (M/22/6'2\"/195lbs)   \n",
       "802                                                                                         [GMBF] M/26/6'1/191lbs - down from 245lbs   \n",
       "803  [GMBF] (M/26/5’10”/153lbs to 168lbs) What would you estimate my bf% to be before and after 4 months of (hopefully lean) bulking?   \n",
       "804                                                                                                                         Thoughts?   \n",
       "\n",
       "                                        url  meanPrediction  medianPrediction  \\\n",
       "0    https://www.reddit.com/gallery/1b6k5jh            8.00               8.0   \n",
       "1       https://i.redd.it/4occeq9wdd2c1.jpg            9.80              10.0   \n",
       "2       https://i.redd.it/lvfmowq0zhh91.jpg           14.33              13.5   \n",
       "3    https://www.reddit.com/gallery/1e30z2f           23.33              24.0   \n",
       "4    https://www.reddit.com/gallery/1ktwao9           17.80              18.0   \n",
       "..                                      ...             ...               ...   \n",
       "800     https://i.redd.it/z543jfquva731.jpg           12.00              12.0   \n",
       "801         https://i.imgur.com/PY44dK5.jpg           10.50              10.5   \n",
       "802         https://i.imgur.com/pWGT7nV.jpg           15.00              15.0   \n",
       "803     https://i.redd.it/lc2q2svumrt11.jpg           12.00              12.0   \n",
       "804    https://i.redd.it/3yube1tanu1f1.jpeg           13.50              13.5   \n",
       "\n",
       "                bfPredictions  \\\n",
       "0                         [8]   \n",
       "1          [9, 10, 10, 9, 11]   \n",
       "2    [13, 19, 14, 14, 13, 13]   \n",
       "3                [20, 26, 24]   \n",
       "4        [18, 16, 18, 15, 22]   \n",
       "..                        ...   \n",
       "800                      [12]   \n",
       "801           [11, 9, 10, 12]   \n",
       "802                      [15]   \n",
       "803                  [10, 14]   \n",
       "804                  [14, 13]   \n",
       "\n",
       "                                                                                                                                                                            image_1  \\\n",
       "0    https://preview.redd.it/leanest-ive-ever-been-never-seen-veins-like-this-before-v0-hibkcr8hfdmc1.jpg?width=640&crop=smart&auto=webp&s=4604d036777deffcf28c2e2f396b19f77ac54c30   \n",
       "1                                                                                                                                               https://i.redd.it/4occeq9wdd2c1.jpg   \n",
       "2                                                                                                                                               https://i.redd.it/lvfmowq0zhh91.jpg   \n",
       "3                                            https://preview.redd.it/25f-411-107-lbs-v0-4lmyvzck8hcd1.jpg?width=640&crop=smart&auto=webp&s=8ad8d28fdda2a0c57664d858e31e13889dfb008d   \n",
       "4                                                               https://preview.redd.it/8ekhv0d4xl2f1.jpg?width=640&crop=smart&auto=webp&s=dfaa3a2d96c714e36a6b2579ad6559b098e145c7   \n",
       "..                                                                                                                                                                              ...   \n",
       "800                                                                                                                                             https://i.redd.it/z543jfquva731.jpg   \n",
       "801                                                                                                                                                 https://i.imgur.com/PY44dK5.jpg   \n",
       "802                                                                                                                                                 https://i.imgur.com/pWGT7nV.jpg   \n",
       "803                                                                                                                                             https://i.redd.it/lc2q2svumrt11.jpg   \n",
       "804                                                                                                                                            https://i.redd.it/3yube1tanu1f1.jpeg   \n",
       "\n",
       "                                                                                                                                                                            image_2  \\\n",
       "0    https://preview.redd.it/leanest-ive-ever-been-never-seen-veins-like-this-before-v0-cvvyjr8hfdmc1.jpg?width=640&crop=smart&auto=webp&s=bbc6e7207b1aae8893ecb76d1a68adc87fcd7aa2   \n",
       "1                                                                                                                                                                               NaN   \n",
       "2                                                                                                                                                                               NaN   \n",
       "3                                            https://preview.redd.it/25f-411-107-lbs-v0-huczvrhk8hcd1.jpg?width=640&crop=smart&auto=webp&s=2445bde27112796d8e09d8825a1cb03d7bb83108   \n",
       "4                                                               https://preview.redd.it/rwkt50d4xl2f1.jpg?width=640&crop=smart&auto=webp&s=9d4a08637bbd189e9f44f47dfe20948be74f85d4   \n",
       "..                                                                                                                                                                              ...   \n",
       "800                                                                                                                                                                             NaN   \n",
       "801                                                                                                                                                                             NaN   \n",
       "802                                                                                                                                                                             NaN   \n",
       "803                                                                                                                                                                             NaN   \n",
       "804                                                                                                                                                                             NaN   \n",
       "\n",
       "                                                                                                                                                                            image_3  \\\n",
       "0    https://preview.redd.it/leanest-ive-ever-been-never-seen-veins-like-this-before-v0-kev0ir8hfdmc1.jpg?width=640&crop=smart&auto=webp&s=3cf034949f12a0b62655c3dbcd0d77d4418c64fe   \n",
       "1                                                                                                                                                                               NaN   \n",
       "2                                                                                                                                                                               NaN   \n",
       "3                                                                                                                                                                               NaN   \n",
       "4                                                               https://preview.redd.it/vau412d4xl2f1.jpg?width=640&crop=smart&auto=webp&s=610a51fef6107a8c7635afdc1722d01e620bf86b   \n",
       "..                                                                                                                                                                              ...   \n",
       "800                                                                                                                                                                             NaN   \n",
       "801                                                                                                                                                                             NaN   \n",
       "802                                                                                                                                                                             NaN   \n",
       "803                                                                                                                                                                             NaN   \n",
       "804                                                                                                                                                                             NaN   \n",
       "\n",
       "                                                                                                                                                                             image_4  \\\n",
       "0    https://preview.redd.it/leanest-ive-ever-been-never-seen-veins-like-this-before-v0-yur9ot8hfdmc1.jpg?width=476&format=pjpg&auto=webp&s=5af3f2a2258f511a1606651727635f31f55f4d82   \n",
       "1                                                                                                                                                                                NaN   \n",
       "2                                                                                                                                                                                NaN   \n",
       "3                                                                                                                                                                                NaN   \n",
       "4                                                                                                                                                                                NaN   \n",
       "..                                                                                                                                                                               ...   \n",
       "800                                                                                                                                                                              NaN   \n",
       "801                                                                                                                                                                              NaN   \n",
       "802                                                                                                                                                                              NaN   \n",
       "803                                                                                                                                                                              NaN   \n",
       "804                                                                                                                                                                              NaN   \n",
       "\n",
       "     image_5  \n",
       "0        NaN  \n",
       "1        NaN  \n",
       "2        NaN  \n",
       "3        NaN  \n",
       "4        NaN  \n",
       "..       ...  \n",
       "800      NaN  \n",
       "801      NaN  \n",
       "802      NaN  \n",
       "803      NaN  \n",
       "804      NaN  \n",
       "\n",
       "[805 rows x 10 columns]"
      ]
     },
     "execution_count": 13,
     "metadata": {},
     "output_type": "execute_result"
    }
   ],
   "source": [
    "import torch, numpy as np, pandas as pd\n",
    "\n",
    "df = pd.read_csv(path)\n",
    "\n",
    "df"
   ]
  },
  {
   "cell_type": "code",
   "execution_count": 6,
   "id": "865e79e0-2e1c-4672-8a10-969a55f38752",
   "metadata": {},
   "outputs": [],
   "source": [
    "import requests\n",
    "from tqdm import tqdm\n",
    "\n",
    "def download_all_images(df, output_dir=\"raw_images\"):\n",
    "    os.makedirs(output_dir, exist_ok=True)\n",
    "    image_cols = [f\"image_{i}\" for i in range(1, 6)]\n",
    "    \n",
    "    seen_urls = set()\n",
    "    image_count = 0\n",
    "\n",
    "    for idx, row in tqdm(df.iterrows(), total=len(df)):\n",
    "        for col in image_cols:\n",
    "            url = row.get(col)\n",
    "            if isinstance(url, str) and url.startswith(\"http\") and url not in seen_urls:\n",
    "                try:\n",
    "                    response = requests.get(url, timeout=10)\n",
    "                    if response.status_code == 200:\n",
    "                        file_ext = url.split('.')[-1].split('?')[0]\n",
    "                        file_name = f\"{idx}_{col}.{file_ext}\"\n",
    "                        file_path = os.path.join(output_dir, file_name)\n",
    "                        with open(file_path, \"wb\") as f:\n",
    "                            f.write(response.content)\n",
    "                        seen_urls.add(url)\n",
    "                        image_count += 1\n",
    "                except Exception as e:\n",
    "                    print(f\"Error downloading {url}: {e}\")\n",
    "\n",
    "    print(f\"\\nDownloaded {image_count} unique images to '{output_dir}/'\")"
   ]
  },
  {
   "cell_type": "code",
   "execution_count": 15,
   "id": "9876b101-99d9-44d3-9edd-4db973cafa89",
   "metadata": {},
   "outputs": [],
   "source": [
    "def create_regression_csv(df, output_csv=\"image_labels.csv\", label_col=\"meanPrediction\", image_prefix=\"image_\", output_dir=\"images\"):\n",
    "    # Ensure column names are stripped of whitespace\n",
    "    df.columns = df.columns.str.strip()\n",
    "    \n",
    "    image_cols = [col for col in df.columns if col.startswith(image_prefix)]\n",
    "    records = []\n",
    "\n",
    "    for idx, row in df.iterrows():\n",
    "        label = row[label_col]\n",
    "        for col in image_cols:\n",
    "            url = row.get(col)\n",
    "            if isinstance(url, str) and url.startswith(\"http\"):\n",
    "                ext = url.split('.')[-1].split('?')[0].lower()\n",
    "                ext = ext if ext in ['jpg', 'jpeg', 'png', 'webp'] else 'jpg'\n",
    "                filename = f\"{idx}_{col}.{ext}\"\n",
    "                records.append({\"filename\": filename, \"target\": label})\n",
    "    \n",
    "    df_out = pd.DataFrame(records)\n",
    "    df_out.to_csv(output_csv, index=False)\n",
    "    print(f\"Created {output_csv} with {len(df_out)} labeled images\")\n",
    "    return df_out"
   ]
  },
  {
   "cell_type": "code",
   "execution_count": 16,
   "id": "940a2b9a-56aa-4b9b-a965-c82eab37222b",
   "metadata": {},
   "outputs": [
    {
     "name": "stderr",
     "output_type": "stream",
     "text": [
      "100%|█████████████████████████████████████████████████████████████████████████████████████████████████| 805/805 [03:21<00:00,  3.99it/s]"
     ]
    },
    {
     "name": "stdout",
     "output_type": "stream",
     "text": [
      "\n",
      "Downloaded 1578 unique images to 'raw_images/'\n",
      "Created image_labels.csv with 1596 labeled images\n"
     ]
    },
    {
     "name": "stderr",
     "output_type": "stream",
     "text": [
      "\n"
     ]
    },
    {
     "data": {
      "text/html": [
       "<div>\n",
       "<style scoped>\n",
       "    .dataframe tbody tr th:only-of-type {\n",
       "        vertical-align: middle;\n",
       "    }\n",
       "\n",
       "    .dataframe tbody tr th {\n",
       "        vertical-align: top;\n",
       "    }\n",
       "\n",
       "    .dataframe thead th {\n",
       "        text-align: right;\n",
       "    }\n",
       "</style>\n",
       "<table border=\"1\" class=\"dataframe\">\n",
       "  <thead>\n",
       "    <tr style=\"text-align: right;\">\n",
       "      <th></th>\n",
       "      <th>filename</th>\n",
       "      <th>target</th>\n",
       "    </tr>\n",
       "  </thead>\n",
       "  <tbody>\n",
       "    <tr>\n",
       "      <th>0</th>\n",
       "      <td>0_image_1.jpg</td>\n",
       "      <td>8.0</td>\n",
       "    </tr>\n",
       "    <tr>\n",
       "      <th>1</th>\n",
       "      <td>0_image_2.jpg</td>\n",
       "      <td>8.0</td>\n",
       "    </tr>\n",
       "    <tr>\n",
       "      <th>2</th>\n",
       "      <td>0_image_3.jpg</td>\n",
       "      <td>8.0</td>\n",
       "    </tr>\n",
       "    <tr>\n",
       "      <th>3</th>\n",
       "      <td>0_image_4.jpg</td>\n",
       "      <td>8.0</td>\n",
       "    </tr>\n",
       "    <tr>\n",
       "      <th>4</th>\n",
       "      <td>1_image_1.jpg</td>\n",
       "      <td>9.8</td>\n",
       "    </tr>\n",
       "  </tbody>\n",
       "</table>\n",
       "</div>"
      ],
      "text/plain": [
       "        filename  target\n",
       "0  0_image_1.jpg     8.0\n",
       "1  0_image_2.jpg     8.0\n",
       "2  0_image_3.jpg     8.0\n",
       "3  0_image_4.jpg     8.0\n",
       "4  1_image_1.jpg     9.8"
      ]
     },
     "execution_count": 16,
     "metadata": {},
     "output_type": "execute_result"
    }
   ],
   "source": [
    "download_all_images(df)  \n",
    "\n",
    "df_labels = create_regression_csv(df) \n",
    "df_labels.head()"
   ]
  },
  {
   "cell_type": "code",
   "execution_count": 7,
   "id": "8b9f8e09-22b7-472a-bba3-0d7c297279d5",
   "metadata": {},
   "outputs": [
    {
     "data": {
      "text/plain": [
       "0"
      ]
     },
     "execution_count": 7,
     "metadata": {},
     "output_type": "execute_result"
    }
   ],
   "source": [
    "from fastai.vision.all import *\n",
    "\n",
    "failed = verify_images(get_image_files(Path('raw_images')))\n",
    "failed.map(Path.unlink)\n",
    "len(failed)"
   ]
  },
  {
   "cell_type": "code",
   "execution_count": 8,
   "id": "692e51ec-acd7-4f06-a372-d5792010bd22",
   "metadata": {},
   "outputs": [],
   "source": [
    "!python3.10 -m pip install -Uqq mediapipe"
   ]
  },
  {
   "cell_type": "code",
   "execution_count": 12,
   "id": "624a246d-2ff0-437e-bf1e-dcd3dd12c333",
   "metadata": {},
   "outputs": [
    {
     "name": "stdout",
     "output_type": "stream",
     "text": [
      "Labels df shape: (1596, 3)\n",
      "Bodyfat df shape: (805, 10)\n"
     ]
    },
    {
     "name": "stderr",
     "output_type": "stream",
     "text": [
      "I0000 00:00:1749707333.470032 4530522 gl_context.cc:369] GL version: 2.1 (2.1 Metal - 89.4), renderer: Apple M4\n",
      "W0000 00:00:1749707333.523661 4538337 inference_feedback_manager.cc:114] Feedback manager requires a model with a single signature inference. Disabling support for feedback tensors.\n",
      "W0000 00:00:1749707333.532377 4538346 inference_feedback_manager.cc:114] Feedback manager requires a model with a single signature inference. Disabling support for feedback tensors.\n"
     ]
    }
   ],
   "source": [
    "import mediapipe as mp\n",
    "from PIL import Image\n",
    "import cv2\n",
    "\n",
    "\n",
    "# Paths to your datasets and images\n",
    "data_dir = Path('./data')\n",
    "image_labels_csv = data_dir / 'image_labels.csv'\n",
    "bodyfat_csv = data_dir / 'bodyfat_dataset.csv'\n",
    "images_dir = Path('raw_images')  # Adjust this path if your images are elsewhere\n",
    "\n",
    "# Load CSVs\n",
    "df_labels = pd.read_csv(image_labels_csv)\n",
    "df_bodyfat = pd.read_csv(bodyfat_csv)\n",
    "\n",
    "print(f\"Labels df shape: {df_labels.shape}\")\n",
    "print(f\"Bodyfat df shape: {df_bodyfat.shape}\")\n",
    "\n",
    "# Setup mediapipe pose detector\n",
    "mp_pose = mp.solutions.pose\n",
    "pose = mp_pose.Pose(static_image_mode=True, min_detection_confidence=0.5)\n"
   ]
  },
  {
   "cell_type": "code",
   "execution_count": 13,
   "id": "45f7875d-2c2d-4321-885e-56d986b4f0ae",
   "metadata": {},
   "outputs": [],
   "source": [
    "def crop_upper_body(image_path):\n",
    "    img = cv2.imread(str(image_path))\n",
    "    if img is None:\n",
    "        print(f\"Failed to read image {image_path}\")\n",
    "        return None\n",
    "\n",
    "    img_rgb = cv2.cvtColor(img, cv2.COLOR_BGR2RGB)\n",
    "    results = pose.process(img_rgb)\n",
    "\n",
    "    if not results.pose_landmarks:\n",
    "        print(f\"No pose detected in {image_path}\")\n",
    "        return None\n",
    "\n",
    "    try:\n",
    "        landmarks = results.pose_landmarks.landmark\n",
    "\n",
    "        left_shoulder = landmarks[mp_pose.PoseLandmark.LEFT_SHOULDER]\n",
    "        right_shoulder = landmarks[mp_pose.PoseLandmark.RIGHT_SHOULDER]\n",
    "        left_hip = landmarks[mp_pose.PoseLandmark.LEFT_HIP]\n",
    "        right_hip = landmarks[mp_pose.PoseLandmark.RIGHT_HIP]\n",
    "\n",
    "        h, w, _ = img.shape\n",
    "        xs = [left_shoulder.x * w, right_shoulder.x * w, left_hip.x * w, right_hip.x * w]\n",
    "        ys = [left_shoulder.y * h, right_shoulder.y * h, left_hip.y * h, right_hip.y * h]\n",
    "\n",
    "        xmin, xmax = int(min(xs)), int(max(xs))\n",
    "        ymin, ymax = int(min(ys)), int(max(ys))\n",
    "\n",
    "        # Add padding around landmarks\n",
    "        pad_x = 20\n",
    "        pad_y = 20\n",
    "        xmin = max(xmin - pad_x, 0)\n",
    "        xmax = min(xmax + pad_x, w)\n",
    "        ymin = max(ymin - pad_y, 0)\n",
    "        ymax = min(ymax + pad_y, h)\n",
    "\n",
    "        # Final adjustment: widen the crop a little more (e.g., 10% of width)\n",
    "        box_width = xmax - xmin\n",
    "        expand = int(box_width * 0.1)  # Expand 10% on each side\n",
    "        xmin = max(xmin - expand, 0)\n",
    "        xmax = min(xmax + expand, w)\n",
    "\n",
    "        cropped = img[ymin:ymax, xmin:xmax]\n",
    "        cropped_rgb = cv2.cvtColor(cropped, cv2.COLOR_BGR2RGB)\n",
    "        return Image.fromarray(cropped_rgb)\n",
    "\n",
    "    except Exception as e:\n",
    "        print(f\"Error cropping {image_path}: {e}\")\n",
    "        return None\n"
   ]
  },
  {
   "cell_type": "code",
   "execution_count": 14,
   "id": "27a0472e-8077-4099-8e10-dc69f176a844",
   "metadata": {},
   "outputs": [
    {
     "name": "stderr",
     "output_type": "stream",
     "text": [
      "  0%|                                                                                                          | 0/1596 [00:00<?, ?it/s]W0000 00:00:1749707334.302515 4538338 landmark_projection_calculator.cc:186] Using NORM_RECT without IMAGE_DIMENSIONS is only supported for the square ROI. Provide IMAGE_DIMENSIONS or use PROJECTION_MATRIX.\n",
      "  1%|▍                                                                                                 | 8/1596 [00:00<00:47, 33.49it/s]"
     ]
    },
    {
     "name": "stdout",
     "output_type": "stream",
     "text": [
      "No pose detected in raw_images/0_image_1.jpg\n",
      "No pose detected in raw_images/0_image_2.jpg\n",
      "No pose detected in raw_images/0_image_3.jpg\n",
      "No pose detected in raw_images/2_image_1.jpg\n"
     ]
    },
    {
     "name": "stderr",
     "output_type": "stream",
     "text": [
      "  1%|▋                                                                                                | 12/1596 [00:00<00:59, 26.50it/s]"
     ]
    },
    {
     "name": "stdout",
     "output_type": "stream",
     "text": [
      "No pose detected in raw_images/4_image_2.jpg\n",
      "No pose detected in raw_images/4_image_3.jpg\n",
      "No pose detected in raw_images/5_image_1.png\n",
      "No pose detected in raw_images/7_image_1.jpg\n"
     ]
    },
    {
     "name": "stderr",
     "output_type": "stream",
     "text": [
      "[ WARN:0@52.537] global loadsave.cpp:268 findDecoder imread_('raw_images/8_image_1.jpg'): can't open/read file: check file path/integrity\n",
      "  2%|█▍                                                                                               | 24/1596 [00:00<00:40, 38.72it/s]"
     ]
    },
    {
     "name": "stdout",
     "output_type": "stream",
     "text": [
      "No pose detected in raw_images/7_image_2.jpg\n",
      "No pose detected in raw_images/7_image_3.jpg\n",
      "No pose detected in raw_images/7_image_4.jpg\n",
      "Failed to read image raw_images/8_image_1.jpg\n"
     ]
    },
    {
     "name": "stderr",
     "output_type": "stream",
     "text": [
      "  2%|██                                                                                               | 34/1596 [00:00<00:36, 42.52it/s]"
     ]
    },
    {
     "name": "stdout",
     "output_type": "stream",
     "text": [
      "No pose detected in raw_images/13_image_1.jpeg\n",
      "No pose detected in raw_images/16_image_2.jpg\n"
     ]
    },
    {
     "name": "stderr",
     "output_type": "stream",
     "text": [
      "  3%|██▋                                                                                              | 44/1596 [00:01<00:37, 40.88it/s]"
     ]
    },
    {
     "name": "stdout",
     "output_type": "stream",
     "text": [
      "No pose detected in raw_images/18_image_1.jpg\n",
      "No pose detected in raw_images/20_image_1.jpg\n",
      "No pose detected in raw_images/20_image_2.jpg\n"
     ]
    },
    {
     "name": "stderr",
     "output_type": "stream",
     "text": [
      "  4%|███▌                                                                                             | 59/1596 [00:01<00:39, 38.60it/s]"
     ]
    },
    {
     "name": "stdout",
     "output_type": "stream",
     "text": [
      "No pose detected in raw_images/26_image_4.jpg\n"
     ]
    },
    {
     "name": "stderr",
     "output_type": "stream",
     "text": [
      "  5%|████▍                                                                                            | 74/1596 [00:01<00:36, 41.23it/s]"
     ]
    },
    {
     "name": "stdout",
     "output_type": "stream",
     "text": [
      "No pose detected in raw_images/33_image_3.jpg\n"
     ]
    },
    {
     "name": "stderr",
     "output_type": "stream",
     "text": [
      "  6%|█████▉                                                                                           | 98/1596 [00:02<00:42, 34.84it/s]"
     ]
    },
    {
     "name": "stdout",
     "output_type": "stream",
     "text": [
      "No pose detected in raw_images/45_image_2.jpg\n"
     ]
    },
    {
     "name": "stderr",
     "output_type": "stream",
     "text": [
      "  8%|████████                                                                                        | 134/1596 [00:03<00:31, 46.58it/s]"
     ]
    },
    {
     "name": "stdout",
     "output_type": "stream",
     "text": [
      "No pose detected in raw_images/56_image_4.jpg\n",
      "No pose detected in raw_images/57_image_1.jpg\n",
      "No pose detected in raw_images/58_image_1.jpg\n",
      "No pose detected in raw_images/59_image_1.jpg\n"
     ]
    },
    {
     "name": "stderr",
     "output_type": "stream",
     "text": [
      " 10%|█████████▌                                                                                      | 158/1596 [00:04<00:36, 39.52it/s]"
     ]
    },
    {
     "name": "stdout",
     "output_type": "stream",
     "text": [
      "No pose detected in raw_images/69_image_1.jpg\n"
     ]
    },
    {
     "name": "stderr",
     "output_type": "stream",
     "text": [
      " 11%|██████████▋                                                                                     | 177/1596 [00:04<00:40, 35.11it/s]"
     ]
    },
    {
     "name": "stdout",
     "output_type": "stream",
     "text": [
      "No pose detected in raw_images/77_image_3.jpg\n",
      "No pose detected in raw_images/78_image_3.jpg\n",
      "No pose detected in raw_images/78_image_4.jpg\n"
     ]
    },
    {
     "name": "stderr",
     "output_type": "stream",
     "text": [
      " 12%|███████████▍                                                                                    | 191/1596 [00:05<00:43, 32.62it/s]"
     ]
    },
    {
     "name": "stdout",
     "output_type": "stream",
     "text": [
      "No pose detected in raw_images/83_image_1.jpg\n",
      "No pose detected in raw_images/84_image_4.jpg\n"
     ]
    },
    {
     "name": "stderr",
     "output_type": "stream",
     "text": [
      " 14%|█████████████▉                                                                                  | 231/1596 [00:06<00:36, 37.13it/s]"
     ]
    },
    {
     "name": "stdout",
     "output_type": "stream",
     "text": [
      "No pose detected in raw_images/109_image_3.jpg\n",
      "No pose detected in raw_images/111_image_1.jpeg\n"
     ]
    },
    {
     "name": "stderr",
     "output_type": "stream",
     "text": [
      " 15%|██████████████▊                                                                                 | 246/1596 [00:06<00:32, 41.03it/s]"
     ]
    },
    {
     "name": "stdout",
     "output_type": "stream",
     "text": [
      "No pose detected in raw_images/114_image_4.jpg\n",
      "No pose detected in raw_images/115_image_4.jpg\n"
     ]
    },
    {
     "name": "stderr",
     "output_type": "stream",
     "text": [
      " 16%|███████████████▋                                                                                | 261/1596 [00:07<00:35, 37.61it/s]"
     ]
    },
    {
     "name": "stdout",
     "output_type": "stream",
     "text": [
      "No pose detected in raw_images/124_image_2.jpg\n",
      "No pose detected in raw_images/128_image_1.jpeg\n"
     ]
    },
    {
     "name": "stderr",
     "output_type": "stream",
     "text": [
      " 18%|████████████████▉                                                                               | 281/1596 [00:07<00:32, 40.34it/s]"
     ]
    },
    {
     "name": "stdout",
     "output_type": "stream",
     "text": [
      "No pose detected in raw_images/135_image_1.jpg\n"
     ]
    },
    {
     "name": "stderr",
     "output_type": "stream",
     "text": [
      " 19%|██████████████████▋                                                                             | 310/1596 [00:08<00:32, 39.93it/s]"
     ]
    },
    {
     "name": "stdout",
     "output_type": "stream",
     "text": [
      "No pose detected in raw_images/150_image_2.jpg\n",
      "No pose detected in raw_images/154_image_2.jpg\n"
     ]
    },
    {
     "name": "stderr",
     "output_type": "stream",
     "text": [
      " 21%|███████████████████▊                                                                            | 330/1596 [00:08<00:29, 43.09it/s]"
     ]
    },
    {
     "name": "stdout",
     "output_type": "stream",
     "text": [
      "No pose detected in raw_images/161_image_1.jpg\n"
     ]
    },
    {
     "name": "stderr",
     "output_type": "stream",
     "text": [
      " 21%|████████████████████▍                                                                           | 340/1596 [00:09<00:31, 39.34it/s]"
     ]
    },
    {
     "name": "stdout",
     "output_type": "stream",
     "text": [
      "No pose detected in raw_images/166_image_1.jpg\n"
     ]
    },
    {
     "name": "stderr",
     "output_type": "stream",
     "text": [
      " 22%|█████████████████████▍                                                                          | 356/1596 [00:09<00:28, 44.01it/s]"
     ]
    },
    {
     "name": "stdout",
     "output_type": "stream",
     "text": [
      "No pose detected in raw_images/173_image_1.jpeg\n",
      "No pose detected in raw_images/175_image_4.jpg\n",
      "Failed to read image raw_images/178_image_1.jpeg\n",
      "Failed to read image raw_images/179_image_1.png\n",
      "Failed to read image raw_images/179_image_2.png\n",
      "Failed to read image raw_images/179_image_3.png\n",
      "Failed to read image raw_images/179_image_4.png\n"
     ]
    },
    {
     "name": "stderr",
     "output_type": "stream",
     "text": [
      "[ WARN:0@61.407] global loadsave.cpp:268 findDecoder imread_('raw_images/178_image_1.jpeg'): can't open/read file: check file path/integrity\n",
      "[ WARN:0@61.407] global loadsave.cpp:268 findDecoder imread_('raw_images/179_image_1.png'): can't open/read file: check file path/integrity\n",
      "[ WARN:0@61.407] global loadsave.cpp:268 findDecoder imread_('raw_images/179_image_2.png'): can't open/read file: check file path/integrity\n",
      "[ WARN:0@61.407] global loadsave.cpp:268 findDecoder imread_('raw_images/179_image_3.png'): can't open/read file: check file path/integrity\n",
      "[ WARN:0@61.407] global loadsave.cpp:268 findDecoder imread_('raw_images/179_image_4.png'): can't open/read file: check file path/integrity\n",
      "[ WARN:0@61.434] global loadsave.cpp:268 findDecoder imread_('raw_images/181_image_1.jpeg'): can't open/read file: check file path/integrity\n",
      "[ WARN:0@61.491] global loadsave.cpp:268 findDecoder imread_('raw_images/183_image_2.jpg'): can't open/read file: check file path/integrity\n",
      "[ WARN:0@61.492] global loadsave.cpp:268 findDecoder imread_('raw_images/183_image_3.jpg'): can't open/read file: check file path/integrity\n",
      " 23%|██████████████████████▏                                                                         | 368/1596 [00:09<00:19, 62.55it/s][ WARN:0@61.540] global loadsave.cpp:268 findDecoder imread_('raw_images/185_image_2.jpg'): can't open/read file: check file path/integrity\n",
      "[ WARN:0@61.540] global loadsave.cpp:268 findDecoder imread_('raw_images/185_image_3.jpg'): can't open/read file: check file path/integrity\n",
      " 23%|██████████████████████▌                                                                         | 375/1596 [00:09<00:19, 61.70it/s]"
     ]
    },
    {
     "name": "stdout",
     "output_type": "stream",
     "text": [
      "Failed to read image raw_images/181_image_1.jpeg\n",
      "Failed to read image raw_images/183_image_2.jpg\n",
      "Failed to read image raw_images/183_image_3.jpg\n",
      "Failed to read image raw_images/185_image_2.jpg\n",
      "Failed to read image raw_images/185_image_3.jpg\n",
      "No pose detected in raw_images/186_image_1.jpg\n",
      "No pose detected in raw_images/188_image_1.jpg\n",
      "Failed to read image raw_images/189_image_2.jpg\n",
      "Failed to read image raw_images/189_image_3.jpg\n"
     ]
    },
    {
     "name": "stderr",
     "output_type": "stream",
     "text": [
      "[ WARN:0@61.633] global loadsave.cpp:268 findDecoder imread_('raw_images/189_image_2.jpg'): can't open/read file: check file path/integrity\n",
      "[ WARN:0@61.633] global loadsave.cpp:268 findDecoder imread_('raw_images/189_image_3.jpg'): can't open/read file: check file path/integrity\n",
      "[ WARN:0@61.641] global loadsave.cpp:268 findDecoder imread_('raw_images/191_image_1.jpg'): can't open/read file: check file path/integrity\n",
      "[ WARN:0@61.641] global loadsave.cpp:268 findDecoder imread_('raw_images/192_image_1.png'): can't open/read file: check file path/integrity\n",
      "[ WARN:0@61.641] global loadsave.cpp:268 findDecoder imread_('raw_images/192_image_2.png'): can't open/read file: check file path/integrity\n",
      "[ WARN:0@61.641] global loadsave.cpp:268 findDecoder imread_('raw_images/192_image_3.png'): can't open/read file: check file path/integrity\n",
      "[ WARN:0@61.677] global loadsave.cpp:268 findDecoder imread_('raw_images/193_image_2.jpg'): can't open/read file: check file path/integrity\n",
      " 24%|███████████████████████▏                                                                        | 386/1596 [00:09<00:17, 70.12it/s]"
     ]
    },
    {
     "name": "stdout",
     "output_type": "stream",
     "text": [
      "No pose detected in raw_images/190_image_1.jpg\n",
      "Failed to read image raw_images/191_image_1.jpg\n",
      "Failed to read image raw_images/192_image_1.png\n",
      "Failed to read image raw_images/192_image_2.png\n",
      "Failed to read image raw_images/192_image_3.png\n",
      "Failed to read image raw_images/193_image_2.jpg\n",
      "No pose detected in raw_images/194_image_1.jpg\n"
     ]
    },
    {
     "name": "stderr",
     "output_type": "stream",
     "text": [
      "[ WARN:0@61.883] global loadsave.cpp:268 findDecoder imread_('raw_images/200_image_2.jpg'): can't open/read file: check file path/integrity\n",
      " 25%|████████████████████████                                                                        | 401/1596 [00:10<00:19, 62.17it/s][ WARN:0@62.036] global loadsave.cpp:268 findDecoder imread_('raw_images/203_image_4.jpg'): can't open/read file: check file path/integrity\n"
     ]
    },
    {
     "name": "stdout",
     "output_type": "stream",
     "text": [
      "No pose detected in raw_images/199_image_1.jpg\n",
      "Failed to read image raw_images/200_image_2.jpg\n",
      "No pose detected in raw_images/203_image_1.jpg\n",
      "No pose detected in raw_images/203_image_2.jpg\n",
      "No pose detected in raw_images/203_image_3.jpg\n",
      "Failed to read image raw_images/203_image_4.jpg\n"
     ]
    },
    {
     "name": "stderr",
     "output_type": "stream",
     "text": [
      "[ WARN:0@62.080] global loadsave.cpp:268 findDecoder imread_('raw_images/204_image_3.jpg'): can't open/read file: check file path/integrity\n",
      "[ WARN:0@62.081] global loadsave.cpp:268 findDecoder imread_('raw_images/205_image_1.jpg'): can't open/read file: check file path/integrity\n",
      "[ WARN:0@62.081] global loadsave.cpp:268 findDecoder imread_('raw_images/205_image_2.jpg'): can't open/read file: check file path/integrity\n",
      "[ WARN:0@62.081] global loadsave.cpp:268 findDecoder imread_('raw_images/205_image_3.png'): can't open/read file: check file path/integrity\n",
      "[ WARN:0@62.081] global loadsave.cpp:268 findDecoder imread_('raw_images/205_image_4.jpg'): can't open/read file: check file path/integrity\n",
      "[ WARN:0@62.081] global loadsave.cpp:268 findDecoder imread_('raw_images/206_image_1.png'): can't open/read file: check file path/integrity\n",
      "[ WARN:0@62.081] global loadsave.cpp:268 findDecoder imread_('raw_images/206_image_2.png'): can't open/read file: check file path/integrity\n",
      "[ WARN:0@62.125] global loadsave.cpp:268 findDecoder imread_('raw_images/207_image_3.jpg'): can't open/read file: check file path/integrity\n",
      "[ WARN:0@62.125] global loadsave.cpp:268 findDecoder imread_('raw_images/207_image_4.jpg'): can't open/read file: check file path/integrity\n",
      " 26%|█████████████████████████                                                                       | 416/1596 [00:10<00:14, 80.62it/s][ WARN:0@62.259] global loadsave.cpp:268 findDecoder imread_('raw_images/211_image_1.jpg'): can't open/read file: check file path/integrity\n",
      " 27%|█████████████████████████▌                                                                      | 425/1596 [00:10<00:14, 81.84it/s]"
     ]
    },
    {
     "name": "stdout",
     "output_type": "stream",
     "text": [
      "No pose detected in raw_images/204_image_2.jpg\n",
      "Failed to read image raw_images/204_image_3.jpg\n",
      "Failed to read image raw_images/205_image_1.jpg\n",
      "Failed to read image raw_images/205_image_2.jpg\n",
      "Failed to read image raw_images/205_image_3.png\n",
      "Failed to read image raw_images/205_image_4.jpg\n",
      "Failed to read image raw_images/206_image_1.png\n",
      "Failed to read image raw_images/206_image_2.png\n",
      "Failed to read image raw_images/207_image_3.jpg\n",
      "Failed to read image raw_images/207_image_4.jpg\n",
      "No pose detected in raw_images/208_image_1.jpg\n",
      "No pose detected in raw_images/210_image_3.jpg\n",
      "No pose detected in raw_images/210_image_4.jpg\n",
      "Failed to read image raw_images/211_image_1.jpg\n",
      "Failed to read image raw_images/211_image_2.jpg\n",
      "Failed to read image raw_images/211_image_3.jpg\n",
      "Failed to read image raw_images/211_image_4.jpg\n",
      "Failed to read image raw_images/212_image_1.jpeg\n",
      "Failed to read image raw_images/213_image_1.jpg\n",
      "Failed to read image raw_images/213_image_2.jpg\n",
      "Failed to read image raw_images/213_image_3.jpg\n",
      "Failed to read image raw_images/213_image_4.jpg\n"
     ]
    },
    {
     "name": "stderr",
     "output_type": "stream",
     "text": [
      "[ WARN:0@62.260] global loadsave.cpp:268 findDecoder imread_('raw_images/211_image_2.jpg'): can't open/read file: check file path/integrity\n",
      "[ WARN:0@62.260] global loadsave.cpp:268 findDecoder imread_('raw_images/211_image_3.jpg'): can't open/read file: check file path/integrity\n",
      "[ WARN:0@62.260] global loadsave.cpp:268 findDecoder imread_('raw_images/211_image_4.jpg'): can't open/read file: check file path/integrity\n",
      "[ WARN:0@62.260] global loadsave.cpp:268 findDecoder imread_('raw_images/212_image_1.jpeg'): can't open/read file: check file path/integrity\n",
      "[ WARN:0@62.260] global loadsave.cpp:268 findDecoder imread_('raw_images/213_image_1.jpg'): can't open/read file: check file path/integrity\n",
      "[ WARN:0@62.260] global loadsave.cpp:268 findDecoder imread_('raw_images/213_image_2.jpg'): can't open/read file: check file path/integrity\n",
      "[ WARN:0@62.260] global loadsave.cpp:268 findDecoder imread_('raw_images/213_image_3.jpg'): can't open/read file: check file path/integrity\n",
      "[ WARN:0@62.260] global loadsave.cpp:268 findDecoder imread_('raw_images/213_image_4.jpg'): can't open/read file: check file path/integrity\n",
      "[ WARN:0@62.285] global loadsave.cpp:268 findDecoder imread_('raw_images/215_image_1.jpeg'): can't open/read file: check file path/integrity\n",
      "[ WARN:0@62.285] global loadsave.cpp:268 findDecoder imread_('raw_images/216_image_1.png'): can't open/read file: check file path/integrity\n",
      "[ WARN:0@62.285] global loadsave.cpp:268 findDecoder imread_('raw_images/216_image_2.png'): can't open/read file: check file path/integrity\n",
      "[ WARN:0@62.285] global loadsave.cpp:268 findDecoder imread_('raw_images/216_image_3.png'): can't open/read file: check file path/integrity\n",
      "[ WARN:0@62.285] global loadsave.cpp:268 findDecoder imread_('raw_images/216_image_4.png'): can't open/read file: check file path/integrity\n",
      "[ WARN:0@62.285] global loadsave.cpp:268 findDecoder imread_('raw_images/217_image_1.jpg'): can't open/read file: check file path/integrity\n",
      "[ WARN:0@62.285] global loadsave.cpp:268 findDecoder imread_('raw_images/217_image_2.jpg'): can't open/read file: check file path/integrity\n",
      "[ WARN:0@62.285] global loadsave.cpp:268 findDecoder imread_('raw_images/218_image_1.png'): can't open/read file: check file path/integrity\n",
      "[ WARN:0@62.285] global loadsave.cpp:268 findDecoder imread_('raw_images/219_image_1.jpeg'): can't open/read file: check file path/integrity\n",
      "[ WARN:0@62.286] global loadsave.cpp:268 findDecoder imread_('raw_images/220_image_1.png'): can't open/read file: check file path/integrity\n",
      "[ WARN:0@62.286] global loadsave.cpp:268 findDecoder imread_('raw_images/220_image_2.png'): can't open/read file: check file path/integrity\n",
      "[ WARN:0@62.353] global loadsave.cpp:268 findDecoder imread_('raw_images/221_image_4.jpg'): can't open/read file: check file path/integrity\n",
      " 28%|██████████████████████████▋                                                                    | 448/1596 [00:10<00:09, 116.23it/s]"
     ]
    },
    {
     "name": "stdout",
     "output_type": "stream",
     "text": [
      "Failed to read image raw_images/215_image_1.jpeg\n",
      "Failed to read image raw_images/216_image_1.png\n",
      "Failed to read image raw_images/216_image_2.png\n",
      "Failed to read image raw_images/216_image_3.png\n",
      "Failed to read image raw_images/216_image_4.png\n",
      "Failed to read image raw_images/217_image_1.jpg\n",
      "Failed to read image raw_images/217_image_2.jpg\n",
      "Failed to read image raw_images/218_image_1.png\n",
      "Failed to read image raw_images/219_image_1.jpeg\n",
      "Failed to read image raw_images/220_image_1.png\n",
      "Failed to read image raw_images/220_image_2.png\n",
      "Failed to read image raw_images/221_image_4.jpg\n",
      "Failed to read image raw_images/223_image_3.jpg\n"
     ]
    },
    {
     "name": "stderr",
     "output_type": "stream",
     "text": [
      "[ WARN:0@62.462] global loadsave.cpp:268 findDecoder imread_('raw_images/223_image_3.jpg'): can't open/read file: check file path/integrity\n",
      "[ WARN:0@62.489] global loadsave.cpp:268 findDecoder imread_('raw_images/224_image_2.jpg'): can't open/read file: check file path/integrity\n",
      "[ WARN:0@62.489] global loadsave.cpp:268 findDecoder imread_('raw_images/224_image_3.png'): can't open/read file: check file path/integrity\n",
      "[ WARN:0@62.489] global loadsave.cpp:268 findDecoder imread_('raw_images/224_image_4.jpg'): can't open/read file: check file path/integrity\n",
      " 29%|███████████████████████████▋                                                                    | 460/1596 [00:10<00:11, 98.92it/s][ WARN:0@62.545] global loadsave.cpp:268 findDecoder imread_('raw_images/227_image_2.jpg'): can't open/read file: check file path/integrity\n",
      "[ WARN:0@62.546] global loadsave.cpp:268 findDecoder imread_('raw_images/227_image_3.jpg'): can't open/read file: check file path/integrity\n",
      "[ WARN:0@62.546] global loadsave.cpp:268 findDecoder imread_('raw_images/227_image_4.jpg'): can't open/read file: check file path/integrity\n"
     ]
    },
    {
     "name": "stdout",
     "output_type": "stream",
     "text": [
      "Failed to read image raw_images/224_image_2.jpg\n",
      "Failed to read image raw_images/224_image_3.png\n",
      "Failed to read image raw_images/224_image_4.jpg\n",
      "No pose detected in raw_images/225_image_1.jpg\n",
      "No pose detected in raw_images/227_image_1.jpg\n",
      "Failed to read image raw_images/227_image_2.jpg\n",
      "Failed to read image raw_images/227_image_3.jpg\n",
      "Failed to read image raw_images/227_image_4.jpg\n"
     ]
    },
    {
     "name": "stderr",
     "output_type": "stream",
     "text": [
      "[ WARN:0@62.718] global loadsave.cpp:268 findDecoder imread_('raw_images/232_image_2.jpg'): can't open/read file: check file path/integrity\n",
      " 30%|████████████████████████████▎                                                                   | 471/1596 [00:10<00:13, 86.24it/s][ WARN:0@62.719] global loadsave.cpp:268 findDecoder imread_('raw_images/232_image_3.jpg'): can't open/read file: check file path/integrity\n",
      "[ WARN:0@62.850] global loadsave.cpp:268 findDecoder imread_('raw_images/235_image_4.jpg'): can't open/read file: check file path/integrity\n",
      " 30%|████████████████████████████▉                                                                   | 481/1596 [00:10<00:14, 76.18it/s]"
     ]
    },
    {
     "name": "stdout",
     "output_type": "stream",
     "text": [
      "Failed to read image raw_images/232_image_2.jpg\n",
      "Failed to read image raw_images/232_image_3.jpg\n",
      "No pose detected in raw_images/234_image_2.jpg\n",
      "Failed to read image raw_images/235_image_4.jpg\n"
     ]
    },
    {
     "name": "stderr",
     "output_type": "stream",
     "text": [
      "[ WARN:0@62.962] global loadsave.cpp:268 findDecoder imread_('raw_images/237_image_3.jpg'): can't open/read file: check file path/integrity\n",
      "[ WARN:0@62.984] global loadsave.cpp:268 findDecoder imread_('raw_images/238_image_2.jpg'): can't open/read file: check file path/integrity\n",
      " 31%|█████████████████████████████▍                                                                  | 490/1596 [00:11<00:17, 62.26it/s]"
     ]
    },
    {
     "name": "stdout",
     "output_type": "stream",
     "text": [
      "Failed to read image raw_images/237_image_3.jpg\n",
      "Failed to read image raw_images/238_image_2.jpg\n",
      "No pose detected in raw_images/241_image_1.jpg\n"
     ]
    },
    {
     "name": "stderr",
     "output_type": "stream",
     "text": [
      "[ WARN:0@63.176] global loadsave.cpp:268 findDecoder imread_('raw_images/245_image_1.jpg'): can't open/read file: check file path/integrity\n",
      "[ WARN:0@63.176] global loadsave.cpp:268 findDecoder imread_('raw_images/245_image_2.jpg'): can't open/read file: check file path/integrity\n",
      "[ WARN:0@63.176] global loadsave.cpp:268 findDecoder imread_('raw_images/245_image_3.jpg'): can't open/read file: check file path/integrity\n",
      "[ WARN:0@63.176] global loadsave.cpp:268 findDecoder imread_('raw_images/245_image_4.jpg'): can't open/read file: check file path/integrity\n",
      " 31%|██████████████████████████████                                                                  | 499/1596 [00:11<00:16, 67.51it/s]"
     ]
    },
    {
     "name": "stdout",
     "output_type": "stream",
     "text": [
      "No pose detected in raw_images/244_image_1.jpg\n",
      "Failed to read image raw_images/245_image_1.jpg\n",
      "Failed to read image raw_images/245_image_2.jpg\n",
      "Failed to read image raw_images/245_image_3.jpg\n",
      "Failed to read image raw_images/245_image_4.jpg\n"
     ]
    },
    {
     "name": "stderr",
     "output_type": "stream",
     "text": [
      " 32%|██████████████████████████████▉                                                                 | 514/1596 [00:11<00:18, 59.64it/s][ WARN:0@63.519] global loadsave.cpp:268 findDecoder imread_('raw_images/251_image_4.jpg'): can't open/read file: check file path/integrity\n",
      "[ WARN:0@63.519] global loadsave.cpp:268 findDecoder imread_('raw_images/252_image_1.jpg'): can't open/read file: check file path/integrity\n",
      "[ WARN:0@63.520] global loadsave.cpp:268 findDecoder imread_('raw_images/252_image_2.jpg'): can't open/read file: check file path/integrity\n",
      "[ WARN:0@63.520] global loadsave.cpp:268 findDecoder imread_('raw_images/252_image_3.jpg'): can't open/read file: check file path/integrity\n",
      "[ WARN:0@63.556] global loadsave.cpp:268 findDecoder imread_('raw_images/254_image_1.jpeg'): can't open/read file: check file path/integrity\n",
      " 33%|███████████████████████████████▍                                                                | 522/1596 [00:11<00:16, 63.99it/s]"
     ]
    },
    {
     "name": "stdout",
     "output_type": "stream",
     "text": [
      "No pose detected in raw_images/250_image_3.jpg\n",
      "Failed to read image raw_images/251_image_4.jpg\n",
      "Failed to read image raw_images/252_image_1.jpg\n",
      "Failed to read image raw_images/252_image_2.jpg\n",
      "Failed to read image raw_images/252_image_3.jpg\n",
      "No pose detected in raw_images/253_image_1.jpeg\n",
      "Failed to read image raw_images/254_image_1.jpeg\n",
      "No pose detected in raw_images/255_image_3.jpg\n",
      "Failed to read image raw_images/255_image_4.jpg\n"
     ]
    },
    {
     "name": "stderr",
     "output_type": "stream",
     "text": [
      "[ WARN:0@63.621] global loadsave.cpp:268 findDecoder imread_('raw_images/255_image_4.jpg'): can't open/read file: check file path/integrity\n",
      " 33%|███████████████████████████████▊                                                                | 529/1596 [00:11<00:17, 60.45it/s][ WARN:0@63.755] global loadsave.cpp:268 findDecoder imread_('raw_images/257_image_4.jpg'): can't open/read file: check file path/integrity\n",
      "[ WARN:0@63.784] global loadsave.cpp:268 findDecoder imread_('raw_images/258_image_2.jpg'): can't open/read file: check file path/integrity\n",
      "[ WARN:0@63.784] global loadsave.cpp:268 findDecoder imread_('raw_images/258_image_3.jpg'): can't open/read file: check file path/integrity\n",
      "[ WARN:0@63.828] global loadsave.cpp:268 findDecoder imread_('raw_images/260_image_2.jpg'): can't open/read file: check file path/integrity\n",
      "[ WARN:0@63.828] global loadsave.cpp:268 findDecoder imread_('raw_images/260_image_3.jpg'): can't open/read file: check file path/integrity\n",
      "[ WARN:0@63.828] global loadsave.cpp:268 findDecoder imread_('raw_images/260_image_4.jpg'): can't open/read file: check file path/integrity\n",
      " 34%|████████████████████████████████▍                                                               | 540/1596 [00:11<00:15, 66.43it/s][ WARN:0@63.892] global loadsave.cpp:268 findDecoder imread_('raw_images/263_image_1.jpg'): can't open/read file: check file path/integrity\n",
      "[ WARN:0@63.893] global loadsave.cpp:268 findDecoder imread_('raw_images/264_image_1.png'): can't open/read file: check file path/integrity\n",
      "[ WARN:0@63.908] global loadsave.cpp:268 findDecoder imread_('raw_images/265_image_2.jpg'): can't open/read file: check file path/integrity\n",
      "[ WARN:0@63.908] global loadsave.cpp:268 findDecoder imread_('raw_images/265_image_3.jpg'): can't open/read file: check file path/integrity\n",
      "[ WARN:0@63.908] global loadsave.cpp:268 findDecoder imread_('raw_images/265_image_4.jpg'): can't open/read file: check file path/integrity\n"
     ]
    },
    {
     "name": "stdout",
     "output_type": "stream",
     "text": [
      "Failed to read image raw_images/257_image_4.jpg\n",
      "Failed to read image raw_images/258_image_2.jpg\n",
      "Failed to read image raw_images/258_image_3.jpg\n",
      "No pose detected in raw_images/260_image_1.jpg\n",
      "Failed to read image raw_images/260_image_2.jpg\n",
      "Failed to read image raw_images/260_image_3.jpg\n",
      "Failed to read image raw_images/260_image_4.jpg\n",
      "Failed to read image raw_images/263_image_1.jpg\n",
      "Failed to read image raw_images/264_image_1.png\n",
      "No pose detected in raw_images/265_image_1.jpg\n",
      "Failed to read image raw_images/265_image_2.jpg\n",
      "Failed to read image raw_images/265_image_3.jpg\n",
      "Failed to read image raw_images/265_image_4.jpg\n"
     ]
    },
    {
     "name": "stderr",
     "output_type": "stream",
     "text": [
      " 34%|█████████████████████████████████                                                               | 550/1596 [00:11<00:14, 71.60it/s][ WARN:0@64.094] global loadsave.cpp:268 findDecoder imread_('raw_images/269_image_2.jpg'): can't open/read file: check file path/integrity\n",
      "[ WARN:0@64.094] global loadsave.cpp:268 findDecoder imread_('raw_images/269_image_3.jpg'): can't open/read file: check file path/integrity\n",
      "[ WARN:0@64.095] global loadsave.cpp:268 findDecoder imread_('raw_images/269_image_4.jpg'): can't open/read file: check file path/integrity\n",
      " 35%|█████████████████████████████████▌                                                              | 558/1596 [00:12<00:15, 67.66it/s]"
     ]
    },
    {
     "name": "stdout",
     "output_type": "stream",
     "text": [
      "Failed to read image raw_images/269_image_2.jpg\n",
      "Failed to read image raw_images/269_image_3.jpg\n",
      "Failed to read image raw_images/269_image_4.jpg\n",
      "Failed to read image raw_images/273_image_2.jpg\n",
      "No pose detected in raw_images/274_image_1.jpg\n"
     ]
    },
    {
     "name": "stderr",
     "output_type": "stream",
     "text": [
      "[ WARN:0@64.249] global loadsave.cpp:268 findDecoder imread_('raw_images/273_image_2.jpg'): can't open/read file: check file path/integrity\n",
      " 35%|█████████████████████████████████▉                                                              | 565/1596 [00:12<00:18, 56.02it/s][ WARN:0@64.416] global loadsave.cpp:268 findDecoder imread_('raw_images/278_image_2.jpg'): can't open/read file: check file path/integrity\n",
      "[ WARN:0@64.416] global loadsave.cpp:268 findDecoder imread_('raw_images/278_image_3.jpg'): can't open/read file: check file path/integrity\n",
      "[ WARN:0@64.416] global loadsave.cpp:268 findDecoder imread_('raw_images/278_image_4.jpg'): can't open/read file: check file path/integrity\n",
      " 36%|██████████████████████████████████▌                                                             | 574/1596 [00:12<00:16, 62.95it/s][ WARN:0@64.470] global loadsave.cpp:268 findDecoder imread_('raw_images/280_image_3.jpg'): can't open/read file: check file path/integrity\n",
      "[ WARN:0@64.504] global loadsave.cpp:268 findDecoder imread_('raw_images/281_image_2.jpg'): can't open/read file: check file path/integrity\n",
      " 36%|██████████████████████████████████▉                                                             | 581/1596 [00:12<00:16, 62.88it/s]"
     ]
    },
    {
     "name": "stdout",
     "output_type": "stream",
     "text": [
      "No pose detected in raw_images/277_image_3.jpg\n",
      "No pose detected in raw_images/278_image_1.jpg\n",
      "Failed to read image raw_images/278_image_2.jpg\n",
      "Failed to read image raw_images/278_image_3.jpg\n",
      "Failed to read image raw_images/278_image_4.jpg\n",
      "No pose detected in raw_images/280_image_1.jpg\n",
      "No pose detected in raw_images/280_image_2.jpg\n",
      "Failed to read image raw_images/280_image_3.jpg\n",
      "Failed to read image raw_images/281_image_2.jpg\n",
      "No pose detected in raw_images/283_image_2.jpg\n"
     ]
    },
    {
     "name": "stderr",
     "output_type": "stream",
     "text": [
      "[ WARN:0@64.646] global loadsave.cpp:268 findDecoder imread_('raw_images/284_image_4.jpg'): can't open/read file: check file path/integrity\n",
      "[ WARN:0@64.646] global loadsave.cpp:268 findDecoder imread_('raw_images/285_image_1.jpg'): can't open/read file: check file path/integrity\n",
      "[ WARN:0@64.646] global loadsave.cpp:268 findDecoder imread_('raw_images/285_image_2.jpg'): can't open/read file: check file path/integrity\n",
      "[ WARN:0@64.646] global loadsave.cpp:268 findDecoder imread_('raw_images/285_image_3.jpg'): can't open/read file: check file path/integrity\n",
      "[ WARN:0@64.646] global loadsave.cpp:268 findDecoder imread_('raw_images/286_image_1.png'): can't open/read file: check file path/integrity\n",
      " 37%|███████████████████████████████████▌                                                            | 592/1596 [00:12<00:14, 71.47it/s][ WARN:0@64.668] global loadsave.cpp:268 findDecoder imread_('raw_images/288_image_1.jpg'): can't open/read file: check file path/integrity\n",
      "[ WARN:0@64.668] global loadsave.cpp:268 findDecoder imread_('raw_images/288_image_2.jpg'): can't open/read file: check file path/integrity\n",
      "[ WARN:0@64.755] global loadsave.cpp:268 findDecoder imread_('raw_images/291_image_1.jpeg'): can't open/read file: check file path/integrity\n",
      "[ WARN:0@64.755] global loadsave.cpp:268 findDecoder imread_('raw_images/292_image_1.jpg'): can't open/read file: check file path/integrity\n",
      "[ WARN:0@64.755] global loadsave.cpp:268 findDecoder imread_('raw_images/292_image_2.jpg'): can't open/read file: check file path/integrity\n",
      "[ WARN:0@64.756] global loadsave.cpp:268 findDecoder imread_('raw_images/292_image_3.jpg'): can't open/read file: check file path/integrity\n",
      "[ WARN:0@64.756] global loadsave.cpp:268 findDecoder imread_('raw_images/292_image_4.jpg'): can't open/read file: check file path/integrity\n",
      "[ WARN:0@64.756] global loadsave.cpp:268 findDecoder imread_('raw_images/293_image_1.jpeg'): can't open/read file: check file path/integrity\n",
      " 38%|████████████████████████████████████▎                                                           | 603/1596 [00:12<00:12, 79.39it/s]"
     ]
    },
    {
     "name": "stdout",
     "output_type": "stream",
     "text": [
      "Failed to read image raw_images/284_image_4.jpg\n",
      "Failed to read image raw_images/285_image_1.jpg\n",
      "Failed to read image raw_images/285_image_2.jpg\n",
      "Failed to read image raw_images/285_image_3.jpg\n",
      "Failed to read image raw_images/286_image_1.png\n",
      "Failed to read image raw_images/288_image_1.jpg\n",
      "Failed to read image raw_images/288_image_2.jpg\n",
      "Failed to read image raw_images/291_image_1.jpeg\n",
      "Failed to read image raw_images/292_image_1.jpg\n",
      "Failed to read image raw_images/292_image_2.jpg\n",
      "Failed to read image raw_images/292_image_3.jpg\n",
      "Failed to read image raw_images/292_image_4.jpg\n",
      "Failed to read image raw_images/293_image_1.jpeg\n",
      "Failed to read image raw_images/295_image_1.jpg\n",
      "Failed to read image raw_images/295_image_2.jpg\n",
      "Failed to read image raw_images/295_image_3.jpg\n",
      "Failed to read image raw_images/295_image_4.jpg\n"
     ]
    },
    {
     "name": "stderr",
     "output_type": "stream",
     "text": [
      "[ WARN:0@64.821] global loadsave.cpp:268 findDecoder imread_('raw_images/295_image_1.jpg'): can't open/read file: check file path/integrity\n",
      "[ WARN:0@64.821] global loadsave.cpp:268 findDecoder imread_('raw_images/295_image_2.jpg'): can't open/read file: check file path/integrity\n",
      "[ WARN:0@64.821] global loadsave.cpp:268 findDecoder imread_('raw_images/295_image_3.jpg'): can't open/read file: check file path/integrity\n",
      "[ WARN:0@64.821] global loadsave.cpp:268 findDecoder imread_('raw_images/295_image_4.jpg'): can't open/read file: check file path/integrity\n",
      "[ WARN:0@64.855] global loadsave.cpp:268 findDecoder imread_('raw_images/298_image_1.jpeg'): can't open/read file: check file path/integrity\n",
      " 38%|████████████████████████████████████▉                                                           | 614/1596 [00:12<00:11, 82.65it/s][ WARN:0@65.030] global loadsave.cpp:268 findDecoder imread_('raw_images/301_image_3.jpg'): can't open/read file: check file path/integrity\n",
      " 39%|█████████████████████████████████████▍                                                          | 623/1596 [00:13<00:12, 78.25it/s][ WARN:0@65.030] global loadsave.cpp:268 findDecoder imread_('raw_images/301_image_4.jpg'): can't open/read file: check file path/integrity\n",
      "[ WARN:0@65.030] global loadsave.cpp:268 findDecoder imread_('raw_images/302_image_1.jpg'): can't open/read file: check file path/integrity\n"
     ]
    },
    {
     "name": "stdout",
     "output_type": "stream",
     "text": [
      "No pose detected in raw_images/297_image_1.jpeg\n",
      "Failed to read image raw_images/298_image_1.jpeg\n",
      "Failed to read image raw_images/301_image_3.jpg\n",
      "Failed to read image raw_images/301_image_4.jpg\n",
      "Failed to read image raw_images/302_image_1.jpg\n",
      "Failed to read image raw_images/302_image_2.jpg\n",
      "Failed to read image raw_images/303_image_1.png\n",
      "Failed to read image raw_images/303_image_2.png\n",
      "Failed to read image raw_images/303_image_3.png\n",
      "Failed to read image raw_images/304_image_1.jpg\n",
      "Failed to read image raw_images/304_image_2.jpg\n",
      "Failed to read image raw_images/304_image_3.jpg\n",
      "Failed to read image raw_images/304_image_4.jpg\n"
     ]
    },
    {
     "name": "stderr",
     "output_type": "stream",
     "text": [
      "[ WARN:0@65.031] global loadsave.cpp:268 findDecoder imread_('raw_images/302_image_2.jpg'): can't open/read file: check file path/integrity\n",
      "[ WARN:0@65.031] global loadsave.cpp:268 findDecoder imread_('raw_images/303_image_1.png'): can't open/read file: check file path/integrity\n",
      "[ WARN:0@65.031] global loadsave.cpp:268 findDecoder imread_('raw_images/303_image_2.png'): can't open/read file: check file path/integrity\n",
      "[ WARN:0@65.031] global loadsave.cpp:268 findDecoder imread_('raw_images/303_image_3.png'): can't open/read file: check file path/integrity\n",
      "[ WARN:0@65.031] global loadsave.cpp:268 findDecoder imread_('raw_images/304_image_1.jpg'): can't open/read file: check file path/integrity\n",
      "[ WARN:0@65.031] global loadsave.cpp:268 findDecoder imread_('raw_images/304_image_2.jpg'): can't open/read file: check file path/integrity\n",
      "[ WARN:0@65.031] global loadsave.cpp:268 findDecoder imread_('raw_images/304_image_3.jpg'): can't open/read file: check file path/integrity\n",
      "[ WARN:0@65.031] global loadsave.cpp:268 findDecoder imread_('raw_images/304_image_4.jpg'): can't open/read file: check file path/integrity\n",
      " 40%|██████████████████████████████████████▏                                                         | 634/1596 [00:13<00:11, 80.81it/s][ WARN:0@65.158] global loadsave.cpp:268 findDecoder imread_('raw_images/308_image_1.jpeg'): can't open/read file: check file path/integrity\n",
      "[ WARN:0@65.203] global loadsave.cpp:268 findDecoder imread_('raw_images/309_image_3.jpg'): can't open/read file: check file path/integrity\n",
      "[ WARN:0@65.203] global loadsave.cpp:268 findDecoder imread_('raw_images/309_image_4.jpg'): can't open/read file: check file path/integrity\n",
      "[ WARN:0@65.203] global loadsave.cpp:268 findDecoder imread_('raw_images/310_image_1.jpg'): can't open/read file: check file path/integrity\n",
      "[ WARN:0@65.203] global loadsave.cpp:268 findDecoder imread_('raw_images/310_image_2.jpg'): can't open/read file: check file path/integrity\n",
      "[ WARN:0@65.203] global loadsave.cpp:268 findDecoder imread_('raw_images/311_image_1.jpeg'): can't open/read file: check file path/integrity\n",
      "[ WARN:0@65.203] global loadsave.cpp:268 findDecoder imread_('raw_images/312_image_1.jpg'): can't open/read file: check file path/integrity\n",
      "[ WARN:0@65.203] global loadsave.cpp:268 findDecoder imread_('raw_images/312_image_2.jpg'): can't open/read file: check file path/integrity\n",
      "[ WARN:0@65.203] global loadsave.cpp:268 findDecoder imread_('raw_images/312_image_3.jpg'): can't open/read file: check file path/integrity\n",
      "[ WARN:0@65.203] global loadsave.cpp:268 findDecoder imread_('raw_images/313_image_1.jpeg'): can't open/read file: check file path/integrity\n",
      "[ WARN:0@65.203] global loadsave.cpp:268 findDecoder imread_('raw_images/314_image_1.jpg'): can't open/read file: check file path/integrity\n",
      "[ WARN:0@65.203] global loadsave.cpp:268 findDecoder imread_('raw_images/314_image_2.jpg'): can't open/read file: check file path/integrity\n",
      "[ WARN:0@65.203] global loadsave.cpp:268 findDecoder imread_('raw_images/314_image_3.jpg'): can't open/read file: check file path/integrity\n",
      "[ WARN:0@65.203] global loadsave.cpp:268 findDecoder imread_('raw_images/314_image_4.jpg'): can't open/read file: check file path/integrity\n",
      "[ WARN:0@65.203] global loadsave.cpp:268 findDecoder imread_('raw_images/315_image_1.png'): can't open/read file: check file path/integrity\n",
      "[ WARN:0@65.248] global loadsave.cpp:268 findDecoder imread_('raw_images/317_image_1.jpg'): can't open/read file: check file path/integrity\n",
      "[ WARN:0@65.248] global loadsave.cpp:268 findDecoder imread_('raw_images/317_image_2.jpg'): can't open/read file: check file path/integrity\n",
      "[ WARN:0@65.248] global loadsave.cpp:268 findDecoder imread_('raw_images/317_image_3.jpg'): can't open/read file: check file path/integrity\n",
      "[ WARN:0@65.248] global loadsave.cpp:268 findDecoder imread_('raw_images/317_image_4.jpg'): can't open/read file: check file path/integrity\n",
      " 41%|███████████████████████████████████████▏                                                       | 658/1596 [00:13<00:07, 121.48it/s]"
     ]
    },
    {
     "name": "stdout",
     "output_type": "stream",
     "text": [
      "Failed to read image raw_images/308_image_1.jpeg\n",
      "No pose detected in raw_images/309_image_2.jpg\n",
      "Failed to read image raw_images/309_image_3.jpg\n",
      "Failed to read image raw_images/309_image_4.jpg\n",
      "Failed to read image raw_images/310_image_1.jpg\n",
      "Failed to read image raw_images/310_image_2.jpg\n",
      "Failed to read image raw_images/311_image_1.jpeg\n",
      "Failed to read image raw_images/312_image_1.jpg\n",
      "Failed to read image raw_images/312_image_2.jpg\n",
      "Failed to read image raw_images/312_image_3.jpg\n",
      "Failed to read image raw_images/313_image_1.jpeg\n",
      "Failed to read image raw_images/314_image_1.jpg\n",
      "Failed to read image raw_images/314_image_2.jpg\n",
      "Failed to read image raw_images/314_image_3.jpg\n",
      "Failed to read image raw_images/314_image_4.jpg\n",
      "Failed to read image raw_images/315_image_1.png\n",
      "Failed to read image raw_images/317_image_1.jpg\n",
      "Failed to read image raw_images/317_image_2.jpg\n",
      "Failed to read image raw_images/317_image_3.jpg\n",
      "Failed to read image raw_images/317_image_4.jpg\n",
      "No pose detected in raw_images/318_image_1.jpg\n"
     ]
    },
    {
     "name": "stderr",
     "output_type": "stream",
     "text": [
      "[ WARN:0@65.366] global loadsave.cpp:268 findDecoder imread_('raw_images/320_image_2.jpg'): can't open/read file: check file path/integrity\n",
      "[ WARN:0@65.456] global loadsave.cpp:268 findDecoder imread_('raw_images/324_image_1.jpg'): can't open/read file: check file path/integrity\n",
      "[ WARN:0@65.456] global loadsave.cpp:268 findDecoder imread_('raw_images/325_image_1.png'): can't open/read file: check file path/integrity\n",
      "[ WARN:0@65.493] global loadsave.cpp:268 findDecoder imread_('raw_images/326_image_2.jpg'): can't open/read file: check file path/integrity\n",
      "[ WARN:0@65.493] global loadsave.cpp:268 findDecoder imread_('raw_images/327_image_1.jpg'): can't open/read file: check file path/integrity\n",
      " 42%|████████████████████████████████████████▎                                                       | 671/1596 [00:13<00:10, 90.70it/s]"
     ]
    },
    {
     "name": "stdout",
     "output_type": "stream",
     "text": [
      "Failed to read image raw_images/320_image_2.jpg\n",
      "Failed to read image raw_images/324_image_1.jpg\n",
      "Failed to read image raw_images/325_image_1.png\n",
      "Failed to read image raw_images/326_image_2.jpg\n",
      "Failed to read image raw_images/327_image_1.jpg\n",
      "Failed to read image raw_images/328_image_1.png\n",
      "No pose detected in raw_images/329_image_1.jpg\n",
      "Failed to read image raw_images/329_image_2.jpg\n",
      "Failed to read image raw_images/329_image_3.jpg\n"
     ]
    },
    {
     "name": "stderr",
     "output_type": "stream",
     "text": [
      "[ WARN:0@65.494] global loadsave.cpp:268 findDecoder imread_('raw_images/328_image_1.png'): can't open/read file: check file path/integrity\n",
      "[ WARN:0@65.503] global loadsave.cpp:268 findDecoder imread_('raw_images/329_image_2.jpg'): can't open/read file: check file path/integrity\n",
      "[ WARN:0@65.503] global loadsave.cpp:268 findDecoder imread_('raw_images/329_image_3.jpg'): can't open/read file: check file path/integrity\n",
      "[ WARN:0@65.618] global loadsave.cpp:268 findDecoder imread_('raw_images/332_image_3.jpg'): can't open/read file: check file path/integrity\n",
      "[ WARN:0@65.618] global loadsave.cpp:268 findDecoder imread_('raw_images/332_image_4.jpg'): can't open/read file: check file path/integrity\n",
      " 43%|█████████████████████████████████████████                                                       | 682/1596 [00:13<00:10, 86.17it/s]"
     ]
    },
    {
     "name": "stdout",
     "output_type": "stream",
     "text": [
      "Failed to read image raw_images/332_image_3.jpg\n",
      "Failed to read image raw_images/332_image_4.jpg\n",
      "Failed to read image raw_images/334_image_2.jpg\n",
      "Failed to read image raw_images/334_image_3.jpg\n",
      "No pose detected in raw_images/335_image_1.jpg\n"
     ]
    },
    {
     "name": "stderr",
     "output_type": "stream",
     "text": [
      "[ WARN:0@65.696] global loadsave.cpp:268 findDecoder imread_('raw_images/334_image_2.jpg'): can't open/read file: check file path/integrity\n",
      "[ WARN:0@65.696] global loadsave.cpp:268 findDecoder imread_('raw_images/334_image_3.jpg'): can't open/read file: check file path/integrity\n",
      " 43%|█████████████████████████████████████████▌                                                      | 692/1596 [00:13<00:11, 75.51it/s][ WARN:0@65.845] global loadsave.cpp:268 findDecoder imread_('raw_images/338_image_2.jpg'): can't open/read file: check file path/integrity\n",
      "[ WARN:0@65.845] global loadsave.cpp:268 findDecoder imread_('raw_images/338_image_3.jpg'): can't open/read file: check file path/integrity\n",
      "[ WARN:0@65.845] global loadsave.cpp:268 findDecoder imread_('raw_images/338_image_4.jpg'): can't open/read file: check file path/integrity\n",
      "[ WARN:0@65.845] global loadsave.cpp:268 findDecoder imread_('raw_images/339_image_1.jpg'): can't open/read file: check file path/integrity\n",
      "[ WARN:0@65.874] global loadsave.cpp:268 findDecoder imread_('raw_images/341_image_2.jpg'): can't open/read file: check file path/integrity\n",
      "[ WARN:0@65.874] global loadsave.cpp:268 findDecoder imread_('raw_images/341_image_3.jpg'): can't open/read file: check file path/integrity\n",
      "[ WARN:0@65.874] global loadsave.cpp:268 findDecoder imread_('raw_images/341_image_4.jpg'): can't open/read file: check file path/integrity\n",
      " 44%|██████████████████████████████████████████▎                                                     | 703/1596 [00:13<00:10, 82.52it/s][ WARN:0@65.964] global loadsave.cpp:268 findDecoder imread_('raw_images/344_image_4.png'): can't open/read file: check file path/integrity\n",
      "[ WARN:0@65.991] global loadsave.cpp:268 findDecoder imread_('raw_images/345_image_2.jpg'): can't open/read file: check file path/integrity\n",
      "[ WARN:0@65.991] global loadsave.cpp:268 findDecoder imread_('raw_images/345_image_3.jpg'): can't open/read file: check file path/integrity\n"
     ]
    },
    {
     "name": "stdout",
     "output_type": "stream",
     "text": [
      "Failed to read image raw_images/338_image_2.jpg\n",
      "Failed to read image raw_images/338_image_3.jpg\n",
      "Failed to read image raw_images/338_image_4.jpg\n",
      "Failed to read image raw_images/339_image_1.jpg\n",
      "Failed to read image raw_images/341_image_2.jpg\n",
      "Failed to read image raw_images/341_image_3.jpg\n",
      "Failed to read image raw_images/341_image_4.jpg\n",
      "No pose detected in raw_images/344_image_1.jpg\n",
      "No pose detected in raw_images/344_image_3.jpg\n",
      "Failed to read image raw_images/344_image_4.png\n",
      "Failed to read image raw_images/345_image_2.jpg\n",
      "Failed to read image raw_images/345_image_3.jpg\n"
     ]
    },
    {
     "name": "stderr",
     "output_type": "stream",
     "text": [
      " 45%|██████████████████████████████████████████▉                                                     | 713/1596 [00:14<00:10, 80.50it/s][ WARN:0@66.057] global loadsave.cpp:268 findDecoder imread_('raw_images/347_image_3.jpg'): can't open/read file: check file path/integrity\n",
      "[ WARN:0@66.057] global loadsave.cpp:268 findDecoder imread_('raw_images/347_image_4.jpg'): can't open/read file: check file path/integrity\n",
      "[ WARN:0@66.125] global loadsave.cpp:268 findDecoder imread_('raw_images/349_image_2.jpg'): can't open/read file: check file path/integrity\n",
      "[ WARN:0@66.125] global loadsave.cpp:268 findDecoder imread_('raw_images/349_image_3.jpg'): can't open/read file: check file path/integrity\n",
      "[ WARN:0@66.125] global loadsave.cpp:268 findDecoder imread_('raw_images/349_image_4.jpg'): can't open/read file: check file path/integrity\n",
      " 45%|███████████████████████████████████████████▍                                                    | 723/1596 [00:14<00:10, 82.08it/s][ WARN:0@66.238] global loadsave.cpp:268 findDecoder imread_('raw_images/352_image_1.jpg'): can't open/read file: check file path/integrity\n",
      "[ WARN:0@66.239] global loadsave.cpp:268 findDecoder imread_('raw_images/352_image_2.jpg'): can't open/read file: check file path/integrity\n",
      "[ WARN:0@66.239] global loadsave.cpp:268 findDecoder imread_('raw_images/352_image_3.jpg'): can't open/read file: check file path/integrity\n",
      "[ WARN:0@66.239] global loadsave.cpp:268 findDecoder imread_('raw_images/352_image_4.jpg'): can't open/read file: check file path/integrity\n",
      "[ WARN:0@66.239] global loadsave.cpp:268 findDecoder imread_('raw_images/353_image_1.png'): can't open/read file: check file path/integrity\n",
      "[ WARN:0@66.239] global loadsave.cpp:268 findDecoder imread_('raw_images/353_image_2.png'): can't open/read file: check file path/integrity\n",
      "[ WARN:0@66.239] global loadsave.cpp:268 findDecoder imread_('raw_images/353_image_3.png'): can't open/read file: check file path/integrity\n",
      "[ WARN:0@66.239] global loadsave.cpp:268 findDecoder imread_('raw_images/354_image_1.jpg'): can't open/read file: check file path/integrity\n",
      "[ WARN:0@66.239] global loadsave.cpp:268 findDecoder imread_('raw_images/354_image_2.jpg'): can't open/read file: check file path/integrity\n",
      "[ WARN:0@66.239] global loadsave.cpp:268 findDecoder imread_('raw_images/354_image_3.jpg'): can't open/read file: check file path/integrity\n"
     ]
    },
    {
     "name": "stdout",
     "output_type": "stream",
     "text": [
      "Failed to read image raw_images/347_image_3.jpg\n",
      "Failed to read image raw_images/347_image_4.jpg\n",
      "Failed to read image raw_images/349_image_2.jpg\n",
      "Failed to read image raw_images/349_image_3.jpg\n",
      "Failed to read image raw_images/349_image_4.jpg\n",
      "Failed to read image raw_images/352_image_1.jpg\n",
      "Failed to read image raw_images/352_image_2.jpg\n",
      "Failed to read image raw_images/352_image_3.jpg\n",
      "Failed to read image raw_images/352_image_4.jpg\n",
      "Failed to read image raw_images/353_image_1.png\n",
      "Failed to read image raw_images/353_image_2.png\n",
      "Failed to read image raw_images/353_image_3.png\n",
      "Failed to read image raw_images/354_image_1.jpg\n",
      "Failed to read image raw_images/354_image_2.jpg\n",
      "Failed to read image raw_images/354_image_3.jpg\n"
     ]
    },
    {
     "name": "stderr",
     "output_type": "stream",
     "text": [
      "[ WARN:0@66.264] global loadsave.cpp:268 findDecoder imread_('raw_images/356_image_1.jpeg'): can't open/read file: check file path/integrity\n",
      "[ WARN:0@66.264] global loadsave.cpp:268 findDecoder imread_('raw_images/357_image_1.jpg'): can't open/read file: check file path/integrity\n",
      "[ WARN:0@66.265] global loadsave.cpp:268 findDecoder imread_('raw_images/357_image_2.jpg'): can't open/read file: check file path/integrity\n",
      "[ WARN:0@66.265] global loadsave.cpp:268 findDecoder imread_('raw_images/357_image_3.jpg'): can't open/read file: check file path/integrity\n",
      "[ WARN:0@66.265] global loadsave.cpp:268 findDecoder imread_('raw_images/357_image_4.jpg'): can't open/read file: check file path/integrity\n",
      " 47%|████████████████████████████████████████████▋                                                   | 743/1596 [00:14<00:09, 91.09it/s][ WARN:0@66.386] global loadsave.cpp:268 findDecoder imread_('raw_images/360_image_1.jpeg'): can't open/read file: check file path/integrity\n"
     ]
    },
    {
     "name": "stdout",
     "output_type": "stream",
     "text": [
      "Failed to read image raw_images/356_image_1.jpeg\n",
      "Failed to read image raw_images/357_image_1.jpg\n",
      "Failed to read image raw_images/357_image_2.jpg\n",
      "Failed to read image raw_images/357_image_3.jpg\n",
      "Failed to read image raw_images/357_image_4.jpg\n",
      "No pose detected in raw_images/359_image_1.jpeg\n",
      "Failed to read image raw_images/360_image_1.jpeg\n"
     ]
    },
    {
     "name": "stderr",
     "output_type": "stream",
     "text": [
      "[ WARN:0@66.480] global loadsave.cpp:268 findDecoder imread_('raw_images/362_image_1.jpg'): can't open/read file: check file path/integrity\n",
      "[ WARN:0@66.480] global loadsave.cpp:268 findDecoder imread_('raw_images/362_image_2.jpg'): can't open/read file: check file path/integrity\n",
      "[ WARN:0@66.480] global loadsave.cpp:268 findDecoder imread_('raw_images/362_image_3.jpg'): can't open/read file: check file path/integrity\n",
      " 47%|█████████████████████████████████████████████▎                                                  | 753/1596 [00:14<00:09, 89.27it/s][ WARN:0@66.480] global loadsave.cpp:268 findDecoder imread_('raw_images/362_image_4.jpg'): can't open/read file: check file path/integrity\n",
      "[ WARN:0@66.480] global loadsave.cpp:268 findDecoder imread_('raw_images/363_image_1.jpeg'): can't open/read file: check file path/integrity\n",
      "[ WARN:0@66.480] global loadsave.cpp:268 findDecoder imread_('raw_images/364_image_1.jpg'): can't open/read file: check file path/integrity\n",
      "[ WARN:0@66.480] global loadsave.cpp:268 findDecoder imread_('raw_images/364_image_2.jpg'): can't open/read file: check file path/integrity\n",
      "[ WARN:0@66.480] global loadsave.cpp:268 findDecoder imread_('raw_images/365_image_1.jpeg'): can't open/read file: check file path/integrity\n",
      "[ WARN:0@66.524] global loadsave.cpp:268 findDecoder imread_('raw_images/367_image_1.jpg'): can't open/read file: check file path/integrity\n",
      "[ WARN:0@66.524] global loadsave.cpp:268 findDecoder imread_('raw_images/367_image_2.jpg'): can't open/read file: check file path/integrity\n",
      "[ WARN:0@66.524] global loadsave.cpp:268 findDecoder imread_('raw_images/368_image_1.jpeg'): can't open/read file: check file path/integrity\n",
      "[ WARN:0@66.524] global loadsave.cpp:268 findDecoder imread_('raw_images/369_image_1.jpg'): can't open/read file: check file path/integrity\n",
      "[ WARN:0@66.524] global loadsave.cpp:268 findDecoder imread_('raw_images/369_image_2.jpg'): can't open/read file: check file path/integrity\n",
      "[ WARN:0@66.524] global loadsave.cpp:268 findDecoder imread_('raw_images/370_image_1.jpeg'): can't open/read file: check file path/integrity\n",
      "[ WARN:0@66.524] global loadsave.cpp:268 findDecoder imread_('raw_images/371_image_1.jpg'): can't open/read file: check file path/integrity\n",
      "[ WARN:0@66.524] global loadsave.cpp:268 findDecoder imread_('raw_images/371_image_2.jpg'): can't open/read file: check file path/integrity\n",
      "[ WARN:0@66.524] global loadsave.cpp:268 findDecoder imread_('raw_images/372_image_1.jpeg'): can't open/read file: check file path/integrity\n",
      "[ WARN:0@66.524] global loadsave.cpp:268 findDecoder imread_('raw_images/373_image_1.png'): can't open/read file: check file path/integrity\n",
      "[ WARN:0@66.524] global loadsave.cpp:268 findDecoder imread_('raw_images/373_image_2.png'): can't open/read file: check file path/integrity\n",
      "[ WARN:0@66.524] global loadsave.cpp:268 findDecoder imread_('raw_images/373_image_3.png'): can't open/read file: check file path/integrity\n",
      "[ WARN:0@66.524] global loadsave.cpp:268 findDecoder imread_('raw_images/373_image_4.png'): can't open/read file: check file path/integrity\n",
      "[ WARN:0@66.573] global loadsave.cpp:268 findDecoder imread_('raw_images/375_image_1.jpeg'): can't open/read file: check file path/integrity\n",
      "[ WARN:0@66.573] global loadsave.cpp:268 findDecoder imread_('raw_images/376_image_1.jpg'): can't open/read file: check file path/integrity\n",
      "[ WARN:0@66.573] global loadsave.cpp:268 findDecoder imread_('raw_images/376_image_2.jpg'): can't open/read file: check file path/integrity\n",
      "[ WARN:0@66.573] global loadsave.cpp:268 findDecoder imread_('raw_images/376_image_3.jpg'): can't open/read file: check file path/integrity\n",
      "[ WARN:0@66.573] global loadsave.cpp:268 findDecoder imread_('raw_images/376_image_4.jpg'): can't open/read file: check file path/integrity\n",
      "[ WARN:0@66.573] global loadsave.cpp:268 findDecoder imread_('raw_images/377_image_1.jpeg'): can't open/read file: check file path/integrity\n",
      "[ WARN:0@66.573] global loadsave.cpp:268 findDecoder imread_('raw_images/378_image_1.jpg'): can't open/read file: check file path/integrity\n",
      "[ WARN:0@66.573] global loadsave.cpp:268 findDecoder imread_('raw_images/378_image_2.jpg'): can't open/read file: check file path/integrity\n",
      "[ WARN:0@66.573] global loadsave.cpp:268 findDecoder imread_('raw_images/378_image_3.jpg'): can't open/read file: check file path/integrity\n",
      "[ WARN:0@66.574] global loadsave.cpp:268 findDecoder imread_('raw_images/379_image_1.jpeg'): can't open/read file: check file path/integrity\n",
      "[ WARN:0@66.574] global loadsave.cpp:268 findDecoder imread_('raw_images/380_image_1.jpg'): can't open/read file: check file path/integrity\n",
      "[ WARN:0@66.574] global loadsave.cpp:268 findDecoder imread_('raw_images/380_image_2.jpg'): can't open/read file: check file path/integrity\n",
      "[ WARN:0@66.574] global loadsave.cpp:268 findDecoder imread_('raw_images/380_image_3.jpg'): can't open/read file: check file path/integrity\n",
      "[ WARN:0@66.574] global loadsave.cpp:268 findDecoder imread_('raw_images/380_image_4.jpg'): can't open/read file: check file path/integrity\n",
      "[ WARN:0@66.574] global loadsave.cpp:268 findDecoder imread_('raw_images/381_image_1.jpeg'): can't open/read file: check file path/integrity\n",
      " 49%|██████████████████████████████████████████████▉                                                | 789/1596 [00:14<00:05, 139.25it/s]"
     ]
    },
    {
     "name": "stdout",
     "output_type": "stream",
     "text": [
      "Failed to read image raw_images/362_image_1.jpg\n",
      "Failed to read image raw_images/362_image_2.jpg\n",
      "Failed to read image raw_images/362_image_3.jpg\n",
      "Failed to read image raw_images/362_image_4.jpg\n",
      "Failed to read image raw_images/363_image_1.jpeg\n",
      "Failed to read image raw_images/364_image_1.jpg\n",
      "Failed to read image raw_images/364_image_2.jpg\n",
      "Failed to read image raw_images/365_image_1.jpeg\n",
      "Failed to read image raw_images/367_image_1.jpg\n",
      "Failed to read image raw_images/367_image_2.jpg\n",
      "Failed to read image raw_images/368_image_1.jpeg\n",
      "Failed to read image raw_images/369_image_1.jpg\n",
      "Failed to read image raw_images/369_image_2.jpg\n",
      "Failed to read image raw_images/370_image_1.jpeg\n",
      "Failed to read image raw_images/371_image_1.jpg\n",
      "Failed to read image raw_images/371_image_2.jpg\n",
      "Failed to read image raw_images/372_image_1.jpeg\n",
      "Failed to read image raw_images/373_image_1.png\n",
      "Failed to read image raw_images/373_image_2.png\n",
      "Failed to read image raw_images/373_image_3.png\n",
      "Failed to read image raw_images/373_image_4.png\n",
      "Failed to read image raw_images/375_image_1.jpeg\n",
      "Failed to read image raw_images/376_image_1.jpg\n",
      "Failed to read image raw_images/376_image_2.jpg\n",
      "Failed to read image raw_images/376_image_3.jpg\n",
      "Failed to read image raw_images/376_image_4.jpg\n",
      "Failed to read image raw_images/377_image_1.jpeg\n",
      "Failed to read image raw_images/378_image_1.jpg\n",
      "Failed to read image raw_images/378_image_2.jpg\n",
      "Failed to read image raw_images/378_image_3.jpg\n",
      "Failed to read image raw_images/379_image_1.jpeg\n",
      "Failed to read image raw_images/380_image_1.jpg\n",
      "Failed to read image raw_images/380_image_2.jpg\n",
      "Failed to read image raw_images/380_image_3.jpg\n",
      "Failed to read image raw_images/380_image_4.jpg\n",
      "Failed to read image raw_images/381_image_1.jpeg\n",
      "Failed to read image raw_images/383_image_1.jpg\n",
      "Failed to read image raw_images/384_image_1.png\n"
     ]
    },
    {
     "name": "stderr",
     "output_type": "stream",
     "text": [
      "[ WARN:0@66.621] global loadsave.cpp:268 findDecoder imread_('raw_images/383_image_1.jpg'): can't open/read file: check file path/integrity\n",
      "[ WARN:0@66.622] global loadsave.cpp:268 findDecoder imread_('raw_images/384_image_1.png'): can't open/read file: check file path/integrity\n",
      "[ WARN:0@66.755] global loadsave.cpp:268 findDecoder imread_('raw_images/388_image_3.jpg'): can't open/read file: check file path/integrity\n",
      "[ WARN:0@66.756] global loadsave.cpp:268 findDecoder imread_('raw_images/388_image_4.jpg'): can't open/read file: check file path/integrity\n",
      "[ WARN:0@66.848] global loadsave.cpp:268 findDecoder imread_('raw_images/390_image_2.jpg'): can't open/read file: check file path/integrity\n",
      " 50%|███████████████████████████████████████████████▊                                               | 803/1596 [00:14<00:07, 103.31it/s]"
     ]
    },
    {
     "name": "stdout",
     "output_type": "stream",
     "text": [
      "Failed to read image raw_images/388_image_3.jpg\n",
      "Failed to read image raw_images/388_image_4.jpg\n",
      "Failed to read image raw_images/390_image_2.jpg\n",
      "No pose detected in raw_images/392_image_2.jpg\n",
      "Failed to read image raw_images/393_image_2.jpg\n",
      "Failed to read image raw_images/393_image_3.jpg\n"
     ]
    },
    {
     "name": "stderr",
     "output_type": "stream",
     "text": [
      "[ WARN:0@66.940] global loadsave.cpp:268 findDecoder imread_('raw_images/393_image_2.jpg'): can't open/read file: check file path/integrity\n",
      "[ WARN:0@66.940] global loadsave.cpp:268 findDecoder imread_('raw_images/393_image_3.jpg'): can't open/read file: check file path/integrity\n",
      "[ WARN:0@66.970] global loadsave.cpp:268 findDecoder imread_('raw_images/395_image_1.jpg'): can't open/read file: check file path/integrity\n",
      "[ WARN:0@66.970] global loadsave.cpp:268 findDecoder imread_('raw_images/396_image_1.png'): can't open/read file: check file path/integrity\n",
      " 51%|█████████████████████████████████████████████████                                               | 815/1596 [00:15<00:08, 88.02it/s]"
     ]
    },
    {
     "name": "stdout",
     "output_type": "stream",
     "text": [
      "Failed to read image raw_images/395_image_1.jpg\n",
      "Failed to read image raw_images/396_image_1.png\n"
     ]
    },
    {
     "name": "stderr",
     "output_type": "stream",
     "text": [
      " 52%|█████████████████████████████████████████████████▌                                              | 825/1596 [00:15<00:10, 72.70it/s][ WARN:0@67.305] global loadsave.cpp:268 findDecoder imread_('raw_images/403_image_2.jpg'): can't open/read file: check file path/integrity\n",
      "[ WARN:0@67.305] global loadsave.cpp:268 findDecoder imread_('raw_images/403_image_3.jpg'): can't open/read file: check file path/integrity\n",
      "[ WARN:0@67.305] global loadsave.cpp:268 findDecoder imread_('raw_images/403_image_4.jpg'): can't open/read file: check file path/integrity\n",
      "[ WARN:0@67.305] global loadsave.cpp:268 findDecoder imread_('raw_images/404_image_1.jpg'): can't open/read file: check file path/integrity\n",
      "[ WARN:0@67.305] global loadsave.cpp:268 findDecoder imread_('raw_images/405_image_1.png'): can't open/read file: check file path/integrity\n",
      "[ WARN:0@67.338] global loadsave.cpp:268 findDecoder imread_('raw_images/406_image_2.jpg'): can't open/read file: check file path/integrity\n",
      "[ WARN:0@67.388] global loadsave.cpp:268 findDecoder imread_('raw_images/409_image_1.jpg'): can't open/read file: check file path/integrity\n",
      " 52%|██████████████████████████████████████████████████▎                                             | 836/1596 [00:15<00:09, 78.10it/s]"
     ]
    },
    {
     "name": "stdout",
     "output_type": "stream",
     "text": [
      "Failed to read image raw_images/403_image_2.jpg\n",
      "Failed to read image raw_images/403_image_3.jpg\n",
      "Failed to read image raw_images/403_image_4.jpg\n",
      "Failed to read image raw_images/404_image_1.jpg\n",
      "Failed to read image raw_images/405_image_1.png\n",
      "Failed to read image raw_images/406_image_2.jpg\n",
      "No pose detected in raw_images/408_image_1.jpg\n",
      "Failed to read image raw_images/409_image_1.jpg\n",
      "No pose detected in raw_images/411_image_1.jpg\n"
     ]
    },
    {
     "name": "stderr",
     "output_type": "stream",
     "text": [
      " 53%|██████████████████████████████████████████████████▊                                             | 845/1596 [00:15<00:12, 57.87it/s]"
     ]
    },
    {
     "name": "stdout",
     "output_type": "stream",
     "text": [
      "No pose detected in raw_images/415_image_1.jpg\n"
     ]
    },
    {
     "name": "stderr",
     "output_type": "stream",
     "text": [
      "[ WARN:0@67.836] global loadsave.cpp:268 findDecoder imread_('raw_images/423_image_1.jpg'): can't open/read file: check file path/integrity\n",
      "[ WARN:0@67.836] global loadsave.cpp:268 findDecoder imread_('raw_images/424_image_1.jpg'): can't open/read file: check file path/integrity\n",
      "[ WARN:0@67.836] global loadsave.cpp:268 findDecoder imread_('raw_images/425_image_1.jpeg'): can't open/read file: check file path/integrity\n",
      "[ WARN:0@67.836] global loadsave.cpp:268 findDecoder imread_('raw_images/426_image_1.png'): can't open/read file: check file path/integrity\n",
      " 53%|███████████████████████████████████████████████████▎                                            | 853/1596 [00:15<00:13, 55.93it/s][ WARN:0@67.868] global loadsave.cpp:268 findDecoder imread_('raw_images/428_image_1.jpeg'): can't open/read file: check file path/integrity\n",
      "[ WARN:0@67.869] global loadsave.cpp:268 findDecoder imread_('raw_images/429_image_1.png'): can't open/read file: check file path/integrity\n",
      "[ WARN:0@67.990] global loadsave.cpp:268 findDecoder imread_('raw_images/433_image_1.jpeg'): can't open/read file: check file path/integrity\n",
      " 54%|███████████████████████████████████████████████████▋                                            | 860/1596 [00:15<00:13, 56.25it/s]"
     ]
    },
    {
     "name": "stdout",
     "output_type": "stream",
     "text": [
      "Failed to read image raw_images/423_image_1.jpg\n",
      "Failed to read image raw_images/424_image_1.jpg\n",
      "Failed to read image raw_images/425_image_1.jpeg\n",
      "Failed to read image raw_images/426_image_1.png\n",
      "Failed to read image raw_images/428_image_1.jpeg\n",
      "Failed to read image raw_images/429_image_1.png\n",
      "Failed to read image raw_images/433_image_1.jpeg\n",
      "Failed to read image raw_images/434_image_1.png\n"
     ]
    },
    {
     "name": "stderr",
     "output_type": "stream",
     "text": [
      "[ WARN:0@67.990] global loadsave.cpp:268 findDecoder imread_('raw_images/434_image_1.png'): can't open/read file: check file path/integrity\n",
      "[ WARN:0@68.042] global loadsave.cpp:268 findDecoder imread_('raw_images/436_image_1.jpeg'): can't open/read file: check file path/integrity\n",
      "[ WARN:0@68.043] global loadsave.cpp:268 findDecoder imread_('raw_images/437_image_1.png'): can't open/read file: check file path/integrity\n",
      " 54%|████████████████████████████████████████████████████▏                                           | 867/1596 [00:16<00:15, 47.79it/s]"
     ]
    },
    {
     "name": "stdout",
     "output_type": "stream",
     "text": [
      "Failed to read image raw_images/436_image_1.jpeg\n",
      "Failed to read image raw_images/437_image_1.png\n"
     ]
    },
    {
     "name": "stderr",
     "output_type": "stream",
     "text": [
      " 55%|████████████████████████████████████████████████████▌                                           | 873/1596 [00:16<00:16, 44.12it/s]"
     ]
    },
    {
     "name": "stdout",
     "output_type": "stream",
     "text": [
      "No pose detected in raw_images/443_image_1.jpg\n",
      "No pose detected in raw_images/444_image_1.jpg\n",
      "No pose detected in raw_images/447_image_1.jpg\n",
      "No pose detected in raw_images/449_image_1.jpg\n"
     ]
    },
    {
     "name": "stderr",
     "output_type": "stream",
     "text": [
      " 56%|█████████████████████████████████████████████████████▋                                          | 893/1596 [00:16<00:16, 41.45it/s]"
     ]
    },
    {
     "name": "stdout",
     "output_type": "stream",
     "text": [
      "No pose detected in raw_images/460_image_1.jpg\n",
      "Failed to read image raw_images/463_image_4.jpg\n"
     ]
    },
    {
     "name": "stderr",
     "output_type": "stream",
     "text": [
      "[ WARN:0@68.898] global loadsave.cpp:268 findDecoder imread_('raw_images/463_image_4.jpg'): can't open/read file: check file path/integrity\n",
      "[ WARN:0@68.950] global loadsave.cpp:268 findDecoder imread_('raw_images/464_image_2.jpg'): can't open/read file: check file path/integrity\n",
      "[ WARN:0@68.950] global loadsave.cpp:268 findDecoder imread_('raw_images/464_image_3.jpg'): can't open/read file: check file path/integrity\n",
      " 56%|██████████████████████████████████████████████████████                                          | 898/1596 [00:16<00:16, 42.99it/s]"
     ]
    },
    {
     "name": "stdout",
     "output_type": "stream",
     "text": [
      "Failed to read image raw_images/464_image_2.jpg\n",
      "Failed to read image raw_images/464_image_3.jpg\n"
     ]
    },
    {
     "name": "stderr",
     "output_type": "stream",
     "text": [
      " 57%|██████████████████████████████████████████████████████▎                                         | 903/1596 [00:17<00:18, 36.74it/s][ WARN:0@69.190] global loadsave.cpp:268 findDecoder imread_('raw_images/470_image_2.jpg'): can't open/read file: check file path/integrity\n",
      "[ WARN:0@69.190] global loadsave.cpp:268 findDecoder imread_('raw_images/470_image_3.jpg'): can't open/read file: check file path/integrity\n",
      " 57%|██████████████████████████████████████████████████████▌                                         | 908/1596 [00:17<00:17, 38.78it/s][ WARN:0@69.301] global loadsave.cpp:268 findDecoder imread_('raw_images/474_image_1.jpg'): can't open/read file: check file path/integrity\n",
      "[ WARN:0@69.301] global loadsave.cpp:268 findDecoder imread_('raw_images/475_image_1.jpeg'): can't open/read file: check file path/integrity\n",
      "[ WARN:0@69.301] global loadsave.cpp:268 findDecoder imread_('raw_images/476_image_1.jpg'): can't open/read file: check file path/integrity\n",
      "[ WARN:0@69.301] global loadsave.cpp:268 findDecoder imread_('raw_images/476_image_2.jpg'): can't open/read file: check file path/integrity\n",
      "[ WARN:0@69.301] global loadsave.cpp:268 findDecoder imread_('raw_images/476_image_3.jpg'): can't open/read file: check file path/integrity\n",
      "[ WARN:0@69.301] global loadsave.cpp:268 findDecoder imread_('raw_images/476_image_4.jpg'): can't open/read file: check file path/integrity\n"
     ]
    },
    {
     "name": "stdout",
     "output_type": "stream",
     "text": [
      "Failed to read image raw_images/470_image_2.jpg\n",
      "Failed to read image raw_images/470_image_3.jpg\n",
      "Failed to read image raw_images/474_image_1.jpg\n",
      "Failed to read image raw_images/475_image_1.jpeg\n",
      "Failed to read image raw_images/476_image_1.jpg\n",
      "Failed to read image raw_images/476_image_2.jpg\n",
      "Failed to read image raw_images/476_image_3.jpg\n",
      "Failed to read image raw_images/476_image_4.jpg\n"
     ]
    },
    {
     "name": "stderr",
     "output_type": "stream",
     "text": [
      " 58%|███████████████████████████████████████████████████████▎                                        | 919/1596 [00:17<00:12, 54.18it/s][ WARN:0@69.465] global loadsave.cpp:268 findDecoder imread_('raw_images/479_image_3.jpg'): can't open/read file: check file path/integrity\n",
      "[ WARN:0@69.465] global loadsave.cpp:268 findDecoder imread_('raw_images/480_image_1.jpg'): can't open/read file: check file path/integrity\n",
      "[ WARN:0@69.465] global loadsave.cpp:268 findDecoder imread_('raw_images/480_image_2.jpg'): can't open/read file: check file path/integrity\n",
      "[ WARN:0@69.465] global loadsave.cpp:268 findDecoder imread_('raw_images/481_image_1.jpeg'): can't open/read file: check file path/integrity\n",
      "[ WARN:0@69.465] global loadsave.cpp:268 findDecoder imread_('raw_images/482_image_1.jpg'): can't open/read file: check file path/integrity\n",
      "[ WARN:0@69.487] global loadsave.cpp:268 findDecoder imread_('raw_images/482_image_3.jpg'): can't open/read file: check file path/integrity\n",
      "[ WARN:0@69.487] global loadsave.cpp:268 findDecoder imread_('raw_images/482_image_4.jpg'): can't open/read file: check file path/integrity\n",
      "[ WARN:0@69.487] global loadsave.cpp:268 findDecoder imread_('raw_images/483_image_1.png'): can't open/read file: check file path/integrity\n",
      "[ WARN:0@69.487] global loadsave.cpp:268 findDecoder imread_('raw_images/483_image_2.jpg'): can't open/read file: check file path/integrity\n",
      "[ WARN:0@69.487] global loadsave.cpp:268 findDecoder imread_('raw_images/484_image_1.jpeg'): can't open/read file: check file path/integrity\n",
      "[ WARN:0@69.487] global loadsave.cpp:268 findDecoder imread_('raw_images/485_image_1.jpg'): can't open/read file: check file path/integrity\n",
      "[ WARN:0@69.487] global loadsave.cpp:268 findDecoder imread_('raw_images/485_image_2.jpg'): can't open/read file: check file path/integrity\n",
      " 59%|████████████████████████████████████████████████████████▏                                       | 935/1596 [00:17<00:08, 76.31it/s][ WARN:0@69.537] global loadsave.cpp:268 findDecoder imread_('raw_images/487_image_1.jpeg'): can't open/read file: check file path/integrity\n",
      "[ WARN:0@69.537] global loadsave.cpp:268 findDecoder imread_('raw_images/488_image_1.jpg'): can't open/read file: check file path/integrity\n",
      "[ WARN:0@69.537] global loadsave.cpp:268 findDecoder imread_('raw_images/488_image_2.jpg'): can't open/read file: check file path/integrity\n",
      "[ WARN:0@69.537] global loadsave.cpp:268 findDecoder imread_('raw_images/489_image_1.jpeg'): can't open/read file: check file path/integrity\n",
      " 59%|████████████████████████████████████████████████████████▊                                       | 945/1596 [00:17<00:08, 77.79it/s]"
     ]
    },
    {
     "name": "stdout",
     "output_type": "stream",
     "text": [
      "Failed to read image raw_images/479_image_3.jpg\n",
      "Failed to read image raw_images/480_image_1.jpg\n",
      "Failed to read image raw_images/480_image_2.jpg\n",
      "Failed to read image raw_images/481_image_1.jpeg\n",
      "Failed to read image raw_images/482_image_1.jpg\n",
      "Failed to read image raw_images/482_image_3.jpg\n",
      "Failed to read image raw_images/482_image_4.jpg\n",
      "Failed to read image raw_images/483_image_1.png\n",
      "Failed to read image raw_images/483_image_2.jpg\n",
      "Failed to read image raw_images/484_image_1.jpeg\n",
      "Failed to read image raw_images/485_image_1.jpg\n",
      "Failed to read image raw_images/485_image_2.jpg\n",
      "Failed to read image raw_images/487_image_1.jpeg\n",
      "Failed to read image raw_images/488_image_1.jpg\n",
      "Failed to read image raw_images/488_image_2.jpg\n",
      "Failed to read image raw_images/489_image_1.jpeg\n",
      "No pose detected in raw_images/491_image_2.jpg\n",
      "Failed to read image raw_images/491_image_4.jpg\n"
     ]
    },
    {
     "name": "stderr",
     "output_type": "stream",
     "text": [
      "[ WARN:0@69.659] global loadsave.cpp:268 findDecoder imread_('raw_images/491_image_4.jpg'): can't open/read file: check file path/integrity\n",
      "[ WARN:0@69.704] global loadsave.cpp:268 findDecoder imread_('raw_images/492_image_3.jpg'): can't open/read file: check file path/integrity\n",
      "[ WARN:0@69.704] global loadsave.cpp:268 findDecoder imread_('raw_images/493_image_1.jpg'): can't open/read file: check file path/integrity\n",
      "[ WARN:0@69.704] global loadsave.cpp:268 findDecoder imread_('raw_images/493_image_2.jpg'): can't open/read file: check file path/integrity\n",
      "[ WARN:0@69.704] global loadsave.cpp:268 findDecoder imread_('raw_images/494_image_1.jpeg'): can't open/read file: check file path/integrity\n",
      "[ WARN:0@69.704] global loadsave.cpp:268 findDecoder imread_('raw_images/495_image_1.jpg'): can't open/read file: check file path/integrity\n",
      "[ WARN:0@69.705] global loadsave.cpp:268 findDecoder imread_('raw_images/495_image_2.jpg'): can't open/read file: check file path/integrity\n",
      "[ WARN:0@69.705] global loadsave.cpp:268 findDecoder imread_('raw_images/496_image_1.jpeg'): can't open/read file: check file path/integrity\n",
      "[ WARN:0@69.736] global loadsave.cpp:268 findDecoder imread_('raw_images/497_image_3.jpg'): can't open/read file: check file path/integrity\n",
      "[ WARN:0@69.736] global loadsave.cpp:268 findDecoder imread_('raw_images/497_image_4.jpg'): can't open/read file: check file path/integrity\n",
      " 60%|█████████████████████████████████████████████████████████▊                                      | 961/1596 [00:17<00:06, 93.72it/s][ WARN:0@69.892] global loadsave.cpp:268 findDecoder imread_('raw_images/500_image_3.jpg'): can't open/read file: check file path/integrity\n",
      "[ WARN:0@69.893] global loadsave.cpp:268 findDecoder imread_('raw_images/500_image_4.jpg'): can't open/read file: check file path/integrity\n",
      "[ WARN:0@69.893] global loadsave.cpp:268 findDecoder imread_('raw_images/501_image_1.jpg'): can't open/read file: check file path/integrity\n",
      "[ WARN:0@69.893] global loadsave.cpp:268 findDecoder imread_('raw_images/501_image_2.jpg'): can't open/read file: check file path/integrity\n",
      "[ WARN:0@69.893] global loadsave.cpp:268 findDecoder imread_('raw_images/502_image_1.jpeg'): can't open/read file: check file path/integrity\n",
      " 61%|██████████████████████████████████████████████████████████▍                                     | 971/1596 [00:17<00:06, 92.28it/s]"
     ]
    },
    {
     "name": "stdout",
     "output_type": "stream",
     "text": [
      "Failed to read image raw_images/492_image_3.jpg\n",
      "Failed to read image raw_images/493_image_1.jpg\n",
      "Failed to read image raw_images/493_image_2.jpg\n",
      "Failed to read image raw_images/494_image_1.jpeg\n",
      "Failed to read image raw_images/495_image_1.jpg\n",
      "Failed to read image raw_images/495_image_2.jpg\n",
      "Failed to read image raw_images/496_image_1.jpeg\n",
      "No pose detected in raw_images/497_image_2.jpg\n",
      "Failed to read image raw_images/497_image_3.jpg\n",
      "Failed to read image raw_images/497_image_4.jpg\n",
      "Failed to read image raw_images/500_image_3.jpg\n",
      "Failed to read image raw_images/500_image_4.jpg\n",
      "Failed to read image raw_images/501_image_1.jpg\n",
      "Failed to read image raw_images/501_image_2.jpg\n",
      "Failed to read image raw_images/502_image_1.jpeg\n"
     ]
    },
    {
     "name": "stderr",
     "output_type": "stream",
     "text": [
      "[ WARN:0@70.063] global loadsave.cpp:268 findDecoder imread_('raw_images/505_image_3.jpg'): can't open/read file: check file path/integrity\n",
      " 61%|███████████████████████████████████████████████████████████                                     | 981/1596 [00:18<00:07, 79.63it/s][ WARN:0@70.063] global loadsave.cpp:268 findDecoder imread_('raw_images/505_image_4.jpg'): can't open/read file: check file path/integrity\n"
     ]
    },
    {
     "name": "stdout",
     "output_type": "stream",
     "text": [
      "No pose detected in raw_images/503_image_2.jpg\n",
      "No pose detected in raw_images/505_image_2.jpg\n",
      "Failed to read image raw_images/505_image_3.jpg\n",
      "Failed to read image raw_images/505_image_4.jpg\n"
     ]
    },
    {
     "name": "stderr",
     "output_type": "stream",
     "text": [
      "[ WARN:0@70.200] global loadsave.cpp:268 findDecoder imread_('raw_images/508_image_1.jpg'): can't open/read file: check file path/integrity\n",
      "[ WARN:0@70.200] global loadsave.cpp:268 findDecoder imread_('raw_images/508_image_2.jpg'): can't open/read file: check file path/integrity\n",
      "[ WARN:0@70.200] global loadsave.cpp:268 findDecoder imread_('raw_images/508_image_3.jpg'): can't open/read file: check file path/integrity\n",
      " 62%|███████████████████████████████████████████████████████████▌                                    | 990/1596 [00:18<00:08, 75.38it/s][ WARN:0@70.201] global loadsave.cpp:268 findDecoder imread_('raw_images/508_image_4.jpg'): can't open/read file: check file path/integrity\n",
      "[ WARN:0@70.201] global loadsave.cpp:268 findDecoder imread_('raw_images/509_image_1.jpeg'): can't open/read file: check file path/integrity\n",
      "[ WARN:0@70.201] global loadsave.cpp:268 findDecoder imread_('raw_images/510_image_1.jpg'): can't open/read file: check file path/integrity\n",
      "[ WARN:0@70.201] global loadsave.cpp:268 findDecoder imread_('raw_images/510_image_2.jpg'): can't open/read file: check file path/integrity\n",
      "[ WARN:0@70.201] global loadsave.cpp:268 findDecoder imread_('raw_images/510_image_3.jpg'): can't open/read file: check file path/integrity\n",
      "[ WARN:0@70.201] global loadsave.cpp:268 findDecoder imread_('raw_images/511_image_1.png'): can't open/read file: check file path/integrity\n",
      "[ WARN:0@70.201] global loadsave.cpp:268 findDecoder imread_('raw_images/511_image_2.png'): can't open/read file: check file path/integrity\n",
      "[ WARN:0@70.201] global loadsave.cpp:268 findDecoder imread_('raw_images/511_image_3.png'): can't open/read file: check file path/integrity\n",
      "[ WARN:0@70.218] global loadsave.cpp:268 findDecoder imread_('raw_images/512_image_3.jpg'): can't open/read file: check file path/integrity\n",
      "[ WARN:0@70.218] global loadsave.cpp:268 findDecoder imread_('raw_images/512_image_4.jpg'): can't open/read file: check file path/integrity\n",
      "[ WARN:0@70.218] global loadsave.cpp:268 findDecoder imread_('raw_images/513_image_1.jpg'): can't open/read file: check file path/integrity\n",
      "[ WARN:0@70.218] global loadsave.cpp:268 findDecoder imread_('raw_images/513_image_2.jpg'): can't open/read file: check file path/integrity\n",
      "[ WARN:0@70.218] global loadsave.cpp:268 findDecoder imread_('raw_images/514_image_1.jpeg'): can't open/read file: check file path/integrity\n",
      "[ WARN:0@70.218] global loadsave.cpp:268 findDecoder imread_('raw_images/515_image_1.jpg'): can't open/read file: check file path/integrity\n",
      "[ WARN:0@70.218] global loadsave.cpp:268 findDecoder imread_('raw_images/515_image_2.jpg'): can't open/read file: check file path/integrity\n",
      "[ WARN:0@70.218] global loadsave.cpp:268 findDecoder imread_('raw_images/515_image_3.jpg'): can't open/read file: check file path/integrity\n",
      "[ WARN:0@70.291] global loadsave.cpp:268 findDecoder imread_('raw_images/518_image_1.jpeg'): can't open/read file: check file path/integrity\n",
      "[ WARN:0@70.291] global loadsave.cpp:268 findDecoder imread_('raw_images/519_image_1.jpg'): can't open/read file: check file path/integrity\n",
      " 63%|███████████████████████████████████████████████████████████▋                                  | 1013/1596 [00:18<00:05, 109.08it/s]"
     ]
    },
    {
     "name": "stdout",
     "output_type": "stream",
     "text": [
      "Failed to read image raw_images/508_image_1.jpg\n",
      "Failed to read image raw_images/508_image_2.jpg\n",
      "Failed to read image raw_images/508_image_3.jpg\n",
      "Failed to read image raw_images/508_image_4.jpg\n",
      "Failed to read image raw_images/509_image_1.jpeg\n",
      "Failed to read image raw_images/510_image_1.jpg\n",
      "Failed to read image raw_images/510_image_2.jpg\n",
      "Failed to read image raw_images/510_image_3.jpg\n",
      "Failed to read image raw_images/511_image_1.png\n",
      "Failed to read image raw_images/511_image_2.png\n",
      "Failed to read image raw_images/511_image_3.png\n",
      "No pose detected in raw_images/512_image_1.jpg\n",
      "No pose detected in raw_images/512_image_2.jpg\n",
      "Failed to read image raw_images/512_image_3.jpg\n",
      "Failed to read image raw_images/512_image_4.jpg\n",
      "Failed to read image raw_images/513_image_1.jpg\n",
      "Failed to read image raw_images/513_image_2.jpg\n",
      "Failed to read image raw_images/514_image_1.jpeg\n",
      "Failed to read image raw_images/515_image_1.jpg\n",
      "Failed to read image raw_images/515_image_2.jpg\n",
      "Failed to read image raw_images/515_image_3.jpg\n",
      "Failed to read image raw_images/518_image_1.jpeg\n",
      "Failed to read image raw_images/519_image_1.jpg\n",
      "Failed to read image raw_images/519_image_3.jpg\n",
      "Failed to read image raw_images/520_image_1.png\n",
      "Failed to read image raw_images/520_image_2.jpg\n",
      "Failed to read image raw_images/522_image_1.jpeg\n",
      "Failed to read image raw_images/523_image_1.png\n",
      "Failed to read image raw_images/525_image_1.jpeg\n",
      "Failed to read image raw_images/526_image_1.png\n",
      "Failed to read image raw_images/526_image_2.png\n",
      "Failed to read image raw_images/526_image_3.png\n",
      "Failed to read image raw_images/527_image_1.jpeg\n"
     ]
    },
    {
     "name": "stderr",
     "output_type": "stream",
     "text": [
      "[ WARN:0@70.314] global loadsave.cpp:268 findDecoder imread_('raw_images/519_image_3.jpg'): can't open/read file: check file path/integrity\n",
      "[ WARN:0@70.314] global loadsave.cpp:268 findDecoder imread_('raw_images/520_image_1.png'): can't open/read file: check file path/integrity\n",
      "[ WARN:0@70.314] global loadsave.cpp:268 findDecoder imread_('raw_images/520_image_2.jpg'): can't open/read file: check file path/integrity\n",
      "[ WARN:0@70.338] global loadsave.cpp:268 findDecoder imread_('raw_images/522_image_1.jpeg'): can't open/read file: check file path/integrity\n",
      "[ WARN:0@70.338] global loadsave.cpp:268 findDecoder imread_('raw_images/523_image_1.png'): can't open/read file: check file path/integrity\n",
      "[ WARN:0@70.385] global loadsave.cpp:268 findDecoder imread_('raw_images/525_image_1.jpeg'): can't open/read file: check file path/integrity\n",
      "[ WARN:0@70.385] global loadsave.cpp:268 findDecoder imread_('raw_images/526_image_1.png'): can't open/read file: check file path/integrity\n",
      "[ WARN:0@70.385] global loadsave.cpp:268 findDecoder imread_('raw_images/526_image_2.png'): can't open/read file: check file path/integrity\n",
      "[ WARN:0@70.385] global loadsave.cpp:268 findDecoder imread_('raw_images/526_image_3.png'): can't open/read file: check file path/integrity\n",
      "[ WARN:0@70.385] global loadsave.cpp:268 findDecoder imread_('raw_images/527_image_1.jpeg'): can't open/read file: check file path/integrity\n",
      " 64%|████████████████████████████████████████████████████████████▍                                 | 1027/1596 [00:18<00:04, 116.15it/s][ WARN:0@70.460] global loadsave.cpp:268 findDecoder imread_('raw_images/529_image_1.jpg'): can't open/read file: check file path/integrity\n",
      "[ WARN:0@70.461] global loadsave.cpp:268 findDecoder imread_('raw_images/529_image_2.jpg'): can't open/read file: check file path/integrity\n",
      "[ WARN:0@70.461] global loadsave.cpp:268 findDecoder imread_('raw_images/529_image_3.jpg'): can't open/read file: check file path/integrity\n",
      "[ WARN:0@70.461] global loadsave.cpp:268 findDecoder imread_('raw_images/529_image_4.jpg'): can't open/read file: check file path/integrity\n",
      "[ WARN:0@70.472] global loadsave.cpp:268 findDecoder imread_('raw_images/531_image_1.jpeg'): can't open/read file: check file path/integrity\n",
      " 65%|█████████████████████████████████████████████████████████████▎                                | 1040/1596 [00:18<00:05, 107.39it/s][ WARN:0@70.559] global loadsave.cpp:268 findDecoder imread_('raw_images/533_image_4.jpg'): can't open/read file: check file path/integrity\n"
     ]
    },
    {
     "name": "stdout",
     "output_type": "stream",
     "text": [
      "No pose detected in raw_images/528_image_1.jpg\n",
      "No pose detected in raw_images/528_image_2.jpg\n",
      "No pose detected in raw_images/528_image_3.jpg\n",
      "Failed to read image raw_images/529_image_1.jpg\n",
      "Failed to read image raw_images/529_image_2.jpg\n",
      "Failed to read image raw_images/529_image_3.jpg\n",
      "Failed to read image raw_images/529_image_4.jpg\n",
      "No pose detected in raw_images/530_image_1.jpeg\n",
      "Failed to read image raw_images/531_image_1.jpeg\n",
      "Failed to read image raw_images/533_image_4.jpg\n"
     ]
    },
    {
     "name": "stderr",
     "output_type": "stream",
     "text": [
      "[ WARN:0@70.711] global loadsave.cpp:268 findDecoder imread_('raw_images/536_image_3.jpg'): can't open/read file: check file path/integrity\n",
      "[ WARN:0@70.711] global loadsave.cpp:268 findDecoder imread_('raw_images/536_image_4.jpg'): can't open/read file: check file path/integrity\n",
      " 66%|██████████████████████████████████████████████████████████████▌                                | 1052/1596 [00:18<00:05, 91.95it/s]"
     ]
    },
    {
     "name": "stdout",
     "output_type": "stream",
     "text": [
      "No pose detected in raw_images/535_image_1.jpg\n",
      "No pose detected in raw_images/535_image_3.jpg\n",
      "Failed to read image raw_images/536_image_3.jpg\n",
      "Failed to read image raw_images/536_image_4.jpg\n",
      "No pose detected in raw_images/537_image_1.jpg\n",
      "Failed to read image raw_images/538_image_2.jpg\n",
      "Failed to read image raw_images/538_image_3.jpg\n",
      "Failed to read image raw_images/538_image_4.jpg\n",
      "No pose detected in raw_images/539_image_1.jpg\n",
      "No pose detected in raw_images/540_image_1.jpg\n"
     ]
    },
    {
     "name": "stderr",
     "output_type": "stream",
     "text": [
      "[ WARN:0@70.772] global loadsave.cpp:268 findDecoder imread_('raw_images/538_image_2.jpg'): can't open/read file: check file path/integrity\n",
      "[ WARN:0@70.772] global loadsave.cpp:268 findDecoder imread_('raw_images/538_image_3.jpg'): can't open/read file: check file path/integrity\n",
      "[ WARN:0@70.772] global loadsave.cpp:268 findDecoder imread_('raw_images/538_image_4.jpg'): can't open/read file: check file path/integrity\n",
      "[ WARN:0@70.852] global loadsave.cpp:268 findDecoder imread_('raw_images/541_image_2.jpg'): can't open/read file: check file path/integrity\n",
      " 67%|███████████████████████████████████████████████████████████████▏                               | 1062/1596 [00:18<00:05, 91.19it/s][ WARN:0@70.852] global loadsave.cpp:268 findDecoder imread_('raw_images/541_image_3.jpg'): can't open/read file: check file path/integrity\n",
      "[ WARN:0@70.961] global loadsave.cpp:268 findDecoder imread_('raw_images/545_image_2.jpg'): can't open/read file: check file path/integrity\n",
      "[ WARN:0@70.961] global loadsave.cpp:268 findDecoder imread_('raw_images/545_image_3.jpg'): can't open/read file: check file path/integrity\n",
      " 67%|███████████████████████████████████████████████████████████████▊                               | 1072/1596 [00:18<00:06, 80.78it/s]"
     ]
    },
    {
     "name": "stdout",
     "output_type": "stream",
     "text": [
      "Failed to read image raw_images/541_image_2.jpg\n",
      "Failed to read image raw_images/541_image_3.jpg\n",
      "No pose detected in raw_images/544_image_1.jpg\n",
      "Failed to read image raw_images/545_image_2.jpg\n",
      "Failed to read image raw_images/545_image_3.jpg\n",
      "No pose detected in raw_images/546_image_1.jpg\n"
     ]
    },
    {
     "name": "stderr",
     "output_type": "stream",
     "text": [
      "[ WARN:0@71.064] global loadsave.cpp:268 findDecoder imread_('raw_images/548_image_2.jpg'): can't open/read file: check file path/integrity\n",
      "[ WARN:0@71.140] global loadsave.cpp:268 findDecoder imread_('raw_images/549_image_2.png'): can't open/read file: check file path/integrity\n",
      "[ WARN:0@71.140] global loadsave.cpp:268 findDecoder imread_('raw_images/549_image_3.jpg'): can't open/read file: check file path/integrity\n",
      " 68%|████████████████████████████████████████████████████████████████▎                              | 1081/1596 [00:19<00:07, 70.32it/s]"
     ]
    },
    {
     "name": "stdout",
     "output_type": "stream",
     "text": [
      "Failed to read image raw_images/548_image_2.jpg\n",
      "No pose detected in raw_images/549_image_1.jpg\n",
      "Failed to read image raw_images/549_image_2.png\n",
      "Failed to read image raw_images/549_image_3.jpg\n",
      "Failed to read image raw_images/553_image_1.jpg\n",
      "Failed to read image raw_images/553_image_2.jpg\n",
      "Failed to read image raw_images/553_image_3.jpg\n",
      "Failed to read image raw_images/553_image_4.jpg\n",
      "Failed to read image raw_images/554_image_1.png\n",
      "No pose detected in raw_images/555_image_2.jpg\n",
      "Failed to read image raw_images/555_image_3.jpg\n"
     ]
    },
    {
     "name": "stderr",
     "output_type": "stream",
     "text": [
      "[ WARN:0@71.220] global loadsave.cpp:268 findDecoder imread_('raw_images/553_image_1.jpg'): can't open/read file: check file path/integrity\n",
      "[ WARN:0@71.220] global loadsave.cpp:268 findDecoder imread_('raw_images/553_image_2.jpg'): can't open/read file: check file path/integrity\n",
      "[ WARN:0@71.220] global loadsave.cpp:268 findDecoder imread_('raw_images/553_image_3.jpg'): can't open/read file: check file path/integrity\n",
      "[ WARN:0@71.220] global loadsave.cpp:268 findDecoder imread_('raw_images/553_image_4.jpg'): can't open/read file: check file path/integrity\n",
      "[ WARN:0@71.220] global loadsave.cpp:268 findDecoder imread_('raw_images/554_image_1.png'): can't open/read file: check file path/integrity\n",
      "[ WARN:0@71.264] global loadsave.cpp:268 findDecoder imread_('raw_images/555_image_3.jpg'): can't open/read file: check file path/integrity\n",
      " 68%|█████████████████████████████████████████████████████████████████                              | 1092/1596 [00:19<00:06, 76.77it/s][ WARN:0@71.332] global loadsave.cpp:268 findDecoder imread_('raw_images/557_image_2.jpg'): can't open/read file: check file path/integrity\n",
      "[ WARN:0@71.341] global loadsave.cpp:268 findDecoder imread_('raw_images/559_image_1.jpg'): can't open/read file: check file path/integrity\n",
      "[ WARN:0@71.341] global loadsave.cpp:268 findDecoder imread_('raw_images/560_image_1.png'): can't open/read file: check file path/integrity\n",
      "[ WARN:0@71.409] global loadsave.cpp:268 findDecoder imread_('raw_images/561_image_2.jpg'): can't open/read file: check file path/integrity\n",
      " 69%|█████████████████████████████████████████████████████████████████▌                             | 1101/1596 [00:19<00:06, 79.65it/s][ WARN:0@71.409] global loadsave.cpp:268 findDecoder imread_('raw_images/561_image_3.jpg'): can't open/read file: check file path/integrity\n",
      "[ WARN:0@71.409] global loadsave.cpp:268 findDecoder imread_('raw_images/562_image_1.jpg'): can't open/read file: check file path/integrity\n",
      "[ WARN:0@71.409] global loadsave.cpp:268 findDecoder imread_('raw_images/563_image_1.png'): can't open/read file: check file path/integrity\n"
     ]
    },
    {
     "name": "stdout",
     "output_type": "stream",
     "text": [
      "No pose detected in raw_images/557_image_1.jpg\n",
      "Failed to read image raw_images/557_image_2.jpg\n",
      "No pose detected in raw_images/558_image_1.jpg\n",
      "Failed to read image raw_images/559_image_1.jpg\n",
      "Failed to read image raw_images/560_image_1.png\n",
      "No pose detected in raw_images/561_image_1.jpg\n",
      "Failed to read image raw_images/561_image_2.jpg\n",
      "Failed to read image raw_images/561_image_3.jpg\n",
      "Failed to read image raw_images/562_image_1.jpg\n",
      "Failed to read image raw_images/563_image_1.png\n",
      "Failed to read image raw_images/566_image_2.jpg\n",
      "Failed to read image raw_images/566_image_3.jpg\n"
     ]
    },
    {
     "name": "stderr",
     "output_type": "stream",
     "text": [
      "[ WARN:0@71.523] global loadsave.cpp:268 findDecoder imread_('raw_images/566_image_2.jpg'): can't open/read file: check file path/integrity\n",
      "[ WARN:0@71.524] global loadsave.cpp:268 findDecoder imread_('raw_images/566_image_3.jpg'): can't open/read file: check file path/integrity\n",
      " 70%|██████████████████████████████████████████████████████████████████                             | 1110/1596 [00:19<00:06, 70.80it/s][ WARN:0@71.626] global loadsave.cpp:268 findDecoder imread_('raw_images/570_image_2.jpg'): can't open/read file: check file path/integrity\n",
      "[ WARN:0@71.626] global loadsave.cpp:268 findDecoder imread_('raw_images/570_image_3.jpg'): can't open/read file: check file path/integrity\n",
      " 70%|██████████████████████████████████████████████████████████████████▌                            | 1118/1596 [00:19<00:06, 68.45it/s]"
     ]
    },
    {
     "name": "stdout",
     "output_type": "stream",
     "text": [
      "No pose detected in raw_images/569_image_1.jpg\n",
      "Failed to read image raw_images/570_image_2.jpg\n",
      "Failed to read image raw_images/570_image_3.jpg\n",
      "No pose detected in raw_images/572_image_1.jpg\n",
      "No pose detected in raw_images/575_image_1.jpg\n"
     ]
    },
    {
     "name": "stderr",
     "output_type": "stream",
     "text": [
      "[ WARN:0@71.784] global loadsave.cpp:268 findDecoder imread_('raw_images/575_image_4.jpg'): can't open/read file: check file path/integrity\n",
      " 71%|███████████████████████████████████████████████████████████████████                            | 1126/1596 [00:19<00:07, 63.08it/s][ WARN:0@71.884] global loadsave.cpp:268 findDecoder imread_('raw_images/577_image_2.jpg'): can't open/read file: check file path/integrity\n",
      "[ WARN:0@71.884] global loadsave.cpp:268 findDecoder imread_('raw_images/577_image_3.jpg'): can't open/read file: check file path/integrity\n",
      "[ WARN:0@71.884] global loadsave.cpp:268 findDecoder imread_('raw_images/577_image_4.jpg'): can't open/read file: check file path/integrity\n",
      " 71%|███████████████████████████████████████████████████████████████████▍                           | 1133/1596 [00:19<00:07, 63.70it/s]"
     ]
    },
    {
     "name": "stdout",
     "output_type": "stream",
     "text": [
      "Failed to read image raw_images/575_image_4.jpg\n",
      "Failed to read image raw_images/577_image_2.jpg\n",
      "Failed to read image raw_images/577_image_3.jpg\n",
      "Failed to read image raw_images/577_image_4.jpg\n",
      "Failed to read image raw_images/581_image_2.jpg\n"
     ]
    },
    {
     "name": "stderr",
     "output_type": "stream",
     "text": [
      "[ WARN:0@71.985] global loadsave.cpp:268 findDecoder imread_('raw_images/581_image_2.jpg'): can't open/read file: check file path/integrity\n",
      "[ WARN:0@72.052] global loadsave.cpp:268 findDecoder imread_('raw_images/583_image_3.jpg'): can't open/read file: check file path/integrity\n",
      "[ WARN:0@72.052] global loadsave.cpp:268 findDecoder imread_('raw_images/583_image_4.jpg'): can't open/read file: check file path/integrity\n",
      " 71%|███████████████████████████████████████████████████████████████████▉                           | 1141/1596 [00:20<00:06, 65.80it/s][ WARN:0@72.139] global loadsave.cpp:268 findDecoder imread_('raw_images/585_image_3.jpg'): can't open/read file: check file path/integrity\n",
      "[ WARN:0@72.139] global loadsave.cpp:268 findDecoder imread_('raw_images/585_image_4.jpg'): can't open/read file: check file path/integrity\n",
      "[ WARN:0@72.150] global loadsave.cpp:268 findDecoder imread_('raw_images/586_image_2.jpg'): can't open/read file: check file path/integrity\n",
      " 72%|████████████████████████████████████████████████████████████████████▍                          | 1149/1596 [00:20<00:06, 65.56it/s]"
     ]
    },
    {
     "name": "stdout",
     "output_type": "stream",
     "text": [
      "Failed to read image raw_images/583_image_3.jpg\n",
      "Failed to read image raw_images/583_image_4.jpg\n",
      "No pose detected in raw_images/585_image_1.jpg\n",
      "Failed to read image raw_images/585_image_3.jpg\n",
      "Failed to read image raw_images/585_image_4.jpg\n",
      "No pose detected in raw_images/586_image_1.jpg\n",
      "Failed to read image raw_images/586_image_2.jpg\n"
     ]
    },
    {
     "name": "stderr",
     "output_type": "stream",
     "text": [
      "[ WARN:0@72.279] global loadsave.cpp:268 findDecoder imread_('raw_images/589_image_2.jpg'): can't open/read file: check file path/integrity\n",
      " 72%|████████████████████████████████████████████████████████████████████▊                          | 1156/1596 [00:20<00:07, 55.95it/s][ WARN:0@72.419] global loadsave.cpp:268 findDecoder imread_('raw_images/592_image_4.jpg'): can't open/read file: check file path/integrity\n",
      "[ WARN:0@72.474] global loadsave.cpp:268 findDecoder imread_('raw_images/593_image_2.jpg'): can't open/read file: check file path/integrity\n",
      "[ WARN:0@72.474] global loadsave.cpp:268 findDecoder imread_('raw_images/593_image_3.jpg'): can't open/read file: check file path/integrity\n",
      " 73%|█████████████████████████████████████████████████████████████████████▏                         | 1162/1596 [00:20<00:07, 56.62it/s]"
     ]
    },
    {
     "name": "stdout",
     "output_type": "stream",
     "text": [
      "Failed to read image raw_images/589_image_2.jpg\n",
      "Failed to read image raw_images/592_image_4.jpg\n",
      "Failed to read image raw_images/593_image_2.jpg\n",
      "Failed to read image raw_images/593_image_3.jpg\n"
     ]
    },
    {
     "name": "stderr",
     "output_type": "stream",
     "text": [
      "[ WARN:0@72.596] global loadsave.cpp:268 findDecoder imread_('raw_images/596_image_3.jpg'): can't open/read file: check file path/integrity\n",
      " 73%|█████████████████████████████████████████████████████████████████████▌                         | 1168/1596 [00:20<00:07, 54.46it/s][ WARN:0@72.597] global loadsave.cpp:268 findDecoder imread_('raw_images/596_image_4.jpg'): can't open/read file: check file path/integrity\n",
      "[ WARN:0@72.607] global loadsave.cpp:268 findDecoder imread_('raw_images/597_image_2.jpg'): can't open/read file: check file path/integrity\n",
      "[ WARN:0@72.666] global loadsave.cpp:268 findDecoder imread_('raw_images/599_image_2.jpg'): can't open/read file: check file path/integrity\n",
      "[ WARN:0@72.666] global loadsave.cpp:268 findDecoder imread_('raw_images/599_image_3.jpg'): can't open/read file: check file path/integrity\n",
      "[ WARN:0@72.666] global loadsave.cpp:268 findDecoder imread_('raw_images/599_image_4.jpg'): can't open/read file: check file path/integrity\n",
      " 74%|██████████████████████████████████████████████████████████████████████                         | 1178/1596 [00:20<00:06, 63.55it/s]"
     ]
    },
    {
     "name": "stdout",
     "output_type": "stream",
     "text": [
      "Failed to read image raw_images/596_image_3.jpg\n",
      "Failed to read image raw_images/596_image_4.jpg\n",
      "No pose detected in raw_images/597_image_1.jpg\n",
      "Failed to read image raw_images/597_image_2.jpg\n",
      "Failed to read image raw_images/599_image_2.jpg\n",
      "Failed to read image raw_images/599_image_3.jpg\n",
      "Failed to read image raw_images/599_image_4.jpg\n",
      "No pose detected in raw_images/601_image_2.jpg\n",
      "Failed to read image raw_images/602_image_3.jpg\n"
     ]
    },
    {
     "name": "stderr",
     "output_type": "stream",
     "text": [
      "[ WARN:0@72.765] global loadsave.cpp:268 findDecoder imread_('raw_images/602_image_3.jpg'): can't open/read file: check file path/integrity\n",
      "[ WARN:0@72.810] global loadsave.cpp:268 findDecoder imread_('raw_images/604_image_1.jpg'): can't open/read file: check file path/integrity\n",
      "[ WARN:0@72.810] global loadsave.cpp:268 findDecoder imread_('raw_images/604_image_2.jpg'): can't open/read file: check file path/integrity\n",
      "[ WARN:0@72.810] global loadsave.cpp:268 findDecoder imread_('raw_images/604_image_3.jpg'): can't open/read file: check file path/integrity\n",
      " 74%|██████████████████████████████████████████████████████████████████████▋                        | 1188/1596 [00:20<00:06, 67.93it/s][ WARN:0@72.841] global loadsave.cpp:268 findDecoder imread_('raw_images/606_image_1.jpg'): can't open/read file: check file path/integrity\n",
      "[ WARN:0@72.863] global loadsave.cpp:268 findDecoder imread_('raw_images/608_image_1.jpeg'): can't open/read file: check file path/integrity\n",
      "[ WARN:0@72.898] global loadsave.cpp:268 findDecoder imread_('raw_images/609_image_2.png'): can't open/read file: check file path/integrity\n",
      "[ WARN:0@72.898] global loadsave.cpp:268 findDecoder imread_('raw_images/610_image_1.png'): can't open/read file: check file path/integrity\n",
      " 75%|███████████████████████████████████████████████████████████████████████▏                       | 1196/1596 [00:20<00:05, 70.92it/s]"
     ]
    },
    {
     "name": "stdout",
     "output_type": "stream",
     "text": [
      "Failed to read image raw_images/604_image_1.jpg\n",
      "Failed to read image raw_images/604_image_2.jpg\n",
      "Failed to read image raw_images/604_image_3.jpg\n",
      "Failed to read image raw_images/606_image_1.jpg\n",
      "Failed to read image raw_images/608_image_1.jpeg\n",
      "Failed to read image raw_images/609_image_2.png\n",
      "Failed to read image raw_images/610_image_1.png\n",
      "No pose detected in raw_images/610_image_2.jpg\n",
      "No pose detected in raw_images/611_image_4.jpg\n",
      "Failed to read image raw_images/612_image_1.jpg\n",
      "Failed to read image raw_images/612_image_2.jpg\n",
      "Failed to read image raw_images/612_image_3.jpg\n",
      "Failed to read image raw_images/612_image_4.jpg\n"
     ]
    },
    {
     "name": "stderr",
     "output_type": "stream",
     "text": [
      "[ WARN:0@72.995] global loadsave.cpp:268 findDecoder imread_('raw_images/612_image_1.jpg'): can't open/read file: check file path/integrity\n",
      "[ WARN:0@72.995] global loadsave.cpp:268 findDecoder imread_('raw_images/612_image_2.jpg'): can't open/read file: check file path/integrity\n",
      "[ WARN:0@72.995] global loadsave.cpp:268 findDecoder imread_('raw_images/612_image_3.jpg'): can't open/read file: check file path/integrity\n",
      "[ WARN:0@72.995] global loadsave.cpp:268 findDecoder imread_('raw_images/612_image_4.jpg'): can't open/read file: check file path/integrity\n",
      " 76%|███████████████████████████████████████████████████████████████████████▋                       | 1205/1596 [00:21<00:05, 75.15it/s][ WARN:0@73.045] global loadsave.cpp:268 findDecoder imread_('raw_images/615_image_1.jpeg'): can't open/read file: check file path/integrity\n",
      "[ WARN:0@73.046] global loadsave.cpp:268 findDecoder imread_('raw_images/616_image_1.jpg'): can't open/read file: check file path/integrity\n",
      "[ WARN:0@73.046] global loadsave.cpp:268 findDecoder imread_('raw_images/616_image_2.jpg'): can't open/read file: check file path/integrity\n",
      "[ WARN:0@73.046] global loadsave.cpp:268 findDecoder imread_('raw_images/617_image_1.jpeg'): can't open/read file: check file path/integrity\n",
      "[ WARN:0@73.046] global loadsave.cpp:268 findDecoder imread_('raw_images/618_image_1.jpg'): can't open/read file: check file path/integrity\n",
      "[ WARN:0@73.046] global loadsave.cpp:268 findDecoder imread_('raw_images/618_image_2.jpg'): can't open/read file: check file path/integrity\n",
      "[ WARN:0@73.046] global loadsave.cpp:268 findDecoder imread_('raw_images/619_image_1.png'): can't open/read file: check file path/integrity\n",
      " 76%|████████████████████████████████████████████████████████████████████████▍                      | 1217/1596 [00:21<00:04, 83.73it/s][ WARN:0@73.162] global loadsave.cpp:268 findDecoder imread_('raw_images/621_image_3.jpg'): can't open/read file: check file path/integrity\n",
      "[ WARN:0@73.162] global loadsave.cpp:268 findDecoder imread_('raw_images/622_image_1.jpg'): can't open/read file: check file path/integrity\n",
      "[ WARN:0@73.162] global loadsave.cpp:268 findDecoder imread_('raw_images/622_image_2.jpg'): can't open/read file: check file path/integrity\n",
      "[ WARN:0@73.162] global loadsave.cpp:268 findDecoder imread_('raw_images/623_image_1.png'): can't open/read file: check file path/integrity\n",
      "[ WARN:0@73.162] global loadsave.cpp:268 findDecoder imread_('raw_images/624_image_1.jpeg'): can't open/read file: check file path/integrity\n"
     ]
    },
    {
     "name": "stdout",
     "output_type": "stream",
     "text": [
      "No pose detected in raw_images/613_image_1.jpeg\n",
      "Failed to read image raw_images/615_image_1.jpeg\n",
      "Failed to read image raw_images/616_image_1.jpg\n",
      "Failed to read image raw_images/616_image_2.jpg\n",
      "Failed to read image raw_images/617_image_1.jpeg\n",
      "Failed to read image raw_images/618_image_1.jpg\n",
      "Failed to read image raw_images/618_image_2.jpg\n",
      "Failed to read image raw_images/619_image_1.png\n",
      "No pose detected in raw_images/620_image_2.jpg\n",
      "Failed to read image raw_images/621_image_3.jpg\n",
      "Failed to read image raw_images/622_image_1.jpg\n",
      "Failed to read image raw_images/622_image_2.jpg\n",
      "Failed to read image raw_images/623_image_1.png\n",
      "Failed to read image raw_images/624_image_1.jpeg\n",
      "No pose detected in raw_images/625_image_1.jpg\n",
      "No pose detected in raw_images/625_image_3.jpg\n",
      "Failed to read image raw_images/626_image_1.jpg\n",
      "Failed to read image raw_images/626_image_2.jpg\n",
      "Failed to read image raw_images/626_image_3.jpg\n",
      "Failed to read image raw_images/626_image_4.jpg\n"
     ]
    },
    {
     "name": "stderr",
     "output_type": "stream",
     "text": [
      "[ WARN:0@73.202] global loadsave.cpp:268 findDecoder imread_('raw_images/626_image_1.jpg'): can't open/read file: check file path/integrity\n",
      "[ WARN:0@73.202] global loadsave.cpp:268 findDecoder imread_('raw_images/626_image_2.jpg'): can't open/read file: check file path/integrity\n",
      "[ WARN:0@73.202] global loadsave.cpp:268 findDecoder imread_('raw_images/626_image_3.jpg'): can't open/read file: check file path/integrity\n",
      "[ WARN:0@73.202] global loadsave.cpp:268 findDecoder imread_('raw_images/626_image_4.jpg'): can't open/read file: check file path/integrity\n",
      "[ WARN:0@73.229] global loadsave.cpp:268 findDecoder imread_('raw_images/628_image_1.jpeg'): can't open/read file: check file path/integrity\n",
      "[ WARN:0@73.230] global loadsave.cpp:268 findDecoder imread_('raw_images/629_image_1.jpg'): can't open/read file: check file path/integrity\n",
      "[ WARN:0@73.230] global loadsave.cpp:268 findDecoder imread_('raw_images/629_image_2.jpg'): can't open/read file: check file path/integrity\n",
      "[ WARN:0@73.230] global loadsave.cpp:268 findDecoder imread_('raw_images/630_image_1.jpeg'): can't open/read file: check file path/integrity\n",
      " 77%|████████████████████████████████████████████████████████████████████████▊                     | 1236/1596 [00:21<00:03, 108.42it/s]"
     ]
    },
    {
     "name": "stdout",
     "output_type": "stream",
     "text": [
      "Failed to read image raw_images/628_image_1.jpeg\n",
      "Failed to read image raw_images/629_image_1.jpg\n",
      "Failed to read image raw_images/629_image_2.jpg\n",
      "Failed to read image raw_images/630_image_1.jpeg\n",
      "No pose detected in raw_images/632_image_1.jpg\n",
      "No pose detected in raw_images/633_image_2.jpg\n"
     ]
    },
    {
     "name": "stderr",
     "output_type": "stream",
     "text": [
      "[ WARN:0@73.438] global loadsave.cpp:268 findDecoder imread_('raw_images/635_image_3.jpg'): can't open/read file: check file path/integrity\n",
      "[ WARN:0@73.439] global loadsave.cpp:268 findDecoder imread_('raw_images/635_image_4.jpg'): can't open/read file: check file path/integrity\n",
      "[ WARN:0@73.439] global loadsave.cpp:268 findDecoder imread_('raw_images/636_image_1.jpg'): can't open/read file: check file path/integrity\n",
      " 78%|██████████████████████████████████████████████████████████████████████████▏                    | 1247/1596 [00:21<00:03, 92.86it/s][ WARN:0@73.439] global loadsave.cpp:268 findDecoder imread_('raw_images/636_image_2.jpg'): can't open/read file: check file path/integrity\n",
      "[ WARN:0@73.439] global loadsave.cpp:268 findDecoder imread_('raw_images/637_image_1.jpeg'): can't open/read file: check file path/integrity\n",
      "[ WARN:0@73.439] global loadsave.cpp:268 findDecoder imread_('raw_images/638_image_1.jpg'): can't open/read file: check file path/integrity\n",
      "[ WARN:0@73.439] global loadsave.cpp:268 findDecoder imread_('raw_images/638_image_2.jpg'): can't open/read file: check file path/integrity\n",
      "[ WARN:0@73.439] global loadsave.cpp:268 findDecoder imread_('raw_images/638_image_3.jpg'): can't open/read file: check file path/integrity\n",
      "[ WARN:0@73.439] global loadsave.cpp:268 findDecoder imread_('raw_images/638_image_4.jpg'): can't open/read file: check file path/integrity\n",
      "[ WARN:0@73.468] global loadsave.cpp:268 findDecoder imread_('raw_images/640_image_1.jpeg'): can't open/read file: check file path/integrity\n",
      "[ WARN:0@73.514] global loadsave.cpp:268 findDecoder imread_('raw_images/642_image_1.jpg'): can't open/read file: check file path/integrity\n",
      "[ WARN:0@73.514] global loadsave.cpp:268 findDecoder imread_('raw_images/642_image_2.jpg'): can't open/read file: check file path/integrity\n",
      "[ WARN:0@73.514] global loadsave.cpp:268 findDecoder imread_('raw_images/642_image_3.jpg'): can't open/read file: check file path/integrity\n",
      "[ WARN:0@73.514] global loadsave.cpp:268 findDecoder imread_('raw_images/642_image_4.jpg'): can't open/read file: check file path/integrity\n",
      "[ WARN:0@73.514] global loadsave.cpp:268 findDecoder imread_('raw_images/643_image_1.jpeg'): can't open/read file: check file path/integrity\n",
      " 79%|██████████████████████████████████████████████████████████████████████████▍                   | 1264/1596 [00:21<00:03, 110.40it/s]"
     ]
    },
    {
     "name": "stdout",
     "output_type": "stream",
     "text": [
      "Failed to read image raw_images/635_image_3.jpg\n",
      "Failed to read image raw_images/635_image_4.jpg\n",
      "Failed to read image raw_images/636_image_1.jpg\n",
      "Failed to read image raw_images/636_image_2.jpg\n",
      "Failed to read image raw_images/637_image_1.jpeg\n",
      "Failed to read image raw_images/638_image_1.jpg\n",
      "Failed to read image raw_images/638_image_2.jpg\n",
      "Failed to read image raw_images/638_image_3.jpg\n",
      "Failed to read image raw_images/638_image_4.jpg\n",
      "Failed to read image raw_images/640_image_1.jpeg\n",
      "Failed to read image raw_images/642_image_1.jpg\n",
      "Failed to read image raw_images/642_image_2.jpg\n",
      "Failed to read image raw_images/642_image_3.jpg\n",
      "Failed to read image raw_images/642_image_4.jpg\n",
      "Failed to read image raw_images/643_image_1.jpeg\n",
      "No pose detected in raw_images/644_image_2.jpg\n",
      "Failed to read image raw_images/645_image_1.jpg\n",
      "Failed to read image raw_images/645_image_2.jpg\n",
      "Failed to read image raw_images/649_image_1.jpeg\n",
      "Failed to read image raw_images/650_image_1.png\n"
     ]
    },
    {
     "name": "stderr",
     "output_type": "stream",
     "text": [
      "[ WARN:0@73.545] global loadsave.cpp:268 findDecoder imread_('raw_images/645_image_1.jpg'): can't open/read file: check file path/integrity\n",
      "[ WARN:0@73.545] global loadsave.cpp:268 findDecoder imread_('raw_images/645_image_2.jpg'): can't open/read file: check file path/integrity\n",
      "[ WARN:0@73.635] global loadsave.cpp:268 findDecoder imread_('raw_images/649_image_1.jpeg'): can't open/read file: check file path/integrity\n",
      "[ WARN:0@73.635] global loadsave.cpp:268 findDecoder imread_('raw_images/650_image_1.png'): can't open/read file: check file path/integrity\n",
      " 80%|███████████████████████████████████████████████████████████████████████████▉                   | 1276/1596 [00:21<00:03, 89.80it/s][ WARN:0@73.744] global loadsave.cpp:268 findDecoder imread_('raw_images/652_image_3.jpg'): can't open/read file: check file path/integrity\n",
      "[ WARN:0@73.744] global loadsave.cpp:268 findDecoder imread_('raw_images/652_image_4.jpg'): can't open/read file: check file path/integrity\n",
      "[ WARN:0@73.745] global loadsave.cpp:268 findDecoder imread_('raw_images/653_image_1.jpg'): can't open/read file: check file path/integrity\n",
      "[ WARN:0@73.767] global loadsave.cpp:268 findDecoder imread_('raw_images/654_image_1.png'): can't open/read file: check file path/integrity\n",
      "[ WARN:0@73.790] global loadsave.cpp:268 findDecoder imread_('raw_images/654_image_3.jpg'): can't open/read file: check file path/integrity\n",
      " 81%|████████████████████████████████████████████████████████████████████████████▌                  | 1286/1596 [00:21<00:03, 89.65it/s][ WARN:0@73.927] global loadsave.cpp:268 findDecoder imread_('raw_images/658_image_1.jpg'): can't open/read file: check file path/integrity\n",
      "[ WARN:0@73.927] global loadsave.cpp:268 findDecoder imread_('raw_images/658_image_2.jpg'): can't open/read file: check file path/integrity\n",
      "[ WARN:0@73.928] global loadsave.cpp:268 findDecoder imread_('raw_images/658_image_3.jpg'): can't open/read file: check file path/integrity\n",
      "[ WARN:0@73.928] global loadsave.cpp:268 findDecoder imread_('raw_images/658_image_4.jpg'): can't open/read file: check file path/integrity\n"
     ]
    },
    {
     "name": "stdout",
     "output_type": "stream",
     "text": [
      "Failed to read image raw_images/652_image_3.jpg\n",
      "Failed to read image raw_images/652_image_4.jpg\n",
      "Failed to read image raw_images/653_image_1.jpg\n",
      "Failed to read image raw_images/654_image_1.png\n",
      "Failed to read image raw_images/654_image_3.jpg\n",
      "Failed to read image raw_images/658_image_1.jpg\n",
      "Failed to read image raw_images/658_image_2.jpg\n",
      "Failed to read image raw_images/658_image_3.jpg\n",
      "Failed to read image raw_images/658_image_4.jpg\n"
     ]
    },
    {
     "name": "stderr",
     "output_type": "stream",
     "text": [
      "[ WARN:0@73.979] global loadsave.cpp:268 findDecoder imread_('raw_images/660_image_1.jpeg'): can't open/read file: check file path/integrity\n",
      " 81%|█████████████████████████████████████████████████████████████████████████████▏                 | 1296/1596 [00:21<00:03, 84.92it/s][ WARN:0@74.043] global loadsave.cpp:268 findDecoder imread_('raw_images/661_image_4.jpg'): can't open/read file: check file path/integrity\n",
      " 82%|█████████████████████████████████████████████████████████████████████████████▋                 | 1305/1596 [00:22<00:04, 71.12it/s]"
     ]
    },
    {
     "name": "stdout",
     "output_type": "stream",
     "text": [
      "Failed to read image raw_images/660_image_1.jpeg\n",
      "No pose detected in raw_images/661_image_1.jpg\n",
      "Failed to read image raw_images/661_image_4.jpg\n",
      "Failed to read image raw_images/664_image_1.jpg\n",
      "Failed to read image raw_images/664_image_2.jpg\n"
     ]
    },
    {
     "name": "stderr",
     "output_type": "stream",
     "text": [
      "[ WARN:0@74.180] global loadsave.cpp:268 findDecoder imread_('raw_images/664_image_1.jpg'): can't open/read file: check file path/integrity\n",
      "[ WARN:0@74.180] global loadsave.cpp:268 findDecoder imread_('raw_images/664_image_2.jpg'): can't open/read file: check file path/integrity\n",
      "[ WARN:0@74.180] global loadsave.cpp:268 findDecoder imread_('raw_images/664_image_3.jpg'): can't open/read file: check file path/integrity\n",
      "[ WARN:0@74.180] global loadsave.cpp:268 findDecoder imread_('raw_images/665_image_1.png'): can't open/read file: check file path/integrity\n",
      "[ WARN:0@74.227] global loadsave.cpp:268 findDecoder imread_('raw_images/666_image_3.jpg'): can't open/read file: check file path/integrity\n",
      " 82%|██████████████████████████████████████████████████████████████████████████████▎                | 1315/1596 [00:22<00:03, 74.99it/s]"
     ]
    },
    {
     "name": "stdout",
     "output_type": "stream",
     "text": [
      "Failed to read image raw_images/664_image_3.jpg\n",
      "Failed to read image raw_images/665_image_1.png\n",
      "Failed to read image raw_images/666_image_3.jpg\n",
      "No pose detected in raw_images/667_image_1.jpg\n"
     ]
    },
    {
     "name": "stderr",
     "output_type": "stream",
     "text": [
      "[ WARN:0@74.383] global loadsave.cpp:268 findDecoder imread_('raw_images/669_image_4.jpg'): can't open/read file: check file path/integrity\n",
      " 83%|██████████████████████████████████████████████████████████████████████████████▊                | 1323/1596 [00:22<00:04, 67.48it/s][ WARN:0@74.519] global loadsave.cpp:268 findDecoder imread_('raw_images/671_image_4.jpg'): can't open/read file: check file path/integrity\n",
      "[ WARN:0@74.519] global loadsave.cpp:268 findDecoder imread_('raw_images/672_image_1.jpg'): can't open/read file: check file path/integrity\n",
      " 83%|███████████████████████████████████████████████████████████████████████████████▏               | 1331/1596 [00:22<00:03, 68.16it/s][ WARN:0@74.563] global loadsave.cpp:268 findDecoder imread_('raw_images/673_image_1.jpg'): can't open/read file: check file path/integrity\n"
     ]
    },
    {
     "name": "stdout",
     "output_type": "stream",
     "text": [
      "Failed to read image raw_images/669_image_4.jpg\n",
      "No pose detected in raw_images/671_image_3.jpg\n",
      "Failed to read image raw_images/671_image_4.jpg\n",
      "Failed to read image raw_images/672_image_1.jpg\n",
      "Failed to read image raw_images/673_image_1.jpg\n",
      "Failed to read image raw_images/673_image_2.jpg\n",
      "Failed to read image raw_images/673_image_3.jpg\n",
      "Failed to read image raw_images/673_image_4.jpg\n",
      "Failed to read image raw_images/674_image_1.png\n"
     ]
    },
    {
     "name": "stderr",
     "output_type": "stream",
     "text": [
      "[ WARN:0@74.564] global loadsave.cpp:268 findDecoder imread_('raw_images/673_image_2.jpg'): can't open/read file: check file path/integrity\n",
      "[ WARN:0@74.564] global loadsave.cpp:268 findDecoder imread_('raw_images/673_image_3.jpg'): can't open/read file: check file path/integrity\n",
      "[ WARN:0@74.564] global loadsave.cpp:268 findDecoder imread_('raw_images/673_image_4.jpg'): can't open/read file: check file path/integrity\n",
      "[ WARN:0@74.564] global loadsave.cpp:268 findDecoder imread_('raw_images/674_image_1.png'): can't open/read file: check file path/integrity\n",
      "[ WARN:0@74.639] global loadsave.cpp:268 findDecoder imread_('raw_images/676_image_3.jpg'): can't open/read file: check file path/integrity\n",
      "[ WARN:0@74.639] global loadsave.cpp:268 findDecoder imread_('raw_images/676_image_4.jpg'): can't open/read file: check file path/integrity\n",
      " 84%|███████████████████████████████████████████████████████████████████████████████▉               | 1342/1596 [00:22<00:03, 74.73it/s][ WARN:0@74.707] global loadsave.cpp:268 findDecoder imread_('raw_images/678_image_2.jpg'): can't open/read file: check file path/integrity\n"
     ]
    },
    {
     "name": "stdout",
     "output_type": "stream",
     "text": [
      "Failed to read image raw_images/676_image_3.jpg\n",
      "Failed to read image raw_images/676_image_4.jpg\n",
      "Failed to read image raw_images/678_image_2.jpg\n"
     ]
    },
    {
     "name": "stderr",
     "output_type": "stream",
     "text": [
      "[ WARN:0@74.889] global loadsave.cpp:268 findDecoder imread_('raw_images/683_image_2.jpg'): can't open/read file: check file path/integrity\n",
      " 85%|████████████████████████████████████████████████████████████████████████████████▎              | 1350/1596 [00:22<00:04, 60.27it/s][ WARN:0@74.889] global loadsave.cpp:268 findDecoder imread_('raw_images/683_image_3.jpg'): can't open/read file: check file path/integrity\n"
     ]
    },
    {
     "name": "stdout",
     "output_type": "stream",
     "text": [
      "Failed to read image raw_images/683_image_2.jpg\n",
      "Failed to read image raw_images/683_image_3.jpg\n",
      "Failed to read image raw_images/686_image_1.jpg\n"
     ]
    },
    {
     "name": "stderr",
     "output_type": "stream",
     "text": [
      "[ WARN:0@74.945] global loadsave.cpp:268 findDecoder imread_('raw_images/686_image_1.jpg'): can't open/read file: check file path/integrity\n",
      "[ WARN:0@75.173] global loadsave.cpp:268 findDecoder imread_('raw_images/688_image_1.png'): can't open/read file: check file path/integrity\n",
      " 85%|████████████████████████████████████████████████████████████████████████████████▊              | 1357/1596 [00:23<00:05, 42.98it/s][ WARN:0@75.241] global loadsave.cpp:268 findDecoder imread_('raw_images/691_image_1.jpg'): can't open/read file: check file path/integrity\n",
      "[ WARN:0@75.241] global loadsave.cpp:268 findDecoder imread_('raw_images/691_image_2.jpg'): can't open/read file: check file path/integrity\n",
      "[ WARN:0@75.241] global loadsave.cpp:268 findDecoder imread_('raw_images/693_image_1.jpg'): can't open/read file: check file path/integrity\n",
      "[ WARN:0@75.241] global loadsave.cpp:268 findDecoder imread_('raw_images/693_image_2.jpg'): can't open/read file: check file path/integrity\n",
      "[ WARN:0@75.241] global loadsave.cpp:268 findDecoder imread_('raw_images/693_image_3.jpg'): can't open/read file: check file path/integrity\n",
      "[ WARN:0@75.241] global loadsave.cpp:268 findDecoder imread_('raw_images/694_image_1.png'): can't open/read file: check file path/integrity\n",
      "[ WARN:0@75.272] global loadsave.cpp:268 findDecoder imread_('raw_images/695_image_2.jpg'): can't open/read file: check file path/integrity\n",
      "[ WARN:0@75.272] global loadsave.cpp:268 findDecoder imread_('raw_images/695_image_3.jpg'): can't open/read file: check file path/integrity\n",
      " 86%|█████████████████████████████████████████████████████████████████████████████████▍             | 1369/1596 [00:23<00:04, 56.59it/s]"
     ]
    },
    {
     "name": "stdout",
     "output_type": "stream",
     "text": [
      "Failed to read image raw_images/688_image_1.png\n",
      "Failed to read image raw_images/691_image_1.jpg\n",
      "Failed to read image raw_images/691_image_2.jpg\n",
      "Failed to read image raw_images/693_image_1.jpg\n",
      "Failed to read image raw_images/693_image_2.jpg\n",
      "Failed to read image raw_images/693_image_3.jpg\n",
      "Failed to read image raw_images/694_image_1.png\n",
      "No pose detected in raw_images/695_image_1.jpg\n",
      "Failed to read image raw_images/695_image_2.jpg\n",
      "Failed to read image raw_images/695_image_3.jpg\n"
     ]
    },
    {
     "name": "stderr",
     "output_type": "stream",
     "text": [
      "[ WARN:0@75.406] global loadsave.cpp:268 findDecoder imread_('raw_images/698_image_2.jpg'): can't open/read file: check file path/integrity\n",
      "[ WARN:0@75.406] global loadsave.cpp:268 findDecoder imread_('raw_images/698_image_3.jpg'): can't open/read file: check file path/integrity\n",
      "[ WARN:0@75.406] global loadsave.cpp:268 findDecoder imread_('raw_images/698_image_4.jpg'): can't open/read file: check file path/integrity\n",
      " 86%|█████████████████████████████████████████████████████████████████████████████████▉             | 1377/1596 [00:23<00:03, 57.44it/s][ WARN:0@75.500] global loadsave.cpp:268 findDecoder imread_('raw_images/701_image_3.jpg'): can't open/read file: check file path/integrity\n",
      "[ WARN:0@75.500] global loadsave.cpp:268 findDecoder imread_('raw_images/701_image_4.jpg'): can't open/read file: check file path/integrity\n",
      " 87%|██████████████████████████████████████████████████████████████████████████████████▌            | 1386/1596 [00:23<00:03, 62.27it/s]"
     ]
    },
    {
     "name": "stdout",
     "output_type": "stream",
     "text": [
      "Failed to read image raw_images/698_image_2.jpg\n",
      "Failed to read image raw_images/698_image_3.jpg\n",
      "Failed to read image raw_images/698_image_4.jpg\n",
      "No pose detected in raw_images/700_image_3.jpg\n",
      "No pose detected in raw_images/701_image_1.jpg\n",
      "No pose detected in raw_images/701_image_2.jpg\n",
      "Failed to read image raw_images/701_image_3.jpg\n",
      "Failed to read image raw_images/701_image_4.jpg\n",
      "Failed to read image raw_images/703_image_3.jpg\n",
      "Failed to read image raw_images/703_image_4.jpg\n"
     ]
    },
    {
     "name": "stderr",
     "output_type": "stream",
     "text": [
      "[ WARN:0@75.592] global loadsave.cpp:268 findDecoder imread_('raw_images/703_image_3.jpg'): can't open/read file: check file path/integrity\n",
      "[ WARN:0@75.592] global loadsave.cpp:268 findDecoder imread_('raw_images/703_image_4.jpg'): can't open/read file: check file path/integrity\n",
      "[ WARN:0@75.647] global loadsave.cpp:268 findDecoder imread_('raw_images/704_image_2.jpg'): can't open/read file: check file path/integrity\n",
      " 87%|██████████████████████████████████████████████████████████████████████████████████▉            | 1394/1596 [00:23<00:03, 59.57it/s][ WARN:0@75.742] global loadsave.cpp:268 findDecoder imread_('raw_images/707_image_3.jpg'): can't open/read file: check file path/integrity\n",
      "[ WARN:0@75.742] global loadsave.cpp:268 findDecoder imread_('raw_images/707_image_4.jpg'): can't open/read file: check file path/integrity\n",
      "[ WARN:0@75.798] global loadsave.cpp:268 findDecoder imread_('raw_images/708_image_2.jpg'): can't open/read file: check file path/integrity\n",
      " 88%|███████████████████████████████████████████████████████████████████████████████████▍           | 1401/1596 [00:23<00:03, 58.52it/s]"
     ]
    },
    {
     "name": "stdout",
     "output_type": "stream",
     "text": [
      "Failed to read image raw_images/704_image_2.jpg\n",
      "Failed to read image raw_images/707_image_3.jpg\n",
      "Failed to read image raw_images/707_image_4.jpg\n",
      "Failed to read image raw_images/708_image_2.jpg\n"
     ]
    },
    {
     "name": "stderr",
     "output_type": "stream",
     "text": [
      "[ WARN:0@75.850] global loadsave.cpp:268 findDecoder imread_('raw_images/710_image_2.jpg'): can't open/read file: check file path/integrity\n",
      "[ WARN:0@75.850] global loadsave.cpp:268 findDecoder imread_('raw_images/710_image_3.jpg'): can't open/read file: check file path/integrity\n",
      "[ WARN:0@75.915] global loadsave.cpp:268 findDecoder imread_('raw_images/712_image_3.jpg'): can't open/read file: check file path/integrity\n",
      " 88%|███████████████████████████████████████████████████████████████████████████████████▊           | 1409/1596 [00:23<00:03, 61.05it/s]"
     ]
    },
    {
     "name": "stdout",
     "output_type": "stream",
     "text": [
      "Failed to read image raw_images/710_image_2.jpg\n",
      "Failed to read image raw_images/710_image_3.jpg\n",
      "Failed to read image raw_images/712_image_3.jpg\n",
      "Failed to read image raw_images/715_image_1.jpg\n",
      "Failed to read image raw_images/715_image_2.jpg\n",
      "Failed to read image raw_images/715_image_3.jpg\n",
      "Failed to read image raw_images/715_image_4.jpg\n",
      "Failed to read image raw_images/716_image_1.png\n",
      "Failed to read image raw_images/716_image_2.png\n"
     ]
    },
    {
     "name": "stderr",
     "output_type": "stream",
     "text": [
      "[ WARN:0@76.030] global loadsave.cpp:268 findDecoder imread_('raw_images/715_image_1.jpg'): can't open/read file: check file path/integrity\n",
      "[ WARN:0@76.030] global loadsave.cpp:268 findDecoder imread_('raw_images/715_image_2.jpg'): can't open/read file: check file path/integrity\n",
      "[ WARN:0@76.030] global loadsave.cpp:268 findDecoder imread_('raw_images/715_image_3.jpg'): can't open/read file: check file path/integrity\n",
      "[ WARN:0@76.030] global loadsave.cpp:268 findDecoder imread_('raw_images/715_image_4.jpg'): can't open/read file: check file path/integrity\n",
      "[ WARN:0@76.030] global loadsave.cpp:268 findDecoder imread_('raw_images/716_image_1.png'): can't open/read file: check file path/integrity\n",
      "[ WARN:0@76.031] global loadsave.cpp:268 findDecoder imread_('raw_images/716_image_2.png'): can't open/read file: check file path/integrity\n",
      " 89%|█████████████████████████████████████████████████████████████████████████████████████          | 1428/1596 [00:24<00:02, 63.66it/s]"
     ]
    },
    {
     "name": "stdout",
     "output_type": "stream",
     "text": [
      "No pose detected in raw_images/717_image_1.jpg\n",
      "No pose detected in raw_images/721_image_1.jpg\n",
      "No pose detected in raw_images/721_image_3.jpg\n",
      "Failed to read image raw_images/722_image_3.jpg\n",
      "Failed to read image raw_images/722_image_4.jpg\n"
     ]
    },
    {
     "name": "stderr",
     "output_type": "stream",
     "text": [
      "[ WARN:0@76.232] global loadsave.cpp:268 findDecoder imread_('raw_images/722_image_3.jpg'): can't open/read file: check file path/integrity\n",
      "[ WARN:0@76.232] global loadsave.cpp:268 findDecoder imread_('raw_images/722_image_4.jpg'): can't open/read file: check file path/integrity\n",
      "[ WARN:0@76.258] global loadsave.cpp:268 findDecoder imread_('raw_images/723_image_2.jpg'): can't open/read file: check file path/integrity\n",
      " 90%|█████████████████████████████████████████████████████████████████████████████████████▍         | 1436/1596 [00:24<00:02, 66.14it/s][ WARN:0@76.320] global loadsave.cpp:268 findDecoder imread_('raw_images/726_image_2.jpg'): can't open/read file: check file path/integrity\n",
      "[ WARN:0@76.320] global loadsave.cpp:268 findDecoder imread_('raw_images/726_image_3.jpg'): can't open/read file: check file path/integrity\n",
      "[ WARN:0@76.384] global loadsave.cpp:268 findDecoder imread_('raw_images/728_image_2.jpg'): can't open/read file: check file path/integrity\n",
      " 90%|█████████████████████████████████████████████████████████████████████████████████████▉         | 1444/1596 [00:24<00:02, 65.92it/s]"
     ]
    },
    {
     "name": "stdout",
     "output_type": "stream",
     "text": [
      "Failed to read image raw_images/723_image_2.jpg\n",
      "No pose detected in raw_images/725_image_1.jpg\n",
      "Failed to read image raw_images/726_image_2.jpg\n",
      "Failed to read image raw_images/726_image_3.jpg\n",
      "Failed to read image raw_images/728_image_2.jpg\n",
      "No pose detected in raw_images/729_image_1.jpg\n"
     ]
    },
    {
     "name": "stderr",
     "output_type": "stream",
     "text": [
      "[ WARN:0@76.501] global loadsave.cpp:268 findDecoder imread_('raw_images/731_image_2.jpg'): can't open/read file: check file path/integrity\n",
      "[ WARN:0@76.501] global loadsave.cpp:268 findDecoder imread_('raw_images/731_image_3.jpg'): can't open/read file: check file path/integrity\n",
      "[ WARN:0@76.501] global loadsave.cpp:268 findDecoder imread_('raw_images/731_image_4.jpg'): can't open/read file: check file path/integrity\n",
      " 91%|██████████████████████████████████████████████████████████████████████████████████████▎        | 1451/1596 [00:24<00:02, 65.53it/s][ WARN:0@76.551] global loadsave.cpp:268 findDecoder imread_('raw_images/733_image_2.jpg'): can't open/read file: check file path/integrity\n",
      "[ WARN:0@76.551] global loadsave.cpp:268 findDecoder imread_('raw_images/733_image_3.jpg'): can't open/read file: check file path/integrity\n",
      "[ WARN:0@76.551] global loadsave.cpp:268 findDecoder imread_('raw_images/733_image_4.jpg'): can't open/read file: check file path/integrity\n"
     ]
    },
    {
     "name": "stdout",
     "output_type": "stream",
     "text": [
      "Failed to read image raw_images/731_image_2.jpg\n",
      "Failed to read image raw_images/731_image_3.jpg\n",
      "Failed to read image raw_images/731_image_4.jpg\n",
      "No pose detected in raw_images/732_image_1.jpg\n",
      "Failed to read image raw_images/733_image_2.jpg\n",
      "Failed to read image raw_images/733_image_3.jpg\n",
      "Failed to read image raw_images/733_image_4.jpg\n"
     ]
    },
    {
     "name": "stderr",
     "output_type": "stream",
     "text": [
      " 91%|██████████████████████████████████████████████████████████████████████████████████████▊        | 1458/1596 [00:24<00:02, 55.74it/s][ WARN:0@76.794] global loadsave.cpp:268 findDecoder imread_('raw_images/739_image_2.jpg'): can't open/read file: check file path/integrity\n",
      "[ WARN:0@76.794] global loadsave.cpp:268 findDecoder imread_('raw_images/739_image_3.jpg'): can't open/read file: check file path/integrity\n",
      "[ WARN:0@76.794] global loadsave.cpp:268 findDecoder imread_('raw_images/739_image_4.jpg'): can't open/read file: check file path/integrity\n",
      " 92%|███████████████████████████████████████████████████████████████████████████████████████▎       | 1466/1596 [00:24<00:02, 59.39it/s][ WARN:0@76.884] global loadsave.cpp:268 findDecoder imread_('raw_images/741_image_4.jpg'): can't open/read file: check file path/integrity\n",
      " 92%|███████████████████████████████████████████████████████████████████████████████████████▋       | 1473/1596 [00:24<00:02, 57.23it/s]"
     ]
    },
    {
     "name": "stdout",
     "output_type": "stream",
     "text": [
      "Failed to read image raw_images/739_image_2.jpg\n",
      "Failed to read image raw_images/739_image_3.jpg\n",
      "Failed to read image raw_images/739_image_4.jpg\n",
      "Failed to read image raw_images/741_image_4.jpg\n",
      "No pose detected in raw_images/742_image_2.jpg\n"
     ]
    },
    {
     "name": "stderr",
     "output_type": "stream",
     "text": [
      "[ WARN:0@76.998] global loadsave.cpp:268 findDecoder imread_('raw_images/743_image_3.jpg'): can't open/read file: check file path/integrity\n",
      "[ WARN:0@77.030] global loadsave.cpp:268 findDecoder imread_('raw_images/744_image_2.jpg'): can't open/read file: check file path/integrity\n",
      "[ WARN:0@77.030] global loadsave.cpp:268 findDecoder imread_('raw_images/745_image_1.jpg'): can't open/read file: check file path/integrity\n",
      " 93%|████████████████████████████████████████████████████████████████████████████████████████       | 1480/1596 [00:25<00:01, 60.24it/s]"
     ]
    },
    {
     "name": "stdout",
     "output_type": "stream",
     "text": [
      "Failed to read image raw_images/743_image_3.jpg\n",
      "Failed to read image raw_images/744_image_2.jpg\n",
      "Failed to read image raw_images/745_image_1.jpg\n",
      "No pose detected in raw_images/748_image_1.jpg\n"
     ]
    },
    {
     "name": "stderr",
     "output_type": "stream",
     "text": [
      " 94%|████████████████████████████████████████████████████████████████████████████████████████▊      | 1493/1596 [00:25<00:01, 54.36it/s][ WARN:0@77.341] global loadsave.cpp:268 findDecoder imread_('raw_images/750_image_3.jpg'): can't open/read file: check file path/integrity\n",
      "[ WARN:0@77.341] global loadsave.cpp:268 findDecoder imread_('raw_images/750_image_4.jpg'): can't open/read file: check file path/integrity\n",
      "[ WARN:0@77.396] global loadsave.cpp:268 findDecoder imread_('raw_images/752_image_2.jpg'): can't open/read file: check file path/integrity\n",
      "[ WARN:0@77.396] global loadsave.cpp:268 findDecoder imread_('raw_images/752_image_3.jpg'): can't open/read file: check file path/integrity\n"
     ]
    },
    {
     "name": "stdout",
     "output_type": "stream",
     "text": [
      "No pose detected in raw_images/749_image_1.jpg\n",
      "Failed to read image raw_images/750_image_3.jpg\n",
      "Failed to read image raw_images/750_image_4.jpg\n",
      "No pose detected in raw_images/752_image_1.jpg\n",
      "Failed to read image raw_images/752_image_2.jpg\n",
      "Failed to read image raw_images/752_image_3.jpg\n"
     ]
    },
    {
     "name": "stderr",
     "output_type": "stream",
     "text": [
      " 94%|█████████████████████████████████████████████████████████████████████████████████████████▍     | 1502/1596 [00:25<00:01, 63.15it/s][ WARN:0@77.442] global loadsave.cpp:268 findDecoder imread_('raw_images/754_image_2.jpg'): can't open/read file: check file path/integrity\n",
      " 95%|█████████████████████████████████████████████████████████████████████████████████████████▊     | 1509/1596 [00:25<00:01, 57.20it/s][ WARN:0@77.593] global loadsave.cpp:268 findDecoder imread_('raw_images/759_image_2.jpg'): can't open/read file: check file path/integrity\n",
      "[ WARN:0@77.602] global loadsave.cpp:268 findDecoder imread_('raw_images/761_image_1.jpg'): can't open/read file: check file path/integrity\n",
      "[ WARN:0@77.602] global loadsave.cpp:268 findDecoder imread_('raw_images/761_image_2.jpg'): can't open/read file: check file path/integrity\n",
      "[ WARN:0@77.602] global loadsave.cpp:268 findDecoder imread_('raw_images/761_image_3.jpg'): can't open/read file: check file path/integrity\n"
     ]
    },
    {
     "name": "stdout",
     "output_type": "stream",
     "text": [
      "Failed to read image raw_images/754_image_2.jpg\n",
      "Failed to read image raw_images/759_image_2.jpg\n",
      "No pose detected in raw_images/760_image_1.jpg\n",
      "Failed to read image raw_images/761_image_1.jpg\n",
      "Failed to read image raw_images/761_image_2.jpg\n",
      "Failed to read image raw_images/761_image_3.jpg\n"
     ]
    },
    {
     "name": "stderr",
     "output_type": "stream",
     "text": [
      " 95%|██████████████████████████████████████████████████████████████████████████████████████████▎    | 1517/1596 [00:25<00:01, 62.87it/s][ WARN:0@77.739] global loadsave.cpp:268 findDecoder imread_('raw_images/764_image_4.jpg'): can't open/read file: check file path/integrity\n",
      "[ WARN:0@77.749] global loadsave.cpp:268 findDecoder imread_('raw_images/765_image_2.jpg'): can't open/read file: check file path/integrity\n",
      "[ WARN:0@77.749] global loadsave.cpp:268 findDecoder imread_('raw_images/765_image_3.jpg'): can't open/read file: check file path/integrity\n",
      "[ WARN:0@77.792] global loadsave.cpp:268 findDecoder imread_('raw_images/768_image_1.jpg'): can't open/read file: check file path/integrity\n",
      "[ WARN:0@77.792] global loadsave.cpp:268 findDecoder imread_('raw_images/768_image_2.jpg'): can't open/read file: check file path/integrity\n",
      "[ WARN:0@77.792] global loadsave.cpp:268 findDecoder imread_('raw_images/768_image_3.jpg'): can't open/read file: check file path/integrity\n",
      "[ WARN:0@77.793] global loadsave.cpp:268 findDecoder imread_('raw_images/768_image_4.jpg'): can't open/read file: check file path/integrity\n",
      "[ WARN:0@77.793] global loadsave.cpp:268 findDecoder imread_('raw_images/769_image_1.png'): can't open/read file: check file path/integrity\n",
      "[ WARN:0@77.793] global loadsave.cpp:268 findDecoder imread_('raw_images/769_image_2.png'): can't open/read file: check file path/integrity\n",
      "[ WARN:0@77.793] global loadsave.cpp:268 findDecoder imread_('raw_images/769_image_3.png'): can't open/read file: check file path/integrity\n",
      " 96%|███████████████████████████████████████████████████████████████████████████████████████████▎   | 1533/1596 [00:25<00:00, 83.31it/s]"
     ]
    },
    {
     "name": "stdout",
     "output_type": "stream",
     "text": [
      "No pose detected in raw_images/763_image_1.jpg\n",
      "Failed to read image raw_images/764_image_4.jpg\n",
      "No pose detected in raw_images/765_image_1.jpg\n",
      "Failed to read image raw_images/765_image_2.jpg\n",
      "Failed to read image raw_images/765_image_3.jpg\n",
      "Failed to read image raw_images/768_image_1.jpg\n",
      "Failed to read image raw_images/768_image_2.jpg\n",
      "Failed to read image raw_images/768_image_3.jpg\n",
      "Failed to read image raw_images/768_image_4.jpg\n",
      "Failed to read image raw_images/769_image_1.png\n",
      "Failed to read image raw_images/769_image_2.png\n",
      "Failed to read image raw_images/769_image_3.png\n",
      "No pose detected in raw_images/770_image_1.jpg\n",
      "Failed to read image raw_images/770_image_2.jpg\n"
     ]
    },
    {
     "name": "stderr",
     "output_type": "stream",
     "text": [
      "[ WARN:0@77.817] global loadsave.cpp:268 findDecoder imread_('raw_images/770_image_2.jpg'): can't open/read file: check file path/integrity\n",
      "[ WARN:0@77.973] global loadsave.cpp:268 findDecoder imread_('raw_images/773_image_2.jpg'): can't open/read file: check file path/integrity\n",
      " 97%|███████████████████████████████████████████████████████████████████████████████████████████▊   | 1542/1596 [00:25<00:00, 74.07it/s][ WARN:0@77.973] global loadsave.cpp:268 findDecoder imread_('raw_images/773_image_3.jpg'): can't open/read file: check file path/integrity\n",
      "[ WARN:0@77.973] global loadsave.cpp:268 findDecoder imread_('raw_images/773_image_4.jpg'): can't open/read file: check file path/integrity\n",
      "[ WARN:0@78.030] global loadsave.cpp:268 findDecoder imread_('raw_images/776_image_1.jpg'): can't open/read file: check file path/integrity\n",
      "[ WARN:0@78.030] global loadsave.cpp:268 findDecoder imread_('raw_images/776_image_2.jpg'): can't open/read file: check file path/integrity\n",
      "[ WARN:0@78.030] global loadsave.cpp:268 findDecoder imread_('raw_images/776_image_3.jpg'): can't open/read file: check file path/integrity\n",
      "[ WARN:0@78.030] global loadsave.cpp:268 findDecoder imread_('raw_images/777_image_1.png'): can't open/read file: check file path/integrity\n",
      "[ WARN:0@78.053] global loadsave.cpp:268 findDecoder imread_('raw_images/779_image_1.jpg'): can't open/read file: check file path/integrity\n",
      "[ WARN:0@78.053] global loadsave.cpp:268 findDecoder imread_('raw_images/779_image_2.jpg'): can't open/read file: check file path/integrity\n",
      "[ WARN:0@78.053] global loadsave.cpp:268 findDecoder imread_('raw_images/780_image_1.jpg'): can't open/read file: check file path/integrity\n",
      "[ WARN:0@78.053] global loadsave.cpp:268 findDecoder imread_('raw_images/782_image_1.jpg'): can't open/read file: check file path/integrity\n",
      "[ WARN:0@78.053] global loadsave.cpp:268 findDecoder imread_('raw_images/782_image_2.jpg'): can't open/read file: check file path/integrity\n",
      "[ WARN:0@78.053] global loadsave.cpp:268 findDecoder imread_('raw_images/782_image_3.jpg'): can't open/read file: check file path/integrity\n",
      "[ WARN:0@78.053] global loadsave.cpp:268 findDecoder imread_('raw_images/782_image_4.jpg'): can't open/read file: check file path/integrity\n",
      "[ WARN:0@78.053] global loadsave.cpp:268 findDecoder imread_('raw_images/783_image_1.png'): can't open/read file: check file path/integrity\n",
      "[ WARN:0@78.053] global loadsave.cpp:268 findDecoder imread_('raw_images/783_image_2.png'): can't open/read file: check file path/integrity\n",
      "[ WARN:0@78.053] global loadsave.cpp:268 findDecoder imread_('raw_images/783_image_3.png'): can't open/read file: check file path/integrity\n",
      "[ WARN:0@78.053] global loadsave.cpp:268 findDecoder imread_('raw_images/783_image_4.png'): can't open/read file: check file path/integrity\n",
      " 98%|███████████████████████████████████████████████████████████████████████████████████████████▉  | 1562/1596 [00:26<00:00, 104.04it/s]"
     ]
    },
    {
     "name": "stdout",
     "output_type": "stream",
     "text": [
      "No pose detected in raw_images/773_image_1.jpg\n",
      "Failed to read image raw_images/773_image_2.jpg\n",
      "Failed to read image raw_images/773_image_3.jpg\n",
      "Failed to read image raw_images/773_image_4.jpg\n",
      "Failed to read image raw_images/776_image_1.jpg\n",
      "Failed to read image raw_images/776_image_2.jpg\n",
      "Failed to read image raw_images/776_image_3.jpg\n",
      "Failed to read image raw_images/777_image_1.png\n",
      "Failed to read image raw_images/779_image_1.jpg\n",
      "Failed to read image raw_images/779_image_2.jpg\n",
      "Failed to read image raw_images/780_image_1.jpg\n",
      "Failed to read image raw_images/782_image_1.jpg\n",
      "Failed to read image raw_images/782_image_2.jpg\n",
      "Failed to read image raw_images/782_image_3.jpg\n",
      "Failed to read image raw_images/782_image_4.jpg\n",
      "Failed to read image raw_images/783_image_1.png\n",
      "Failed to read image raw_images/783_image_2.png\n",
      "Failed to read image raw_images/783_image_3.png\n",
      "Failed to read image raw_images/783_image_4.png\n",
      "Failed to read image raw_images/785_image_3.jpg\n",
      "Failed to read image raw_images/785_image_4.jpg\n"
     ]
    },
    {
     "name": "stderr",
     "output_type": "stream",
     "text": [
      "[ WARN:0@78.124] global loadsave.cpp:268 findDecoder imread_('raw_images/785_image_3.jpg'): can't open/read file: check file path/integrity\n",
      "[ WARN:0@78.124] global loadsave.cpp:268 findDecoder imread_('raw_images/785_image_4.jpg'): can't open/read file: check file path/integrity\n",
      "[ WARN:0@78.177] global loadsave.cpp:268 findDecoder imread_('raw_images/786_image_2.jpg'): can't open/read file: check file path/integrity\n",
      "[ WARN:0@78.276] global loadsave.cpp:268 findDecoder imread_('raw_images/789_image_2.jpg'): can't open/read file: check file path/integrity\n",
      " 99%|█████████████████████████████████████████████████████████████████████████████████████████████▋ | 1574/1596 [00:26<00:00, 82.17it/s]"
     ]
    },
    {
     "name": "stdout",
     "output_type": "stream",
     "text": [
      "Failed to read image raw_images/786_image_2.jpg\n",
      "Failed to read image raw_images/789_image_2.jpg\n",
      "No pose detected in raw_images/791_image_2.jpg\n"
     ]
    },
    {
     "name": "stderr",
     "output_type": "stream",
     "text": [
      "[ WARN:0@78.449] global loadsave.cpp:268 findDecoder imread_('raw_images/793_image_2.jpg'): can't open/read file: check file path/integrity\n",
      " 99%|██████████████████████████████████████████████████████████████████████████████████████████████▎| 1584/1596 [00:26<00:00, 77.60it/s][ WARN:0@78.449] global loadsave.cpp:268 findDecoder imread_('raw_images/793_image_3.jpg'): can't open/read file: check file path/integrity\n",
      "[ WARN:0@78.449] global loadsave.cpp:268 findDecoder imread_('raw_images/793_image_4.jpg'): can't open/read file: check file path/integrity\n",
      "[ WARN:0@78.450] global loadsave.cpp:268 findDecoder imread_('raw_images/794_image_1.jpg'): can't open/read file: check file path/integrity\n",
      "[ WARN:0@78.450] global loadsave.cpp:268 findDecoder imread_('raw_images/795_image_1.png'): can't open/read file: check file path/integrity\n",
      "[ WARN:0@78.593] global loadsave.cpp:268 findDecoder imread_('raw_images/801_image_1.jpg'): can't open/read file: check file path/integrity\n",
      "100%|██████████████████████████████████████████████████████████████████████████████████████████████▊| 1593/1596 [00:26<00:00, 73.28it/s][ WARN:0@78.593] global loadsave.cpp:268 findDecoder imread_('raw_images/802_image_1.jpg'): can't open/read file: check file path/integrity\n",
      "[ WARN:0@78.618] global loadsave.cpp:268 findDecoder imread_('raw_images/804_image_1.jpg'): can't open/read file: check file path/integrity\n",
      "[ WARN:0@78.618] global loadsave.cpp:268 findDecoder imread_('raw_images/805_image_1.jpeg'): can't open/read file: check file path/integrity\n",
      "100%|███████████████████████████████████████████████████████████████████████████████████████████████| 1596/1596 [00:26<00:00, 60.01it/s]"
     ]
    },
    {
     "name": "stdout",
     "output_type": "stream",
     "text": [
      "Failed to read image raw_images/793_image_2.jpg\n",
      "Failed to read image raw_images/793_image_3.jpg\n",
      "Failed to read image raw_images/793_image_4.jpg\n",
      "Failed to read image raw_images/794_image_1.jpg\n",
      "Failed to read image raw_images/795_image_1.png\n",
      "No pose detected in raw_images/800_image_1.jpg\n",
      "Failed to read image raw_images/801_image_1.jpg\n",
      "Failed to read image raw_images/802_image_1.jpg\n",
      "Failed to read image raw_images/804_image_1.jpg\n",
      "Failed to read image raw_images/805_image_1.jpeg\n",
      "Done! Cropped 892 images, failed on 704 images.\n"
     ]
    },
    {
     "name": "stderr",
     "output_type": "stream",
     "text": [
      "\n"
     ]
    }
   ],
   "source": [
    "# Create folder for cropped images if it doesn't exist\n",
    "cropped_dir = Path('images')\n",
    "cropped_dir.mkdir(exist_ok=True)\n",
    "\n",
    "cropped_paths = []\n",
    "failed_images = []\n",
    "\n",
    "for idx, row in tqdm(df_labels.iterrows(), total=len(df_labels)):\n",
    "    filename = row['filename']\n",
    "    img_path = images_dir / filename\n",
    "    cropped_img = crop_upper_body(img_path)\n",
    "    if cropped_img is not None:\n",
    "        save_path = cropped_dir / filename\n",
    "        cropped_img.save(save_path)\n",
    "        cropped_paths.append(str(save_path))\n",
    "    else:\n",
    "        failed_images.append(filename)\n",
    "        cropped_paths.append(None)  # To keep alignment with df_labels rows\n",
    "\n",
    "print(f\"Done! Cropped {len([p for p in cropped_paths if p])} images, failed on {len(failed_images)} images.\")\n",
    "\n",
    "# Add cropped image paths to dataframe and save\n",
    "df_labels['cropped_path'] = cropped_paths\n",
    "df_labels.to_csv(data_dir / 'image_labels.csv', index=False)\n"
   ]
  },
  {
   "cell_type": "code",
   "execution_count": null,
   "id": "17a41626-834e-4d41-88da-c50e72f00e51",
   "metadata": {},
   "outputs": [],
   "source": []
  },
  {
   "cell_type": "code",
   "execution_count": null,
   "id": "a429dd9b-0991-4c27-92bc-382b4037b109",
   "metadata": {},
   "outputs": [],
   "source": []
  }
 ],
 "metadata": {
  "kernelspec": {
   "display_name": "Python 3.10",
   "language": "python",
   "name": "python310"
  },
  "language_info": {
   "codemirror_mode": {
    "name": "ipython",
    "version": 3
   },
   "file_extension": ".py",
   "mimetype": "text/x-python",
   "name": "python",
   "nbconvert_exporter": "python",
   "pygments_lexer": "ipython3",
   "version": "3.10.0"
  }
 },
 "nbformat": 4,
 "nbformat_minor": 5
}
