{
 "cells": [
  {
   "cell_type": "code",
   "execution_count": 2,
   "id": "1d1ab6bb-9796-4d27-b200-0b9baaeb01b5",
   "metadata": {},
   "outputs": [
    {
     "name": "stdout",
     "output_type": "stream",
     "text": [
      "/opt/anaconda3/bin/python3.10\n",
      "3.10.0 (default, Mar  3 2022, 03:54:28) [Clang 12.0.0 ]\n",
      "Name: mediapipe\n",
      "Version: 0.10.21\n",
      "Summary: MediaPipe is the simplest way for researchers and developers to build world-class ML solutions and applications for mobile, edge, cloud and the web.\n",
      "Home-page: https://github.com/google/mediapipe\n",
      "Author: The MediaPipe Authors\n",
      "Author-email: mediapipe@google.com\n",
      "License: Apache 2.0\n",
      "Location: /opt/anaconda3/lib/python3.10/site-packages\n",
      "Requires: absl-py, attrs, flatbuffers, jax, jaxlib, matplotlib, numpy, opencv-contrib-python, protobuf, sentencepiece, sounddevice\n",
      "Required-by: \n"
     ]
    }
   ],
   "source": [
    "import sys\n",
    "print(sys.executable)\n",
    "print(sys.version)\n",
    "\n",
    "!{sys.executable} -m pip show mediapipe\n",
    "\n",
    "!python3.10 -m pip install -Uqq mediapipe"
   ]
  },
  {
   "cell_type": "code",
   "execution_count": 7,
   "id": "e8de2e90-0bc4-40ed-9995-3c71a035516e",
   "metadata": {},
   "outputs": [
    {
     "name": "stdout",
     "output_type": "stream",
     "text": [
      "Labels df shape: (1596, 2)\n",
      "Bodyfat df shape: (806, 10)\n"
     ]
    },
    {
     "data": {
      "application/vnd.jupyter.widget-view+json": {
       "model_id": "79bbea569ac24f7a887df74e7e1b2ae8",
       "version_major": 2,
       "version_minor": 0
      },
      "text/plain": [
       "  0%|          | 0/1596 [00:00<?, ?it/s]"
      ]
     },
     "metadata": {},
     "output_type": "display_data"
    },
    {
     "ename": "TypeError",
     "evalue": "unsupported operand type(s) for /: 'str' and 'str'",
     "output_type": "error",
     "traceback": [
      "\u001b[0;31m---------------------------------------------------------------------------\u001b[0m",
      "\u001b[0;31mTypeError\u001b[0m                                 Traceback (most recent call last)",
      "Cell \u001b[0;32mIn[7], line 79\u001b[0m\n\u001b[1;32m     76\u001b[0m     \u001b[38;5;28mprint\u001b[39m(\u001b[38;5;124mf\u001b[39m\u001b[38;5;124m\"\u001b[39m\u001b[38;5;124mNo filename found in row \u001b[39m\u001b[38;5;132;01m{\u001b[39;00midx\u001b[38;5;132;01m}\u001b[39;00m\u001b[38;5;124m\"\u001b[39m)\n\u001b[1;32m     77\u001b[0m     \u001b[38;5;28;01mcontinue\u001b[39;00m\n\u001b[0;32m---> 79\u001b[0m img_path \u001b[38;5;241m=\u001b[39m \u001b[43mimages_dir\u001b[49m\u001b[43m \u001b[49m\u001b[38;5;241;43m/\u001b[39;49m\u001b[43m \u001b[49m\u001b[43mfilename\u001b[49m\n\u001b[1;32m     80\u001b[0m cropped_img \u001b[38;5;241m=\u001b[39m crop_upper_body(img_path)\n\u001b[1;32m     81\u001b[0m \u001b[38;5;28;01mif\u001b[39;00m cropped_img \u001b[38;5;129;01mis\u001b[39;00m \u001b[38;5;129;01mnot\u001b[39;00m \u001b[38;5;28;01mNone\u001b[39;00m:\n",
      "\u001b[0;31mTypeError\u001b[0m: unsupported operand type(s) for /: 'str' and 'str'"
     ]
    }
   ],
   "source": [
    "import pandas as pd\n",
    "import mediapipe as mp\n",
    "from PIL import Image\n",
    "from pathlib import Path\n",
    "from tqdm.notebook import tqdm\n",
    "import cv2\n",
    "\n",
    "\n",
    "# Paths to your datasets and images\n",
    "data_dir = Path('./data')\n",
    "image_labels_csv = data_dir / 'image_labels.csv'\n",
    "bodyfat_csv = data_dir / 'bodyfat_dataset.csv'\n",
    "images_dir = Path('images'_  # Adjust if needed\n",
    "\n",
    "# Load CSVs\n",
    "df_labels = pd.read_csv(image_labels_csv)\n",
    "df_bodyfat = pd.read_csv(bodyfat_csv)\n",
    "\n",
    "print(f\"Labels df shape: {df_labels.shape}\")\n",
    "print(f\"Bodyfat df shape: {df_bodyfat.shape}\")\n",
    "\n",
    "# Setup mediapipe pose detector\n",
    "mp_pose = mp.solutions.pose\n",
    "\n",
    "def crop_upper_body(image_path):\n",
    "    img = cv2.imread(str(image_path))\n",
    "    if img is None:\n",
    "        print(f\"Warning: Could not read {image_path}\")\n",
    "        return None\n",
    "    img_rgb = cv2.cvtColor(img, cv2.COLOR_BGR2RGB)\n",
    "\n",
    "    with mp_pose.Pose(static_image_mode=True) as pose:\n",
    "        results = pose.process(img_rgb)\n",
    "        if not results.pose_landmarks:\n",
    "            print(f\"No pose landmarks found for {image_path}\")\n",
    "            return None\n",
    "        \n",
    "        landmarks = results.pose_landmarks.landmark\n",
    "        \n",
    "        # Get coordinates of shoulders and hips (indices from mediapipe pose model)\n",
    "        # Left shoulder (11), right shoulder (12), left hip (23), right hip (24)\n",
    "        y_coords = [landmarks[i].y for i in [11, 12, 23, 24]]\n",
    "        x_coords = [landmarks[i].x for i in [11, 12]]\n",
    "        \n",
    "        h, w, _ = img.shape\n",
    "        \n",
    "        ymin = int(min(y_coords) * h)\n",
    "        ymax = int(max(y_coords) * h)\n",
    "        xmin = int(min(x_coords) * w)\n",
    "        xmax = int(max(x_coords) * w)\n",
    "\n",
    "        # Add some padding if desired\n",
    "        pad_y = int(0.1 * (ymax - ymin))\n",
    "        pad_x = int(0.1 * (xmax - xmin))\n",
    "\n",
    "        ymin = max(ymin - pad_y, 0)\n",
    "        ymax = min(ymax + pad_y, h)\n",
    "        xmin = max(xmin - pad_x, 0)\n",
    "        xmax = min(xmax + pad_x, w)\n",
    "\n",
    "        cropped = img[ymin:ymax, xmin:xmax]\n",
    "        cropped_rgb = cv2.cvtColor(cropped, cv2.COLOR_BGR2RGB)\n",
    "        return Image.fromarray(cropped_rgb)\n",
    "\n",
    "# Create folder for cropped images\n",
    "cropped_dir = Path('cropped_images')\n",
    "cropped_dir.mkdir(exist_ok=True)\n",
    "\n",
    "cropped_paths = []\n",
    "failed_images = []\n",
    "\n",
    "# Loop through images, crop, and save\n",
    "for idx, row in tqdm(df_labels.iterrows(), total=len(df_labels)):\n",
    "    filename = row['filename'] if 'filename' in row else row.get('image_path', None)\n",
    "    if not filename:\n",
    "        print(f\"No filename found in row {idx}\")\n",
    "        continue\n",
    "    \n",
    "    img_path = images_dir / filename\n",
    "    cropped_img = crop_upper_body(img_path)\n",
    "    if cropped_img is not None:\n",
    "        save_path = cropped_dir / filename\n",
    "        cropped_img.save(save_path)\n",
    "        cropped_paths.append(save_path)\n",
    "    else:\n",
    "        failed_images.append(filename)\n",
    "\n",
    "print(f\"Done! Cropped {len(cropped_paths)} images, failed on {len(failed_images)} images.\")\n",
    "\n",
    "# Optionally: create a new dataframe linking cropped images with labels\n",
    "df_labels['cropped_path'] = [str(p) for p in cropped_paths] + [None]*len(failed_images)\n",
    "df_labels.to_csv(data_dir / 'image_labels_cropped.csv', index=False)\n"
   ]
  },
  {
   "cell_type": "code",
   "execution_count": null,
   "id": "0de0d13c-f325-4a51-a470-e45bbc3f8f14",
   "metadata": {},
   "outputs": [],
   "source": []
  },
  {
   "cell_type": "code",
   "execution_count": null,
   "id": "109b28b6-c783-4198-bc92-df83a2763c26",
   "metadata": {},
   "outputs": [],
   "source": []
  }
 ],
 "metadata": {
  "kernelspec": {
   "display_name": "Python 3.10",
   "language": "python",
   "name": "python310"
  },
  "language_info": {
   "codemirror_mode": {
    "name": "ipython",
    "version": 3
   },
   "file_extension": ".py",
   "mimetype": "text/x-python",
   "name": "python",
   "nbconvert_exporter": "python",
   "pygments_lexer": "ipython3",
   "version": "3.10.0"
  }
 },
 "nbformat": 4,
 "nbformat_minor": 5
}
