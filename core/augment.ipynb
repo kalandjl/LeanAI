{
 "cells": [
  {
   "cell_type": "code",
   "execution_count": 2,
   "id": "1d1ab6bb-9796-4d27-b200-0b9baaeb01b5",
   "metadata": {},
   "outputs": [
    {
     "name": "stdout",
     "output_type": "stream",
     "text": [
      "/opt/anaconda3/bin/python3.10\n",
      "3.10.0 (default, Mar  3 2022, 03:54:28) [Clang 12.0.0 ]\n",
      "Name: mediapipe\n",
      "Version: 0.10.21\n",
      "Summary: MediaPipe is the simplest way for researchers and developers to build world-class ML solutions and applications for mobile, edge, cloud and the web.\n",
      "Home-page: https://github.com/google/mediapipe\n",
      "Author: The MediaPipe Authors\n",
      "Author-email: mediapipe@google.com\n",
      "License: Apache 2.0\n",
      "Location: /opt/anaconda3/lib/python3.10/site-packages\n",
      "Requires: absl-py, attrs, flatbuffers, jax, jaxlib, matplotlib, numpy, opencv-contrib-python, protobuf, sentencepiece, sounddevice\n",
      "Required-by: \n"
     ]
    }
   ],
   "source": [
    "import sys\n",
    "print(sys.executable)\n",
    "print(sys.version)\n",
    "\n",
    "!{sys.executable} -m pip show mediapipe\n",
    "\n",
    "!python3.10 -m pip install -Uqq mediapipe"
   ]
  },
  {
   "cell_type": "code",
   "execution_count": 13,
   "id": "e8de2e90-0bc4-40ed-9995-3c71a035516e",
   "metadata": {},
   "outputs": [
    {
     "name": "stdout",
     "output_type": "stream",
     "text": [
      "Labels df shape: (1596, 2)\n",
      "Bodyfat df shape: (806, 10)\n"
     ]
    },
    {
     "name": "stderr",
     "output_type": "stream",
     "text": [
      "I0000 00:00:1749685857.614809 4260317 gl_context.cc:369] GL version: 2.1 (2.1 Metal - 89.4), renderer: Apple M4\n"
     ]
    },
    {
     "data": {
      "application/vnd.jupyter.widget-view+json": {
       "model_id": "6f5591027d324b02b07dbd6ddc297a01",
       "version_major": 2,
       "version_minor": 0
      },
      "text/plain": [
       "  0%|          | 0/1596 [00:00<?, ?it/s]"
      ]
     },
     "metadata": {},
     "output_type": "display_data"
    },
    {
     "name": "stdout",
     "output_type": "stream",
     "text": [
      "No pose detected in images/0_image_1.jpg\n",
      "No pose detected in images/0_image_2.jpg\n",
      "No pose detected in images/0_image_3.jpg\n"
     ]
    },
    {
     "name": "stderr",
     "output_type": "stream",
     "text": [
      "W0000 00:00:1749685857.696768 4273306 inference_feedback_manager.cc:114] Feedback manager requires a model with a single signature inference. Disabling support for feedback tensors.\n",
      "W0000 00:00:1749685857.711918 4273306 inference_feedback_manager.cc:114] Feedback manager requires a model with a single signature inference. Disabling support for feedback tensors.\n"
     ]
    },
    {
     "name": "stdout",
     "output_type": "stream",
     "text": [
      "No pose detected in images/2_image_1.jpg\n",
      "No pose detected in images/4_image_2.jpg\n",
      "No pose detected in images/4_image_3.jpg\n",
      "No pose detected in images/5_image_1.png\n",
      "No pose detected in images/7_image_1.jpg\n",
      "No pose detected in images/7_image_2.jpg\n",
      "No pose detected in images/7_image_3.jpg\n",
      "No pose detected in images/7_image_4.jpg\n",
      "Failed to read image images/8_image_1.jpg\n"
     ]
    },
    {
     "name": "stderr",
     "output_type": "stream",
     "text": [
      "[ WARN:0@460.183] global loadsave.cpp:268 findDecoder imread_('images/8_image_1.jpg'): can't open/read file: check file path/integrity\n"
     ]
    },
    {
     "name": "stdout",
     "output_type": "stream",
     "text": [
      "No pose detected in images/13_image_1.jpeg\n",
      "No pose detected in images/16_image_2.jpg\n",
      "No pose detected in images/18_image_1.jpg\n",
      "No pose detected in images/20_image_1.jpg\n",
      "No pose detected in images/20_image_2.jpg\n",
      "No pose detected in images/26_image_4.jpg\n",
      "No pose detected in images/33_image_3.jpg\n",
      "No pose detected in images/45_image_2.jpg\n",
      "No pose detected in images/56_image_4.jpg\n",
      "No pose detected in images/57_image_1.jpg\n",
      "No pose detected in images/58_image_1.jpg\n",
      "No pose detected in images/59_image_1.jpg\n",
      "No pose detected in images/69_image_1.jpg\n",
      "No pose detected in images/77_image_3.jpg\n",
      "No pose detected in images/78_image_3.jpg\n",
      "No pose detected in images/78_image_4.jpg\n",
      "No pose detected in images/83_image_1.jpg\n",
      "No pose detected in images/84_image_4.jpg\n",
      "No pose detected in images/109_image_3.jpg\n",
      "No pose detected in images/111_image_1.jpeg\n",
      "No pose detected in images/114_image_4.jpg\n",
      "No pose detected in images/115_image_4.jpg\n",
      "No pose detected in images/124_image_2.jpg\n",
      "No pose detected in images/128_image_1.jpeg\n",
      "No pose detected in images/135_image_1.jpg\n",
      "No pose detected in images/150_image_2.jpg\n",
      "No pose detected in images/154_image_2.jpg\n",
      "No pose detected in images/161_image_1.jpg\n",
      "No pose detected in images/166_image_1.jpg\n",
      "No pose detected in images/173_image_1.jpeg\n",
      "No pose detected in images/175_image_4.jpg\n",
      "No pose detected in images/179_image_1.png\n",
      "No pose detected in images/183_image_3.jpg\n",
      "No pose detected in images/187_image_1.jpg\n",
      "No pose detected in images/189_image_1.jpg\n",
      "No pose detected in images/191_image_1.jpg\n",
      "No pose detected in images/192_image_1.png\n",
      "No pose detected in images/192_image_2.png\n",
      "No pose detected in images/192_image_3.png\n",
      "No pose detected in images/195_image_1.jpg\n",
      "No pose detected in images/200_image_1.jpg\n",
      "No pose detected in images/204_image_1.jpg\n",
      "No pose detected in images/204_image_2.jpg\n",
      "No pose detected in images/204_image_3.jpg\n",
      "No pose detected in images/205_image_2.jpg\n",
      "No pose detected in images/205_image_3.png\n",
      "No pose detected in images/205_image_4.jpg\n",
      "No pose detected in images/206_image_1.png\n",
      "No pose detected in images/209_image_1.jpg\n",
      "No pose detected in images/211_image_3.jpg\n",
      "No pose detected in images/211_image_4.jpg\n",
      "No pose detected in images/216_image_4.png\n",
      "No pose detected in images/224_image_4.jpg\n",
      "No pose detected in images/226_image_1.jpg\n",
      "No pose detected in images/228_image_1.jpg\n",
      "No pose detected in images/235_image_2.jpg\n",
      "No pose detected in images/242_image_1.jpg\n",
      "No pose detected in images/245_image_1.jpg\n"
     ]
    },
    {
     "name": "stderr",
     "output_type": "stream",
     "text": [
      "[ WARN:0@485.211] global loadsave.cpp:268 findDecoder imread_('images/246_image_1.jpg'): can't open/read file: check file path/integrity\n"
     ]
    },
    {
     "name": "stdout",
     "output_type": "stream",
     "text": [
      "Failed to read image images/246_image_1.jpg\n",
      "No pose detected in images/251_image_3.jpg\n",
      "No pose detected in images/254_image_1.jpeg\n",
      "No pose detected in images/256_image_3.jpg\n",
      "No pose detected in images/260_image_4.jpg\n",
      "No pose detected in images/261_image_1.jpg\n",
      "No pose detected in images/266_image_1.jpg\n",
      "No pose detected in images/268_image_4.jpg\n",
      "No pose detected in images/275_image_1.jpg\n",
      "No pose detected in images/278_image_3.jpg\n",
      "No pose detected in images/279_image_1.jpg\n",
      "No pose detected in images/281_image_1.jpg\n",
      "No pose detected in images/281_image_2.jpg\n",
      "No pose detected in images/283_image_3.jpg\n",
      "No pose detected in images/284_image_2.jpg\n"
     ]
    },
    {
     "name": "stderr",
     "output_type": "stream",
     "text": [
      "[ WARN:0@489.643] global loadsave.cpp:268 findDecoder imread_('images/286_image_1.png'): can't open/read file: check file path/integrity\n"
     ]
    },
    {
     "name": "stdout",
     "output_type": "stream",
     "text": [
      "Failed to read image images/286_image_1.png\n",
      "No pose detected in images/293_image_1.jpeg\n",
      "No pose detected in images/298_image_1.jpeg\n",
      "No pose detected in images/303_image_2.png\n",
      "No pose detected in images/303_image_3.png\n",
      "No pose detected in images/309_image_2.jpg\n",
      "No pose detected in images/310_image_2.jpg\n",
      "No pose detected in images/314_image_1.jpg\n",
      "No pose detected in images/314_image_2.jpg\n",
      "Failed to read image images/318_image_1.jpg\n",
      "Failed to read image images/318_image_2.jpg\n",
      "No pose detected in images/319_image_1.jpg\n"
     ]
    },
    {
     "name": "stderr",
     "output_type": "stream",
     "text": [
      "[ WARN:0@493.052] global loadsave.cpp:268 findDecoder imread_('images/318_image_1.jpg'): can't open/read file: check file path/integrity\n",
      "[ WARN:0@493.052] global loadsave.cpp:268 findDecoder imread_('images/318_image_2.jpg'): can't open/read file: check file path/integrity\n"
     ]
    },
    {
     "name": "stdout",
     "output_type": "stream",
     "text": [
      "No pose detected in images/325_image_1.png\n",
      "No pose detected in images/330_image_1.jpg\n",
      "No pose detected in images/336_image_1.jpg\n",
      "No pose detected in images/341_image_1.jpg\n",
      "No pose detected in images/341_image_2.jpg\n",
      "No pose detected in images/345_image_1.jpg\n",
      "No pose detected in images/345_image_3.jpg\n",
      "No pose detected in images/351_image_2.jpg\n",
      "No pose detected in images/353_image_2.png\n",
      "No pose detected in images/353_image_3.png\n",
      "Failed to read image images/357_image_1.jpg\n",
      "No pose detected in images/357_image_4.jpg\n"
     ]
    },
    {
     "name": "stderr",
     "output_type": "stream",
     "text": [
      "[ WARN:0@497.003] global loadsave.cpp:268 findDecoder imread_('images/357_image_1.jpg'): can't open/read file: check file path/integrity\n"
     ]
    },
    {
     "name": "stdout",
     "output_type": "stream",
     "text": [
      "No pose detected in images/360_image_1.jpeg\n",
      "No pose detected in images/364_image_2.jpg\n",
      "No pose detected in images/370_image_1.jpeg\n",
      "Failed to read image images/371_image_1.jpg\n",
      "Failed to read image images/371_image_2.jpg\n",
      "No pose detected in images/373_image_2.png\n"
     ]
    },
    {
     "name": "stderr",
     "output_type": "stream",
     "text": [
      "[ WARN:0@498.512] global loadsave.cpp:268 findDecoder imread_('images/371_image_1.jpg'): can't open/read file: check file path/integrity\n",
      "[ WARN:0@498.513] global loadsave.cpp:268 findDecoder imread_('images/371_image_2.jpg'): can't open/read file: check file path/integrity\n"
     ]
    },
    {
     "name": "stdout",
     "output_type": "stream",
     "text": [
      "No pose detected in images/380_image_3.jpg\n",
      "No pose detected in images/388_image_3.jpg\n",
      "No pose detected in images/388_image_4.jpg\n",
      "No pose detected in images/393_image_2.jpg\n",
      "No pose detected in images/397_image_1.jpg\n",
      "No pose detected in images/409_image_1.jpg\n",
      "Failed to read image images/410_image_1.jpg\n",
      "No pose detected in images/412_image_1.jpg\n"
     ]
    },
    {
     "name": "stderr",
     "output_type": "stream",
     "text": [
      "[ WARN:0@503.242] global loadsave.cpp:268 findDecoder imread_('images/410_image_1.jpg'): can't open/read file: check file path/integrity\n"
     ]
    },
    {
     "name": "stdout",
     "output_type": "stream",
     "text": [
      "No pose detected in images/416_image_1.jpg\n"
     ]
    },
    {
     "name": "stderr",
     "output_type": "stream",
     "text": [
      "[ WARN:0@504.165] global loadsave.cpp:268 findDecoder imread_('images/424_image_1.jpg'): can't open/read file: check file path/integrity\n"
     ]
    },
    {
     "name": "stdout",
     "output_type": "stream",
     "text": [
      "Failed to read image images/424_image_1.jpg\n",
      "No pose detected in images/437_image_1.png\n",
      "No pose detected in images/444_image_1.jpg\n",
      "No pose detected in images/445_image_1.jpg\n",
      "No pose detected in images/448_image_1.jpg\n",
      "No pose detected in images/450_image_1.jpg\n",
      "No pose detected in images/461_image_1.jpg\n",
      "No pose detected in images/476_image_4.jpg\n",
      "No pose detected in images/484_image_1.jpeg\n",
      "No pose detected in images/492_image_2.jpg\n",
      "No pose detected in images/496_image_1.jpeg\n",
      "No pose detected in images/498_image_2.jpg\n",
      "No pose detected in images/504_image_2.jpg\n",
      "No pose detected in images/506_image_2.jpg\n",
      "No pose detected in images/510_image_3.jpg\n",
      "No pose detected in images/513_image_1.jpg\n",
      "No pose detected in images/513_image_2.jpg\n",
      "No pose detected in images/515_image_3.jpg\n",
      "No pose detected in images/524_image_1.jpeg\n",
      "No pose detected in images/529_image_1.jpg\n",
      "No pose detected in images/529_image_2.jpg\n",
      "No pose detected in images/529_image_3.jpg\n",
      "No pose detected in images/530_image_1.jpeg\n",
      "No pose detected in images/531_image_1.jpeg\n",
      "No pose detected in images/536_image_1.jpg\n",
      "No pose detected in images/536_image_3.jpg\n",
      "No pose detected in images/538_image_1.jpg\n",
      "No pose detected in images/540_image_1.jpg\n",
      "No pose detected in images/541_image_1.jpg\n",
      "No pose detected in images/545_image_1.jpg\n",
      "No pose detected in images/547_image_1.jpg\n",
      "No pose detected in images/550_image_1.jpg\n",
      "No pose detected in images/553_image_2.jpg\n",
      "No pose detected in images/556_image_2.jpg\n",
      "No pose detected in images/558_image_1.jpg\n",
      "No pose detected in images/559_image_1.jpg\n",
      "No pose detected in images/562_image_1.jpg\n",
      "No pose detected in images/570_image_1.jpg\n",
      "No pose detected in images/573_image_1.jpg\n",
      "No pose detected in images/576_image_1.jpg\n",
      "No pose detected in images/586_image_1.jpg\n",
      "No pose detected in images/587_image_1.jpg\n",
      "No pose detected in images/598_image_1.jpg\n",
      "No pose detected in images/602_image_2.jpg\n",
      "Failed to read image images/605_image_1.jpg\n"
     ]
    },
    {
     "name": "stderr",
     "output_type": "stream",
     "text": [
      "[ WARN:0@522.659] global loadsave.cpp:268 findDecoder imread_('images/605_image_1.jpg'): can't open/read file: check file path/integrity\n"
     ]
    },
    {
     "name": "stdout",
     "output_type": "stream",
     "text": [
      "No pose detected in images/611_image_2.jpg\n",
      "No pose detected in images/612_image_4.jpg\n",
      "No pose detected in images/614_image_1.jpeg\n",
      "No pose detected in images/621_image_2.jpg\n",
      "No pose detected in images/626_image_1.jpg\n",
      "No pose detected in images/626_image_3.jpg\n",
      "No pose detected in images/626_image_4.jpg\n",
      "No pose detected in images/631_image_1.jpg\n",
      "No pose detected in images/633_image_1.jpg\n",
      "No pose detected in images/634_image_2.jpg\n",
      "No pose detected in images/645_image_2.jpg\n",
      "No pose detected in images/650_image_1.png\n",
      "No pose detected in images/651_image_3.jpg\n",
      "No pose detected in images/661_image_1.jpg\n",
      "No pose detected in images/661_image_2.jpg\n",
      "No pose detected in images/661_image_3.jpg\n",
      "No pose detected in images/661_image_4.jpg\n",
      "No pose detected in images/662_image_1.jpg\n",
      "No pose detected in images/666_image_3.jpg\n",
      "No pose detected in images/668_image_1.jpg\n",
      "No pose detected in images/669_image_4.jpg\n",
      "No pose detected in images/671_image_4.jpg\n",
      "No pose detected in images/672_image_3.jpg\n",
      "Failed to read image images/673_image_1.jpg\n"
     ]
    },
    {
     "name": "stderr",
     "output_type": "stream",
     "text": [
      "[ WARN:0@529.504] global loadsave.cpp:268 findDecoder imread_('images/673_image_1.jpg'): can't open/read file: check file path/integrity\n"
     ]
    },
    {
     "name": "stdout",
     "output_type": "stream",
     "text": [
      "No pose detected in images/695_image_2.jpg\n",
      "No pose detected in images/695_image_3.jpg\n",
      "No pose detected in images/696_image_1.jpg\n",
      "No pose detected in images/697_image_2.jpg\n",
      "No pose detected in images/698_image_4.jpg\n",
      "No pose detected in images/701_image_3.jpg\n",
      "No pose detected in images/702_image_1.jpg\n",
      "No pose detected in images/702_image_2.jpg\n",
      "No pose detected in images/710_image_3.jpg\n",
      "No pose detected in images/718_image_1.jpg\n",
      "No pose detected in images/722_image_1.jpg\n",
      "No pose detected in images/722_image_3.jpg\n",
      "No pose detected in images/726_image_1.jpg\n",
      "No pose detected in images/726_image_3.jpg\n",
      "No pose detected in images/728_image_2.jpg\n",
      "No pose detected in images/730_image_1.jpg\n",
      "No pose detected in images/733_image_1.jpg\n",
      "No pose detected in images/741_image_2.jpg\n",
      "No pose detected in images/741_image_3.jpg\n",
      "No pose detected in images/743_image_2.jpg\n"
     ]
    },
    {
     "name": "stderr",
     "output_type": "stream",
     "text": [
      "[ WARN:0@537.785] global loadsave.cpp:268 findDecoder imread_('images/746_image_1.jpg'): can't open/read file: check file path/integrity\n"
     ]
    },
    {
     "name": "stdout",
     "output_type": "stream",
     "text": [
      "Failed to read image images/746_image_1.jpg\n",
      "No pose detected in images/749_image_1.jpg\n",
      "No pose detected in images/750_image_1.jpg\n",
      "No pose detected in images/753_image_1.jpg\n",
      "No pose detected in images/761_image_1.jpg\n",
      "No pose detected in images/761_image_2.jpg\n",
      "Failed to read image images/762_image_1.jpg\n",
      "No pose detected in images/763_image_2.jpg\n",
      "No pose detected in images/764_image_1.jpg\n"
     ]
    },
    {
     "name": "stderr",
     "output_type": "stream",
     "text": [
      "[ WARN:0@539.306] global loadsave.cpp:268 findDecoder imread_('images/762_image_1.jpg'): can't open/read file: check file path/integrity\n"
     ]
    },
    {
     "name": "stdout",
     "output_type": "stream",
     "text": [
      "No pose detected in images/766_image_1.jpg\n",
      "No pose detected in images/769_image_3.png\n",
      "No pose detected in images/770_image_1.jpg\n",
      "No pose detected in images/770_image_2.jpg\n",
      "No pose detected in images/771_image_1.jpg\n",
      "No pose detected in images/774_image_1.jpg\n",
      "Failed to read image images/780_image_1.jpg\n",
      "No pose detected in images/782_image_3.jpg\n"
     ]
    },
    {
     "name": "stderr",
     "output_type": "stream",
     "text": [
      "[ WARN:0@541.094] global loadsave.cpp:268 findDecoder imread_('images/780_image_1.jpg'): can't open/read file: check file path/integrity\n"
     ]
    },
    {
     "name": "stdout",
     "output_type": "stream",
     "text": [
      "No pose detected in images/784_image_1.jpg\n",
      "No pose detected in images/785_image_2.jpg\n",
      "No pose detected in images/785_image_3.jpg\n",
      "No pose detected in images/792_image_2.jpg\n",
      "No pose detected in images/792_image_3.jpg\n",
      "No pose detected in images/796_image_1.jpg\n",
      "No pose detected in images/801_image_1.jpg\n",
      "Failed to read image images/802_image_1.jpg\n",
      "Failed to read image images/803_image_1.jpg\n",
      "Done! Cropped 1357 images, failed on 239 images.\n"
     ]
    },
    {
     "name": "stderr",
     "output_type": "stream",
     "text": [
      "[ WARN:0@543.420] global loadsave.cpp:268 findDecoder imread_('images/802_image_1.jpg'): can't open/read file: check file path/integrity\n",
      "[ WARN:0@543.420] global loadsave.cpp:268 findDecoder imread_('images/803_image_1.jpg'): can't open/read file: check file path/integrity\n"
     ]
    }
   ],
   "source": [
    "import pandas as pd\n",
    "import mediapipe as mp\n",
    "from PIL import Image\n",
    "from pathlib import Path\n",
    "from tqdm.notebook import tqdm\n",
    "import cv2\n",
    "\n",
    "# Paths to your datasets and images\n",
    "data_dir = Path('./data')\n",
    "image_labels_csv = data_dir / 'image_labels.csv'\n",
    "bodyfat_csv = data_dir / 'bodyfat_dataset.csv'\n",
    "images_dir = Path('images')  # Adjust this path if your images are elsewhere\n",
    "\n",
    "# Load CSVs\n",
    "df_labels = pd.read_csv(image_labels_csv)\n",
    "df_bodyfat = pd.read_csv(bodyfat_csv)\n",
    "\n",
    "print(f\"Labels df shape: {df_labels.shape}\")\n",
    "print(f\"Bodyfat df shape: {df_bodyfat.shape}\")\n",
    "\n",
    "# Setup mediapipe pose detector\n",
    "mp_pose = mp.solutions.pose\n",
    "pose = mp_pose.Pose(static_image_mode=True, min_detection_confidence=0.5)\n",
    "\n",
    "def crop_upper_body(image_path):\n",
    "    img = cv2.imread(str(image_path))\n",
    "    if img is None:\n",
    "        print(f\"Failed to read image {image_path}\")\n",
    "        return None\n",
    "\n",
    "    img_rgb = cv2.cvtColor(img, cv2.COLOR_BGR2RGB)\n",
    "    results = pose.process(img_rgb)\n",
    "\n",
    "    if not results.pose_landmarks:\n",
    "        print(f\"No pose detected in {image_path}\")\n",
    "        return None\n",
    "\n",
    "    try:\n",
    "        landmarks = results.pose_landmarks.landmark\n",
    "\n",
    "        left_shoulder = landmarks[mp_pose.PoseLandmark.LEFT_SHOULDER]\n",
    "        right_shoulder = landmarks[mp_pose.PoseLandmark.RIGHT_SHOULDER]\n",
    "        left_hip = landmarks[mp_pose.PoseLandmark.LEFT_HIP]\n",
    "        right_hip = landmarks[mp_pose.PoseLandmark.RIGHT_HIP]\n",
    "\n",
    "        h, w, _ = img.shape\n",
    "        xs = [left_shoulder.x * w, right_shoulder.x * w, left_hip.x * w, right_hip.x * w]\n",
    "        ys = [left_shoulder.y * h, right_shoulder.y * h, left_hip.y * h, right_hip.y * h]\n",
    "\n",
    "        xmin, xmax = int(min(xs)), int(max(xs))\n",
    "        ymin, ymax = int(min(ys)), int(max(ys))\n",
    "\n",
    "        pad_x, pad_y = 20, 20\n",
    "        xmin = max(xmin - pad_x, 0)\n",
    "        xmax = min(xmax + pad_x, w)\n",
    "        ymin = max(ymin - pad_y, 0)\n",
    "        ymax = min(ymax + pad_y, h)\n",
    "\n",
    "        cropped = img[ymin:ymax, xmin:xmax]\n",
    "        cropped_rgb = cv2.cvtColor(cropped, cv2.COLOR_BGR2RGB)\n",
    "        return Image.fromarray(cropped_rgb)\n",
    "\n",
    "    except Exception as e:\n",
    "        print(f\"Error cropping {image_path}: {e}\")\n",
    "        return None\n",
    "\n",
    "# Create folder for cropped images if it doesn't exist\n",
    "cropped_dir = Path('cropped_images')\n",
    "cropped_dir.mkdir(exist_ok=True)\n",
    "\n",
    "cropped_paths = []\n",
    "failed_images = []\n",
    "\n",
    "for idx, row in tqdm(df_labels.iterrows(), total=len(df_labels)):\n",
    "    filename = row['filename']\n",
    "    img_path = images_dir / filename\n",
    "    cropped_img = crop_upper_body(img_path)\n",
    "    if cropped_img is not None:\n",
    "        save_path = cropped_dir / filename\n",
    "        cropped_img.save(save_path)\n",
    "        cropped_paths.append(str(save_path))\n",
    "    else:\n",
    "        failed_images.append(filename)\n",
    "        cropped_paths.append(None)  # To keep alignment with df_labels rows\n",
    "\n",
    "print(f\"Done! Cropped {len([p for p in cropped_paths if p])} images, failed on {len(failed_images)} images.\")\n",
    "\n",
    "# Add cropped image paths to dataframe and save\n",
    "df_labels['cropped_path'] = cropped_paths\n",
    "df_labels.to_csv(data_dir / 'image_labels_cropped.csv', index=False)\n"
   ]
  },
  {
   "cell_type": "code",
   "execution_count": null,
   "id": "0de0d13c-f325-4a51-a470-e45bbc3f8f14",
   "metadata": {},
   "outputs": [],
   "source": []
  },
  {
   "cell_type": "code",
   "execution_count": null,
   "id": "109b28b6-c783-4198-bc92-df83a2763c26",
   "metadata": {},
   "outputs": [],
   "source": []
  }
 ],
 "metadata": {
  "kernelspec": {
   "display_name": "Python 3.10",
   "language": "python",
   "name": "python310"
  },
  "language_info": {
   "codemirror_mode": {
    "name": "ipython",
    "version": 3
   },
   "file_extension": ".py",
   "mimetype": "text/x-python",
   "name": "python",
   "nbconvert_exporter": "python",
   "pygments_lexer": "ipython3",
   "version": "3.10.0"
  }
 },
 "nbformat": 4,
 "nbformat_minor": 5
}
